{
 "cells": [
  {
   "cell_type": "markdown",
   "metadata": {},
   "source": [
    "## Importing Modules"
   ]
  },
  {
   "cell_type": "code",
   "execution_count": 1,
   "metadata": {},
   "outputs": [
    {
     "name": "stderr",
     "output_type": "stream",
     "text": [
      "d:\\Python\\LLM_Environment\\myenv\\lib\\site-packages\\tqdm\\auto.py:21: TqdmWarning: IProgress not found. Please update jupyter and ipywidgets. See https://ipywidgets.readthedocs.io/en/stable/user_install.html\n",
      "  from .autonotebook import tqdm as notebook_tqdm\n"
     ]
    },
    {
     "name": "stdout",
     "output_type": "stream",
     "text": [
      "WARNING:tensorflow:From d:\\Python\\LLM_Environment\\myenv\\lib\\site-packages\\tf_keras\\src\\losses.py:2976: The name tf.losses.sparse_softmax_cross_entropy is deprecated. Please use tf.compat.v1.losses.sparse_softmax_cross_entropy instead.\n",
      "\n",
      "GPU is available!\n"
     ]
    }
   ],
   "source": [
    "import os\n",
    "import pathlib\n",
    "import numpy as np\n",
    "import pandas as pd\n",
    "import evaluate\n",
    "from transformers import pipeline\n",
    "from sklearn.model_selection import train_test_split\n",
    "from transformers import AutoModel, AutoTokenizer, TFAutoModel\n",
    "import tensorflow as tf\n",
    "import tensorflow_hub as hub\n",
    "import matplotlib.pyplot as plt\n",
    "\n",
    "from datasets import load_dataset\n",
    "from transformers import AutoTokenizer, AutoModelForQuestionAnswering\n",
    "from transformers import AutoModelForSeq2SeqLM, Seq2SeqTrainingArguments, Seq2SeqTrainer\n",
    "from transformers import TrainingArguments, Trainer\n",
    "from transformers import DataCollatorForSeq2Seq\n",
    "import torch\n",
    "from transformers import DefaultDataCollator\n",
    "\n",
    "if torch.cuda.is_available():\n",
    "    print(\"GPU is available!\")\n",
    "else:\n",
    "    print(\"GPU is not available.\")"
   ]
  },
  {
   "cell_type": "code",
   "execution_count": 2,
   "metadata": {},
   "outputs": [],
   "source": [
    "MAIN_PATH = str(pathlib.Path().resolve())\n",
    "DATASET_PATH = MAIN_PATH + '\\\\datasets'\n",
    "MODEL_PATH = MAIN_PATH + '\\\\models'"
   ]
  },
  {
   "cell_type": "code",
   "execution_count": 3,
   "metadata": {},
   "outputs": [
    {
     "data": {
      "text/plain": [
       "['bert-base-cased',\n",
       " 'bert-base-multilingual-cased',\n",
       " 'bert-base-uncased',\n",
       " 'bert-large-cased',\n",
       " 'bert-large-uncased',\n",
       " 'flan-t5-base',\n",
       " 'flan-t5-large',\n",
       " 'flan-t5-small',\n",
       " 'gpt2',\n",
       " 'gpt2-large',\n",
       " 'gpt2-medium']"
      ]
     },
     "execution_count": 3,
     "metadata": {},
     "output_type": "execute_result"
    }
   ],
   "source": [
    "models = os.listdir(MODEL_PATH)\n",
    "models"
   ]
  },
  {
   "cell_type": "code",
   "execution_count": 4,
   "metadata": {},
   "outputs": [
    {
     "data": {
      "text/plain": [
       "'D:\\\\Python\\\\LLM_Environment\\\\models\\\\flan-t5-base'"
      ]
     },
     "execution_count": 4,
     "metadata": {},
     "output_type": "execute_result"
    }
   ],
   "source": [
    "model_path = MODEL_PATH + '\\\\' + models[5]\n",
    "model_path"
   ]
  },
  {
   "cell_type": "code",
   "execution_count": 5,
   "metadata": {},
   "outputs": [],
   "source": [
    "model = AutoModelForSeq2SeqLM.from_pretrained(model_path)"
   ]
  },
  {
   "cell_type": "markdown",
   "metadata": {},
   "source": [
    "## Import Dataset"
   ]
  },
  {
   "cell_type": "code",
   "execution_count": 6,
   "metadata": {},
   "outputs": [],
   "source": [
    "# Load the dataset\n",
    "billsum = load_dataset(\"billsum\", split=\"ca_test\")"
   ]
  },
  {
   "cell_type": "code",
   "execution_count": 7,
   "metadata": {},
   "outputs": [
    {
     "data": {
      "text/plain": [
       "Dataset({\n",
       "    features: ['text', 'summary', 'title'],\n",
       "    num_rows: 1237\n",
       "})"
      ]
     },
     "execution_count": 7,
     "metadata": {},
     "output_type": "execute_result"
    }
   ],
   "source": [
    "billsum"
   ]
  },
  {
   "cell_type": "code",
   "execution_count": 8,
   "metadata": {},
   "outputs": [],
   "source": [
    "billsum = billsum.train_test_split(test_size=0.2)"
   ]
  },
  {
   "cell_type": "code",
   "execution_count": 9,
   "metadata": {},
   "outputs": [
    {
     "data": {
      "text/plain": [
       "DatasetDict({\n",
       "    train: Dataset({\n",
       "        features: ['text', 'summary', 'title'],\n",
       "        num_rows: 989\n",
       "    })\n",
       "    test: Dataset({\n",
       "        features: ['text', 'summary', 'title'],\n",
       "        num_rows: 248\n",
       "    })\n",
       "})"
      ]
     },
     "execution_count": 9,
     "metadata": {},
     "output_type": "execute_result"
    }
   ],
   "source": [
    "billsum"
   ]
  },
  {
   "cell_type": "code",
   "execution_count": 10,
   "metadata": {},
   "outputs": [
    {
     "name": "stdout",
     "output_type": "stream",
     "text": [
      "A key of the example: \"text\"\n",
      "The value corresponding to the key-\"text\"\n",
      " \"The people of the State of California do enact as follows:\n",
      "\n",
      "\n",
      "SECTION 1.\n",
      "The Legislature finds and declares all of the following:\n",
      "(a) Corinthian Colleges, Inc., was the target of consumer and taxpayer protection enforcement efforts by the federal government, the Attorney General, and other state and federal authorities.\n",
      "(b) Based on findings of harm to students enrolled at Corinthian Colleges campuses, the United States Department of Education announced debt relief programs to assist students, including all of the following:\n",
      "(1) A student who attended a Corinthian Colleges campus that closed on April 27, 2015, and withdrew any time after June 20, 2014, is eligible to apply for a closed school loan discharge, so long as the student does not transfer earned credit and subsequently\n",
      "complete\n",
      "completes\n",
      "a comparable program at another institution.\n",
      "(2) A student who believes he or she was a victim of fraud or other violations of state law by Corinthian Colleges can apply for debt relief under borrower defense to repayment. The United States Department of Education has determined that Corinthian Colleges misrepresented job placement rates for a majority of programs at its Heald College campuses between 2010 and 2014, and California Everest College and WyoTech campuses between 2010 and 2013, and is in the process of establishing a specific process for federal loan discharge for these students.\n",
      "(3) A Corinthian Colleges student who intends to submit a borrower defense claim may request loan forbearance while a claims review process is established and his or her claim is reviewed.\n",
      "(c) On March 25, 2016, the United States Department of Education announced the approval of 6,838 of the 11,740 closed school loan discharge claims and approval of 2,048 of the approximately 11,000 borrower defense to repayment loan forgiveness claims received. Rough estimates place the number of students with eligibility to file a closed school loan discharge or defense to repayment claim at over 350,000 students.\n",
      "(d) According to testimony provided at the November 10, 2015, advisory committee meeting, the Bureau for Private Postsecondary Education staff indicated that Corinthian Colleges students have largely needed assistance in working with loan servicers to secure a closed school loan discharge and in applying to the United States Department of Education for loan forgiveness based on borrower defense to repayment. According to that testimony, the Bureau for Private Postsecondary Education at that time had one employee responsible for assisting the hundreds of thousands of California students eligible for loan forgiveness and tuition recovery.\n",
      "(e) Without assistance, evidence shows that only a small fraction of students eligible for tuition recovery or federal loan discharge will file a claim.\n",
      "(f) Pursuant to Section 94923, the Student Tuition Recovery Fund exists to relieve or mitigate a student’s economic loss caused by a documented violation of certain laws or by institutional closure, as specified.\n",
      "(g) It is consistent with the purpose of the Student Tuition Recovery Fund to provide assistance to Corinthian Colleges students to obtain federal and private loan discharge and other financial aid relief.\n",
      "(h) It is the intent of the Legislature that unencumbered restitution funds awarded to the state from a lawsuit involving Corinthian Colleges and its affiliate institutions, including Heald College, be used to repay any funds provided to students pursuant to this act.\n",
      "SEC. 2.\n",
      "Section 69433.61 is added to the Education Code, to read:\n",
      "69433.61.\n",
      "(a) Notwithstanding any other law, a student who was enrolled and received a Cal Grant award in the 2013–14 or 2014–15 academic year at a California campus of Heald College, and was unable to complete an educational program offered by the campus due to the campus’ closure on April 27, 2015, shall not have the award years used at a Heald College campus considered for purposes of the limitation on the number of years of Cal Grant award eligibility. This restoration of award years for Cal Grant eligibility shall not exceed two years.\n",
      "(b) A student shall be eligible for the restoration of award years if the student was enrolled at a campus of Heald College on April 27, 2015, or withdrew from enrollment between July 1, 2014, and April 27, 2015. The Bureau for Private Postsecondary Education shall provide the commission with information, if available, to confirm student enrollment for purposes of this section.\n",
      "(c) An eligible student shall, before July 1, 2018, notify the commission of his or her intent to use the restoration of award years provided under this section and to enroll in an institution eligible for initial and renewal Cal Grant awards to be eligible for that restoration.\n",
      "SEC. 3.\n",
      "Section 69999.19 is added to the Education Code, to read:\n",
      "69999.19.\n",
      "(a) Notwithstanding any other law, a student who was enrolled and received a California National Guard Education Assistance Award in the 2013–14 or 2014–15 academic year at a California campus of Heald College, and was unable to complete an educational program offered by the campus due to the campus’ closure on April 27, 2015, shall not have the award years used at a Heald College campus considered for purposes of the limitation on the number of years of California National Guard Education Assistance Award eligibility. This restoration of award years for California National Guard Education Assistance Award eligibility shall not exceed two years.\n",
      "(b) A student shall be eligible for the restoration of award years if the student was enrolled at a campus of Heald College on April 27, 2015, or withdrew from enrollment between July 1, 2014, and April 27, 2015. The Bureau for Private Postsecondary Education shall provide the commission with information, if available, to confirm student enrollment for purposes of this section.\n",
      "(c) An eligible student shall, before July 1, 2018, notify the commission of his or her intent to use the restoration of award years provided under this section and to enroll in an institution eligible for initial and renewal California National Guard Education Assistance Awards to be eligible for that restoration.\n",
      "SEC. 4.\n",
      "Section 94051 is added to the Education Code, to read:\n",
      "94051.\n",
      "(a) Notwithstanding any other law, until July 1, 2020, a state agency that provides licensure may consider for licensure any student who was enrolled in an educational program of Corinthian Colleges, Inc., designed to lead to licensure from that state agency, and who did not receive that licensure due to the institution’s closure. This consideration shall be provided at the discretion of the state agency in accordance with its public protection mandate and applicable criteria established by the agency for consumer safety.\n",
      "(b) A state agency, as specified in subdivision (a), may require coursework or passage of a California law and ethics examination, if not already required, to ensure that the potential licensee is versed in the most recent and relevant state laws applicable to the license.\n",
      "SEC. 5.\n",
      "Section 94926.5 is added to the Education Code, to read:\n",
      "94926.5.\n",
      "(a) Upon appropriation by the Legislature from the Student Tuition Recovery Fund, in response to the student harm caused by the practices and unlawful closure of Corinthian Colleges, Inc., grant funds shall be timely provided in accordance with this section to eligible nonprofit community service organizations to assist the eligible students of that closed institution by relieving or mitigating the economic and educational opportunity loss incurred by those students.\n",
      "(b) (1)   The terms and conditions of the grant agreements shall ensure that grant funds are used for the exclusive purpose of assisting eligible students with federal and private loan discharge and other financial aid relief, and that students eligible to claim recovery through the Student Tuition Recovery Fund are referred to the bureau for assistance with claim processing.\n",
      "(2) This subdivision is not intended to prohibit a nonprofit community service organization from using grant funds to screen student requests for assistance in order to determine if a student meets assistance eligibility requirements.\n",
      "(c) Services provided by eligible nonprofit community service organizations may include, but are not to be limited to, outreach and education, screening requests for assistance, referring students for additional legal assistance through pro bono referral programs, and legal services.\n",
      "(d) For purposes of this section, an “eligible nonprofit community service organization” is an organization that satisfies all of the following conditions:\n",
      "(1) The organization is a 501(c)(3) tax-exempt organization in good standing with the Internal Revenue Service and in compliance with all applicable laws and requirements.\n",
      "(2) The organization demonstrates expertise in assisting students with, and currently provides free direct legal services to students for, or will work in partnership\n",
      "with\n",
      "with,\n",
      "or under the supervision\n",
      "of\n",
      "of,\n",
      "an attorney or a nonprofit legal services organization that has demonstrated expertise in assisting students with, student loan and tuition recovery-related matters.\n",
      "(3) The organization does not charge students for services, including services provided pursuant to this section.\n",
      "(e) For purposes of this section, an “eligible student” is a student who was enrolled at a California campus of, or a California student who was enrolled in an online campus of, a Corinthian Colleges institution, and who has been screened by the nonprofit community service organization and determined to be eligible for debt relief from the United States Department of Education or other student financial aid relief.\n",
      "(f) (1)   The bureau shall notify the Attorney General of all unlawful Corinthian Colleges closures within 15 days of the effective date of this section.\n",
      "(2) The notification shall include the name and location of the school, the programs, and the number of students affected at each site of the school, as appropriate. The bureau shall provide the Attorney General with all additional information that the Attorney General may request, if the bureau has access to the requested information.\n",
      "(3) The Attorney General shall, within 90 days of receipt of the notification, solicit grant applications from eligible nonprofit community service organizations as described in subdivision (d), select one or more of these organizations from among the applicants who are deemed to be qualified by the Attorney General, set additional terms and conditions of the grants as necessary, and notify the bureau and the recipient organization or organizations of the selection and the share of grant funds available that the organization shall receive. The Attorney General may enter into a contract with another qualified entity to perform the Attorney General’s duties under this subdivision.\n",
      "(g) Within 30 days of selection pursuant to paragraph (3) of subdivision (f), an eligible nonprofit community service organization that receives funds pursuant to this section shall enter into a grant agreement with the Attorney General, or a qualified entity entrusted with this authority pursuant to paragraph (3) of subdivision (f), as applicable, and shall use grant funds exclusively for the purposes set forth in this section in accordance with the agreement. Any unused funds shall be returned to the Attorney General for return to the Student Tuition Recovery Fund, except that, upon the approval of the Attorney General, an eligible nonprofit community service organization may expend those unused funds to provide assistance to students who were enrolled at an institution approved to operate by the bureau and who were harmed by the unlawful closure of that institution. The Attorney General, or a contracted qualified entity, may terminate the grant agreement for material breach, and may require repayment of funds provided to the nonprofit community service organization during the time that the agreement was being materially breached. However, the Attorney General, or a qualified entity, shall provide the grantee with written notice of the breach and a reasonable opportunity of not less than 30 days to resolve the breach.\n",
      "(h) An eligible nonprofit community service organization that receives a grant may give priority to low-income students if demand exceeds available grant funds. Otherwise, the organization may provide assistance regardless of student income level.\n",
      "(i) (1)   An eligible nonprofit community service organization that receives a grant shall report to the Attorney General, or a qualified entity pursuant to paragraph (3) of subdivision (f), as applicable, quarterly through the grant period on all of the following:\n",
      "(A) The number of eligible students served pursuant to the grant agreement.\n",
      "(B) A detailed summary of services provided to those students.\n",
      "(C) The number of Student Tuition Recovery Fund claims referred to the bureau.\n",
      "(D) The number of federal loan forgiveness claims filed and the number of those claims approved, denied, and pending.\n",
      "(E) The number of students screened by the nonprofit community service organization who were determined ineligible for assistance with debt relief pursuant to subdivision (e), a summary of reasons for ineligibility, and a summary of any services or referral information provided to those students.\n",
      "(F) Any other information that is deemed appropriate by the Attorney General or qualified entity, as applicable.\n",
      "(2) The Attorney General or qualified entity, as applicable, shall make the reports submitted pursuant to paragraph (1) available to the Legislature and the bureau upon request.\n",
      "(3) The Attorney General or qualified entity, as applicable, shall provide the Legislature and the bureau a final report summarizing the information submitted pursuant to paragraph (1) promptly following the time when all funds are expended by the grantees or by January 1, 2019, whichever is earlier.\n",
      "(j) Funds shall be distributed to preapproved nonprofit community service organizations as follows:\n",
      "(1) Fifty percent shall be distributed to the grantee within 30 days of the grantee entering into a grant agreement.\n",
      "(2) Twenty-five percent shall be distributed to the grantee upon the submission of the grantee’s second quarterly report.\n",
      "(3) Twenty-five percent shall be distributed to the grantee upon the submission of the grantee’s third quarterly report.\n",
      "(k) The adoption of any regulation pursuant to this section shall be deemed to be an emergency and necessary for the immediate preservation of the public health and safety, or general welfare.\n",
      "SEC. 6.\n",
      "(a) It is the intent of the Legislature that grant funds be made available from the Student Tuition Recovery Fund to assist former students of Corinthian Colleges, Inc., in obtaining federal and private loan discharge and other financial aid related relief, that the amount of funds available be calculated by multiplying the number of students (13,000) enrolled at the time of the institution’s unlawful closure by one hundred dollars ($100), and that organizations receiving grants use available funds in ways that maximize the number of California students that apply for and receive loan discharge and tuition recovery.\n",
      "(b) Consistent with subdivision (a), the sum of one million three hundred thousand dollars ($1,300,000) is hereby appropriated from the Student Tuition Recovery Fund to the Attorney General for the purposes of providing grants pursuant to Section 94926.5 of the Education Code, and to pay an amount not to exceed one hundred fifty thousand dollars ($150,000) for the reasonable administrative costs of the Attorney General’s office related to these grants.\n",
      "SEC. 7.\n",
      "This act is an urgency statute necessary for the immediate preservation of the public peace, health, or safety within the meaning of Article IV of the Constitution and shall go into immediate effect. The facts constituting the necessity are:\n",
      "In order to provide immediate educational and economic relief to the thousands of students harmed by the closure of Corinthian Colleges, it is necessary for this act to take effect immediately.\"\n",
      "A key of the example: \"summary\"\n",
      "The value corresponding to the key-\"summary\"\n",
      " \"(1) The California Private Postsecondary Education Act of 2009 provides for the regulation of private postsecondary educational institutions by the Bureau for Private Postsecondary Education in the Department of Consumer Affairs. The act also establishes the Student Tuition Recovery Fund and requires the bureau to adopt regulations governing the administration and maintenance of the fund, including requirements relating to assessments on students and student claims against the fund, and establishes that the moneys in this fund are continuously appropriated to the bureau for specified purposes.\n",
      "This bill would appropriate the sum of $1,300,000 from the Student Tuition Recovery Fund to the Attorney General for the purposes of providing grants to eligible nonprofit community service organizations to assist eligible students affected by the closure of Corinthian Colleges, Inc., as defined, with loan discharge and other student loan-related requests and tuition recovery-related claims, and to pay an amount not to exceed $150,000 for the reasonable administrative costs of the Attorney General’s office related to these grants, as specified. The bill would require the bureau to notify the Attorney General of all unlawful Corinthian Colleges closures within 15 days of the effective date of these provisions. The bill would require the Attorney General to, among other things, within 90 days of the notification, solicit grant applications from eligible nonprofit community service organizations, select one or more of these organizations deemed to be qualified, and set additional terms and conditions of the grants as necessary. The bill would provide that any unused funds are to be returned to the Attorney General for return to the Student Tuition Recovery Fund, except that, upon the approval of the Attorney General, an eligible nonprofit community service organization may expend those unused funds to provide assistance to students who were enrolled at an institution approved to operate by the bureau and who were harmed by the unlawful closure of that institution. The bill would set a schedule for how grant funds are to be distributed. The bill would require the grantee to submit specified information to the Attorney General on a quarterly basis, and require the Attorney General to make these reports available to the Legislature and the bureau upon request. The bill would require the Attorney General to provide the Legislature and the bureau a final report summarizing all the information submitted to it by grantees, promptly following the time when all funds are expended by the grantees, or by January 1, 2019, whichever is earlier. The bill would authorize the Attorney General to contract with another qualified entity to perform the Attorney General’s duties under these provisions.\n",
      "(2) This bill would, until July 1, 2020, authorize state agencies that provide licensure to consider for licensure students who were enrolled in an educational program of Corinthian Colleges, Inc., designed to lead to licensure from that state agency, and who did not receive that licensure due to the institution’s closure.\n",
      "(3) The Cal Grant Program prohibits an applicant from receiving Cal Grant awards totaling in excess of the amount equivalent to the award level for a total of 4 years of full-time attendance in an undergraduate program, except as provided.\n",
      "This bill would partially exempt from this limitation on Cal Grant awards a student who was enrolled and received a Cal Grant award at a California campus of Heald College, and who was unable to complete an educational program offered by the campus due to its closure.\n",
      "(4) The California National Guard Education Assistance Award Program authorizes the renewal of California National Guard Education Assistance Awards, for a maximum of the greater of either 4 years of full-time equivalent enrollment or the duration for which the qualifying member would otherwise be eligible pursuant to the Cal Grant Program, if specified conditions are met.\n",
      "This bill would partially exempt from this limitation on California National Guard Education Assistance Awards a student who was enrolled and received a California National Guard Education Assistance Award at a California campus of Heald College, and who was unable to complete an educational program offered by the campus due to its closure.\n",
      "(5) This bill would declare that it is to take effect immediately as an urgency statute.\"\n",
      "A key of the example: \"title\"\n",
      "The value corresponding to the key-\"title\"\n",
      " \"An act to add Sections 69433.61, 69999.19, 94051, and 94926.5 to the Education Code, relating to higher education, making an appropriation therefor, and declaring the urgency thereof, to take effect immediately.\"\n"
     ]
    }
   ],
   "source": [
    "example = billsum[\"train\"][0]\n",
    "for key in example:\n",
    "    print(\"A key of the example: \\\"{}\\\"\".format(key))\n",
    "    print(\"The value corresponding to the key-\\\"{}\\\"\\n \\\"{}\\\"\".format(key, example[key]))"
   ]
  },
  {
   "cell_type": "code",
   "execution_count": 11,
   "metadata": {},
   "outputs": [],
   "source": [
    "tokenizer = AutoTokenizer.from_pretrained(model_path)"
   ]
  },
  {
   "cell_type": "code",
   "execution_count": 12,
   "metadata": {},
   "outputs": [
    {
     "name": "stderr",
     "output_type": "stream",
     "text": [
      "Token indices sequence length is longer than the specified maximum sequence length for this model (3215 > 512). Running this sequence through the model will result in indexing errors\n"
     ]
    },
    {
     "name": "stdout",
     "output_type": "stream",
     "text": [
      "input_ids\n",
      "[37, 151, 13, 8, 1015, 13, 1826, 103, 3, 35, 2708, 38, 6963, 10, 180, 3073, 9562, 1300, 37, 28204, 12902, 11, 15884, 7, 66, 13, 8, 826, 10, 41, 9, 61, 2487, 77, 17, 29022, 1888, 7, 6, 1542, 5, 6, 47, 8, 2387, 13, 3733, 11, 15375, 1711, 7961, 2231, 57, 8, 2822, 789, 6, 8, 10154, 2146, 6, 11, 119, 538, 11, 2822, 5779, 5, 41, 115, 61, 6719, 30, 7469, 13, 6263, 12, 481, 3, 15097, 44, 2487, 77, 17, 29022, 1888, 7, 25784, 6, 8, 907, 1323, 1775, 13, 2855, 2162, 2814, 4956, 1356, 12, 2094, 481, 6, 379, 66, 13, 8, 826, 10, 5637, 71, 1236, 113, 5526, 3, 9, 2487, 77, 17, 29022, 1888, 7, 4730, 24, 3168, 30, 1186, 14141, 1230, 6, 11, 28, 26, 60, 210, 136, 97, 227, 1515, 16047, 1412, 6, 19, 5573, 12, 1581, 21, 3, 9, 3168, 496, 2289, 12445, 6, 78, 307, 38, 8, 1236, 405, 59, 2025, 4964, 998, 11, 3, 14064, 743, 743, 7, 3, 9, 13289, 478, 44, 430, 6568, 5, 6499, 71, 1236, 113, 7228, 3, 88, 42, 255, 47, 3, 9, 7584, 13, 7712, 42, 119, 17880, 13, 538, 973, 57, 2487, 77, 17, 29022, 1888, 7, 54, 1581, 21, 2814, 4956, 365, 14456, 49, 4453, 12, 22945, 5, 37, 907, 1323, 1775, 13, 2855, 65, 4187, 24, 2487, 77, 17, 29022, 1888, 7, 1817, 29845, 613, 7907, 1917, 21, 3, 9, 2942, 13, 1356, 44, 165, 216, 138, 26, 1888, 25784, 344, 2735, 11, 1412, 6, 11, 1826, 6381, 222, 1888, 11, 11314, 32, 9542, 25784, 344, 2735, 11, 7218, 11, 19, 16, 8, 433, 13, 3, 12585, 3, 9, 806, 433, 21, 2822, 2289, 12445, 21, 175, 481, 5, 10153, 71, 2487, 77, 17, 29022, 1888, 7, 1236, 113, 8286, 7, 12, 4237, 3, 9, 14456, 49, 4453, 1988, 164, 1690, 2289, 21, 346, 9, 5219, 298, 3, 9, 3213, 1132, 433, 19, 2127, 11, 112, 42, 160, 1988, 19, 9112, 5, 41, 75, 61, 461, 1332, 14105, 5123, 8, 907, 1323, 1775, 13, 2855, 2162, 8, 5142, 13, 8580, 927, 3747, 13, 8, 9694, 940, 2445, 3168, 496, 2289, 12445, 3213, 11, 5142, 13, 3547, 632, 3707, 13, 8, 3241, 209, 19215, 14456, 49, 4453, 12, 22945, 2289, 22630, 3213, 1204, 5, 391, 4607, 10014, 286, 8, 381, 13, 481, 28, 18249, 12, 1042, 3, 9, 3168, 496, 2289, 12445, 42, 4453, 12, 22945, 1988, 44, 147, 220, 9286, 481, 5, 41, 26, 61, 2150, 12, 16956, 937, 44, 8, 1671, 10372, 1230, 6, 18599, 4492, 1338, 6, 8, 10504, 21, 7086, 1844, 12091, 1208, 2855, 871, 7972, 24, 2487, 77, 17, 29022, 1888, 7, 481, 43, 3, 6974, 906, 2927, 16, 464, 28, 2289, 313, 52, 7, 12, 2451, 3, 9, 3168, 496, 2289, 12445, 11, 16, 6247, 12, 8, 907, 1323, 1775, 13, 2855, 21, 2289, 22630, 3, 390, 30, 14456, 49, 4453, 12, 22945, 5, 2150, 12, 24, 16956, 6, 8, 10504, 21, 7086, 1844, 12091, 1208, 2855, 44, 24, 97, 141, 80, 3490, 1966, 21, 3, 16881, 8, 3986, 13, 2909, 13, 1826, 481, 5573, 21, 2289, 22630, 11, 15409, 3938, 5, 41, 15, 61, 6404, 2927, 6, 2084, 1267, 24, 163, 3, 9, 422, 12211, 13, 481, 5573, 21, 15409, 3938, 42, 2822, 2289, 12445, 56, 1042, 3, 9, 1988, 5, 41, 89, 61, 7333, 7, 76, 288, 12, 5568, 668, 3647, 2773, 6, 8, 6341, 2740, 4749, 16532, 3563, 8085, 12, 11554, 42, 21002, 3, 9, 1236, 22, 7, 1456, 1453, 2953, 57, 3, 9, 15552, 12374, 13, 824, 3786, 42, 57, 13533, 12493, 6, 38, 7173, 5, 41, 122, 61, 94, 19, 4700, 28, 8, 1730, 13, 8, 6341, 2740, 4749, 16532, 3563, 12, 370, 2927, 12, 2487, 77, 17, 29022, 1888, 7, 481, 12, 3442, 2822, 11, 1045, 2289, 12445, 11, 119, 981, 3052, 4956, 5, 41, 107, 61, 94, 19, 8, 9508, 13, 8, 28204, 24, 73, 35, 75, 5937, 3737, 3, 60, 17448, 2731, 5539, 12, 8, 538, 45, 3, 9, 9953, 3, 6475, 2487, 77, 17, 29022, 1888, 7, 11, 165, 8484, 4222, 6, 379, 216, 138, 26, 1888, 6, 36, 261, 12, 26344, 136, 2731, 937, 12, 481, 19890, 288, 12, 48, 1810, 5, 180, 3073, 5, 1682, 5568, 431, 4240, 4201, 5, 4241, 19, 974, 12, 8, 2855, 3636, 6, 12, 608, 10, 3, 3951, 4906, 23074, 5411, 41, 9, 61, 445, 27627, 136, 119, 973, 6, 3, 9, 1236, 113, 47, 3, 15097, 11, 1204, 3, 9, 3104, 8059, 2760, 16, 8, 2038, 104, 2534, 42, 1412, 104, 1808, 2705, 215, 44, 3, 9, 1826, 4730, 13, 216, 138, 26, 1888, 6, 11, 47, 3, 6319, 12, 743, 46, 3472, 478, 1860, 57, 8, 4730, 788, 12, 8, 4730, 22, 12493, 30, 1186, 14141, 1230, 6, 1522, 59, 43, 8, 2760, 203, 261, 44, 3, 9, 216, 138, 26, 1888, 4730, 1702, 21, 3659, 13, 8, 14130, 30, 8, 381, 13, 203, 13, 3104, 8059, 2760, 18249, 5, 100, 8916, 13, 2760, 203, 21, 3104, 8059, 18249, 1522, 59, 8193, 192, 203, 5, 41, 115, 61, 71, 1236, 1522, 36, 5573, 21, 8, 8916, 13, 2760, 203, 3, 99, 8, 1236, 47, 3, 15097, 44, 3, 9, 4730, 13, 216, 138, 26, 1888, 30, 1186, 14141, 1230, 6, 42, 28, 26, 60, 210, 45, 17938, 344, 1718, 1914, 1412, 6, 11, 1186, 14141, 5337, 37, 10504, 21, 7086, 1844, 12091, 1208, 2855, 1522, 370, 8, 5473, 28, 251, 6, 3, 99, 347, 6, 12, 3606, 1236, 17938, 21, 3659, 13, 48, 1375, 5, 41, 75, 61, 389, 5573, 1236, 1522, 6, 274, 1718, 1914, 4323, 14169, 8, 5473, 13, 112, 42, 160, 9508, 12, 169, 8, 8916, 13, 2760, 203, 937, 365, 48, 1375, 11, 12, 17990, 16, 46, 6568, 5573, 21, 2332, 11, 16868, 3104, 8059, 6120, 12, 36, 5573, 21, 24, 8916, 5, 180, 3073, 5, 1877, 5568, 3, 3951, 19446, 5, 2294, 19, 974, 12, 8, 2855, 3636, 6, 12, 608, 10, 3, 3951, 19446, 5, 2294, 5, 41, 9, 61, 445, 27627, 136, 119, 973, 6, 3, 9, 1236, 113, 47, 3, 15097, 11, 1204, 3, 9, 1826, 868, 12899, 2855, 21736, 3677, 16, 8, 2038, 104, 2534, 42, 1412, 104, 1808, 2705, 215, 44, 3, 9, 1826, 4730, 13, 216, 138, 26, 1888, 6, 11, 47, 3, 6319, 12, 743, 46, 3472, 478, 1860, 57, 8, 4730, 788, 12, 8, 4730, 22, 12493, 30, 1186, 14141, 1230, 6, 1522, 59, 43, 8, 2760, 203, 261, 44, 3, 9, 216, 138, 26, 1888, 4730, 1702, 21, 3659, 13, 8, 14130, 30, 8, 381, 13, 203, 13, 1826, 868, 12899, 2855, 21736, 3677, 18249, 5, 100, 8916, 13, 2760, 203, 21, 1826, 868, 12899, 2855, 21736, 3677, 18249, 1522, 59, 8193, 192, 203, 5, 41, 115, 61, 71, 1236, 1522, 36, 5573, 21, 8, 8916, 13, 2760, 203, 3, 99, 8, 1236, 47, 3, 15097, 44, 3, 9, 4730, 13, 216, 138, 26, 1888, 30, 1186, 14141, 1230, 6, 42, 28, 26, 60, 210, 45, 17938, 344, 1718, 1914, 1412, 6, 11, 1186, 14141, 5337, 37, 10504, 21, 7086, 1844, 12091, 1208, 2855, 1522, 370, 8, 5473, 28, 251, 6, 3, 99, 347, 6, 12, 3606, 1236, 17938, 21, 3659, 13, 48, 1375, 5, 41, 75, 61, 389, 5573, 1236, 1522, 6, 274, 1718, 1914, 4323, 14169, 8, 5473, 13, 112, 42, 160, 9508, 12, 169, 8, 8916, 13, 2760, 203, 937, 365, 48, 1375, 11, 12, 17990, 16, 46, 6568, 5573, 21, 2332, 11, 16868, 1826, 868, 12899, 2855, 21736, 6580, 12, 36, 5573, 21, 24, 8916, 5, 180, 3073, 5, 2853, 5568, 668, 2445, 5553, 19, 974, 12, 8, 2855, 3636, 6, 12, 608, 10, 668, 2445, 5553, 5, 41, 9, 61, 445, 27627, 136, 119, 973, 6, 552, 1718, 1914, 6503, 6, 3, 9, 538, 3193, 24, 795, 14896, 29, 4334, 164, 1099, 21, 14896, 29, 4334, 136, 1236, 113, 47, 3, 15097, 16, 46, 3472, 478, 13, 2487, 77, 17, 29022, 1888, 7, 6, 1542, 5, 6, 876, 12, 991, 12, 14896, 29, 4334, 45, 24, 538, 3193, 6, 11, 113, 410, 59, 911, 24, 14896, 29, 4334, 788, 12, 8, 6568, 22, 7, 12493, 5, 100, 4587, 1522, 36, 937, 44, 8, 12962, 13, 8, 538, 3193, 16, 4408, 663, 28, 165, 452, 1711, 12871, 11, 5383, 6683, 2127, 57, 8, 3193, 21, 3733, 1455, 5, 41, 115, 61, 71, 538, 3193, 6, 38, 7173, 16, 27444, 41, 9, 201, 164, 1457, 27053, 42, 5454, 13, 3, 9, 1826, 973, 11, 16083, 6498, 6, 3, 99, 59, 641, 831, 6, 12, 766, 24, 8, 1055, 3344, 15, 19, 11261, 26, 16, 8, 167, 1100, 11, 2193, 538, 3786, 5383, 12, 8, 3344, 5, 180, 3073, 5, 3594, 5568, 3, 4240, 4508, 17255, 19, 974, 12, 8, 2855, 3636, 6, 12, 608, 10, 3, 4240, 4508, 17255, 5, 41, 9, 61, 3, 10688, 3, 18591, 257, 57, 8, 28204, 45, 8, 6341, 2740, 4749, 16532, 3563, 6, 16, 1773, 12, 8, 1236, 6263, 2953, 57, 8, 2869, 11, 25487, 12493, 13, 2487, 77, 17, 29022, 1888, 7, 6, 1542, 5, 6, 5334, 2731, 1522, 36, 10063, 937, 16, 4408, 663, 28, 48, 1375, 12, 5573, 11069, 573, 313, 2371, 12, 2094, 8, 5573, 481, 13, 24, 3168, 6568, 57, 11455, 3745, 42, 181, 12581, 1222, 8, 1456, 11, 3472, 1004, 1453, 3, 20890, 57, 273, 481, 5, 41, 115, 61, 5637, 37, 1353, 11, 1124, 13, 8, 5334, 10663, 1522, 766, 24, 5334, 2731, 33, 261, 21, 8, 3839, 1730, 13, 3, 16881, 5573, 481, 28, 2822, 11, 1045, 2289, 12445, 11, 119, 981, 3052, 4956, 6, 11, 24, 481, 5573, 12, 1988, 3938, 190, 8, 6341, 2740, 4749, 16532, 3563, 33, 3, 4822, 12, 8, 12014, 21, 2927, 28, 1988, 3026, 5, 6499, 100, 27444, 19, 59, 3855, 12, 19551, 3, 9, 11069, 573, 313, 1470, 45, 338, 5334, 2731, 12, 1641, 1236, 6166, 21, 2927, 16, 455, 12, 2082, 3, 99, 3, 9, 1236, 7864, 2927, 18249, 1502, 5, 41, 75, 61, 1799, 937, 57, 5573, 11069, 573, 313, 2371, 164, 560, 6, 68, 33, 59, 12, 36, 1643, 12, 6, 16866, 11, 1073, 6, 7468, 6166, 21, 2927, 6, 3, 13215, 481, 21, 1151, 1281, 2927, 190, 813, 2682, 32, 10979, 1356, 6, 11, 1281, 364, 5, 41, 26, 61, 242, 3659, 13, 48, 1375, 6, 46, 105, 15, 2825, 2317, 11069, 573, 313, 1470, 153, 19, 46, 1470, 24, 3, 9275, 7, 8549, 7, 66, 13, 8, 826, 1124, 10, 5637, 37, 1470, 19, 3, 9, 3, 20176, 599, 75, 61, 17867, 1104, 18, 994, 9045, 1470, 16, 207, 4125, 28, 8, 18524, 19764, 1387, 11, 16, 5856, 28, 66, 5383, 3786, 11, 1502, 5, 6499, 37, 1470, 3, 21275, 2980, 16, 3, 16881, 481, 28, 6, 11, 1083, 795, 339, 1223, 1281, 364, 12, 481, 21, 6, 42, 56, 161, 16, 4696, 28, 28, 6, 42, 365, 8, 15520, 13, 13, 6, 46, 4917, 42, 3, 9, 11069, 1281, 364, 1470, 24, 65, 9028, 2980, 16, 3, 16881, 481, 28, 6, 1236, 2289, 11, 15409, 3938, 18, 3897, 4573, 5, 10153, 37, 1470, 405, 59, 1567, 481, 21, 364, 6, 379, 364, 937, 19890, 288, 12, 48, 1375, 5, 41, 15, 61, 242, 3659, 13, 48, 1375, 6, 46, 105, 15, 2825, 2317, 1236, 153, 19, 3, 9, 1236, 113, 47, 3, 15097, 44, 3, 9, 1826, 4730, 13, 6, 42, 3, 9, 1826, 1236, 113, 47, 3, 15097, 16, 46, 367, 4730, 13, 6, 3, 9, 2487, 77, 17, 29022, 1888, 7, 6568, 6, 11, 113, 65, 118, 3, 22529, 57, 8, 11069, 573, 313, 1470, 11, 4187, 12, 36, 5573, 21, 2814, 4956, 45, 8, 907, 1323, 1775, 13, 2855, 42, 119, 1236, 981, 3052, 4956, 5, 41, 89, 61, 5637, 37, 12014, 1522, 14169, 8, 10154, 2146, 13, 66, 25487, 2487, 77, 17, 29022, 1888, 7, 12493, 7, 441, 627, 477, 13, 8, 1231, 833, 13, 48, 1375, 5, 6499, 37, 11420, 1522, 560, 8, 564, 11, 1128, 13, 8, 496, 6, 8, 1356, 6, 11, 8, 381, 13, 481, 4161, 44, 284, 353, 13, 8, 496, 6, 38, 2016, 5, 37, 12014, 1522, 370, 8, 10154, 2146, 28, 66, 1151, 251, 24, 8, 10154, 2146, 164, 1690, 6, 3, 99, 8, 12014, 65, 592, 12, 8, 6709, 251, 5, 10153, 37, 10154, 2146, 1522, 6, 441, 2777, 477, 13, 8958, 13, 8, 11420, 6, 8081, 5334, 1564, 45, 5573, 11069, 573, 313, 2371, 38, 3028, 16, 27444, 41, 26, 201, 1738, 80, 42, 72, 13, 175, 2371, 45, 859, 8, 12505, 113, 33, 3, 10863, 12, 36, 4717, 57, 8, 10154, 2146, 6, 356, 1151, 1353, 11, 1124, 13, 8, 11133, 38, 1316, 6, 11, 14169, 8, 12014, 11, 8, 11095, 1470, 42, 2371, 13, 8, 1801, 11, 8, 698, 13, 5334, 2731, 347, 24, 8, 1470, 1522, 911, 5, 37, 10154, 2146, 164, 2058, 139, 3, 9, 1696, 28, 430, 4717, 10409, 12, 1912, 8, 10154, 2146, 22, 7, 9353, 365, 48, 27444, 5, 41, 122, 61, 8381, 604, 477, 13, 1801, 19890, 288, 12, 8986, 10153, 13, 27444, 41, 89, 201, 46, 5573, 11069, 573, 313, 1470, 24, 911, 7, 2731, 19890, 288, 12, 48, 1375, 1522, 2058, 139, 3, 9, 5334, 2791, 28, 8, 10154, 2146, 6, 42, 3, 9, 4717, 10409, 3, 35, 2666, 6265, 28, 48, 5015, 19890, 288, 12, 8986, 10153, 13, 27444, 41, 89, 201, 38, 5383, 6, 11, 1522, 169, 5334, 2731, 9829, 21, 8, 3659, 356, 7444, 16, 48, 1375, 16, 4408, 663, 28, 8, 2791, 5, 2372, 3, 23273, 2731, 1522, 36, 3666, 12, 8, 10154, 2146, 21, 1205, 12, 8, 6341, 2740, 4749, 16532, 3563, 6, 3578, 24, 6, 1286, 8, 5142, 13, 8, 10154, 2146, 6, 46, 5573, 11069, 573, 313, 1470, 164, 8116, 989, 273, 3, 23273, 2731, 12, 370, 2927, 12, 481, 113, 130, 3, 15097, 44, 46, 6568, 3754, 12, 4368, 57, 8, 12014, 11, 113, 130, 3, 107, 8715, 57, 8, 25487, 12493, 13, 24, 6568, 5, 37, 10154, 2146, 6, 42, 3, 9, 25316, 4717, 10409, 6, 164, 13813, 8, 5334, 2791, 21, 1037, 10564, 6, 11, 164, 1457, 22945, 13, 2731, 937, 12, 8, 11069, 573, 313, 1470, 383, 8, 97, 24, 8, 2791, 47, 271, 1037, 120, 10564, 15, 26, 5, 611, 6, 8, 10154, 2146, 6, 42, 3, 9, 4717, 10409, 6, 1522, 370, 8, 5334, 15, 15, 28, 1545, 2103, 13, 8, 10564, 11, 3, 9, 4360, 1004, 13, 59, 705, 145, 604, 477, 12, 7785, 8, 10564, 5, 41, 107, 61, 389, 5573, 11069, 573, 313, 1470, 24, 911, 7, 3, 9, 5334, 164, 428, 5734, 12, 731, 18, 15759, 481, 3, 99, 2173, 8193, 7, 347, 5334, 2731, 5, 14375, 6, 8, 1470, 164, 370, 2927, 6147, 13, 1236, 2055, 593, 5, 41, 23, 61, 5637, 389, 5573, 11069, 573, 313, 1470, 24, 911, 7, 3, 9, 5334, 1522, 934, 12, 8, 10154, 2146, 6, 42, 3, 9, 4717, 10409, 19890, 288, 12, 8986, 10153, 13, 27444, 41, 89, 201, 38, 5383, 6, 20232, 190, 8, 5334, 1059, 30, 66, 13, 8, 826, 10, 41, 188, 61, 37, 381, 13, 5573, 481, 2098, 19890, 288, 12, 8, 5334, 2791, 5, 41, 279, 61, 71, 3117, 9251, 13, 364, 937, 12, 273, 481, 5, 41, 254, 61, 37, 381, 13, 6341, 2740, 4749, 16532, 3563, 3213, 3, 4822, 12, 8, 12014, 5, 41, 308, 61, 37, 381, 13, 2822, 2289, 22630, 3213, 5132, 11, 8, 381, 13, 273, 3213, 3754, 6, 11958, 6, 11, 3, 11577, 5, 41, 427, 61, 37, 381, 13, 481, 3, 22529, 57, 8, 11069, 573, 313, 1470, 113, 130, 4187, 16, 15, 2825, 2317, 21, 2927, 28, 2814, 4956, 19890, 288, 12, 27444, 41, 15, 201, 3, 9, 9251, 13, 2081, 21, 16, 15, 2825, 11102, 6, 11, 3, 9, 9251, 13, 136, 364, 42, 10979, 251, 937, 12, 273, 481, 5, 41, 371, 61, 2372, 119, 251, 24, 19, 3, 10863, 2016, 57, 8, 10154, 2146, 42, 4717, 10409, 6, 38, 5383, 5, 6499, 37, 10154, 2146, 42, 4717, 10409, 6, 38, 5383, 6, 1522, 143, 8, 2279, 5776, 19890, 288, 12, 8986, 5637, 347, 12, 8, 28204, 11, 8, 12014, 1286, 1690, 5, 10153, 37, 10154, 2146, 42, 4717, 10409, 6, 38, 5383, 6, 1522, 370, 8, 28204, 11, 8, 12014, 3, 9, 804, 934, 4505, 1635, 2610, 8, 251, 5776, 19890, 288, 12, 8986, 5637, 16487, 826, 8, 97, 116, 66, 2731, 33, 8116, 14550, 57, 8, 5334, 15, 15, 7, 42, 57, 1762, 1914, 7887, 3, 25281, 19, 2283, 5, 41, 354, 61, 3563, 7, 1522, 36, 8308, 12, 554, 24496, 11069, 573, 313, 2371, 38, 6963, 10, 5637, 377, 21822, 1093, 1522, 36, 8308, 12, 8, 5334, 15, 15, 441, 604, 477, 13, 8, 5334, 15, 15, 7084, 139, 3, 9, 5334, 2791, 5, 6499, 23277, 18, 16443, 1093, 1522, 36, 8308, 12, 8, 5334, 15, 15, 1286, 8, 8121, 13, 8, 5334, 15, 15, 22, 7, 511, 20232, 934, 5, 10153, 23277, 18, 16443, 1093, 1522, 36, 8308, 12, 8, 5334, 15, 15, 1286, 8, 8121, 13, 8, 5334, 15, 15, 22, 7, 1025, 20232, 934, 5, 41, 157, 61, 37, 9284, 13, 136, 9464, 19890, 288, 12, 48, 1375, 1522, 36, 3, 10863, 12, 36, 46, 3583, 11, 1316, 21, 8, 5299, 19368, 13, 8, 452, 533, 11, 1455, 6, 42, 879, 13454, 5, 180, 3073, 5, 4357, 41, 9, 61, 94, 19, 8, 9508, 13, 8, 28204, 24, 5334, 2731, 36, 263, 347, 45, 8, 6341, 2740, 4749, 16532, 3563, 12, 2094, 1798, 481, 13, 2487, 77, 17, 29022, 1888, 7, 6, 1542, 5, 6, 16, 3, 13134, 2822, 11, 1045, 2289, 12445, 11, 119, 981, 3052, 1341, 4956, 6, 24, 8, 866, 13, 2731, 347, 36, 11338, 57, 30333, 53, 8, 381, 13, 481, 4077, 11212, 61, 3, 15097, 44, 8, 97, 13, 8, 6568, 22, 7, 25487, 12493, 57, 80, 6189, 3740, 8785, 2915, 201, 11, 24, 2371, 4281, 11133, 169, 347, 2731, 16, 1155, 24, 11072, 8, 381, 13, 1826, 481, 24, 1581, 21, 11, 911, 2289, 12445, 11, 15409, 3938, 5, 41, 115, 61, 7762, 7176, 17, 28, 27444, 41, 9, 201, 8, 4505, 13, 80, 770, 386, 6189, 7863, 3740, 8785, 4347, 5426, 6, 2313, 61, 19, 3, 25374, 2016, 26, 45, 8, 6341, 2740, 4749, 16532, 3563, 12, 8, 10154, 2146, 21, 8, 3659, 13, 1260, 11133, 19890, 288, 12, 5568, 3, 4240, 4508, 17255, 13, 8, 2855, 3636, 6, 11, 12, 726, 46, 866, 59, 12, 8193, 80, 6189, 18358, 7863, 3740, 8785, 536, 9286, 61, 21, 8, 4360, 6601, 1358, 13, 8, 10154, 2146, 22, 7, 828, 1341, 12, 175, 11133, 5, 180, 3073, 5, 4306, 100, 1810, 19, 46, 27844, 18692, 1316, 21, 8, 5299, 19368, 13, 8, 452, 3065, 6, 533, 6, 42, 1455, 441, 8, 2530, 13, 7491, 10869, 13, 8, 11378, 11, 1522, 281, 139, 5299, 1504, 5, 37, 6688, 6439, 1222, 8, 16696, 33, 10, 86, 455, 12, 370, 5299, 3472, 11, 1456, 4956, 12, 8, 2909, 13, 481, 3, 107, 8715, 57, 8, 12493, 13, 2487, 77, 17, 29022, 1888, 7, 6, 34, 19, 1316, 21, 48, 1810, 12, 240, 1504, 2017, 5, 1]\n",
      "attention_mask\n",
      "[1, 1, 1, 1, 1, 1, 1, 1, 1, 1, 1, 1, 1, 1, 1, 1, 1, 1, 1, 1, 1, 1, 1, 1, 1, 1, 1, 1, 1, 1, 1, 1, 1, 1, 1, 1, 1, 1, 1, 1, 1, 1, 1, 1, 1, 1, 1, 1, 1, 1, 1, 1, 1, 1, 1, 1, 1, 1, 1, 1, 1, 1, 1, 1, 1, 1, 1, 1, 1, 1, 1, 1, 1, 1, 1, 1, 1, 1, 1, 1, 1, 1, 1, 1, 1, 1, 1, 1, 1, 1, 1, 1, 1, 1, 1, 1, 1, 1, 1, 1, 1, 1, 1, 1, 1, 1, 1, 1, 1, 1, 1, 1, 1, 1, 1, 1, 1, 1, 1, 1, 1, 1, 1, 1, 1, 1, 1, 1, 1, 1, 1, 1, 1, 1, 1, 1, 1, 1, 1, 1, 1, 1, 1, 1, 1, 1, 1, 1, 1, 1, 1, 1, 1, 1, 1, 1, 1, 1, 1, 1, 1, 1, 1, 1, 1, 1, 1, 1, 1, 1, 1, 1, 1, 1, 1, 1, 1, 1, 1, 1, 1, 1, 1, 1, 1, 1, 1, 1, 1, 1, 1, 1, 1, 1, 1, 1, 1, 1, 1, 1, 1, 1, 1, 1, 1, 1, 1, 1, 1, 1, 1, 1, 1, 1, 1, 1, 1, 1, 1, 1, 1, 1, 1, 1, 1, 1, 1, 1, 1, 1, 1, 1, 1, 1, 1, 1, 1, 1, 1, 1, 1, 1, 1, 1, 1, 1, 1, 1, 1, 1, 1, 1, 1, 1, 1, 1, 1, 1, 1, 1, 1, 1, 1, 1, 1, 1, 1, 1, 1, 1, 1, 1, 1, 1, 1, 1, 1, 1, 1, 1, 1, 1, 1, 1, 1, 1, 1, 1, 1, 1, 1, 1, 1, 1, 1, 1, 1, 1, 1, 1, 1, 1, 1, 1, 1, 1, 1, 1, 1, 1, 1, 1, 1, 1, 1, 1, 1, 1, 1, 1, 1, 1, 1, 1, 1, 1, 1, 1, 1, 1, 1, 1, 1, 1, 1, 1, 1, 1, 1, 1, 1, 1, 1, 1, 1, 1, 1, 1, 1, 1, 1, 1, 1, 1, 1, 1, 1, 1, 1, 1, 1, 1, 1, 1, 1, 1, 1, 1, 1, 1, 1, 1, 1, 1, 1, 1, 1, 1, 1, 1, 1, 1, 1, 1, 1, 1, 1, 1, 1, 1, 1, 1, 1, 1, 1, 1, 1, 1, 1, 1, 1, 1, 1, 1, 1, 1, 1, 1, 1, 1, 1, 1, 1, 1, 1, 1, 1, 1, 1, 1, 1, 1, 1, 1, 1, 1, 1, 1, 1, 1, 1, 1, 1, 1, 1, 1, 1, 1, 1, 1, 1, 1, 1, 1, 1, 1, 1, 1, 1, 1, 1, 1, 1, 1, 1, 1, 1, 1, 1, 1, 1, 1, 1, 1, 1, 1, 1, 1, 1, 1, 1, 1, 1, 1, 1, 1, 1, 1, 1, 1, 1, 1, 1, 1, 1, 1, 1, 1, 1, 1, 1, 1, 1, 1, 1, 1, 1, 1, 1, 1, 1, 1, 1, 1, 1, 1, 1, 1, 1, 1, 1, 1, 1, 1, 1, 1, 1, 1, 1, 1, 1, 1, 1, 1, 1, 1, 1, 1, 1, 1, 1, 1, 1, 1, 1, 1, 1, 1, 1, 1, 1, 1, 1, 1, 1, 1, 1, 1, 1, 1, 1, 1, 1, 1, 1, 1, 1, 1, 1, 1, 1, 1, 1, 1, 1, 1, 1, 1, 1, 1, 1, 1, 1, 1, 1, 1, 1, 1, 1, 1, 1, 1, 1, 1, 1, 1, 1, 1, 1, 1, 1, 1, 1, 1, 1, 1, 1, 1, 1, 1, 1, 1, 1, 1, 1, 1, 1, 1, 1, 1, 1, 1, 1, 1, 1, 1, 1, 1, 1, 1, 1, 1, 1, 1, 1, 1, 1, 1, 1, 1, 1, 1, 1, 1, 1, 1, 1, 1, 1, 1, 1, 1, 1, 1, 1, 1, 1, 1, 1, 1, 1, 1, 1, 1, 1, 1, 1, 1, 1, 1, 1, 1, 1, 1, 1, 1, 1, 1, 1, 1, 1, 1, 1, 1, 1, 1, 1, 1, 1, 1, 1, 1, 1, 1, 1, 1, 1, 1, 1, 1, 1, 1, 1, 1, 1, 1, 1, 1, 1, 1, 1, 1, 1, 1, 1, 1, 1, 1, 1, 1, 1, 1, 1, 1, 1, 1, 1, 1, 1, 1, 1, 1, 1, 1, 1, 1, 1, 1, 1, 1, 1, 1, 1, 1, 1, 1, 1, 1, 1, 1, 1, 1, 1, 1, 1, 1, 1, 1, 1, 1, 1, 1, 1, 1, 1, 1, 1, 1, 1, 1, 1, 1, 1, 1, 1, 1, 1, 1, 1, 1, 1, 1, 1, 1, 1, 1, 1, 1, 1, 1, 1, 1, 1, 1, 1, 1, 1, 1, 1, 1, 1, 1, 1, 1, 1, 1, 1, 1, 1, 1, 1, 1, 1, 1, 1, 1, 1, 1, 1, 1, 1, 1, 1, 1, 1, 1, 1, 1, 1, 1, 1, 1, 1, 1, 1, 1, 1, 1, 1, 1, 1, 1, 1, 1, 1, 1, 1, 1, 1, 1, 1, 1, 1, 1, 1, 1, 1, 1, 1, 1, 1, 1, 1, 1, 1, 1, 1, 1, 1, 1, 1, 1, 1, 1, 1, 1, 1, 1, 1, 1, 1, 1, 1, 1, 1, 1, 1, 1, 1, 1, 1, 1, 1, 1, 1, 1, 1, 1, 1, 1, 1, 1, 1, 1, 1, 1, 1, 1, 1, 1, 1, 1, 1, 1, 1, 1, 1, 1, 1, 1, 1, 1, 1, 1, 1, 1, 1, 1, 1, 1, 1, 1, 1, 1, 1, 1, 1, 1, 1, 1, 1, 1, 1, 1, 1, 1, 1, 1, 1, 1, 1, 1, 1, 1, 1, 1, 1, 1, 1, 1, 1, 1, 1, 1, 1, 1, 1, 1, 1, 1, 1, 1, 1, 1, 1, 1, 1, 1, 1, 1, 1, 1, 1, 1, 1, 1, 1, 1, 1, 1, 1, 1, 1, 1, 1, 1, 1, 1, 1, 1, 1, 1, 1, 1, 1, 1, 1, 1, 1, 1, 1, 1, 1, 1, 1, 1, 1, 1, 1, 1, 1, 1, 1, 1, 1, 1, 1, 1, 1, 1, 1, 1, 1, 1, 1, 1, 1, 1, 1, 1, 1, 1, 1, 1, 1, 1, 1, 1, 1, 1, 1, 1, 1, 1, 1, 1, 1, 1, 1, 1, 1, 1, 1, 1, 1, 1, 1, 1, 1, 1, 1, 1, 1, 1, 1, 1, 1, 1, 1, 1, 1, 1, 1, 1, 1, 1, 1, 1, 1, 1, 1, 1, 1, 1, 1, 1, 1, 1, 1, 1, 1, 1, 1, 1, 1, 1, 1, 1, 1, 1, 1, 1, 1, 1, 1, 1, 1, 1, 1, 1, 1, 1, 1, 1, 1, 1, 1, 1, 1, 1, 1, 1, 1, 1, 1, 1, 1, 1, 1, 1, 1, 1, 1, 1, 1, 1, 1, 1, 1, 1, 1, 1, 1, 1, 1, 1, 1, 1, 1, 1, 1, 1, 1, 1, 1, 1, 1, 1, 1, 1, 1, 1, 1, 1, 1, 1, 1, 1, 1, 1, 1, 1, 1, 1, 1, 1, 1, 1, 1, 1, 1, 1, 1, 1, 1, 1, 1, 1, 1, 1, 1, 1, 1, 1, 1, 1, 1, 1, 1, 1, 1, 1, 1, 1, 1, 1, 1, 1, 1, 1, 1, 1, 1, 1, 1, 1, 1, 1, 1, 1, 1, 1, 1, 1, 1, 1, 1, 1, 1, 1, 1, 1, 1, 1, 1, 1, 1, 1, 1, 1, 1, 1, 1, 1, 1, 1, 1, 1, 1, 1, 1, 1, 1, 1, 1, 1, 1, 1, 1, 1, 1, 1, 1, 1, 1, 1, 1, 1, 1, 1, 1, 1, 1, 1, 1, 1, 1, 1, 1, 1, 1, 1, 1, 1, 1, 1, 1, 1, 1, 1, 1, 1, 1, 1, 1, 1, 1, 1, 1, 1, 1, 1, 1, 1, 1, 1, 1, 1, 1, 1, 1, 1, 1, 1, 1, 1, 1, 1, 1, 1, 1, 1, 1, 1, 1, 1, 1, 1, 1, 1, 1, 1, 1, 1, 1, 1, 1, 1, 1, 1, 1, 1, 1, 1, 1, 1, 1, 1, 1, 1, 1, 1, 1, 1, 1, 1, 1, 1, 1, 1, 1, 1, 1, 1, 1, 1, 1, 1, 1, 1, 1, 1, 1, 1, 1, 1, 1, 1, 1, 1, 1, 1, 1, 1, 1, 1, 1, 1, 1, 1, 1, 1, 1, 1, 1, 1, 1, 1, 1, 1, 1, 1, 1, 1, 1, 1, 1, 1, 1, 1, 1, 1, 1, 1, 1, 1, 1, 1, 1, 1, 1, 1, 1, 1, 1, 1, 1, 1, 1, 1, 1, 1, 1, 1, 1, 1, 1, 1, 1, 1, 1, 1, 1, 1, 1, 1, 1, 1, 1, 1, 1, 1, 1, 1, 1, 1, 1, 1, 1, 1, 1, 1, 1, 1, 1, 1, 1, 1, 1, 1, 1, 1, 1, 1, 1, 1, 1, 1, 1, 1, 1, 1, 1, 1, 1, 1, 1, 1, 1, 1, 1, 1, 1, 1, 1, 1, 1, 1, 1, 1, 1, 1, 1, 1, 1, 1, 1, 1, 1, 1, 1, 1, 1, 1, 1, 1, 1, 1, 1, 1, 1, 1, 1, 1, 1, 1, 1, 1, 1, 1, 1, 1, 1, 1, 1, 1, 1, 1, 1, 1, 1, 1, 1, 1, 1, 1, 1, 1, 1, 1, 1, 1, 1, 1, 1, 1, 1, 1, 1, 1, 1, 1, 1, 1, 1, 1, 1, 1, 1, 1, 1, 1, 1, 1, 1, 1, 1, 1, 1, 1, 1, 1, 1, 1, 1, 1, 1, 1, 1, 1, 1, 1, 1, 1, 1, 1, 1, 1, 1, 1, 1, 1, 1, 1, 1, 1, 1, 1, 1, 1, 1, 1, 1, 1, 1, 1, 1, 1, 1, 1, 1, 1, 1, 1, 1, 1, 1, 1, 1, 1, 1, 1, 1, 1, 1, 1, 1, 1, 1, 1, 1, 1, 1, 1, 1, 1, 1, 1, 1, 1, 1, 1, 1, 1, 1, 1, 1, 1, 1, 1, 1, 1, 1, 1, 1, 1, 1, 1, 1, 1, 1, 1, 1, 1, 1, 1, 1, 1, 1, 1, 1, 1, 1, 1, 1, 1, 1, 1, 1, 1, 1, 1, 1, 1, 1, 1, 1, 1, 1, 1, 1, 1, 1, 1, 1, 1, 1, 1, 1, 1, 1, 1, 1, 1, 1, 1, 1, 1, 1, 1, 1, 1, 1, 1, 1, 1, 1, 1, 1, 1, 1, 1, 1, 1, 1, 1, 1, 1, 1, 1, 1, 1, 1, 1, 1, 1, 1, 1, 1, 1, 1, 1, 1, 1, 1, 1, 1, 1, 1, 1, 1, 1, 1, 1, 1, 1, 1, 1, 1, 1, 1, 1, 1, 1, 1, 1, 1, 1, 1, 1, 1, 1, 1, 1, 1, 1, 1, 1, 1, 1, 1, 1, 1, 1, 1, 1, 1, 1, 1, 1, 1, 1, 1, 1, 1, 1, 1, 1, 1, 1, 1, 1, 1, 1, 1, 1, 1, 1, 1, 1, 1, 1, 1, 1, 1, 1, 1, 1, 1, 1, 1, 1, 1, 1, 1, 1, 1, 1, 1, 1, 1, 1, 1, 1, 1, 1, 1, 1, 1, 1, 1, 1, 1, 1, 1, 1, 1, 1, 1, 1, 1, 1, 1, 1, 1, 1, 1, 1, 1, 1, 1, 1, 1, 1, 1, 1, 1, 1, 1, 1, 1, 1, 1, 1, 1, 1, 1, 1, 1, 1, 1, 1, 1, 1, 1, 1, 1, 1, 1, 1, 1, 1, 1, 1, 1, 1, 1, 1, 1, 1, 1, 1, 1, 1, 1, 1, 1, 1, 1, 1, 1, 1, 1, 1, 1, 1, 1, 1, 1, 1, 1, 1, 1, 1, 1, 1, 1, 1, 1, 1, 1, 1, 1, 1, 1, 1, 1, 1, 1, 1, 1, 1, 1, 1, 1, 1, 1, 1, 1, 1, 1, 1, 1, 1, 1, 1, 1, 1, 1, 1, 1, 1, 1, 1, 1, 1, 1, 1, 1, 1, 1, 1, 1, 1, 1, 1, 1, 1, 1, 1, 1, 1, 1, 1, 1, 1, 1, 1, 1, 1, 1, 1, 1, 1, 1, 1, 1, 1, 1, 1, 1, 1, 1, 1, 1, 1, 1, 1, 1, 1, 1, 1, 1, 1, 1, 1, 1, 1, 1, 1, 1, 1, 1, 1, 1, 1, 1, 1, 1, 1, 1, 1, 1, 1, 1, 1, 1, 1, 1, 1, 1, 1, 1, 1, 1, 1, 1, 1, 1, 1, 1, 1, 1, 1, 1, 1, 1, 1, 1, 1, 1, 1, 1, 1, 1, 1, 1, 1, 1, 1, 1, 1, 1, 1, 1, 1, 1, 1, 1, 1, 1, 1, 1, 1, 1, 1, 1, 1, 1, 1, 1, 1, 1, 1, 1, 1, 1, 1, 1, 1, 1, 1, 1, 1, 1, 1, 1, 1, 1, 1, 1, 1, 1, 1, 1, 1, 1, 1, 1, 1, 1, 1, 1, 1, 1, 1, 1, 1, 1, 1, 1, 1, 1, 1, 1, 1, 1, 1, 1, 1, 1, 1, 1, 1, 1, 1, 1, 1, 1, 1, 1, 1, 1, 1, 1, 1, 1, 1, 1, 1, 1, 1, 1, 1, 1, 1, 1, 1, 1, 1, 1, 1, 1, 1, 1, 1, 1, 1, 1, 1, 1, 1, 1, 1, 1, 1, 1, 1, 1, 1, 1, 1, 1, 1, 1, 1, 1, 1, 1, 1, 1, 1, 1, 1, 1, 1, 1, 1, 1, 1, 1, 1, 1, 1, 1, 1, 1, 1, 1, 1, 1, 1, 1, 1, 1, 1, 1, 1, 1, 1, 1, 1, 1, 1, 1, 1, 1, 1, 1, 1, 1, 1, 1, 1, 1, 1, 1, 1, 1, 1, 1, 1, 1, 1, 1, 1, 1, 1, 1, 1, 1, 1, 1, 1, 1, 1, 1, 1, 1, 1, 1, 1, 1, 1, 1, 1, 1, 1, 1, 1, 1, 1, 1, 1, 1, 1, 1, 1, 1, 1, 1, 1, 1, 1, 1, 1, 1, 1, 1, 1, 1, 1, 1, 1, 1, 1, 1, 1, 1, 1, 1, 1, 1, 1, 1, 1, 1, 1, 1, 1, 1, 1, 1, 1, 1, 1, 1, 1, 1, 1, 1, 1, 1, 1, 1, 1, 1, 1, 1, 1, 1, 1, 1, 1, 1, 1, 1, 1, 1, 1, 1, 1, 1, 1, 1, 1, 1, 1, 1, 1, 1, 1, 1, 1, 1, 1, 1, 1, 1, 1, 1, 1, 1, 1, 1, 1, 1, 1, 1, 1, 1, 1, 1, 1, 1, 1, 1, 1, 1, 1, 1, 1, 1, 1, 1, 1, 1, 1, 1, 1, 1, 1, 1, 1, 1, 1, 1, 1, 1, 1, 1, 1, 1, 1, 1, 1, 1, 1, 1, 1, 1, 1, 1, 1, 1, 1, 1, 1, 1, 1, 1, 1, 1, 1, 1, 1, 1, 1, 1, 1, 1, 1, 1, 1, 1, 1, 1, 1, 1, 1, 1, 1, 1, 1, 1, 1, 1, 1, 1, 1, 1, 1, 1, 1, 1, 1, 1, 1, 1, 1, 1, 1, 1, 1, 1, 1, 1, 1, 1, 1, 1, 1, 1, 1, 1, 1, 1, 1, 1, 1, 1, 1, 1, 1, 1, 1, 1, 1, 1, 1, 1, 1, 1, 1, 1, 1, 1, 1, 1, 1, 1, 1, 1, 1, 1, 1, 1, 1, 1, 1, 1, 1, 1, 1, 1, 1, 1, 1, 1, 1, 1, 1, 1, 1, 1, 1, 1, 1, 1, 1, 1, 1, 1, 1, 1, 1, 1, 1, 1, 1, 1, 1, 1, 1, 1, 1, 1, 1, 1, 1, 1, 1, 1, 1, 1, 1, 1, 1, 1, 1, 1, 1, 1, 1, 1, 1, 1, 1, 1, 1, 1, 1, 1, 1, 1, 1, 1, 1, 1, 1, 1, 1, 1, 1, 1, 1, 1, 1, 1, 1, 1, 1, 1, 1, 1, 1, 1, 1, 1, 1, 1, 1, 1, 1, 1, 1, 1, 1, 1, 1, 1, 1, 1, 1, 1, 1, 1, 1, 1, 1, 1, 1, 1, 1, 1, 1, 1, 1, 1, 1, 1, 1, 1, 1, 1, 1, 1, 1, 1, 1, 1, 1, 1, 1, 1, 1, 1, 1, 1, 1, 1, 1, 1, 1, 1, 1, 1, 1, 1, 1, 1, 1, 1, 1, 1, 1, 1, 1, 1, 1, 1, 1, 1, 1, 1, 1, 1, 1, 1, 1, 1, 1, 1, 1, 1, 1, 1, 1, 1, 1, 1, 1, 1, 1, 1, 1, 1, 1, 1, 1, 1, 1, 1, 1, 1, 1, 1, 1, 1, 1, 1, 1, 1, 1, 1, 1, 1, 1, 1, 1, 1, 1, 1, 1, 1, 1, 1, 1, 1, 1, 1, 1, 1, 1, 1, 1, 1, 1, 1, 1, 1, 1, 1, 1, 1, 1, 1, 1, 1, 1, 1, 1, 1, 1, 1, 1, 1, 1, 1, 1, 1, 1, 1, 1, 1, 1, 1, 1, 1, 1, 1, 1, 1, 1, 1, 1, 1, 1, 1, 1, 1, 1, 1, 1, 1, 1, 1, 1, 1, 1, 1, 1, 1, 1, 1, 1, 1, 1, 1, 1, 1, 1, 1, 1, 1, 1, 1, 1, 1, 1, 1, 1, 1, 1, 1, 1, 1, 1, 1, 1, 1, 1, 1, 1, 1, 1, 1, 1, 1, 1, 1, 1, 1, 1, 1, 1, 1, 1, 1, 1, 1, 1, 1, 1, 1, 1, 1, 1, 1, 1, 1, 1, 1, 1, 1, 1, 1, 1, 1, 1, 1, 1, 1, 1, 1, 1, 1, 1, 1, 1, 1, 1, 1, 1, 1, 1, 1, 1, 1, 1, 1, 1, 1, 1, 1, 1, 1, 1, 1, 1, 1, 1, 1, 1, 1, 1, 1, 1, 1, 1, 1, 1, 1, 1, 1, 1, 1, 1, 1, 1, 1, 1, 1, 1, 1, 1, 1, 1, 1, 1, 1, 1, 1, 1, 1, 1, 1, 1, 1, 1, 1, 1, 1, 1, 1, 1, 1, 1, 1, 1, 1, 1, 1, 1, 1, 1, 1, 1, 1, 1, 1, 1, 1, 1, 1, 1, 1, 1, 1, 1, 1, 1, 1, 1, 1, 1, 1, 1, 1, 1, 1, 1, 1, 1, 1, 1, 1, 1, 1, 1, 1, 1, 1, 1, 1, 1, 1, 1, 1, 1, 1, 1, 1, 1, 1, 1, 1, 1, 1, 1, 1, 1, 1, 1, 1, 1, 1, 1, 1, 1, 1, 1, 1, 1, 1, 1, 1, 1, 1, 1, 1, 1, 1, 1, 1, 1, 1, 1, 1, 1, 1, 1, 1, 1, 1, 1, 1, 1, 1, 1, 1, 1, 1, 1, 1, 1, 1, 1, 1, 1, 1, 1, 1, 1, 1, 1, 1, 1, 1, 1, 1, 1, 1, 1, 1, 1, 1, 1, 1, 1, 1, 1, 1, 1, 1, 1, 1, 1, 1, 1, 1, 1, 1, 1, 1, 1, 1, 1, 1, 1, 1, 1, 1, 1, 1, 1, 1, 1, 1, 1, 1, 1, 1, 1, 1, 1, 1, 1, 1, 1, 1, 1, 1, 1, 1, 1, 1, 1, 1, 1, 1, 1, 1, 1, 1, 1, 1, 1, 1, 1, 1, 1, 1, 1, 1, 1, 1, 1, 1, 1, 1, 1, 1, 1, 1, 1, 1, 1, 1, 1, 1, 1, 1, 1, 1, 1, 1, 1, 1, 1, 1, 1, 1, 1, 1, 1, 1, 1, 1, 1, 1, 1, 1, 1, 1, 1, 1, 1, 1, 1, 1, 1, 1, 1, 1, 1, 1, 1, 1, 1, 1, 1, 1, 1, 1]\n"
     ]
    }
   ],
   "source": [
    "tokenized_text = tokenizer(example['text'])\n",
    "for key in tokenized_text:\n",
    "    print(key)\n",
    "    print(tokenized_text[key])"
   ]
  },
  {
   "cell_type": "code",
   "execution_count": 13,
   "metadata": {},
   "outputs": [],
   "source": [
    "def preprocess_function(examples):\n",
    "    # Prepends the string \"summarize: \" to each document in the 'text' field of the input examples.\n",
    "    # This is done to instruct the T5 model on the task it needs to perform, which in this case is summarization.\n",
    "    inputs = [\"summarize: \" + doc for doc in examples[\"text\"]]\n",
    "\n",
    "    # Tokenizes the prepended input texts to convert them into a format that can be fed into the T5 model.\n",
    "    # Sets a maximum token length of 1024, and truncates any text longer than this limit.\n",
    "    model_inputs = tokenizer(inputs, max_length=1024, truncation=True)\n",
    "\n",
    "    # Tokenizes the 'summary' field of the input examples to prepare the target labels for the summarization task.\n",
    "    # Sets a maximum token length of 128, and truncates any text longer than this limit.\n",
    "    labels = tokenizer(text_target=examples[\"summary\"], max_length=128, truncation=True)\n",
    "\n",
    "    # Assigns the tokenized labels to the 'labels' field of model_inputs.\n",
    "    # The 'labels' field is used during training to calculate the loss and guide model learning.\n",
    "    model_inputs[\"labels\"] = labels[\"input_ids\"]\n",
    "\n",
    "    # Returns the prepared inputs and labels as a single dictionary, ready for training.\n",
    "    return model_inputs"
   ]
  },
  {
   "cell_type": "code",
   "execution_count": 14,
   "metadata": {},
   "outputs": [
    {
     "name": "stderr",
     "output_type": "stream",
     "text": [
      "Map: 100%|██████████| 989/989 [00:01<00:00, 830.14 examples/s]\n",
      "Map: 100%|██████████| 248/248 [00:00<00:00, 595.71 examples/s]\n"
     ]
    }
   ],
   "source": [
    "tokenized_billsum = billsum.map(preprocess_function, batched=True)"
   ]
  },
  {
   "cell_type": "code",
   "execution_count": 15,
   "metadata": {},
   "outputs": [
    {
     "data": {
      "text/plain": [
       "'The people of the State of California do enact as follows:\\n\\n\\nSECTION 1.\\nSection 1797.5 of the Fish and Game Code is amended to read:\\n1797.5.\\nFor the purposes of this chapter, the following terms shall have the following meanings:\\n(a) “Bank” means a conservation bank, mitigation bank, or conservation and mitigation bank.\\n(b) “Bank enabling instrument” means a written agreement with the department regarding the establishment, use, operation, and maintenance of the bank.\\n(c) “Bank sponsor” means the person or entity responsible for establishing and operating a bank.\\n(d) “Conservation bank” means a publicly or privately owned and operated site that is to be conserved and managed in accordance with a written agreement with the department that includes provisions for the issuance of credits, on which important habitat, including habitat for threatened, endangered, or other special status species, exists, has been, or will be created to do any of the following:\\n(1) Compensate for take or other adverse impacts of activities authorized pursuant to Chapter 1.5 (commencing with Section 2050) of Division 3.\\n(2) Reduce adverse impacts to fish or wildlife resources from activities, authorized pursuant to Chapter 6 (commencing with Section 1600) of Division 2, to less than substantial.\\n(3) Mitigate significant effects on the environment pursuant to the California Environmental Quality Act (Division 13 (commencing with Section 21000) of the Public Resources Code) and Guidelines for Implementation of the California Environmental Quality Act (Chapter 3 (commencing with Section 15000) of Division 6 of Title 14 of the California Code of Regulations).\\n(4) Establish mitigation in advance of any impacts or effects.\\n(5) To the extent feasible and practicable, protect habitat connectivity for fish and wildlife resources for purposes of this section.\\n(e) “Conservation easement” means a perpetual conservation easement, as defined by Section 815.1 of the Civil Code, covering the real property that comprises the bank site.\\n(f) “Mitigation bank” means either of the following:\\n(1) A bank site or mitigation bank site as defined by Section 1777.2.\\n(2) Any publicly or privately owned and operated site, other than those defined by Section 1777.2, on which wetlands exist, have been, or will be created, and that is to be conserved and managed in accordance with a written agreement with the department for any of the purposes described in paragraphs (1) to (4), inclusive, of subdivision (d).\\n(g) “Person” has the meaning set forth in subdivision (b) of Section 711.2.\\n(h) “Prospectus” means a written summary of the proposed bank containing a sufficient level of detail to support informed department review and comment.\\nSEC. 2.\\nSection 1930 of the Fish and Game Code is amended to read:\\n1930.\\nThe Legislature finds and declares that:\\n(a) Areas containing diverse ecological and geological characteristics are vital to the continual health and well-being of the state’s natural resources and of its citizens.\\n(b) Many habitats and ecosystems that constitute the state’s natural diversity are in danger of being lost.\\n(c) Connectivity between wildlife habitats is important to the long-term viability of the state’s biodiversity.\\n(d) Preserving and connecting high-quality habitat for wildlife can create habitat strongholds.\\n(e) Increasingly fragmented habitats threaten the state’s wildlife species.\\n(f) There is an opportunity to provide incentive for private landowners to maintain and perpetuate significant local natural areas in their natural state.\\n(g) Efforts to preserve natural areas have been fragmented between federal, state, local, and private sectors.\\n(h) Analysis of the state’s habitat connectivity benefits from the consideration of all relevant data, including information from private and public landowners.\\n(i) The department’s existing mapping activities and products should be developed and sustained.\\n(j) The importance of wildlife corridors to assist in adapting to climate change has been recognized by such groups as the Western Governors’ Association, which unanimously approved a policy to protect wildlife migration corridors and crucial wildlife habitat in 2007. Individual local, state, and federal agencies have also adopted policies aimed at protecting wildlife corridors and habitat connectivity, in order to protect ecosystem health and biodiversity and to improve the resiliency of wildlife and their habitats to climate change. However, these efforts could be enhanced through establishment of a statewide policy to protect important wildlife corridors and habitat linkages where feasible and practicable.\\nSEC. 3.\\nSection 1930.5 of the Fish and Game Code is amended to read:\\n1930.5.\\n(a) Contingent upon funding being provided by the Wildlife Conservation Board from moneys available pursuant to Section 75055 of the Public Resources Code, or from other appropriate bond funds, upon appropriation by the Legislature, the department shall investigate, study, and identify those areas in the state that are most essential as wildlife corridors and habitat linkages, as well as the impacts to those wildlife corridors from climate change, and shall prioritize vegetative data development in these areas.\\n(b) It is the intent of the Legislature that the Wildlife Conservation Board use various funds to work with the department to complete a statewide analysis of wildlife corridors and connectivity to support conservation planning and climate change adaptation activities.\\n(c) (1) It is the policy of the state to promote the voluntary protection of wildlife corridors and habitat strongholds in order to enhance the resiliency of wildlife and their habitats to climate change, protect biodiversity, and allow for the migration and movement of species by providing connectivity between habitat lands. In order to further these goals, it is the policy of the state to encourage, wherever feasible and practicable, voluntary steps to protect the functioning of wildlife corridors through various means, as applicable and to the extent feasible and practicable, those means may include, but are not limited to:\\n(A) Acquisition or protection of wildlife corridors as open space through conservation easements.\\n(B) Installing of wildlife-friendly or directional fencing.\\n(C) Siting of mitigation and conservation banks in areas that provide habitat connectivity for affected fish and wildlife resources.\\n(D) Provision of roadway undercrossings, overpasses, oversized culverts, or bridges to allow for fish passage and the movement of wildlife between habitat areas.\\n(2) The fact that a project applicant does not take voluntary steps to protect the functioning of a wildlife corridor prior to initiating the application process for a project shall not be grounds for denying a permit or requiring additional mitigation beyond what would be required to mitigate project impacts under other applicable laws, including, but not limited to, the California Endangered Species Act (Chapter 1.5 (commencing with Section 2050) of Division 3) and the California Environmental Quality Act (Division 13 (commencing with Section 21000) of the Public Resources Code).\\n(d) The Legislature finds and declares that there are a number of existing efforts, including, but not limited to, efforts involving working landscapes, that are already working to achieve the policy described in subdivision (c).\\n(e) Subdivision (c) shall not be construed to create new regulatory requirements or modify the requirements of subparagraphs (B) and (E) of paragraph (4) of subdivision (a) of Section 2820 of the Fish and Game Code, or the California Environmental Quality Act (Division 13 (commencing with Section 21000) of the Public Resources Code).\\n(f) For purposes of this section, the following terms have the following meanings:\\n(1) “Habitat stronghold” means high-quality habitat that supports wildlife in being more resilient to increasing pressures on species due to climate change and land development.\\n(2) “Wildlife corridor” means a habitat linkage that joins two or more areas of wildlife habitat, allowing for fish passage or the movement of wildlife from one area to another.'"
      ]
     },
     "execution_count": 15,
     "metadata": {},
     "output_type": "execute_result"
    }
   ],
   "source": [
    "tokenized_billsum['test'][0]['text']"
   ]
  },
  {
   "cell_type": "code",
   "execution_count": 16,
   "metadata": {},
   "outputs": [
    {
     "data": {
      "text/plain": [
       "'Existing law requires the Department of Fish and Wildlife to administer the Significant Natural Areas Program, and requires the department, among other things, to develop and maintain a spatial data system that identifies those areas in the state that are most essential for maintaining habitat connectivity, including wildlife corridors and habitat linkages. Existing law requires the department, contingent upon the provision of certain funding, to investigate, study, and identify those areas in the state that are most essential as wildlife corridors and habitat linkages and prioritize vegetative data development in those areas. Existing law requires the department to seek input from representatives of other state agencies, local government, federal agencies, nongovernmental conservation organizations, landowners, agriculture, recreation, scientific entities, and industry in determining essential wildlife corridors and habitat linkages.\\nThis bill would declare that it is the policy of the state to encourage, wherever feasible and practicable, voluntary steps to protect the functioning of wildlife corridors through various means, as applicable.\\nExisting law provides for the establishment of conservation banks, defined as publicly or privately owned and operated sites that are to be conserved and managed for habitat protection purposes in accordance with an agreement with the Department of Fish and Wildlife. Existing law provides for the issuance of credits by a conservation bank to, among other things, reduce adverse impacts to fish or wildlife resources from certain activities. Existing law also provides for the establishment of mitigation banks, as defined.\\nThis bill would include within the authorized purposes of a conservation bank the protection of habitat connectivity for fish and wildlife resources.\\nThis bill would provide that the fact that a project applicant does not take voluntary steps to protect the functioning of a wildlife corridor prior to initiating the application process for the project shall not be grounds for denying a permit or requiring additional mitigation beyond what is otherwise required by law to mitigate project impacts.'"
      ]
     },
     "execution_count": 16,
     "metadata": {},
     "output_type": "execute_result"
    }
   ],
   "source": [
    "tokenized_billsum['test'][0]['summary']"
   ]
  },
  {
   "cell_type": "code",
   "execution_count": 17,
   "metadata": {},
   "outputs": [],
   "source": [
    "data_collator = DataCollatorForSeq2Seq(tokenizer=tokenizer, model=model_path)"
   ]
  },
  {
   "cell_type": "code",
   "execution_count": 18,
   "metadata": {},
   "outputs": [],
   "source": [
    "rouge = evaluate.load(\"rouge\")"
   ]
  },
  {
   "cell_type": "code",
   "execution_count": 19,
   "metadata": {},
   "outputs": [],
   "source": [
    "def compute_metrics(eval_pred):\n",
    "    # Unpacks the evaluation predictions tuple into predictions and labels.\n",
    "    predictions, labels = eval_pred\n",
    "\n",
    "    # Decodes the tokenized predictions back to text, skipping any special tokens (e.g., padding tokens).\n",
    "    decoded_preds = tokenizer.batch_decode(predictions, skip_special_tokens=True)\n",
    "\n",
    "    # Replaces any -100 values in labels with the tokenizer's pad_token_id.\n",
    "    # This is done because -100 is often used to ignore certain tokens when calculating the loss during training.\n",
    "    labels = np.where(labels != -100, labels, tokenizer.pad_token_id)\n",
    "\n",
    "    # Decodes the tokenized labels back to text, skipping any special tokens (e.g., padding tokens).\n",
    "    decoded_labels = tokenizer.batch_decode(labels, skip_special_tokens=True)\n",
    "\n",
    "    # Computes the ROUGE metric between the decoded predictions and decoded labels.\n",
    "    # The use_stemmer parameter enables stemming, which reduces words to their root form before comparison.\n",
    "    result = rouge.compute(predictions=decoded_preds, references=decoded_labels, use_stemmer=True)\n",
    "\n",
    "    # Calculates the length of each prediction by counting the non-padding tokens.\n",
    "    prediction_lens = [np.count_nonzero(pred != tokenizer.pad_token_id) for pred in predictions]\n",
    "\n",
    "    # Computes the mean length of the predictions and adds it to the result dictionary under the key \"gen_len\".\n",
    "    result[\"gen_len\"] = np.mean(prediction_lens)\n",
    "\n",
    "    # Rounds each value in the result dictionary to 4 decimal places for cleaner output, and returns the result.\n",
    "    return {k: round(v, 4) for k, v in result.items()}"
   ]
  },
  {
   "cell_type": "code",
   "execution_count": 20,
   "metadata": {},
   "outputs": [
    {
     "name": "stderr",
     "output_type": "stream",
     "text": [
      "d:\\Python\\LLM_Environment\\myenv\\lib\\site-packages\\transformers\\training_args.py:1545: FutureWarning: `evaluation_strategy` is deprecated and will be removed in version 4.46 of 🤗 Transformers. Use `eval_strategy` instead\n",
      "  warnings.warn(\n"
     ]
    }
   ],
   "source": [
    "training_args = Seq2SeqTrainingArguments(\n",
    "    output_dir=\"my_fine_tuned_t5_small_model\",\n",
    "    evaluation_strategy=\"epoch\",\n",
    "    learning_rate=2e-5,\n",
    "    per_device_train_batch_size=2,\n",
    "    per_device_eval_batch_size=2,\n",
    "    weight_decay=0.01,\n",
    "    save_total_limit=3,\n",
    "    num_train_epochs=4,\n",
    "    predict_with_generate=True,\n",
    "    fp16=True,\n",
    ")"
   ]
  },
  {
   "cell_type": "code",
   "execution_count": 21,
   "metadata": {},
   "outputs": [],
   "source": [
    "trainer = Seq2SeqTrainer(\n",
    "    model=model,\n",
    "    args=training_args,\n",
    "    train_dataset=tokenized_billsum[\"train\"],\n",
    "    eval_dataset=tokenized_billsum[\"test\"],\n",
    "    tokenizer=tokenizer,\n",
    "    data_collator=data_collator,\n",
    "    compute_metrics=compute_metrics,\n",
    ")"
   ]
  },
  {
   "cell_type": "code",
   "execution_count": 22,
   "metadata": {},
   "outputs": [
    {
     "name": "stderr",
     "output_type": "stream",
     "text": [
      " 25%|██▌       | 495/1980 [02:36<08:01,  3.08it/s]d:\\Python\\LLM_Environment\\myenv\\lib\\site-packages\\transformers\\generation\\utils.py:1220: UserWarning: Using the model-agnostic default `max_length` (=20) to control the generation length. We recommend setting `max_new_tokens` to control the maximum length of the generation.\n",
      "  warnings.warn(\n",
      "                                                  \n",
      " 25%|██▌       | 495/1980 [04:13<08:01,  3.08it/s]"
     ]
    },
    {
     "name": "stdout",
     "output_type": "stream",
     "text": [
      "{'eval_loss': nan, 'eval_rouge1': 0.103, 'eval_rouge2': 0.0296, 'eval_rougeL': 0.0858, 'eval_rougeLsum': 0.0858, 'eval_gen_len': 15.1613, 'eval_runtime': 96.7346, 'eval_samples_per_second': 2.564, 'eval_steps_per_second': 1.282, 'epoch': 1.0}\n"
     ]
    },
    {
     "name": "stderr",
     "output_type": "stream",
     "text": [
      " 25%|██▌       | 500/1980 [04:14<2:59:50,  7.29s/it] "
     ]
    },
    {
     "name": "stdout",
     "output_type": "stream",
     "text": [
      "{'loss': 0.0, 'grad_norm': nan, 'learning_rate': 2e-05, 'epoch': 1.01}\n"
     ]
    },
    {
     "name": "stderr",
     "output_type": "stream",
     "text": [
      " 50%|█████     | 990/1980 [06:47<04:31,  3.64it/s]  d:\\Python\\LLM_Environment\\myenv\\lib\\site-packages\\transformers\\generation\\utils.py:1220: UserWarning: Using the model-agnostic default `max_length` (=20) to control the generation length. We recommend setting `max_new_tokens` to control the maximum length of the generation.\n",
      "  warnings.warn(\n",
      "                                                  \n",
      " 50%|█████     | 990/1980 [08:23<04:31,  3.64it/s]"
     ]
    },
    {
     "name": "stdout",
     "output_type": "stream",
     "text": [
      "{'eval_loss': nan, 'eval_rouge1': 0.103, 'eval_rouge2': 0.0296, 'eval_rougeL': 0.0858, 'eval_rougeLsum': 0.0858, 'eval_gen_len': 15.1613, 'eval_runtime': 95.839, 'eval_samples_per_second': 2.588, 'eval_steps_per_second': 1.294, 'epoch': 2.0}\n"
     ]
    },
    {
     "name": "stderr",
     "output_type": "stream",
     "text": [
      " 51%|█████     | 1000/1980 [08:26<24:03,  1.47s/it] "
     ]
    },
    {
     "name": "stdout",
     "output_type": "stream",
     "text": [
      "{'loss': 0.0, 'grad_norm': nan, 'learning_rate': 2e-05, 'epoch': 2.02}\n"
     ]
    },
    {
     "name": "stderr",
     "output_type": "stream",
     "text": [
      " 75%|███████▌  | 1485/1980 [10:58<02:14,  3.68it/s]d:\\Python\\LLM_Environment\\myenv\\lib\\site-packages\\transformers\\generation\\utils.py:1220: UserWarning: Using the model-agnostic default `max_length` (=20) to control the generation length. We recommend setting `max_new_tokens` to control the maximum length of the generation.\n",
      "  warnings.warn(\n",
      "                                                   \n",
      " 75%|███████▌  | 1485/1980 [12:36<02:14,  3.68it/s]"
     ]
    },
    {
     "name": "stdout",
     "output_type": "stream",
     "text": [
      "{'eval_loss': nan, 'eval_rouge1': 0.103, 'eval_rouge2': 0.0296, 'eval_rougeL': 0.0858, 'eval_rougeLsum': 0.0858, 'eval_gen_len': 15.1613, 'eval_runtime': 97.14, 'eval_samples_per_second': 2.553, 'eval_steps_per_second': 1.277, 'epoch': 3.0}\n"
     ]
    },
    {
     "name": "stderr",
     "output_type": "stream",
     "text": [
      " 76%|███████▌  | 1500/1980 [12:40<04:03,  1.97it/s]  "
     ]
    },
    {
     "name": "stdout",
     "output_type": "stream",
     "text": [
      "{'loss': 0.0, 'grad_norm': nan, 'learning_rate': 2e-05, 'epoch': 3.03}\n"
     ]
    },
    {
     "name": "stderr",
     "output_type": "stream",
     "text": [
      "100%|██████████| 1980/1980 [15:12<00:00,  3.61it/s]d:\\Python\\LLM_Environment\\myenv\\lib\\site-packages\\transformers\\generation\\utils.py:1220: UserWarning: Using the model-agnostic default `max_length` (=20) to control the generation length. We recommend setting `max_new_tokens` to control the maximum length of the generation.\n",
      "  warnings.warn(\n",
      "                                                   \n",
      "100%|██████████| 1980/1980 [16:51<00:00,  1.96it/s]"
     ]
    },
    {
     "name": "stdout",
     "output_type": "stream",
     "text": [
      "{'eval_loss': nan, 'eval_rouge1': 0.103, 'eval_rouge2': 0.0296, 'eval_rougeL': 0.0858, 'eval_rougeLsum': 0.0858, 'eval_gen_len': 15.1613, 'eval_runtime': 96.3676, 'eval_samples_per_second': 2.573, 'eval_steps_per_second': 1.287, 'epoch': 4.0}\n",
      "{'train_runtime': 1011.3412, 'train_samples_per_second': 3.912, 'train_steps_per_second': 1.958, 'train_loss': 0.0, 'epoch': 4.0}\n"
     ]
    },
    {
     "name": "stderr",
     "output_type": "stream",
     "text": [
      "\n"
     ]
    },
    {
     "data": {
      "text/plain": [
       "TrainOutput(global_step=1980, training_loss=0.0, metrics={'train_runtime': 1011.3412, 'train_samples_per_second': 3.912, 'train_steps_per_second': 1.958, 'total_flos': 5417781448734720.0, 'train_loss': 0.0, 'epoch': 4.0})"
      ]
     },
     "execution_count": 22,
     "metadata": {},
     "output_type": "execute_result"
    }
   ],
   "source": [
    "trainer.train()"
   ]
  },
  {
   "cell_type": "code",
   "execution_count": 23,
   "metadata": {},
   "outputs": [],
   "source": [
    "trainer.save_model(\"my_fine_tuned_t5_small_model\")"
   ]
  },
  {
   "cell_type": "code",
   "execution_count": 24,
   "metadata": {},
   "outputs": [
    {
     "data": {
      "text/plain": [
       "'summarize: The people of the State of California do enact as follows:\\n\\n\\nSECTION 1.\\nSection 43.101 is added to the Civil Code, to read:\\n43.101.\\n(a) An emergency responder shall not be liable for any damage to an unmanned aircraft or unmanned aircraft system, if the damage was caused while the emergency responder was providing, and the unmanned aircraft or unmanned aircraft system was interfering with, the operation, support, or enabling of the emergency services listed in Section 853 of the Government Code.\\n(b) (1) For purposes of this section, “emergency responder” means either of the following, if acting within the scope of authority implicitly or expressly provided by a public entity or a public employee to provide emergency services:\\n(A) A paid or unpaid volunteer.\\n(B) A private entity.\\n(2) All of the following terms shall have the same meaning as the terms as used in Chapter 4.5 (commencing with Section 853) of Part 2 of Division 3.6 of Title 1 of the Government Code:\\n(A) Public employee.\\n(B) Public entity.\\n(C) Unmanned aircraft.\\n(D) Unmanned aircraft system.\\nSEC. 2.\\nChapter 4.5 (commencing with Section 853) is added to Part 2 of Division 3.6 of Title 1 of the Government Code, to read:\\nCHAPTER  4.5. Unmanned Aircraft\\n853.\\nA public entity or public employee shall not be liable for any damage to an unmanned aircraft or unmanned aircraft system, if the damage was caused while the public entity or public employee was providing, and the unmanned aircraft or unmanned aircraft system was interfering with, the operation, support, or enabling of any of the following emergency services:\\n(a) Emergency medical services or ambulance transport services, including, but not limited to, air ambulance services.\\n(b) Firefighting or firefighting-related services, including, but not limited to, air services related to firefighting or firefighting-related services.\\n(c) Search and rescue services, including, but not limited to, air search and rescue services.\\n853.5.\\nThe following definitions shall apply to this chapter:\\n(a) “Unmanned aircraft” means an aircraft that is operated without the possibility of direct human intervention from within or on the aircraft.\\n(b) “Unmanned aircraft system” means an unmanned aircraft and associated elements, including, but not limited to, communication links and the components that control the unmanned aircraft that are required for the pilot in command to operate safely and efficiently in the national airspace system.\\nSEC. 3.\\nSection 402.5 is added to the Penal Code, to read:\\n402.5.\\n(a) It is unlawful to knowingly, intentionally, or recklessly operate an unmanned aircraft or unmanned aircraft system in a manner that prevents or delays the extinguishment of a fire, or in any way interferes with the efforts of firefighters to control, contain, or extinguish a fire, including, but not limited to, efforts to control, contain, or extinguish the fire from the air. A violation of this section is punishable by imprisonment in a county jail not to exceed six months, by a fine not to exceed five thousand dollars ($5,000), or by both that imprisonment and fine.\\n(b) (1) For purposes of this section, “unmanned aircraft” means an aircraft that is operated without the possibility of direct human intervention from within or on the aircraft.\\n(2) For purposes of this section, “unmanned aircraft system” means an unmanned aircraft and associated elements, including, but not limited to, communication links and the components that control the unmanned aircraft that are required for the individual in command to operate safely and efficiently in the national airspace system.\\n(3) For purposes of this section, “recklessly” means a person is aware of and consciously disregards a substantial and unjustifiable risk that his or her act will prevent or delay the extinguishment of a fire, or in any way interfere with the efforts of firefighters to control, contain, or extinguish a fire, including, but not limited to, efforts to control, contain, or extinguish the fire from the air. The risk shall be of such nature and degree that disregard of that risk constitutes a gross deviation from the standard of conduct that a reasonable person would observe in the situation. A person who creates such a risk but is unaware of that risk solely by reason of voluntary intoxication also acts recklessly for purposes of this section.\\nSEC. 4.\\nNo reimbursement is required by this act pursuant to Section 6 of Article XIII\\u2009B of the California Constitution because the only costs that may be incurred by a local agency or school district will be incurred because this act creates a new crime or infraction, eliminates a crime or infraction, or changes the penalty for a crime or infraction, within the meaning of Section 17556 of the Government Code, or changes the definition of a crime within the meaning of Section 6 of Article XIII\\u2009B of the California Constitution.\\nSEC. 5.\\nThis act is an urgency statute necessary for the immediate preservation of the public peace, health, or safety within the meaning of Article IV of the Constitution and shall go into immediate effect. The facts constituting the necessity are:\\nTo address the interference of unmanned aircraft and unmanned aircraft systems with efforts to fight fires and to keep fires from raging out of control during this historic drought, and to protect public and private emergency responders who are providing specific critical emergency services from potential civil liability relating to the new and increasing proliferation of unmanned aircraft systems that disrupt the provision of those emergency services, it is necessary that this act take effect immediately.'"
      ]
     },
     "execution_count": 24,
     "metadata": {},
     "output_type": "execute_result"
    }
   ],
   "source": [
    "text = billsum['test'][100]['text']\n",
    "text = \"summarize: \" + text\n",
    "text"
   ]
  },
  {
   "cell_type": "code",
   "execution_count": 25,
   "metadata": {},
   "outputs": [
    {
     "name": "stderr",
     "output_type": "stream",
     "text": [
      "Hardware accelerator e.g. GPU is available in the environment, but no `device` argument is passed to the `Pipeline` object. Model will be on CPU.\n",
      "Token indices sequence length is longer than the specified maximum sequence length for this model (1234 > 512). Running this sequence through the model will result in indexing errors\n"
     ]
    },
    {
     "data": {
      "text/plain": [
       "[{'summary_text': 'A bill to amend the Civil Code of California to protect public and private emergency responders from liability relating to the new and increasing proliferation of unmanned aircraft systems that disrupt the provision of emergency services.'}]"
      ]
     },
     "execution_count": 25,
     "metadata": {},
     "output_type": "execute_result"
    }
   ],
   "source": [
    "summarizer = pipeline(\"summarization\", model=\"my_fine_tuned_t5_small_model\")\n",
    "pred = summarizer(text)\n",
    "pred"
   ]
  },
  {
   "cell_type": "code",
   "execution_count": 26,
   "metadata": {},
   "outputs": [
    {
     "name": "stderr",
     "output_type": "stream",
     "text": [
      "Token indices sequence length is longer than the specified maximum sequence length for this model (1232 > 512). Running this sequence through the model will result in indexing errors\n"
     ]
    },
    {
     "data": {
      "text/plain": [
       "tensor([[21603,    10,    37,  ...,  2017,     5,     1]])"
      ]
     },
     "execution_count": 26,
     "metadata": {},
     "output_type": "execute_result"
    }
   ],
   "source": [
    "tokenizer = AutoTokenizer.from_pretrained(\"my_fine_tuned_t5_small_model\")\n",
    "inputs = tokenizer(text, return_tensors=\"pt\").input_ids\n",
    "inputs"
   ]
  },
  {
   "cell_type": "code",
   "execution_count": 27,
   "metadata": {},
   "outputs": [],
   "source": [
    "model = AutoModelForSeq2SeqLM.from_pretrained(\"my_fine_tuned_t5_small_model\")\n",
    "outputs = model.generate(inputs, max_new_tokens=100, do_sample=False)"
   ]
  },
  {
   "cell_type": "code",
   "execution_count": 28,
   "metadata": {},
   "outputs": [
    {
     "data": {
      "text/plain": [
       "'A bill to amend the Civil Code of California to protect public and private emergency responders from liability relating to the new and increasing proliferation of unmanned aircraft systems that disrupt the provision of emergency services.'"
      ]
     },
     "execution_count": 28,
     "metadata": {},
     "output_type": "execute_result"
    }
   ],
   "source": [
    "pred[0]['summary_text']"
   ]
  },
  {
   "cell_type": "code",
   "execution_count": 29,
   "metadata": {},
   "outputs": [],
   "source": [
    "preds = [pred[0]['summary_text']]"
   ]
  },
  {
   "cell_type": "code",
   "execution_count": 30,
   "metadata": {},
   "outputs": [],
   "source": [
    "labels = [billsum['test'][100]['summary']]"
   ]
  },
  {
   "cell_type": "code",
   "execution_count": 31,
   "metadata": {},
   "outputs": [
    {
     "data": {
      "text/plain": [
       "{'rouge1': 0.11654135338345864,\n",
       " 'rouge2': 0.033962264150943396,\n",
       " 'rougeL': 0.09022556390977444,\n",
       " 'rougeLsum': 0.10526315789473684}"
      ]
     },
     "execution_count": 31,
     "metadata": {},
     "output_type": "execute_result"
    }
   ],
   "source": [
    "rouge.compute(predictions=preds, references=labels, use_stemmer=True)"
   ]
  }
 ],
 "metadata": {
  "kernelspec": {
   "display_name": "myenv",
   "language": "python",
   "name": "python3"
  },
  "language_info": {
   "codemirror_mode": {
    "name": "ipython",
    "version": 3
   },
   "file_extension": ".py",
   "mimetype": "text/x-python",
   "name": "python",
   "nbconvert_exporter": "python",
   "pygments_lexer": "ipython3",
   "version": "3.9.13"
  }
 },
 "nbformat": 4,
 "nbformat_minor": 2
}

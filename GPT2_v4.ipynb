{
 "cells": [
  {
   "cell_type": "markdown",
   "metadata": {},
   "source": [
    "## Importing Modules"
   ]
  },
  {
   "cell_type": "code",
   "execution_count": 1,
   "metadata": {},
   "outputs": [
    {
     "name": "stderr",
     "output_type": "stream",
     "text": [
      "d:\\Python\\LLM_Environment\\myenv\\lib\\site-packages\\tqdm\\auto.py:21: TqdmWarning: IProgress not found. Please update jupyter and ipywidgets. See https://ipywidgets.readthedocs.io/en/stable/user_install.html\n",
      "  from .autonotebook import tqdm as notebook_tqdm\n"
     ]
    },
    {
     "name": "stdout",
     "output_type": "stream",
     "text": [
      "WARNING:tensorflow:From d:\\Python\\LLM_Environment\\myenv\\lib\\site-packages\\tf_keras\\src\\losses.py:2976: The name tf.losses.sparse_softmax_cross_entropy is deprecated. Please use tf.compat.v1.losses.sparse_softmax_cross_entropy instead.\n",
      "\n",
      "GPU is available!\n"
     ]
    }
   ],
   "source": [
    "import os\n",
    "import pathlib\n",
    "import numpy as np\n",
    "import pandas as pd\n",
    "import nltk\n",
    "\n",
    "import torch\n",
    "from torch.optim import AdamW\n",
    "from torch.utils.data import Dataset, DataLoader, random_split, RandomSampler, SequentialSampler\n",
    "\n",
    "from transformers import (\n",
    "    AutoTokenizer,\n",
    "    AutoModelForCausalLM,\n",
    "    DataCollatorForLanguageModeling,\n",
    "    Trainer,\n",
    "    TrainingArguments,\n",
    ")\n",
    "from transformers import GPT2LMHeadModel, GPT2Tokenizer, pipeline, GPT2Config\n",
    "from tqdm.auto import tqdm\n",
    "import random\n",
    "import datetime\n",
    "import time\n",
    "import statistics\n",
    "from nltk.translate.bleu_score import sentence_bleu\n",
    "from transformers import TrainingArguments, Trainer\n",
    "from datasets import load_dataset\n",
    "\n",
    "if torch.cuda.is_available():\n",
    "    print(\"GPU is available!\")\n",
    "else:\n",
    "    print(\"GPU is not available.\")"
   ]
  },
  {
   "cell_type": "code",
   "execution_count": 2,
   "metadata": {},
   "outputs": [],
   "source": [
    "MAIN_PATH = str(pathlib.Path().resolve())\n",
    "DATASET_PATH = MAIN_PATH + '\\\\datasets'\n",
    "MODEL_PATH = MAIN_PATH + '\\\\models'"
   ]
  },
  {
   "cell_type": "code",
   "execution_count": 3,
   "metadata": {},
   "outputs": [
    {
     "data": {
      "text/plain": [
       "['bert-base-cased',\n",
       " 'bert-base-multilingual-cased',\n",
       " 'bert-base-uncased',\n",
       " 'bert-large-cased',\n",
       " 'bert-large-uncased',\n",
       " 'flan-t5-base',\n",
       " 'flan-t5-large',\n",
       " 'flan-t5-small',\n",
       " 'gpt2',\n",
       " 'gpt2-large',\n",
       " 'gpt2-medium',\n",
       " 'tuned_text_gen']"
      ]
     },
     "execution_count": 3,
     "metadata": {},
     "output_type": "execute_result"
    }
   ],
   "source": [
    "models = os.listdir(MODEL_PATH)\n",
    "models"
   ]
  },
  {
   "cell_type": "code",
   "execution_count": 4,
   "metadata": {},
   "outputs": [
    {
     "data": {
      "text/plain": [
       "'D:\\\\Python\\\\LLM_Environment\\\\models\\\\gpt2'"
      ]
     },
     "execution_count": 4,
     "metadata": {},
     "output_type": "execute_result"
    }
   ],
   "source": [
    "model_path = MODEL_PATH + '\\\\' + models[8]\n",
    "model_path"
   ]
  },
  {
   "cell_type": "code",
   "execution_count": 5,
   "metadata": {},
   "outputs": [],
   "source": [
    "model = GPT2LMHeadModel.from_pretrained(model_path)"
   ]
  },
  {
   "cell_type": "code",
   "execution_count": 6,
   "metadata": {},
   "outputs": [],
   "source": [
    "torch.cuda.empty_cache()"
   ]
  },
  {
   "cell_type": "code",
   "execution_count": 7,
   "metadata": {},
   "outputs": [],
   "source": [
    "tokenizer = GPT2Tokenizer.from_pretrained(model_path)"
   ]
  },
  {
   "cell_type": "code",
   "execution_count": 8,
   "metadata": {},
   "outputs": [
    {
     "name": "stderr",
     "output_type": "stream",
     "text": [
      "The attention mask and the pad token id were not set. As a consequence, you may observe unexpected behavior. Please pass your input's `attention_mask` to obtain reliable results.\n",
      "Setting `pad_token_id` to `eos_token_id`:None for open-end generation.\n",
      "The attention mask is not set and cannot be inferred from input because pad token is same as eos token. As a consequence, you may observe unexpected behavior. Please pass your input's `attention_mask` to obtain reliable results.\n",
      "d:\\Python\\LLM_Environment\\myenv\\lib\\site-packages\\transformers\\models\\gpt2\\modeling_gpt2.py:545: UserWarning: 1Torch was not compiled with flash attention. (Triggered internally at C:\\actions-runner\\_work\\pytorch\\pytorch\\builder\\windows\\pytorch\\aten\\src\\ATen\\native\\transformers\\cuda\\sdp_utils.cpp:555.)\n",
      "  attn_output = torch.nn.functional.scaled_dot_product_attention(\n"
     ]
    },
    {
     "name": "stdout",
     "output_type": "stream",
     "text": [
      "Give me a recipe instructions to make a cake.\n",
      "\n",
      "I've been making this for a while now and I've been really enjoying it. I've been making it for a while now and I've been really enjoying it. I've been making it for a while now and I've been really enjoying it. I've been making it for a while now and I've been really enjoying it. I've been making it for a while now and I've been really enjoying it. I've been making it for a while now and I've been really enjoying it. I've been making it for a while now and I've been really enjoying it. I've been making it for a while now and I've been really enjoying it. I've been making it for a while now and I've been really enjoying it. I've been making it for a while now and I've been really enjoying it. I've been making it for a while now and I've been really enjoying it. I've been making it for a while now and I've been really enjoying it. I've been making it for a while now and I've been really enjoying it. I've been making it for a while now and I've been really enjoying it. I've been making it for a while now and I've been really enjoying it. I've been making it for a while now and I've been really enjoying it. I've been making it for a while now and I've been really enjoying it. I've been making it for a while now and I've been really enjoying it. I've been making it for a while now and I've been really enjoying it. I've been making it for a while now and I've been really enjoying it. I've been making it for a while now and I've been really enjoying it. I've been making it for a while now and I've been really enjoying it. I've been making it for a while now and I've been really enjoying it. I've been making it for a while now and I've been really enjoying it. I've been making it for a while now and I've been really enjoying it. I've been making it for a while now and I've been really enjoying it. I've been making it for a while now and I've been really enjoying it. I've been making it for a while now and I've been really enjoying it. I've been making it for a while now and I've been really enjoying it. I've been making it for a\n"
     ]
    }
   ],
   "source": [
    "# Place the model in evaluation mode\n",
    "model.eval()\n",
    "\n",
    "# Check if CUDA is available and set the device accordingly\n",
    "device = torch.device(\"cuda\" if torch.cuda.is_available() else \"cpu\")\n",
    "model.to(device)\n",
    "\n",
    "# Your prompt for the recipe\n",
    "recipe_prompt = \"Give me a recipe instructions to make a cake\"\n",
    "\n",
    "# Tokenize the input, this encodes the prompt to a format that the model can understand\n",
    "inputs = tokenizer.encode(recipe_prompt, return_tensors='pt').to(device)\n",
    "\n",
    "# Generate the output using the model\n",
    "outputs = model.generate(inputs, max_length=512, num_return_sequences=1)\n",
    "\n",
    "# Decode the generated output back to a readable string\n",
    "recipe = tokenizer.decode(outputs[0], skip_special_tokens=True)\n",
    "print(recipe)"
   ]
  },
  {
   "cell_type": "code",
   "execution_count": 9,
   "metadata": {},
   "outputs": [
    {
     "name": "stdout",
     "output_type": "stream",
     "text": [
      "[INST] give me a recipe to make a chocolate cake \n",
      "Instructions: To make a basic chocolate cake, mix 1 cup sugar, ¾ cup flour, ½ cup cocoa powder, ¾ tsp baking powder, ¾ tsp baking soda, a pinch of salt, 1 egg, ½ cup milk, ¼ cup vegetable oil, and 1 tsp vanilla extract. Bake at 350°F (175°C) for 30-35 minutes. Enjoy your delicious dessert! \n",
      "[/INST]\n"
     ]
    }
   ],
   "source": [
    "# Your initial instructions string\n",
    "instructions_string = f\"\"\"give me a recipe to make a chocolate cake\"\"\"\n",
    "comment =\"To make a basic chocolate cake, mix 1 cup sugar, ¾ cup flour, ½ cup cocoa powder, ¾ tsp baking powder, ¾ tsp baking soda, a pinch of salt, 1 egg, ½ cup milk, ¼ cup vegetable oil, and 1 tsp vanilla extract. Bake at 350°F (175°C) for 30-35 minutes. Enjoy your delicious dessert!\"\n",
    "\n",
    "# Prompt template\n",
    "prompt_template = lambda instructions_string, comment: f'''[INST] {instructions_string} \\nInstructions: {comment} \\n[/INST]'''\n",
    "\n",
    "# Create the prompt\n",
    "prompt = prompt_template(instructions_string, comment)\n",
    "print(prompt)"
   ]
  },
  {
   "cell_type": "code",
   "execution_count": 10,
   "metadata": {},
   "outputs": [
    {
     "name": "stderr",
     "output_type": "stream",
     "text": [
      "The attention mask and the pad token id were not set. As a consequence, you may observe unexpected behavior. Please pass your input's `attention_mask` to obtain reliable results.\n",
      "Setting `pad_token_id` to `eos_token_id`:None for open-end generation.\n"
     ]
    },
    {
     "name": "stdout",
     "output_type": "stream",
     "text": [
      "[INST] give me a recipe to make a chocolate cake \n",
      "Instructions: To make a basic chocolate cake, mix 1 cup sugar, ¾ cup flour, ½ cup cocoa powder, ¾ tsp baking powder, ¾ tsp baking soda, a pinch of salt, 1 egg, ½ cup milk, ¼ cup vegetable oil, and 1 tsp vanilla extract. Bake at 350°F (175°C) for 30-35 minutes. Enjoy your delicious dessert! \n",
      "[/INST]\n",
      "[INST]\n",
      "[INST]\n",
      "[INST]\n",
      "[INST]\n",
      "[INST]\n",
      "[INST]\n",
      "[INST]\n",
      "[INST]\n",
      "[INST]\n",
      "[INST]\n",
      "[INST]\n",
      "[INST]\n",
      "[INST]\n",
      "[INST]\n",
      "[INST]\n",
      "[INST]\n",
      "[INST]\n",
      "[INST]\n",
      "[INST]\n",
      "[INST]\n",
      "[INST]\n",
      "[INST]\n",
      "[INST]\n",
      "[INST]\n",
      "[INST]\n",
      "[INST]\n",
      "[INST]\n",
      "[INST]\n",
      "[INST]\n",
      "[INST]\n",
      "[INST]\n",
      "[INST]\n",
      "[INST]\n",
      "[INST]\n",
      "[INST]\n",
      "[INST]\n",
      "[INST]\n",
      "[INST]\n",
      "[INST]\n",
      "[INST]\n",
      "[INST]\n",
      "[INST]\n",
      "[INST]\n",
      "[INST]\n",
      "[INST]\n",
      "[INST]\n",
      "[INST]\n",
      "[INST]\n",
      "[INST]\n",
      "[INST]\n",
      "[INST]\n",
      "\n",
      "[INST]\n",
      "\n",
      "[INST]\n",
      "\n",
      "[INST]\n",
      "\n",
      "[INST]\n",
      "\n",
      "[INST]\n",
      "\n",
      "[INST]\n",
      "\n",
      "[INST]\n",
      "\n",
      "[INST]\n",
      "\n",
      "[INST]\n",
      "\n",
      "[INST]\n",
      "\n",
      "[INST]\n",
      "\n",
      "[INST]\n",
      "\n",
      "[INST]\n",
      "\n",
      "[INST]\n",
      "\n",
      "[INST]\n",
      "\n",
      "[INST]\n",
      "\n",
      "[INST]\n",
      "\n",
      "[INST]\n",
      "\n",
      "[INST]\n",
      "\n",
      "[INST]\n",
      "\n",
      "[INST]\n",
      "\n",
      "[INST]\n",
      "\n",
      "[INST]\n",
      "\n",
      "[INST]\n",
      "\n",
      "[INST]\n",
      "\n",
      "[INST]\n",
      "\n",
      "[INST]\n",
      "\n",
      "[INST]\n",
      "\n",
      "[INST]\n",
      "\n",
      "[INST]\n",
      "\n",
      "[INST]\n",
      "\n",
      "[INST]\n",
      "\n",
      "[INST]\n",
      "\n",
      "[INST]\n",
      "\n",
      "[INST]\n",
      "\n",
      "[INST]\n",
      "\n",
      "[INST]\n",
      "\n",
      "[INST]\n",
      "\n",
      "[INST]\n",
      "\n",
      "[INST]\n",
      "\n",
      "[INST]\n",
      "\n",
      "\n"
     ]
    }
   ],
   "source": [
    "# Tokenize the input text using the GPT-2 tokenizer\n",
    "inputs = tokenizer(prompt, return_tensors=\"pt\").to(device)\n",
    "\n",
    "# Generate the output using the GPT-2 model\n",
    "outputs = model.generate(input_ids=inputs[\"input_ids\"], max_length=512) \n",
    "\n",
    "# Decode the generated output back to a readable string, removing any special tokens\n",
    "recipe = tokenizer.decode(outputs[0], skip_special_tokens=True)\n",
    "\n",
    "print(recipe)"
   ]
  },
  {
   "cell_type": "code",
   "execution_count": 11,
   "metadata": {},
   "outputs": [
    {
     "name": "stderr",
     "output_type": "stream",
     "text": [
      "Setting `pad_token_id` to `eos_token_id`:None for open-end generation.\n"
     ]
    },
    {
     "name": "stdout",
     "output_type": "stream",
     "text": [
      "Give me a recipe to make a chocolate cake\n",
      "\n",
      "I've been making chocolate cake for a while now, and I've been making it for a long time. I've been making it for a long time, and I've been making it for a long time. I've been making it\n"
     ]
    }
   ],
   "source": [
    "# Set the pad_token if it's not already set\n",
    "if tokenizer.pad_token is None:\n",
    "    tokenizer.pad_token = tokenizer.eos_token\n",
    "\n",
    "# Ensure the model and tokenizer are on the same device\n",
    "device = torch.device(\"cuda\" if torch.cuda.is_available() else \"cpu\")\n",
    "model.to(device)\n",
    "\n",
    "# Your prompt for the recipe\n",
    "prompt = \"Give me a recipe to make a chocolate cake\"\n",
    "\n",
    "# Tokenize the input text using the GPT-2 tokenizer\n",
    "inputs = tokenizer(prompt, return_tensors=\"pt\", padding=\"max_length\", max_length=512, truncation=True).to(device)\n",
    "\n",
    "# Generate the output using the GPT-2 model\n",
    "outputs = model.generate(\n",
    "    input_ids=inputs[\"input_ids\"],\n",
    "    attention_mask=inputs[\"attention_mask\"],\n",
    "    max_new_tokens=50  # Specify how many new tokens to generate beyond the input\n",
    ")\n",
    "\n",
    "# Decode the generated output back to a readable string, removing any special tokens\n",
    "recipe = tokenizer.decode(outputs[0], skip_special_tokens=True)\n",
    "\n",
    "print(recipe)"
   ]
  },
  {
   "cell_type": "code",
   "execution_count": 12,
   "metadata": {},
   "outputs": [],
   "source": [
    "config = GPT2Config.from_pretrained(model_path)\n",
    "\n",
    "if hasattr(model, 'gradient_checkpointing_enable'):\n",
    "    model.gradient_checkpointing_enable()"
   ]
  },
  {
   "cell_type": "code",
   "execution_count": 13,
   "metadata": {},
   "outputs": [
    {
     "name": "stdout",
     "output_type": "stream",
     "text": [
      "Total parameters: 124439808\n",
      "Trainable parameters: 124439808\n",
      "Trainable percentage: 100.00%\n"
     ]
    }
   ],
   "source": [
    "# Total number of parameters\n",
    "total_params = sum(p.numel() for p in model.parameters())\n",
    "print(\"Total parameters:\", total_params)\n",
    "\n",
    "# Total number of trainable parameters\n",
    "trainable_params = sum(p.numel() for p in model.parameters() if p.requires_grad)\n",
    "print(\"Trainable parameters:\", trainable_params)\n",
    "\n",
    "# Percentage of trainable parameters\n",
    "trainable_percentage = (trainable_params / total_params) * 100\n",
    "print(\"Trainable percentage: {:.2f}%\".format(trainable_percentage))"
   ]
  },
  {
   "cell_type": "markdown",
   "metadata": {},
   "source": [
    "## Import Dataset"
   ]
  },
  {
   "cell_type": "code",
   "execution_count": 14,
   "metadata": {},
   "outputs": [],
   "source": [
    "# load dataset\n",
    "data = load_dataset(\"darkraipro/recipe-instructions\")"
   ]
  },
  {
   "cell_type": "code",
   "execution_count": 15,
   "metadata": {},
   "outputs": [],
   "source": [
    "def convert_to_tensors(batch):\n",
    "    # Convert list of integers in the batch to a tensor, individually for each example\n",
    "    batch['input_ids'] = [torch.tensor(e, dtype=torch.long) for e in batch['input_ids']]\n",
    "    batch['attention_mask'] = [torch.tensor(e, dtype=torch.long) for e in batch['attention_mask']]\n",
    "    return batch\n",
    "\n",
    "# Note that batched=True applies the function to each batch of examples\n",
    "dataset = data.map(convert_to_tensors, batched=True)"
   ]
  },
  {
   "cell_type": "code",
   "execution_count": 16,
   "metadata": {},
   "outputs": [
    {
     "data": {
      "text/plain": [
       "DatasetDict({\n",
       "    train: Dataset({\n",
       "        features: ['attention_mask', 'input_ids'],\n",
       "        num_rows: 339583\n",
       "    })\n",
       "    validation: Dataset({\n",
       "        features: ['attention_mask', 'input_ids'],\n",
       "        num_rows: 17934\n",
       "    })\n",
       "})"
      ]
     },
     "execution_count": 16,
     "metadata": {},
     "output_type": "execute_result"
    }
   ],
   "source": [
    "dataset"
   ]
  },
  {
   "cell_type": "code",
   "execution_count": 17,
   "metadata": {},
   "outputs": [],
   "source": [
    "# Initialize data collator\n",
    "data_collator = DataCollatorForLanguageModeling(tokenizer=tokenizer, mlm=False)"
   ]
  },
  {
   "cell_type": "code",
   "execution_count": 18,
   "metadata": {},
   "outputs": [],
   "source": [
    "save_path = './model'\n",
    "# Define your training arguments\n",
    "training_args = TrainingArguments(\n",
    "    output_dir=save_path,\n",
    "    num_train_epochs=3,\n",
    "    per_device_train_batch_size=8,  # Small batch size\n",
    "    gradient_accumulation_steps=8,  # Accumulate gradients to effectively have batch size of 8\n",
    "    fp16=True,  # Enable FP16 training\n",
    "    gradient_checkpointing=True\n",
    ")"
   ]
  },
  {
   "cell_type": "code",
   "execution_count": 19,
   "metadata": {},
   "outputs": [],
   "source": [
    "# Initialize Trainer\n",
    "trainer = Trainer(\n",
    "    model=model,\n",
    "    args=training_args,\n",
    "    data_collator=data_collator,\n",
    "    train_dataset=dataset[\"train\"].select(range(10000)),\n",
    ")"
   ]
  },
  {
   "cell_type": "code",
   "execution_count": 20,
   "metadata": {},
   "outputs": [
    {
     "name": "stderr",
     "output_type": "stream",
     "text": [
      "  0%|          | 0/468 [00:00<?, ?it/s]d:\\Python\\LLM_Environment\\myenv\\lib\\site-packages\\torch\\utils\\checkpoint.py:295: FutureWarning: `torch.cpu.amp.autocast(args...)` is deprecated. Please use `torch.amp.autocast('cpu', args...)` instead.\n",
      "  with torch.enable_grad(), device_autocast_ctx, torch.cpu.amp.autocast(**ctx.cpu_autocast_kwargs):  # type: ignore[attr-defined]\n",
      "100%|██████████| 468/468 [21:10<00:00,  2.72s/it]"
     ]
    },
    {
     "name": "stdout",
     "output_type": "stream",
     "text": [
      "{'train_runtime': 1270.9911, 'train_samples_per_second': 23.604, 'train_steps_per_second': 0.368, 'train_loss': 2.4751427805321846, 'epoch': 3.0}\n"
     ]
    },
    {
     "name": "stderr",
     "output_type": "stream",
     "text": [
      "\n"
     ]
    },
    {
     "data": {
      "text/plain": [
       "TrainOutput(global_step=468, training_loss=2.4751427805321846, metrics={'train_runtime': 1270.9911, 'train_samples_per_second': 23.604, 'train_steps_per_second': 0.368, 'total_flos': 7826218942464000.0, 'train_loss': 2.4751427805321846, 'epoch': 2.9952})"
      ]
     },
     "execution_count": 20,
     "metadata": {},
     "output_type": "execute_result"
    }
   ],
   "source": [
    "# Train model\n",
    "model.config.use_cache = False  # silence the warnings. Please re-enable for inference!\n",
    "trainer.train()"
   ]
  },
  {
   "cell_type": "code",
   "execution_count": 21,
   "metadata": {},
   "outputs": [],
   "source": [
    "# renable warnings\n",
    "model.config.use_cache = True"
   ]
  },
  {
   "cell_type": "code",
   "execution_count": 22,
   "metadata": {},
   "outputs": [
    {
     "name": "stderr",
     "output_type": "stream",
     "text": [
      "Some parameters are on the meta device because they were offloaded to the cpu.\n"
     ]
    }
   ],
   "source": [
    "model = GPT2LMHeadModel.from_pretrained(save_path,\n",
    "                                             device_map=\"auto\",\n",
    "                                             trust_remote_code=False,\n",
    "                                             revision=\"main\")\n",
    "\n",
    "\n",
    "# load tokenizer\n",
    "tokenizer = AutoTokenizer.from_pretrained(save_path, use_fast=True)"
   ]
  },
  {
   "cell_type": "code",
   "execution_count": 24,
   "metadata": {},
   "outputs": [
    {
     "name": "stdout",
     "output_type": "stream",
     "text": [
      "[INST] Can you give me the recipe to make a chocolate cake? \n",
      "To make a basic chocolate cake, mix 1 cup sugar, ¾ cup flour, ½ cup cocoa powder, ¾ tsp baking powder, ¾ tsp baking soda, a pinch of salt, 1 egg, ½ cup milk, ¼ cup vegetable oil, and 1 tsp vanilla extract. Bake at 350°F (175°C) for 30-35 minutes. Enjoy your delicious dessert! \n",
      "[/INST]\n"
     ]
    }
   ],
   "source": [
    "intstructions_string = f\"\"\"Can you give me the recipe to make a chocolate cake?\"\"\"\n",
    "prompt_template = lambda comment: f'''[INST] {intstructions_string} \\n{comment} \\n[/INST]'''\n",
    "\n",
    "comment = \"To make a basic chocolate cake, mix 1 cup sugar, ¾ cup flour, ½ cup cocoa powder, ¾ tsp baking powder, ¾ tsp baking soda, a pinch of salt, 1 egg, ½ cup milk, ¼ cup vegetable oil, and 1 tsp vanilla extract. Bake at 350°F (175°C) for 30-35 minutes. Enjoy your delicious dessert!\"\n",
    "\n",
    "prompt = prompt_template(comment)\n",
    "print(prompt)"
   ]
  },
  {
   "cell_type": "code",
   "execution_count": 25,
   "metadata": {},
   "outputs": [
    {
     "name": "stderr",
     "output_type": "stream",
     "text": [
      "Setting `pad_token_id` to `eos_token_id`:None for open-end generation.\n"
     ]
    },
    {
     "name": "stdout",
     "output_type": "stream",
     "text": [
      "[INST] Can you give me the recipe to make a chocolate cake? \n",
      "To make a basic chocolate cake, mix 1 cup sugar, ¾ cup flour, ½ cup cocoa powder, ¾ tsp baking powder, ¾ tsp baking soda, a pinch of salt, 1 egg, ½ cup milk, ¼ cup vegetable oil, and 1 tsp vanilla extract. Bake at 350°F (175°C) for 30-35 minutes. Enjoy your delicious dessert! \n",
      "[/INST]:                                                 \n"
     ]
    }
   ],
   "source": [
    "model.eval()\n",
    "\n",
    "# inputs = tokenizer(prompt, return_tensors=\"pt\")\n",
    "# outputs = model.generate(input_ids=inputs[\"input_ids\"].to(\"cuda\"), max_new_tokens=280)\n",
    "# print(tokenizer.batch_decode(outputs)[0])\n",
    "\n",
    "\n",
    "# Tokenize the input text using the GPT-2 tokenizer\n",
    "inputs = tokenizer(prompt, return_tensors=\"pt\", padding=\"max_length\", max_length=512, truncation=True).to(device)\n",
    "\n",
    "# Generate the output using the GPT-2 model\n",
    "outputs = model.generate(\n",
    "    input_ids=inputs[\"input_ids\"],\n",
    "    attention_mask=inputs[\"attention_mask\"],\n",
    "    max_new_tokens=50  # Specify how many new tokens to generate beyond the input\n",
    ")\n",
    "\n",
    "# Decode the generated output back to a readable string, removing any special tokens\n",
    "print(tokenizer.decode(outputs[0], skip_special_tokens=True))"
   ]
  },
  {
   "cell_type": "code",
   "execution_count": 26,
   "metadata": {},
   "outputs": [
    {
     "name": "stderr",
     "output_type": "stream",
     "text": [
      "Setting `pad_token_id` to `eos_token_id`:None for open-end generation.\n"
     ]
    },
    {
     "name": "stdout",
     "output_type": "stream",
     "text": [
      "[INST] Can you give me the recipe to make a chocolate cake? \n",
      "Can you give me the recipe to make an benedict eggs? \n",
      "[/INST]: \n",
      " and the first-1, the first-1, the first-1, the first-1, the first-in, the first-in, the first-in\n"
     ]
    }
   ],
   "source": [
    "comment = \"Can you give me the recipe to make an benedict eggs?\"\n",
    "prompt = prompt_template(comment)\n",
    "\n",
    "model.eval()\n",
    "# inputs = tokenizer(prompt, return_tensors=\"pt\")\n",
    "\n",
    "# outputs = model.generate(input_ids=inputs[\"input_ids\"].to(\"cuda\"), max_new_tokens=280)\n",
    "# print(tokenizer.batch_decode(outputs)[0])\n",
    "\n",
    "\n",
    "inputs = tokenizer(prompt, return_tensors=\"pt\", padding=\"max_length\", max_length=512, truncation=True).to(device)\n",
    "outputs = model.generate(\n",
    "    input_ids=inputs[\"input_ids\"],\n",
    "    attention_mask=inputs[\"attention_mask\"],\n",
    "    max_new_tokens=50  # Specify how many new tokens to generate beyond the input\n",
    ")\n",
    "\n",
    "print(tokenizer.decode(outputs[0], skip_special_tokens=True))"
   ]
  }
 ],
 "metadata": {
  "kernelspec": {
   "display_name": "myenv",
   "language": "python",
   "name": "python3"
  },
  "language_info": {
   "codemirror_mode": {
    "name": "ipython",
    "version": 3
   },
   "file_extension": ".py",
   "mimetype": "text/x-python",
   "name": "python",
   "nbconvert_exporter": "python",
   "pygments_lexer": "ipython3",
   "version": "3.9.13"
  }
 },
 "nbformat": 4,
 "nbformat_minor": 2
}

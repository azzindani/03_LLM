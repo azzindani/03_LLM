{
  "cells": [
    {
      "cell_type": "markdown",
      "metadata": {
        "id": "S53iOvd3OAYi"
      },
      "source": [
        "## Import Modules"
      ]
    },
    {
      "cell_type": "code",
      "execution_count": 1,
      "metadata": {
        "id": "Oo12ksslNojR"
      },
      "outputs": [
        {
          "name": "stderr",
          "output_type": "stream",
          "text": [
            "d:\\Python\\LLM_Environment\\myenv\\lib\\site-packages\\tqdm\\auto.py:21: TqdmWarning: IProgress not found. Please update jupyter and ipywidgets. See https://ipywidgets.readthedocs.io/en/stable/user_install.html\n",
            "  from .autonotebook import tqdm as notebook_tqdm\n"
          ]
        },
        {
          "name": "stdout",
          "output_type": "stream",
          "text": [
            "WARNING:tensorflow:From d:\\Python\\LLM_Environment\\myenv\\lib\\site-packages\\tf_keras\\src\\losses.py:2976: The name tf.losses.sparse_softmax_cross_entropy is deprecated. Please use tf.compat.v1.losses.sparse_softmax_cross_entropy instead.\n",
            "\n",
            "GPU is available!\n"
          ]
        }
      ],
      "source": [
        "import os\n",
        "import pandas as pd\n",
        "import pathlib\n",
        "import json\n",
        "import numpy as np\n",
        "import json\n",
        "import struct\n",
        "import subprocess\n",
        "import torch\n",
        "import re\n",
        "import unicodedata\n",
        "import nltk\n",
        "import spacy\n",
        "\n",
        "from datasets import load_dataset\n",
        "from datasets import Dataset\n",
        "\n",
        "from transformers import (\n",
        "    AutoTokenizer,\n",
        "    AutoModelForCausalLM,\n",
        "    AutoModel,\n",
        "    AutoModelForSequenceClassification,\n",
        "    DataCollatorForLanguageModeling,\n",
        "    Trainer,\n",
        "    TrainingArguments,\n",
        "    pipeline,\n",
        "    TextDataset,\n",
        "    EvalPrediction,\n",
        "    DataCollatorWithPadding,\n",
        "    GenerationConfig,\n",
        "    BitsAndBytesConfig,\n",
        "    MarianMTModel,\n",
        "    MarianTokenizer,\n",
        "    T5Tokenizer,\n",
        "    T5ForConditionalGeneration\n",
        ")\n",
        "\n",
        "from nltk.corpus import stopwords\n",
        "from contractions import fix\n",
        "from nltk.stem import WordNetLemmatizer\n",
        "from nltk.corpus import wordnet\n",
        "from textblob import TextBlob\n",
        "from spellchecker import SpellChecker\n",
        "\n",
        "if torch.cuda.is_available():\n",
        "    print(\"GPU is available!\")\n",
        "else:\n",
        "    print(\"GPU is not available.\")"
      ]
    },
    {
      "cell_type": "code",
      "execution_count": 2,
      "metadata": {},
      "outputs": [
        {
          "data": {
            "text/plain": [
              "device(type='cuda')"
            ]
          },
          "execution_count": 2,
          "metadata": {},
          "output_type": "execute_result"
        }
      ],
      "source": [
        "device = torch.device(\"cuda\" if torch.cuda.is_available() else \"cpu\")\n",
        "device"
      ]
    },
    {
      "cell_type": "code",
      "execution_count": 3,
      "metadata": {},
      "outputs": [],
      "source": [
        "MAIN_PATH = str(pathlib.Path().resolve())\n",
        "DATASET_PATH = MAIN_PATH + '\\\\datasets'\n",
        "MODEL_PATH = MAIN_PATH + '\\\\models'\n",
        "MODELS = 'D:\\\\AI\\\\LLM\\\\models'"
      ]
    },
    {
      "cell_type": "markdown",
      "metadata": {},
      "source": [
        "## Set Up Model Path"
      ]
    },
    {
      "cell_type": "code",
      "execution_count": 4,
      "metadata": {},
      "outputs": [
        {
          "data": {
            "text/plain": [
              "['bart-large-cnn',\n",
              " 'bert-base-cased',\n",
              " 'bert-base-multilingual-cased',\n",
              " 'bert-base-uncased',\n",
              " 'bert-large-cased',\n",
              " 'bert-large-uncased',\n",
              " 'flan-t5-base',\n",
              " 'flan-t5-large',\n",
              " 'flan-t5-small',\n",
              " 'gpt2',\n",
              " 'gpt2-large',\n",
              " 'gpt2-medium',\n",
              " 'opus-mt-en-id',\n",
              " 'opus-mt-id-en',\n",
              " 't5-base',\n",
              " 't5-large']"
            ]
          },
          "execution_count": 4,
          "metadata": {},
          "output_type": "execute_result"
        }
      ],
      "source": [
        "models = os.listdir(MODEL_PATH)\n",
        "models"
      ]
    },
    {
      "cell_type": "markdown",
      "metadata": {
        "id": "Skn_3steOnNB"
      },
      "source": [
        "## Select Dataset"
      ]
    },
    {
      "cell_type": "code",
      "execution_count": 5,
      "metadata": {
        "colab": {
          "base_uri": "https://localhost:8080/"
        },
        "id": "rrp6do78OquB",
        "outputId": "ec5542a0-5d03-48ea-b518-0a089cdf14c3"
      },
      "outputs": [
        {
          "name": "stdout",
          "output_type": "stream",
          "text": [
            "D:\\Python\\LLM_Environment\\datasets/Australian_Legal_Corpus.jsonl\n",
            "D:\\Python\\LLM_Environment\\datasets/cached_lm_GPT2Tokenizer_128_Shakespeare_Dataset.txt\n",
            "D:\\Python\\LLM_Environment\\datasets/Customer.csv\n",
            "D:\\Python\\LLM_Environment\\datasets/Html.csv\n",
            "D:\\Python\\LLM_Environment\\datasets/Hukum_Online_Klinik.xlsx\n",
            "D:\\Python\\LLM_Environment\\datasets/Recipes.csv\n",
            "D:\\Python\\LLM_Environment\\datasets/Recipes_1000.csv\n",
            "D:\\Python\\LLM_Environment\\datasets/Shakespeare_Dataset.txt\n",
            "D:\\Python\\LLM_Environment\\datasets/Taylor_Swift_Lyrics.csv\n",
            "D:\\Python\\LLM_Environment\\datasets/Twitter.csv\n"
          ]
        }
      ],
      "source": [
        "counter = 0\n",
        "n = 20\n",
        "\n",
        "path_list = []\n",
        "\n",
        "for dirpath, dirnames, filenames in os.walk(DATASET_PATH):\n",
        "    for filename in filenames:\n",
        "        print(dirpath + '/' + filename)\n",
        "        path_list.append(dirpath + '/' + filename)\n",
        "    counter += 1\n",
        "    if counter >= n:\n",
        "        break"
      ]
    },
    {
      "cell_type": "code",
      "execution_count": 6,
      "metadata": {
        "colab": {
          "base_uri": "https://localhost:8080/",
          "height": 36
        },
        "id": "enaptdsJOsfp",
        "outputId": "efd73416-d7d9-4d8e-cb93-592b1c15b0e1"
      },
      "outputs": [
        {
          "data": {
            "text/plain": [
              "'D:\\\\Python\\\\LLM_Environment\\\\datasets\\\\Hukum_Online_Klinik.xlsx'"
            ]
          },
          "execution_count": 6,
          "metadata": {},
          "output_type": "execute_result"
        }
      ],
      "source": [
        "file_format = '.xlsx'\n",
        "\n",
        "file_paths = []\n",
        "\n",
        "for root, dirs, files in os.walk(DATASET_PATH):\n",
        "    for file in files:\n",
        "        if file.endswith(file_format):\n",
        "            file_paths.append(os.path.join(root, file))\n",
        "        if len(file_paths) >= n:\n",
        "            break\n",
        "    if len(file_paths) >= n:\n",
        "        break\n",
        "file_paths[0]"
      ]
    },
    {
      "cell_type": "code",
      "execution_count": 7,
      "metadata": {
        "colab": {
          "base_uri": "https://localhost:8080/",
          "height": 36
        },
        "id": "xUiT2aD2PfeR",
        "outputId": "409dcbab-9a7f-46d6-d319-e50289a5d48a"
      },
      "outputs": [
        {
          "data": {
            "text/plain": [
              "'D:\\\\Python\\\\LLM_Environment\\\\datasets\\\\Hukum_Online_Klinik.xlsx'"
            ]
          },
          "execution_count": 7,
          "metadata": {},
          "output_type": "execute_result"
        }
      ],
      "source": [
        "file_path = file_paths[0]\n",
        "file_path"
      ]
    },
    {
      "cell_type": "markdown",
      "metadata": {
        "id": "lz6tGJioPD6b"
      },
      "source": [
        "## Read Dataset"
      ]
    },
    {
      "cell_type": "markdown",
      "metadata": {
        "id": "ksGPhfsJPFqz"
      },
      "source": [
        "### Read as CSV"
      ]
    },
    {
      "cell_type": "code",
      "execution_count": 8,
      "metadata": {
        "colab": {
          "base_uri": "https://localhost:8080/",
          "height": 293
        },
        "id": "T-7IIyVtPHgy",
        "outputId": "04fcaf68-951d-4c28-b1fa-da00734ae8aa"
      },
      "outputs": [],
      "source": [
        "try:\n",
        "    df = pd.read_csv(file_path, encoding = 'ISO-8859-1')#, sep = ';')\n",
        "    print(\"DataFrame shape:\", df.shape)\n",
        "    display(df.head())\n",
        "except:\n",
        "    pass"
      ]
    },
    {
      "cell_type": "markdown",
      "metadata": {
        "id": "Pi0mHuLmPIWE"
      },
      "source": [
        "### Read as Excel"
      ]
    },
    {
      "cell_type": "code",
      "execution_count": 9,
      "metadata": {
        "id": "tKPi-pNoPKfj"
      },
      "outputs": [
        {
          "name": "stdout",
          "output_type": "stream",
          "text": [
            "DataFrame shape: (8371, 5)\n"
          ]
        },
        {
          "data": {
            "text/html": [
              "<div>\n",
              "<style scoped>\n",
              "    .dataframe tbody tr th:only-of-type {\n",
              "        vertical-align: middle;\n",
              "    }\n",
              "\n",
              "    .dataframe tbody tr th {\n",
              "        vertical-align: top;\n",
              "    }\n",
              "\n",
              "    .dataframe thead th {\n",
              "        text-align: right;\n",
              "    }\n",
              "</style>\n",
              "<table border=\"1\" class=\"dataframe\">\n",
              "  <thead>\n",
              "    <tr style=\"text-align: right;\">\n",
              "      <th></th>\n",
              "      <th>Title</th>\n",
              "      <th>Link</th>\n",
              "      <th>Question</th>\n",
              "      <th>Summary</th>\n",
              "      <th>Answer</th>\n",
              "    </tr>\n",
              "  </thead>\n",
              "  <tbody>\n",
              "    <tr>\n",
              "      <th>0</th>\n",
              "      <td>PengertianOvermachtdanUltimum Remediumdalam Hu...</td>\n",
              "      <td>https://www.hukumonline.com/klinik/a/pengertia...</td>\n",
              "      <td>Bagaimana ketentuanovermachtdalam hukum pidana...</td>\n",
              "      <td>Daya paksa atauovermachtdalam hukum pidana mer...</td>\n",
              "      <td>KLINIK TERKAITDaya Paksa dan Pembelaan Terpaks...</td>\n",
              "    </tr>\n",
              "    <tr>\n",
              "      <th>1</th>\n",
              "      <td>Ini 6 Perbedaan CV dan PT yang Wajib Diketahui</td>\n",
              "      <td>https://www.hukumonline.com/klinik/a/perbedaan...</td>\n",
              "      <td>Saya punya tiga pertanyaan. Apa perbedaan PT d...</td>\n",
              "      <td>PT adalah singkatan dari perseroan terbatas ya...</td>\n",
              "      <td>Terima kasih atas pertanyaan Anda.Artikel di b...</td>\n",
              "    </tr>\n",
              "    <tr>\n",
              "      <th>2</th>\n",
              "      <td>KDRT Hingga Meninggal, Penganiayaan atau Pembu...</td>\n",
              "      <td>https://www.hukumonline.com/klinik/a/kdrt-hing...</td>\n",
              "      <td>Belakangan ini, viral kasus seorang suami di S...</td>\n",
              "      <td>Pasal KDRT atau kekerasan dalam rumah tangga y...</td>\n",
              "      <td>Terima kasih atas pertanyaan Anda.Artikel di b...</td>\n",
              "    </tr>\n",
              "    <tr>\n",
              "      <th>3</th>\n",
              "      <td>7 Cara Memperoleh Wilayah dalam Hukum Internas...</td>\n",
              "      <td>https://www.hukumonline.com/klinik/a/7-cara-me...</td>\n",
              "      <td>Konflik Palestina-Israel masih berlarut-larut ...</td>\n",
              "      <td>Pada dasarnya, terdapat 7 cara memperoleh wila...</td>\n",
              "      <td>Terima kasih atas pertanyaan Anda.Seluruh info...</td>\n",
              "    </tr>\n",
              "    <tr>\n",
              "      <th>4</th>\n",
              "      <td>Pacar Tidak Mau Bertanggung Jawab, Kapan Maksi...</td>\n",
              "      <td>https://www.hukumonline.com/klinik/a/pacar-tid...</td>\n",
              "      <td>Saya ingin menanyakan bila laki-laki dan perem...</td>\n",
              "      <td>Jika terjadi persetubuhan antara sepasang keka...</td>\n",
              "      <td>Terima kasih atas pertanyaan Anda.Artikel di b...</td>\n",
              "    </tr>\n",
              "  </tbody>\n",
              "</table>\n",
              "</div>"
            ],
            "text/plain": [
              "                                               Title  \\\n",
              "0  PengertianOvermachtdanUltimum Remediumdalam Hu...   \n",
              "1     Ini 6 Perbedaan CV dan PT yang Wajib Diketahui   \n",
              "2  KDRT Hingga Meninggal, Penganiayaan atau Pembu...   \n",
              "3  7 Cara Memperoleh Wilayah dalam Hukum Internas...   \n",
              "4  Pacar Tidak Mau Bertanggung Jawab, Kapan Maksi...   \n",
              "\n",
              "                                                Link  \\\n",
              "0  https://www.hukumonline.com/klinik/a/pengertia...   \n",
              "1  https://www.hukumonline.com/klinik/a/perbedaan...   \n",
              "2  https://www.hukumonline.com/klinik/a/kdrt-hing...   \n",
              "3  https://www.hukumonline.com/klinik/a/7-cara-me...   \n",
              "4  https://www.hukumonline.com/klinik/a/pacar-tid...   \n",
              "\n",
              "                                            Question  \\\n",
              "0  Bagaimana ketentuanovermachtdalam hukum pidana...   \n",
              "1  Saya punya tiga pertanyaan. Apa perbedaan PT d...   \n",
              "2  Belakangan ini, viral kasus seorang suami di S...   \n",
              "3  Konflik Palestina-Israel masih berlarut-larut ...   \n",
              "4  Saya ingin menanyakan bila laki-laki dan perem...   \n",
              "\n",
              "                                             Summary  \\\n",
              "0  Daya paksa atauovermachtdalam hukum pidana mer...   \n",
              "1  PT adalah singkatan dari perseroan terbatas ya...   \n",
              "2  Pasal KDRT atau kekerasan dalam rumah tangga y...   \n",
              "3  Pada dasarnya, terdapat 7 cara memperoleh wila...   \n",
              "4  Jika terjadi persetubuhan antara sepasang keka...   \n",
              "\n",
              "                                              Answer  \n",
              "0  KLINIK TERKAITDaya Paksa dan Pembelaan Terpaks...  \n",
              "1  Terima kasih atas pertanyaan Anda.Artikel di b...  \n",
              "2  Terima kasih atas pertanyaan Anda.Artikel di b...  \n",
              "3  Terima kasih atas pertanyaan Anda.Seluruh info...  \n",
              "4  Terima kasih atas pertanyaan Anda.Artikel di b...  "
            ]
          },
          "metadata": {},
          "output_type": "display_data"
        }
      ],
      "source": [
        "try:\n",
        "    df = pd.read_excel(file_path)\n",
        "    print(\"DataFrame shape:\", df.shape)\n",
        "    display(df.head())\n",
        "except:\n",
        "    pass"
      ]
    },
    {
      "cell_type": "markdown",
      "metadata": {
        "id": "Fh07w4qkPMKr"
      },
      "source": [
        "### Read as JSON"
      ]
    },
    {
      "cell_type": "code",
      "execution_count": 10,
      "metadata": {
        "id": "uZf5VhsZPOSa"
      },
      "outputs": [],
      "source": [
        "counter = 0\n",
        "row = 20\n",
        "\n",
        "try:\n",
        "    with open(file_path, 'r') as file:\n",
        "        for line in file:\n",
        "            data = json.loads(line)\n",
        "            print(data)\n",
        "            counter += 1\n",
        "\n",
        "            if counter >= row:\n",
        "                break\n",
        "except:\n",
        "    pass"
      ]
    },
    {
      "cell_type": "code",
      "execution_count": 11,
      "metadata": {
        "id": "bB3AtQkZPSWb"
      },
      "outputs": [],
      "source": [
        "n = 50\n",
        "chunk_size = 1000\n",
        "total_rows_processed = 0\n",
        "\n",
        "data_frames = []\n",
        "\n",
        "try:\n",
        "    with open(file_path, 'r') as file:\n",
        "        counter = 0\n",
        "\n",
        "        while counter < n:\n",
        "            data_list = []\n",
        "\n",
        "            for _ in range(chunk_size):\n",
        "                line = file.readline()\n",
        "                if not line:\n",
        "                    break\n",
        "\n",
        "                data = json.loads(line)\n",
        "                data_list.append(data)\n",
        "\n",
        "            if data_list:\n",
        "                df_chunk = pd.DataFrame(data_list)\n",
        "                data_frames.append(df_chunk)\n",
        "\n",
        "                print(f'Processed chunk with {len(df_chunk)} rows.')\n",
        "                total_rows_processed += len(df_chunk)\n",
        "                counter += 1\n",
        "\n",
        "            else:\n",
        "                break\n",
        "\n",
        "    print(f'Total rows processed: {total_rows_processed}')\n",
        "\n",
        "    # (Optional) Concatenate all DataFrames if needed\n",
        "    if data_frames:  # Check if there are any DataFrames to concatenate\n",
        "        df = pd.concat(data_frames, ignore_index = True)\n",
        "        print('Concatenated DataFrame shape:', df.shape)\n",
        "        display(df.head())\n",
        "except:\n",
        "    pass"
      ]
    },
    {
      "cell_type": "markdown",
      "metadata": {
        "id": "rSPwKZdzPYZ8"
      },
      "source": [
        "### Read as Parquet"
      ]
    },
    {
      "cell_type": "code",
      "execution_count": 12,
      "metadata": {
        "id": "MpWuA23lPbdA"
      },
      "outputs": [],
      "source": [
        "try:\n",
        "    df = pd.read_parquet(file_path)\n",
        "    print(\"DataFrame shape:\", df.shape)\n",
        "    display(df.head())\n",
        "except:\n",
        "    pass"
      ]
    },
    {
      "cell_type": "markdown",
      "metadata": {
        "id": "dF9bTQT4Qqcr"
      },
      "source": [
        "## 04. Translation"
      ]
    },
    {
      "cell_type": "code",
      "execution_count": 13,
      "metadata": {
        "colab": {
          "base_uri": "https://localhost:8080/"
        },
        "id": "iGQOcK6vasEa",
        "outputId": "0487951f-144e-4b34-8c8a-efd5cbbf5ac9"
      },
      "outputs": [
        {
          "data": {
            "text/plain": [
              "(10, 5)"
            ]
          },
          "execution_count": 13,
          "metadata": {},
          "output_type": "execute_result"
        }
      ],
      "source": [
        "dfa = df.iloc[:10]\n",
        "dfa.shape"
      ]
    },
    {
      "cell_type": "code",
      "execution_count": 14,
      "metadata": {},
      "outputs": [
        {
          "data": {
            "text/plain": [
              "['bart-large-cnn',\n",
              " 'bert-base-cased',\n",
              " 'bert-base-multilingual-cased',\n",
              " 'bert-base-uncased',\n",
              " 'bert-large-cased',\n",
              " 'bert-large-uncased',\n",
              " 'flan-t5-base',\n",
              " 'flan-t5-large',\n",
              " 'flan-t5-small',\n",
              " 'gpt2',\n",
              " 'gpt2-large',\n",
              " 'gpt2-medium',\n",
              " 'opus-mt-en-id',\n",
              " 'opus-mt-id-en',\n",
              " 't5-base',\n",
              " 't5-large']"
            ]
          },
          "execution_count": 14,
          "metadata": {},
          "output_type": "execute_result"
        }
      ],
      "source": [
        "models"
      ]
    },
    {
      "cell_type": "code",
      "execution_count": 15,
      "metadata": {},
      "outputs": [
        {
          "data": {
            "text/plain": [
              "'D:\\\\Python\\\\LLM_Environment\\\\models\\\\flan-t5-small'"
            ]
          },
          "execution_count": 15,
          "metadata": {},
          "output_type": "execute_result"
        }
      ],
      "source": [
        "model_path = MODEL_PATH + '\\\\' + models[8]\n",
        "model_path"
      ]
    },
    {
      "cell_type": "code",
      "execution_count": 16,
      "metadata": {},
      "outputs": [
        {
          "name": "stderr",
          "output_type": "stream",
          "text": [
            "You are using the default legacy behaviour of the <class 'transformers.models.t5.tokenization_t5.T5Tokenizer'>. This is expected, and simply means that the `legacy` (previous) behavior will be used so nothing changes for you. If you want to use the new behaviour, set `legacy=False`. This should only be set if you understand what it means, and thoroughly read the reason why this was added as explained in https://github.com/huggingface/transformers/pull/24565\n"
          ]
        }
      ],
      "source": [
        "model = T5ForConditionalGeneration.from_pretrained(model_path, torch_dtype = torch.float16).to('cuda')\n",
        "tokenizer = T5Tokenizer.from_pretrained(model_path)"
      ]
    },
    {
      "cell_type": "markdown",
      "metadata": {},
      "source": [
        "### Count Token Length"
      ]
    },
    {
      "cell_type": "code",
      "execution_count": 17,
      "metadata": {},
      "outputs": [
        {
          "name": "stderr",
          "output_type": "stream",
          "text": [
            "C:\\Users\\422in\\AppData\\Local\\Temp\\ipykernel_52124\\4293223326.py:1: FutureWarning: Series.__getitem__ treating keys as positions is deprecated. In a future version, integer keys will always be treated as labels (consistent with DataFrame behavior). To access a value by position, use `ser.iloc[pos]`\n",
            "  text = dfa.iloc[0][4]\n"
          ]
        },
        {
          "data": {
            "text/plain": [
              "'KLINIK TERKAITDaya Paksa dan Pembelaan Terpaksa sebagai Alasan Penghapus Pidana11 Jan, 2023Arti Ultimum Remedium sebagai Sanksi Pamungkas15 Jul, 2022Litigasi dan Alternatif Penyelesaian Sengketa di Luar Pengadilan10 Jul, 2020Bisakah Dipidana Karena Menembak Anjing yang Menyerang Orang Lain?22 Okt, 2012Terima kasih atas pertanyaan Anda.Artikel di bawah ini adalah pemutakhiran dari artikel dengan judulTentang\\xa0Overmacht\\xa0dan Hukum Pidana sebagai\\xa0Ultimum Remediumyang dibuat olehAnandito Utomo, S.H.dan dipublikasikan pada 19 Agustus 2016.Belajar Hukum Secara Online dari Pengajar Berkompeten Dengan Biaya TerjangkauMulai DariRp. 149.000Lihat Semua KelasArtikel ini dibuat berdasarkan KUHP lama dan UU 1/2023 tentang KUHP yang diundangkan pada tanggal 2 Januari 2023.Seluruh informasi hukum yang ada di Klinik hukumonline.com disiapkan semata – mata untuk tujuan pendidikan dan bersifat umum (lihatPernyataan Penyangkalanselengkapnya). Untuk mendapatkan nasihat hukum spesifik terhadap kasus Anda, konsultasikan langsung denganKonsultan Mitra Justika.PengertianOvermachtSebelum menjawab pertanyaan Anda tentang bagaimana ketentuanovermachtdalam hukum pidana, sebaiknya kita pahami terlebih dahulu pengertianovermacht.Alfitradalam bukunyaHapusnya Hak Menuntut dan Menjalankan Pidana(hal.63) menjelaskan bahwa dalamMemorie van Toelichting(“WvT”),daya paksa(overmacht)dijelaskan sebagai setiap kekuatan, dorongan, dan paksaan yang tidak dapat dilawan. Frasadorongan(gedrongen)merujuk pada tekanan psikis, sedangkanpaksaan(dwang)merujuk pada tekanan fisik.\\xa0 Adapun,overmachtdapat menjadi dasar peniadaan pidana.Sedangkan menurutFitri Wahyunidalam bukunyaDasar-dasar Hukum Pidana di Indonesia(hal. 76),overmachtadalahdaya paksa relatif(vis compulsive)sepertikeadaan darurat. Dalam MvT, daya paksa dilukiskan sebagai kekuatan dan setiap daya paksa orang berada dalamdwangpositie (posisi terjepit). Daya paksa ini merupakan daya paksa psikis yang berasal dari luar dari si pelaku dan daya paksa tersebut lebih kuat dari padanya.KetentuanOvermachtdalam KUHPKemudian,overmachtatau daya paksa diatur dalamPasal 48KUHPlama yang masih berlaku saat artikel ini diterbitkan, sebagai berikut:Barang siapa melakukan perbuatan karena pengaruh daya paksa, tidak dipidana.Sepanjang penelusuran kami, dalam KUHPtidak dijelaskan apa yang dimaksud dengan daya paksa. Namun, untuk mengetahui batasan ruang lingkup berlakunyaovermacht,R. Sugandhidalam bukunya yang berjudulKitab Undang-Undang Hukum Pidana Berikut Penjelasannyamengatakan bahwa kalimat “karena pengaruh daya paksa” harus diartikan, baik pengaruh daya paksaan batin, maupun lahir, rohani, maupun jasmani. Daya paksa yang tidak dapat dilawan adalah kekuatan yang lebih besar, yaknikekuasaan yang pada umumnya tidak mungkin dapat ditentang.Mengenai kekuasaan ini dapat dibedakan dalam 3 macam, yaitu:Kekuasaan yang Bersifat MutlakKekuasaan yang bersifat mutlak berartiorang itu tidak dapat berbuat lain.\\xa0Ia mengalami sesuatu yang sama sekali tidak dapat dielakkan. Misalnya, seseorang yang dipegang kemudian dilemparkan orang yang lebih kuat ke jendela kaca sehingga kacanya pecah dan mengakibatkan kejahatan merusak barang orang lain. Dalam peristiwa ini orang yang tenaganya lemah itu tidak dapat dihukum karena yang melakukan ialah orang yang lebih kuat.[1]Kekuasaan yang Bersifat RelatifKekuasaan atau kekuatan yang memaksa orang itu tidak mutlak, tidak penuh.Orang yang dipaksa itu masih punya kesempatan untuk memilih mana yang akan dilakukan.\\xa0Perbedaan kekuasaan yang bersifat mutlak dan yang bersifat relatif ialah bahwa pada yang mutlak, dalam segala sesuatunya orang yang memaksa itu sendirilah yang berbuat semaunya. Sedangkan pada yang relatif, orang yang dipaksa itulah yang melakukan karena dalam paksaan kekuatan.[2]Misalnya A ditodong dengan pistol oleh B, disuruh membakar rumah. Apabila A tidak segera membakar rumah itu, maka pistol yang ditodongkan kepadanya tersebut akan ditembakkan. Dalam pikiran, memang mungkin A menolak perintah itu sehingga ia ditembak mati. Akan tetapi apabila ia menuruti perintah itu, ia akan melakukan tindak pidana kejahatan.\\xa0Walaupun demikian, ia tidak dapat dihukum karena adanya paksaan tersebut.[3]Kekuasaan yang Merupakan suatu Keadaan DaruratPada keadaan darurat,orang yang terpaksa itu sendirilah yang memilih peristiwa pidana mana yang akan ia lakukan. Bedanya dengan kekuasaan yang bersifat relatif, orang itu tidak memilih, sebab orang yang mengambil prakarsa ialah orang yang memaksa.[4]Contohnya, terjadi kecelakaan kapal yaitu kapal meledak dengan mendadak, sehingga penumpangnya masing-masing harus menolong dirinya sendiri. Seorang penumpang beruntung dapat mengapung dengan sebuah papan kayu yang hanya dapat menampung seorang saja. Kemudian datang penumpang lain yang juga ingin menyelamatkan dirinya. Padanya tiada sebuah alat pun yang dapat dipakai untuk menyelamatkan diri. Ia lalu meraih papan kayu yang telah dipakai untuk mengapung oleh orang yang terdahulu dari dia. Orang yang terdahulu itu lalu mendorong orang tersebut hingga tenggelam dan mati. Karena dalam keadaan darurat, maka orang itu tidak dapat dihukum.Penjelasan selengkapnya dapat Anda baca dalam artikelDaya Paksa dan Pembelaan Terpaksa sebagai Alasan Penghapus Pidana.Overmacht= Alasan Pemaaf atau Alasan Pembenar?Kemudian, menurutFitri Wahyuni,tidak ada kesatuan pendapat di antara para ahli hukum pidana untuk menggolongkan daya paksa apakah sebagai alasan pembenar ataukah alasan pemaaf. Adapun beberapa postulat terkait daya paksa tersebut adalah:[5]Quod alias non fuit licitum necessitas licitum facit. Artinya keadaan terpaksa memperbolehkan apa yang tadinya dilarang oleh hukum.In casu extremae necessitates omnia sunt communia. Artinya keadaan terpaksa, tindakan yang diambil dipandang perlu.Necessitas quod cogit defendit. Artinya keadaan terpaksa melindungi apa yang harus diperbuat.Necessitas sub lege non non continetur, quia quod alias non est licitum necessitas facit licitum. Artinya keadaan terpaksa tidak ditahan oleh hukum, perbuatan yang dilarang oleh hukum, namun dilakukan dalam keadaaan terpaksa maka perbuatan tersebut dianggap sah.Sebagaimana kami sampaikan, penyebab seseorang tidak dapat dipidana dikelompokan menjadi dua yaitu dasar pemaaf(schulduitsluitings-gronderi)dan dasar pembenar(rechtvaardingingsgronderi). Dalam hal ini,Alfitramenggolongkanovermachtsebagai alasan pembenar dalam hukum pidana(hal. 54).Alasan pemaafbersifat subjektif dan melekat pada diri orang tersebut, dan ditentukan berdasarkan sikap batin orang tersebut pada saat sebelum atau akan melakukan suatu tindak pidana. Berikut yang dapat dikategorikan sebagai alasan pemaaf:[6]tidak mampu bertanggung jawab, misalnya ketika pelaku memiliki kondisi kejiwaan yang abnormal;pembelaan terpaksa yang melampaui batas;menjalankan perintah jabatan yang tidak sah namun dengan iktikad baik.Sedangkanalasan pembenarmerupakan sifat objektif yang berasal dari faktor eksternal atau diluar suasana batin seseorang. Berikut yang termasuk alasan pembenar:[7]daya paksa;pembelaan terpaksa;menjalankan perintah undang-undang;menjalankan perintah jabatan yang sah.Berbeda dengan pendapat sebelumnya,MoeljatnodanVan Hattummemandangdaya memaksa itu sebagai alasan pemaaf. Van Hattum mengatakan bahwa perbuatan yang terpaksa dilakukan karena keadaan, patut dimaafkan. Demikian halnya dengan seorang sopir taksi yang takut kehilangan nyawanya, karena ditodong oleh orang yang berpistol di belakangnya, melanggar undang-undang (mengendarai mobil dengan kecepatan yang melebihi batas maksimal). Perbuatan sopir itu melawan hukum, tetapi patut untuk dimaafkan karena padanya tidak dapat diharapkan untuk mempertaruhkan nyawanya.[8]Sehingga, pada intinya, di antara para penulis tidak ada kesatuan pendapat apakah daya memaksa dalam Pasal 48 KUHP itu adalah alasan pembenar atau alasan pemaaf.[9]KetentuanOvermachtdalam UU 1/2023Selanjutnya, dalamUU 1/2023tentang KUHP baru yang berlaku 3 tahun sejak tanggal diundangkan,[10]yaitu 2026,overmachtdiatur dalamPasal 42, sebagai berikut:Setiap Orang yang melakukan Tindak Pidana tidak dipidana karena:dipaksa oleh kekuatan yang tidak dapat ditahan; ataudipaksa oleh adanya ancaman, tekanan, atau kekuatan yang tidak dapat dihindariLebih lanjut, menurutPenjelasan Pasal 42 UU 1/2023, ketentuan ini berkenaan dengan daya paksa yang dibagi menjadipaksaan mutlakdanpaksaan relatif.Yang dimaksud dengan \"dipaksa oleh kekuatan yang tidak dapat ditahan\" ataupaksaan mutlakadalah keadaan yang menyebabkan pelaku tidak mempunyai pilihan lain, kecuali melakukan perbuatan tersebut. Karena keadaan yang ada pada diri pelaku maka tidak mungkin baginya untuk menolak atau memilih ketika melakukan perbuatan tersebut.[11]Sedangkan \"dipaksa oleh adanya ancaman, tekanan, atau kekuatan yang tidak dapatdihindari\" ataupaksaan relatifadalah:[12]ancaman, tekanan, atau kekuatan tersebut menurut akal sehat tidak dapat diharapkan bahwa ia dapat mengadakan perlawanan; danapabila kepentingan yang dikorbankan seimbang atau sedikit lebih daripada kepentingan yang diselamatkan.Tekanan kejiwaan dari luar merupakan syarat utama. Mungkin pula seseorang mengalami tekanan kejiwaan, tetapi bukan karena sesuatu yang datang dari luar, melainkan karena keberatan yang didasarkan kepada pertimbangan pikirannya sendiri. Hal yang demikian tidak merupakan alasan pemaaf yang dapat menghapuskan pidananya.[13]Dengan demikian, dapat kami simpulkan bahwaovermachtadalah hal yang datangnya dari luar, mempengaruhi seseorang yang mengalaminya sehingga orang tersebut tidak memiliki opsi lain untuk membela dirinya. Keberadaan daya paksa menjadi penting karena dapat menentukan dan menjadi dasar peniadaan hukuman pidana.PengertianUltimum RemediumMenjawab pertanyaan Anda tentang apa yang dimaksud hukum pidana sebagaiultimum remedium,Sudikno Mertokusumodalam bukunyaPenemuan Hukum: Sebuah Pengantar(hal. 128) mengartikanultimum remediumadalah sebagaialat terakhir.Selain itu, ada pendapat yang mengatakan bahwaultimum remediumtidak hanya suatu istilah, tetapi juga merupakan suatuasas hukum. Sebagai contoh,Yasonna Laolydalam berita berjudulPerlu Penegasan NormaUltimum RemediumSoal Pengenaan Sanksi di Aturan Turunan UU Cipta Kerja(hal. 1) menerangkanultimum remediummerupakan asas hukum yang biasa dipakai dan diartikan sebagai penerapan sanksi pidana menjadi sanksi pamungkas (terakhir) dalam penegakan hukum.Ultimum remediumjuga dapat diartikan sebagai upaya terakhir penegakan hukum, apabila segala upaya seperti perdamaian telah ditempuh. Artinya perkara diutamakan untuk diselesaikan melalui jalur kekeluargaan terlebih dahulu.[14]Dengan demikian,ultimum remediumadalah salah satu asas dalam hukum pidana Indonesia yang mengatakan bahwa hukum pidana hendaklah dijadikan upaya terakhir penegakan hukum. Asasultimum remediumbermakna apabila suatu perkara dapat diselesaikan melalui jalur lain (kekeluargaan, negosiasi, mediasi, perdata, atau hukum administrasi) hendaklah jalur lain tersebut terlebih dahulu dilakukan.Baca juga:ArtiUltimum Remediumsebagai Sanksi PamungkasDemikian jawaban dari kami, semoga bermanfaat.Dasar Hukum:Kitab Undang-Undang Hukum Pidana;Undang-Undang Nomor 1 Tahun 2023 tentang Kitab Undang-Undang Hukum Pidana.Referensi:Alfitra.Hapusnya Hak Menuntut dan Menjalankan Pidana. Jakarta Timur: Penerbit Raih Asa Sukses, 2014;Fitri Wahyuni.Dasar-dasar Hukum Pidana di Indonesia. Tangerang Selatan: PT Nusantara Persada Utama, 2017.Sudikno Mertokusumo.Penemuan Hukum: Sebuah Pengantar. Yogyakarta: Liberty, 2006;Sudaryono dan Natangsa Surbakti. Hukum Pidana:Dasar-dasar Hukum Pidana berdasarkan KUHP dan RUU KUHP. Surakarta: Muhammadiyah University Press, 2017, hal. 245;R. Sugandhi.Kitab Undang-Undang Hukum Pidana Berikut Penjelasannya. Surabaya: Usaha Nasional, 1980;Mas Putra Zenno Januarsyah.Penerapan Prinsip Ultimum Remedium dalam Tindak Pidana Korupsi.Jurnal Yudisial, Vol. 10, No. 3, 2017[1]R. Sugandhi.Kitab Undang-Undang Hukum Pidana Berikut Penjelasannya. Surabaya: Usaha Nasional, 1980, hal. 54-55[2]R. Sugandhi.Kitab Undang-Undang Hukum Pidana Berikut Penjelasannya. Surabaya: Usaha Nasional, 1980, hal. 55[3]R. Sugandhi.Kitab Undang-Undang Hukum Pidana Berikut Penjelasannya. Surabaya: Usaha Nasional, 1980, hal. 55[4]R. Sugandhi.Kitab Undang-Undang Hukum Pidana Berikut Penjelasannya. Surabaya: Usaha Nasional, 1980, hal. 55[5]Fitri Wahyuni.Dasar-dasar Hukum Pidana di Indonesia. Tangerang Selatan: PT Nusantara Persada Utama, 2017, hal. 83[6]Alfitra.Hapusnya Hak Menuntut dan Menjalankan Pidana. Jakarta Timur: Penerbit Raih Asa Sukses, 2014, hal. 54[7]Alfitra.Hapusnya Hak Menuntut dan Menjalankan Pidana. Jakarta Timur: Penerbit Raih Asa Sukses, 2014, hal. 54[8]Sudaryono dan Natangsa Surbakti. Hukum Pidana:Dasar-dasar Hukum Pidana berdasarkan KUHP dan RUU KUHP. Surakarta: Muhammadiyah University Press, 2017, hal. 245[9]Sudaryono dan Natangsa Surbakti. Hukum Pidana:Dasar-dasar Hukum Pidana berdasarkan KUHP dan RUU KUHP. Surakarta: Muhammadiyah University Press, 2017, hal. 245[10]Pasal 624Undang-Undang Nomor 1 Tahun 2023 tentang Kitab Undang-Undang Hukum Pidana(“UU 1/2023”)[11]Penjelasan Pasal 42 huruf a UU 1/2023[12]Penjelasan Pasal 42 huruf b UU 1/2023[13]Penjelasan Pasal 42 huruf b UU 1/2023[14]Mas Putra Zenno Januarsyah.Penerapan Prinsip Ultimum Remedium dalam Tindak Pidana Korupsi.Jurnal Yudisial, Vol. 10, No. 3, 2017, hal. 257'"
            ]
          },
          "execution_count": 17,
          "metadata": {},
          "output_type": "execute_result"
        }
      ],
      "source": [
        "text = dfa.iloc[0][4]\n",
        "text"
      ]
    },
    {
      "cell_type": "code",
      "execution_count": 18,
      "metadata": {},
      "outputs": [
        {
          "name": "stderr",
          "output_type": "stream",
          "text": [
            "Token indices sequence length is longer than the specified maximum sequence length for this model (6648 > 512). Running this sequence through the model will result in indexing errors\n"
          ]
        },
        {
          "name": "stdout",
          "output_type": "stream",
          "text": [
            "Token length: 6648\n"
          ]
        }
      ],
      "source": [
        "def count_tokens(text):\n",
        "    tokens = tokenizer(text, return_tensors = \"pt\", truncation = False).to('cuda')\n",
        "    return len(tokens['input_ids'][0])\n",
        "\n",
        "token_length = count_tokens(text)\n",
        "print(f\"Token length: {token_length}\")"
      ]
    },
    {
      "cell_type": "markdown",
      "metadata": {},
      "source": [
        "### Clean Text"
      ]
    },
    {
      "cell_type": "code",
      "execution_count": 19,
      "metadata": {},
      "outputs": [
        {
          "name": "stdout",
          "output_type": "stream",
          "text": [
            "KLINIK TERKAITDaya Paksa dan Pembelaan Terpaksa sebagai Alasan Penghapus Pidana11 Jan, 2023 Arti Ultimum Remedium sebagai Sanksi Pamungkas15 Jul, 2022 Litigasi dan Alternatif Penyelesaian Sengketa di Luar Pengadilan10 Jul, 2020 Bisakah Dipidana Karena Menembak Anjing yang Menyerang Orang Lain?22 Okt, 2012 Terima kasih atas pertanyaan Anda. Artikel di bawah ini adalah pemutakhiran dari artikel dengan judul Tentang Overmacht dan Hukum Pidana sebagai Ultimum Remediumyang dibuat oleh Anandito Utomo, S. H. dan dipublikasikan pada 19 Agustus 2016. Belajar Hukum Secara Online dari Pengajar Berkompeten Dengan Biaya Terjangkau Mulai Dari Rp. 149. 000 Lihat Semua Kelas Artikel ini dibuat berdasarkan KUHP lama dan UU 1/2023 tentang KUHP yang diundangkan pada tanggal 2 Januari 2023. Seluruh informasi hukum yang ada di Klinik hukumonline. com disiapkan semata – mata untuk tujuan pendidikan dan bersifat umum (lihat Pernyataan Penyangkalanselengkapnya) . Untuk mendapatkan nasihat hukum spesifik terhadap kasus Anda, konsultasikan langsung dengan Konsultan Mitra Justika. Pengertian Overmacht Sebelum menjawab pertanyaan Anda tentang bagaimana ketentuanovermachtdalam hukum pidana, sebaiknya kita pahami terlebih dahulu pengertianovermacht. Alfitradalam bukunya Hapusnya Hak Menuntut dan Menjalankan Pidana (hal. 63) menjelaskan bahwa dalam Memorie van Toelichting (“Wv T”) , daya paksa (overmacht) dijelaskan sebagai setiap kekuatan, dorongan, dan paksaan yang tidak dapat dilawan. Frasadorongan (gedrongen) merujuk pada tekanan psikis, sedangkanpaksaan (dwang) merujuk pada tekanan fisik. Adapun, overmachtdapat menjadi dasar peniadaan pidana. Sedangkan menurut Fitri Wahyunidalam bukunya Dasar-dasar Hukum Pidana di Indonesia (hal. 76) , overmachtadalahdaya paksa relatif (vis compulsive) sepertikeadaan darurat. Dalam Mv T, daya paksa dilukiskan sebagai kekuatan dan setiap daya paksa orang berada dalamdwangpositie (posisi terjepit) . Daya paksa ini merupakan daya paksa psikis yang berasal dari luar dari si pelaku dan daya paksa tersebut lebih kuat dari padanya. Ketentuan Overmachtdalam KUHPKemudian, overmachtatau daya paksa diatur dalam Pasal 48 KUHPlama yang masih berlaku saat artikel ini diterbitkan, sebagai berikut: Barang siapa melakukan perbuatan karena pengaruh daya paksa, tidak dipidana. Sepanjang penelusuran kami, dalam KUHPtidak dijelaskan apa yang dimaksud dengan daya paksa. Namun, untuk mengetahui batasan ruang lingkup berlakunyaovermacht, R. Sugandhidalam bukunya yang berjudul Kitab Undang-Undang Hukum Pidana Berikut Penjelasannyamengatakan bahwa kalimat “karena pengaruh daya paksa” harus diartikan, baik pengaruh daya paksaan batin, maupun lahir, rohani, maupun jasmani. Daya paksa yang tidak dapat dilawan adalah kekuatan yang lebih besar, yaknikekuasaan yang pada umumnya tidak mungkin dapat ditentang. Mengenai kekuasaan ini dapat dibedakan dalam 3 macam, yaitu: Kekuasaan yang Bersifat Mutlak Kekuasaan yang bersifat mutlak berartiorang itu tidak dapat berbuat lain. Ia mengalami sesuatu yang sama sekali tidak dapat dielakkan. Misalnya, seseorang yang dipegang kemudian dilemparkan orang yang lebih kuat ke jendela kaca sehingga kacanya pecah dan mengakibatkan kejahatan merusak barang orang lain. Dalam peristiwa ini orang yang tenaganya lemah itu tidak dapat dihukum karena yang melakukan ialah orang yang lebih kuat. [1] Kekuasaan yang Bersifat Relatif Kekuasaan atau kekuatan yang memaksa orang itu tidak mutlak, tidak penuh. Orang yang dipaksa itu masih punya kesempatan untuk memilih mana yang akan dilakukan. Perbedaan kekuasaan yang bersifat mutlak dan yang bersifat relatif ialah bahwa pada yang mutlak, dalam segala sesuatunya orang yang memaksa itu sendirilah yang berbuat semaunya. Sedangkan pada yang relatif, orang yang dipaksa itulah yang melakukan karena dalam paksaan kekuatan. [2] Misalnya A ditodong dengan pistol oleh B, disuruh membakar rumah. Apabila A tidak segera membakar rumah itu, maka pistol yang ditodongkan kepadanya tersebut akan ditembakkan. Dalam pikiran, memang mungkin A menolak perintah itu sehingga ia ditembak mati. Akan tetapi apabila ia menuruti perintah itu, ia akan melakukan tindak pidana kejahatan. Walaupun demikian, ia tidak dapat dihukum karena adanya paksaan tersebut. [3] Kekuasaan yang Merupakan suatu Keadaan Darurat Pada keadaan darurat, orang yang terpaksa itu sendirilah yang memilih peristiwa pidana mana yang akan ia lakukan. Bedanya dengan kekuasaan yang bersifat relatif, orang itu tidak memilih, sebab orang yang mengambil prakarsa ialah orang yang memaksa. [4] Contohnya, terjadi kecelakaan kapal yaitu kapal meledak dengan mendadak, sehingga penumpangnya masing-masing harus menolong dirinya sendiri. Seorang penumpang beruntung dapat mengapung dengan sebuah papan kayu yang hanya dapat menampung seorang saja. Kemudian datang penumpang lain yang juga ingin menyelamatkan dirinya. Padanya tiada sebuah alat pun yang dapat dipakai untuk menyelamatkan diri. Ia lalu meraih papan kayu yang telah dipakai untuk mengapung oleh orang yang terdahulu dari dia. Orang yang terdahulu itu lalu mendorong orang tersebut hingga tenggelam dan mati. Karena dalam keadaan darurat, maka orang itu tidak dapat dihukum. Penjelasan selengkapnya dapat Anda baca dalam artikel Daya Paksa dan Pembelaan Terpaksa sebagai Alasan Penghapus Pidana. Overmacht= Alasan Pemaaf atau Alasan Pembenar?Kemudian, menurut Fitri Wahyuni, tidak ada kesatuan pendapat di antara para ahli hukum pidana untuk menggolongkan daya paksa apakah sebagai alasan pembenar ataukah alasan pemaaf. Adapun beberapa postulat terkait daya paksa tersebut adalah: [5] Quod alias non fuit licitum necessitas licitum facit. Artinya keadaan terpaksa memperbolehkan apa yang tadinya dilarang oleh hukum. In casu extremae necessitates omnia sunt communia. Artinya keadaan terpaksa, tindakan yang diambil dipandang perlu. Necessitas quod cogit defendit. Artinya keadaan terpaksa melindungi apa yang harus diperbuat. Necessitas sub lege non non continetur, quia quod alias non est licitum necessitas facit licitum. Artinya keadaan terpaksa tidak ditahan oleh hukum, perbuatan yang dilarang oleh hukum, namun dilakukan dalam keadaaan terpaksa maka perbuatan tersebut dianggap sah. Sebagaimana kami sampaikan, penyebab seseorang tidak dapat dipidana dikelompokan menjadi dua yaitu dasar pemaaf (schulduitsluitings-gronderi) dan dasar pembenar (rechtvaardingingsgronderi) . Dalam hal ini, Alfitramenggolongkanovermachtsebagai alasan pembenar dalam hukum pidana (hal. 54) . Alasan pemaafbersifat subjektif dan melekat pada diri orang tersebut, dan ditentukan berdasarkan sikap batin orang tersebut pada saat sebelum atau akan melakukan suatu tindak pidana. Berikut yang dapat dikategorikan sebagai alasan pemaaf: [6] tidak mampu bertanggung jawab, misalnya ketika pelaku memiliki kondisi kejiwaan yang abnormal;pembelaan terpaksa yang melampaui batas;menjalankan perintah jabatan yang tidak sah namun dengan iktikad baik. Sedangkanalasan pembenarmerupakan sifat objektif yang berasal dari faktor eksternal atau diluar suasana batin seseorang. Berikut yang termasuk alasan pembenar: [7] daya paksa;pembelaan terpaksa;menjalankan perintah undang-undang;menjalankan perintah jabatan yang sah. Berbeda dengan pendapat sebelumnya, Moeljatnodan Van Hattummemandangdaya memaksa itu sebagai alasan pemaaf. Van Hattum mengatakan bahwa perbuatan yang terpaksa dilakukan karena keadaan, patut dimaafkan. Demikian halnya dengan seorang sopir taksi yang takut kehilangan nyawanya, karena ditodong oleh orang yang berpistol di belakangnya, melanggar undang-undang (mengendarai mobil dengan kecepatan yang melebihi batas maksimal) . Perbuatan sopir itu melawan hukum, tetapi patut untuk dimaafkan karena padanya tidak dapat diharapkan untuk mempertaruhkan nyawanya. [8] Sehingga, pada intinya, di antara para penulis tidak ada kesatuan pendapat apakah daya memaksa dalam Pasal 48 KUHP itu adalah alasan pembenar atau alasan pemaaf. [9] Ketentuan Overmachtdalam UU 1/2023 Selanjutnya, dalam UU 1/2023 tentang KUHP baru yang berlaku 3 tahun sejak tanggal diundangkan, [10] yaitu 2026, overmachtdiatur dalam Pasal 42, sebagai berikut: Setiap Orang yang melakukan Tindak Pidana tidak dipidana karena: dipaksa oleh kekuatan yang tidak dapat ditahan; ataudipaksa oleh adanya ancaman, tekanan, atau kekuatan yang tidak dapat dihindari Lebih lanjut, menurut Penjelasan Pasal 42 UU 1/2023, ketentuan ini berkenaan dengan daya paksa yang dibagi menjadipaksaan mutlakdanpaksaan relatif. Yang dimaksud dengan \"dipaksa oleh kekuatan yang tidak dapat ditahan\" ataupaksaan mutlakadalah keadaan yang menyebabkan pelaku tidak mempunyai pilihan lain, kecuali melakukan perbuatan tersebut. Karena keadaan yang ada pada diri pelaku maka tidak mungkin baginya untuk menolak atau memilih ketika melakukan perbuatan tersebut. [11] Sedangkan \"dipaksa oleh adanya ancaman, tekanan, atau kekuatan yang tidak dapatdihindari\" ataupaksaan relatifadalah: [12] ancaman, tekanan, atau kekuatan tersebut menurut akal sehat tidak dapat diharapkan bahwa ia dapat mengadakan perlawanan; danapabila kepentingan yang dikorbankan seimbang atau sedikit lebih daripada kepentingan yang diselamatkan. Tekanan kejiwaan dari luar merupakan syarat utama. Mungkin pula seseorang mengalami tekanan kejiwaan, tetapi bukan karena sesuatu yang datang dari luar, melainkan karena keberatan yang didasarkan kepada pertimbangan pikirannya sendiri. Hal yang demikian tidak merupakan alasan pemaaf yang dapat menghapuskan pidananya. [13] Dengan demikian, dapat kami simpulkan bahwaovermachtadalah hal yang datangnya dari luar, mempengaruhi seseorang yang mengalaminya sehingga orang tersebut tidak memiliki opsi lain untuk membela dirinya. Keberadaan daya paksa menjadi penting karena dapat menentukan dan menjadi dasar peniadaan hukuman pidana. Pengertian Ultimum Remedium Menjawab pertanyaan Anda tentang apa yang dimaksud hukum pidana sebagaiultimum remedium, Sudikno Mertokusumodalam bukunya Penemuan Hukum: Sebuah Pengantar (hal. 128) mengartikanultimum remediumadalah sebagaialat terakhir. Selain itu, ada pendapat yang mengatakan bahwaultimum remediumtidak hanya suatu istilah, tetapi juga merupakan suatuasas hukum. Sebagai contoh, Yasonna Laolydalam berita berjudul Perlu Penegasan Norma Ultimum Remedium Soal Pengenaan Sanksi di Aturan Turunan UU Cipta Kerja (hal. 1) menerangkanultimum remediummerupakan asas hukum yang biasa dipakai dan diartikan sebagai penerapan sanksi pidana menjadi sanksi pamungkas (terakhir) dalam penegakan hukum. Ultimum remediumjuga dapat diartikan sebagai upaya terakhir penegakan hukum, apabila segala upaya seperti perdamaian telah ditempuh. Artinya perkara diutamakan untuk diselesaikan melalui jalur kekeluargaan terlebih dahulu. [14] Dengan demikian, ultimum remediumadalah salah satu asas dalam hukum pidana Indonesia yang mengatakan bahwa hukum pidana hendaklah dijadikan upaya terakhir penegakan hukum. Asasultimum remediumbermakna apabila suatu perkara dapat diselesaikan melalui jalur lain (kekeluargaan, negosiasi, mediasi, perdata, atau hukum administrasi) hendaklah jalur lain tersebut terlebih dahulu dilakukan. Baca juga: Arti Ultimum Remediumsebagai Sanksi Pamungkas Demikian jawaban dari kami, semoga bermanfaat. Dasar Hukum: Kitab Undang-Undang Hukum Pidana;Undang-Undang Nomor 1 Tahun 2023 tentang Kitab Undang-Undang Hukum Pidana. Referensi: Alfitra. Hapusnya Hak Menuntut dan Menjalankan Pidana. Jakarta Timur: Penerbit Raih Asa Sukses, 2014;Fitri Wahyuni. Dasar-dasar Hukum Pidana di Indonesia. Tangerang Selatan: PT Nusantara Persada Utama, 2017. Sudikno Mertokusumo. Penemuan Hukum: Sebuah Pengantar. Yogyakarta: Liberty, 2006;Sudaryono dan Natangsa Surbakti. Hukum Pidana: Dasar-dasar Hukum Pidana berdasarkan KUHP dan RUU KUHP. Surakarta: Muhammadiyah University Press, 2017, hal. 245;R. Sugandhi. Kitab Undang-Undang Hukum Pidana Berikut Penjelasannya. Surabaya: Usaha Nasional, 1980;Mas Putra Zenno Januarsyah. Penerapan Prinsip Ultimum Remedium dalam Tindak Pidana Korupsi. Jurnal Yudisial, Vol. 10, No. 3, 2017 [1] R. Sugandhi. Kitab Undang-Undang Hukum Pidana Berikut Penjelasannya. Surabaya: Usaha Nasional, 1980, hal. 54-55 [2] R. Sugandhi. Kitab Undang-Undang Hukum Pidana Berikut Penjelasannya. Surabaya: Usaha Nasional, 1980, hal. 55 [3] R. Sugandhi. Kitab Undang-Undang Hukum Pidana Berikut Penjelasannya. Surabaya: Usaha Nasional, 1980, hal. 55 [4] R. Sugandhi. Kitab Undang-Undang Hukum Pidana Berikut Penjelasannya. Surabaya: Usaha Nasional, 1980, hal. 55 [5] Fitri Wahyuni. Dasar-dasar Hukum Pidana di Indonesia. Tangerang Selatan: PT Nusantara Persada Utama, 2017, hal. 83 [6] Alfitra. Hapusnya Hak Menuntut dan Menjalankan Pidana. Jakarta Timur: Penerbit Raih Asa Sukses, 2014, hal. 54 [7] Alfitra. Hapusnya Hak Menuntut dan Menjalankan Pidana. Jakarta Timur: Penerbit Raih Asa Sukses, 2014, hal. 54 [8] Sudaryono dan Natangsa Surbakti. Hukum Pidana: Dasar-dasar Hukum Pidana berdasarkan KUHP dan RUU KUHP. Surakarta: Muhammadiyah University Press, 2017, hal. 245 [9] Sudaryono dan Natangsa Surbakti. Hukum Pidana: Dasar-dasar Hukum Pidana berdasarkan KUHP dan RUU KUHP. Surakarta: Muhammadiyah University Press, 2017, hal. 245 [10] Pasal 624 Undang-Undang Nomor 1 Tahun 2023 tentang Kitab Undang-Undang Hukum Pidana (“UU 1/2023”) [11] Penjelasan Pasal 42 huruf a UU 1/2023 [12] Penjelasan Pasal 42 huruf b UU 1/2023 [13] Penjelasan Pasal 42 huruf b UU 1/2023 [14] Mas Putra Zenno Januarsyah. Penerapan Prinsip Ultimum Remedium dalam Tindak Pidana Korupsi. Jurnal Yudisial, Vol. 10, No. 3, 2017, hal. 257\n"
          ]
        }
      ],
      "source": [
        "def clean_text(text):\n",
        "    text = text.replace('\\xa0', ' ').strip()\n",
        "    text = text.replace('.', '. ')\n",
        "    text = text.replace('(', ' (')\n",
        "    text = text.replace(')', ') ')\n",
        "    text = text.replace('[', ' [')\n",
        "    text = text.replace(']', '] ')\n",
        "    text = text.replace(',', ', ')\n",
        "    text = text.replace(':', ': ')\n",
        "    text = re.sub(r'([a-z])([A-Z])', r'\\1 \\2', text)\n",
        "    #text = re.sub(r'([A-Za-z])([A-Z]{2,})', r'\\1 \\2', text)\n",
        "    text = re.sub(r'(\\d+)([A-Za-z])', r'\\1 \\2', text)\n",
        "    text = re.sub(r'(\\d{1,2})([A-Z][a-z]+),(\\s*\\d{4})', r'\\1 \\2 \\3', text)\n",
        "    text = re.sub(r'Mulai DariRp\\..*', '', text)\n",
        "    text = re.sub(r'\\d+\\.\\d+', '', text)\n",
        "\n",
        "    cleaned_text = re.sub(r'\\s+', ' ', text).strip()\n",
        "    \n",
        "    return cleaned_text\n",
        "\n",
        "cleaned_text = clean_text(text)\n",
        "print(cleaned_text)"
      ]
    },
    {
      "cell_type": "markdown",
      "metadata": {},
      "source": [
        "### Translate"
      ]
    },
    {
      "cell_type": "code",
      "execution_count": 20,
      "metadata": {},
      "outputs": [],
      "source": [
        "text = cleaned_text"
      ]
    },
    {
      "cell_type": "markdown",
      "metadata": {},
      "source": [
        "### 3rd method"
      ]
    },
    {
      "cell_type": "code",
      "execution_count": 21,
      "metadata": {},
      "outputs": [],
      "source": [
        "torch.cuda.empty_cache()"
      ]
    },
    {
      "cell_type": "code",
      "execution_count": 22,
      "metadata": {},
      "outputs": [
        {
          "data": {
            "text/plain": [
              "['config.yaml',\n",
              " 'gemma-2-2b',\n",
              " 'Llama-3-8B-GPTQ-4-Bit',\n",
              " 'Llama-3-8B-Instruct-GPTQ-4-Bit',\n",
              " 'Llama-3.2-11B-Vision-Instruct-bnb-4bit',\n",
              " 'Llama-3.2-1B-Instruct',\n",
              " 'Llama-3.2-3B-Instruct',\n",
              " 'Meta-Llama-3.1-8B-Instruct-GPTQ-INT4',\n",
              " 'Phi-3-mini-128k-instruct',\n",
              " 'Phi-3-mini-128k-instruct-onnx',\n",
              " 'Phi-3-mini-4k-instruct-q4.gguf',\n",
              " 'Phi-3.5-mini-instruct',\n",
              " 'Phi-3.5-vision-instruct',\n",
              " 'place-your-models-here.txt',\n",
              " 'Qwen2.5-0.5B',\n",
              " 'Qwen2.5-0.5B-Instruct',\n",
              " 'Qwen2.5-1.5B',\n",
              " 'Qwen2.5-1.5B-Instruct',\n",
              " 'Qwen2.5-3B',\n",
              " 'Qwen2.5-3B-Instruct',\n",
              " 'Qwen2.5-7B-Instruct-GPTQ-Int4',\n",
              " 'Qwen2.5-Coder-1.5B',\n",
              " 'Qwen2.5-Coder-1.5B-Instruct',\n",
              " 'Qwen2.5-Coder-7B-Instruct-GPTQ-Int4',\n",
              " 'Qwen2.5-Math-1.5B',\n",
              " 'Qwen2.5-Math-1.5B-Instruct']"
            ]
          },
          "execution_count": 22,
          "metadata": {},
          "output_type": "execute_result"
        }
      ],
      "source": [
        "os.listdir(MODELS)"
      ]
    },
    {
      "cell_type": "code",
      "execution_count": 23,
      "metadata": {},
      "outputs": [
        {
          "data": {
            "text/plain": [
              "'D:\\\\AI\\\\LLM\\\\models\\\\Llama-3.2-3B-Instruct'"
            ]
          },
          "execution_count": 23,
          "metadata": {},
          "output_type": "execute_result"
        }
      ],
      "source": [
        "model_path = MODELS + '\\\\' + os.listdir(MODELS)[6]\n",
        "model_path"
      ]
    },
    {
      "cell_type": "code",
      "execution_count": 24,
      "metadata": {},
      "outputs": [
        {
          "name": "stderr",
          "output_type": "stream",
          "text": [
            "The model 'LlamaForCausalLM' is not supported for text2text-generation. Supported models are ['BartForConditionalGeneration', 'BigBirdPegasusForConditionalGeneration', 'BlenderbotForConditionalGeneration', 'BlenderbotSmallForConditionalGeneration', 'EncoderDecoderModel', 'FSMTForConditionalGeneration', 'GPTSanJapaneseForConditionalGeneration', 'LEDForConditionalGeneration', 'LongT5ForConditionalGeneration', 'M2M100ForConditionalGeneration', 'MarianMTModel', 'MBartForConditionalGeneration', 'MT5ForConditionalGeneration', 'MvpForConditionalGeneration', 'NllbMoeForConditionalGeneration', 'PegasusForConditionalGeneration', 'PegasusXForConditionalGeneration', 'PLBartForConditionalGeneration', 'ProphetNetForConditionalGeneration', 'Qwen2AudioForConditionalGeneration', 'SeamlessM4TForTextToText', 'SeamlessM4Tv2ForTextToText', 'SwitchTransformersForConditionalGeneration', 'T5ForConditionalGeneration', 'UMT5ForConditionalGeneration', 'XLMProphetNetForConditionalGeneration'].\n"
          ]
        }
      ],
      "source": [
        "tokenizer = AutoTokenizer.from_pretrained(model_path)\n",
        "model = AutoModelForCausalLM.from_pretrained(\n",
        "    model_path,\n",
        "    torch_dtype = torch.float16,\n",
        "    trust_remote_code = True\n",
        ").to(device) #'''\n",
        "\n",
        "translator = pipeline(\"text2text-generation\", model=model, tokenizer=tokenizer, device=0)"
      ]
    },
    {
      "cell_type": "code",
      "execution_count": 25,
      "metadata": {},
      "outputs": [
        {
          "name": "stderr",
          "output_type": "stream",
          "text": [
            "d:\\Python\\LLM_Environment\\myenv\\lib\\site-packages\\transformers\\models\\llama\\modeling_llama.py:655: UserWarning: 1Torch was not compiled with flash attention. (Triggered internally at C:\\actions-runner\\_work\\pytorch\\pytorch\\builder\\windows\\pytorch\\aten\\src\\ATen\\native\\transformers\\cuda\\sdp_utils.cpp:555.)\n",
            "  attn_output = torch.nn.functional.scaled_dot_product_attention(\n",
            "Starting from v4.46, the `logits` model output will have the same type as the model (except at train time, where it will always be FP32)\n"
          ]
        },
        {
          "name": "stdout",
          "output_type": "stream",
          "text": [
            "Translate the following Indonesian text to English: KLINIK TERKAITDaya Paksa dan Pembelaan Terpaksa sebagai Alasan Penghapus Pidana11 Jan, 2023 Arti Ultimum Remedium sebagai Sanksi Pamungkas15 Jul, 2022 Litigasi dan Alternatif Penyelesaian Sengketa di Luar Pengadilan10 Jul, 2020 Bisakah Dipidana Karena Menembak Anjing yang Menyerang Orang Lain?22 Okt, 2012 Terima kasih atas pertanyaan Anda. Artikel di bawah ini adalah pemutakhiran dari artikel dengan judul Tentang Overmacht dan Hukum Pidana sebagai Ultimum Remediumyang dibuat oleh Anandito Utomo, S. H. dan dipublikasikan pada 19 Agustus 2016. Belajar Hukum Secara Online dari Pengajar Berkompeten Dengan Biaya Terjangkau Mulai Dari Rp. 149. 000 Lihat Semua Kelas Artikel ini dibuat berdasarkan KUHP lama dan UU 1/2023 tentang KUHP yang diundangkan pada tanggal 2 Januari 2023. Seluruh informasi hukum yang ada di Klinik hukumonline. com disiapkan semata – mata untuk tujuan pendidikan dan bersifat umum (lihat Pernyataan Penyangkalanselengkapnya) . Untuk mendapatkan nasihat hukum spesifik terhadap kasus Anda, konsultasikan langsung dengan Konsultan Mitra Justika. Pengertian Overmacht Sebelum menjawab pertanyaan Anda tentang bagaimana ketentuanovermachtdalam hukum pidana, sebaiknya kita pahami terlebih dahulu pengertianovermacht. Alfitradalam bukunya Hapusnya Hak Menuntut dan Menjalankan Pidana (hal. 63) menjelaskan bahwa dalam Memorie van Toelichting (“Wv T”) , daya paksa (overmacht) dijelaskan sebagai setiap kekuatan, dorongan, dan paksaan yang tidak dapat dilawan. Frasadorongan (gedrongen) merujuk pada tekanan psikis, sedangkanpaksaan (dwang) merujuk pada tekanan fisik. Adapun, overmachtdapat menjadi dasar peniadaan pidana. Sedangkan menurut Fitri Wahyunidalam bukunya Dasar-dasar Hukum Pidana di Indonesia (hal. 76) , overmachtadalahdaya paksa relatif (vis compulsive) sepertikeadaan darurat. Dalam Mv T, daya paksa dilukiskan sebagai kekuatan dan setiap daya paksa orang berada dalamdwangpositie (posisi terjepit) . Daya paksa ini merupakan daya paksa psikis yang berasal dari luar dari si pelaku dan daya paksa tersebut lebih kuat dari padanya. Ketentuan Overmachtdalam KUHPKemudian, overmachtatau daya paksa diatur dalam Pasal 48 KUHPlama yang masih berlaku saat artikel ini diterbitkan, sebagai berikut: Barang siapa melakukan perbuatan karena pengaruh daya paksa, tidak dipidana. Sepanjang penelusuran kami, dalam KUHPtidak dijelaskan apa yang dimaksud dengan daya paksa. Namun, untuk mengetahui batasan ruang lingkup berlakunyaovermacht, R. Sugandhidalam bukunya yang berjudul Kitab Undang-Undang Hukum Pidana Berikut Penjelasannyamengatakan bahwa kalimat “karena pengaruh daya paksa” harus diartikan, baik pengaruh daya paksaan batin, maupun lahir, rohani, maupun jasmani. Daya paksa yang tidak dapat dilawan adalah kekuatan yang lebih besar, yaknikekuasaan yang pada umumnya tidak mungkin dapat ditentang. Mengenai kekuasaan ini dapat dibedakan dalam 3 macam, yaitu: Kekuasaan yang Bersifat Mutlak Kekuasaan yang bersifat mutlak berartiorang itu tidak dapat berbuat lain. Ia mengalami sesuatu yang sama sekali tidak dapat dielakkan. Misalnya, seseorang yang dipegang kemudian dilemparkan orang yang lebih kuat ke jendela kaca sehingga kacanya pecah dan mengakibatkan kejahatan merusak barang orang lain. Dalam peristiwa ini orang yang tenaganya lemah itu tidak dapat dihukum karena yang melakukan ialah orang yang lebih kuat. [1] Kekuasaan yang Bersifat Relatif Kekuasaan atau kekuatan yang memaksa orang itu tidak mutlak, tidak penuh. Orang yang dipaksa itu masih punya kesempatan untuk memilih mana yang akan dilakukan. Perbedaan kekuasaan yang bersifat mutlak dan yang bersifat relatif ialah bahwa pada yang mutlak, dalam segala sesuatunya orang yang memaksa itu sendirilah yang berbuat semaunya. Sedangkan pada yang relatif, orang yang dipaksa itulah yang melakukan karena dalam paksaan kekuatan. [2] Misalnya A ditodong dengan pistol oleh B, disuruh membakar rumah. Apabila A tidak segera membakar rumah itu, maka pistol yang ditodongkan kepadanya tersebut akan ditembakkan. Dalam pikiran, memang mungkin A menolak perintah itu sehingga ia ditembak mati. Akan tetapi apabila ia menuruti perintah itu, ia akan melakukan tindak pidana kejahatan. Walaupun demikian, ia tidak dapat dihukum karena adanya paksaan tersebut. [3] Kekuasaan yang Merupakan suatu Keadaan Darurat Pada keadaan darurat, orang yang terpaksa itu sendirilah yang memilih peristiwa pidana mana yang akan ia lakukan. Bedanya dengan kekuasaan yang bersifat relatif, orang itu tidak memilih, sebab orang yang mengambil prakarsa ialah orang yang memaksa. [4] Contohnya, terjadi kecelakaan kapal yaitu kapal meledak dengan mendadak, sehingga penumpangnya masing-masing harus menolong dirinya sendiri. Seorang penumpang beruntung dapat mengapung dengan sebuah papan kayu yang hanya dapat menampung seorang saja. Kemudian datang penumpang lain yang juga ingin menyelamatkan dirinya. Padanya tiada sebuah alat pun yang dapat dipakai untuk menyelamatkan diri. Ia lalu meraih papan kayu yang telah dipakai untuk mengapung oleh orang yang terdahulu dari dia. Orang yang terdahulu itu lalu mendorong orang tersebut hingga tenggelam dan mati. Karena dalam keadaan darurat, maka orang itu tidak dapat dihukum. Penjelasan selengkapnya dapat Anda baca dalam artikel Daya Paksa dan Pembelaan Terpaksa sebagai Alasan Penghapus Pidana. Overmacht= Alasan Pemaaf atau Alasan Pembenar?Kemudian, menurut Fitri Wahyuni, tidak ada kesatuan pendapat di antara para ahli hukum pidana untuk menggolongkan daya paksa apakah sebagai alasan pembenar ataukah alasan pemaaf. Adapun beberapa postulat terkait daya paksa tersebut adalah: [5] Quod alias non fuit licitum necessitas licitum facit. Artinya keadaan terpaksa memperbolehkan apa yang tadinya dilarang oleh hukum. In casu extremae necessitates omnia sunt communia. Artinya keadaan terpaksa, tindakan yang diambil dipandang perlu. Necessitas quod cogit defendit. Artinya keadaan terpaksa melindungi apa yang harus diperbuat. Necessitas sub lege non non continetur, quia quod alias non est licitum necessitas facit licitum. Artinya keadaan terpaksa tidak ditahan oleh hukum, perbuatan yang dilarang oleh hukum, namun dilakukan dalam keadaaan terpaksa maka perbuatan tersebut dianggap sah. Sebagaimana kami sampaikan, penyebab seseorang tidak dapat dipidana dikelompokan menjadi dua yaitu dasar pemaaf (schulduitsluitings-gronderi) dan dasar pembenar (rechtvaardingingsgronderi) . Dalam hal ini, Alfitramenggolongkanovermachtsebagai alasan pembenar dalam hukum pidana (hal. 54) . Alasan pemaafbersifat subjektif dan melekat pada diri orang tersebut, dan ditentukan berdasarkan sikap batin orang tersebut pada saat sebelum atau akan melakukan suatu tindak pidana. Berikut yang dapat dikategorikan sebagai alasan pemaaf: [6] tidak mampu bertanggung jawab, misalnya ketika pelaku memiliki kondisi kejiwaan yang abnormal;pembelaan terpaksa yang melampaui batas;menjalankan perintah jabatan yang tidak sah namun dengan iktikad baik. Sedangkanalasan pembenarmerupakan sifat objektif yang berasal dari faktor eksternal atau diluar suasana batin seseorang. Berikut yang termasuk alasan pembenar: [7] daya paksa;pembelaan terpaksa;menjalankan perintah undang-undang;menjalankan perintah jabatan yang sah. Berbeda dengan pendapat sebelumnya, Moeljatnodan Van Hattummemandangdaya memaksa itu sebagai alasan pemaaf. Van Hattum mengatakan bahwa perbuatan yang terpaksa dilakukan karena keadaan, patut dimaafkan. Demikian halnya dengan seorang sopir taksi yang takut kehilangan nyawanya, karena ditodong oleh orang yang berpistol di belakangnya, melanggar undang-undang (mengendarai mobil dengan kecepatan yang melebihi batas maksimal) . Perbuatan sopir itu melawan hukum, tetapi patut untuk dimaafkan karena padanya tidak dapat diharapkan untuk mempertaruhkan nyawanya. [8] Sehingga, pada intinya, di antara para penulis tidak ada kesatuan pendapat apakah daya memaksa dalam Pasal 48 KUHP itu adalah alasan pembenar atau alasan pemaaf. [9] Ketentuan Overmachtdalam UU 1/2023 Selanjutnya, dalam UU 1/2023 tentang KUHP baru yang berlaku 3 tahun sejak tanggal diundangkan, [10] yaitu 2026, overmachtdiatur dalam Pasal 42, sebagai berikut: Setiap Orang yang melakukan Tindak Pidana tidak dipidana karena: dipaksa oleh kekuatan yang tidak dapat ditahan; ataudipaksa oleh adanya ancaman, tekanan, atau kekuatan yang tidak dapat dihindari Lebih lanjut, menurut Penjelasan Pasal 42 UU 1/2023, ketentuan ini berkenaan dengan daya paksa yang dibagi menjadipaksaan mutlakdanpaksaan relatif. Yang dimaksud dengan \"dipaksa oleh kekuatan yang tidak dapat ditahan\" ataupaksaan mutlakadalah keadaan yang menyebabkan pelaku tidak mempunyai pilihan lain, kecuali melakukan perbuatan tersebut. Karena keadaan yang ada pada diri pelaku maka tidak mungkin baginya untuk menolak atau memilih ketika melakukan perbuatan tersebut. [11] Sedangkan \"dipaksa oleh adanya ancaman, tekanan, atau kekuatan yang tidak dapatdihindari\" ataupaksaan relatifadalah: [12] ancaman, tekanan, atau kekuatan tersebut menurut akal sehat tidak dapat diharapkan bahwa ia dapat mengadakan perlawanan; danapabila kepentingan yang dikorbankan seimbang atau sedikit lebih daripada kepentingan yang diselamatkan. Tekanan kejiwaan dari luar merupakan syarat utama. Mungkin pula seseorang mengalami tekanan kejiwaan, tetapi bukan karena sesuatu yang datang dari luar, melainkan karena keberatan yang didasarkan kepada pertimbangan pikirannya sendiri. Hal yang demikian tidak merupakan alasan pemaaf yang dapat menghapuskan pidananya. [13] Dengan demikian, dapat kami simpulkan bahwaovermachtadalah hal yang datangnya dari luar, mempengaruhi seseorang yang mengalaminya sehingga orang tersebut tidak memiliki opsi lain untuk membela dirinya. Keberadaan daya paksa menjadi penting karena dapat menentukan dan menjadi dasar peniadaan hukuman pidana. Pengertian Ultimum Remedium Menjawab pertanyaan Anda tentang apa yang dimaksud hukum pidana sebagaiultimum remedium, Sudikno Mertokusumodalam bukunya Penemuan Hukum: Sebuah Pengantar (hal. 128) mengartikanultimum remediumadalah sebagaialat terakhir. Selain itu, ada pendapat yang mengatakan bahwaultimum remediumtidak hanya suatu istilah, tetapi juga merupakan suatuasas hukum. Sebagai contoh, Yasonna Laolydalam berita berjudul Perlu Penegasan Norma Ultimum Remedium Soal Pengenaan Sanksi di Aturan Turunan UU Cipta Kerja (hal. 1) menerangkanultimum remediummerupakan asas hukum yang biasa dipakai dan diartikan sebagai penerapan sanksi pidana menjadi sanksi pamungkas (terakhir) dalam penegakan hukum. Ultimum remediumjuga dapat diartikan sebagai upaya terakhir penegakan hukum, apabila segala upaya seperti perdamaian telah ditempuh. Artinya perkara diutamakan untuk diselesaikan melalui jalur kekeluargaan terlebih dahulu. [14] Dengan demikian, ultimum remediumadalah salah satu asas dalam hukum pidana Indonesia yang mengatakan bahwa hukum pidana hendaklah dijadikan upaya terakhir penegakan hukum. Asasultimum remediumbermakna apabila suatu perkara dapat diselesaikan melalui jalur lain (kekeluargaan, negosiasi, mediasi, perdata, atau hukum administrasi) hendaklah jalur lain tersebut terlebih dahulu dilakukan. Baca juga: Arti Ultimum Remediumsebagai Sanksi Pamungkas Demikian jawaban dari kami, semoga bermanfaat. Dasar Hukum: Kitab Undang-Undang Hukum Pidana;Undang-Undang Nomor 1 Tahun 2023 tentang Kitab Undang-Undang Hukum Pidana. Referensi: Alfitra. Hapusnya Hak Menuntut dan Menjalankan Pidana. Jakarta Timur: Penerbit Raih Asa Sukses, 2014;Fitri Wahyuni. Dasar-dasar Hukum Pidana di Indonesia. Tangerang Selatan: PT Nusantara Persada Utama, 2017. Sudikno Mertokusumo. Penemuan Hukum: Sebuah Pengantar. Yogyakarta: Liberty, 2006;Sudaryono dan Natangsa Surbakti. Hukum Pidana: Dasar-dasar Hukum Pidana berdasarkan KUHP dan RUU KUHP. Surakarta: Muhammadiyah University Press, 2017, hal. 245;R. Sugandhi. Kitab Undang-Undang Hukum Pidana Berikut Penjelasannya. Surabaya: Usaha Nasional, 1980;Mas Putra Zenno Januarsyah. Penerapan Prinsip Ultimum Remedium dalam Tindak Pidana Korupsi. Jurnal Yudisial, Vol. 10, No. 3, 2017 [1] R. Sugandhi. Kitab Undang-Undang Hukum Pidana Berikut Penjelasannya. Surabaya: Usaha Nasional, 1980, hal. 54-55 [2] R. Sugandhi. Kitab Undang-Undang Hukum Pidana Berikut Penjelasannya. Surabaya: Usaha Nasional, 1980, hal. 55 [3] R. Sugandhi. Kitab Undang-Undang Hukum Pidana Berikut Penjelasannya. Surabaya: Usaha Nasional, 1980, hal. 55 [4] R. Sugandhi. Kitab Undang-Undang Hukum Pidana Berikut Penjelasannya. Surabaya: Usaha Nasional, 1980, hal. 55 [5] Fitri Wahyuni. Dasar-dasar Hukum Pidana di Indonesia. Tangerang Selatan: PT Nusantara Persada Utama, 2017, hal. 83 [6] Alfitra. Hapusnya Hak Menuntut dan Menjalankan Pidana. Jakarta Timur: Penerbit Raih Asa Sukses, 2014, hal. 54 [7] Alfitra. Hapusnya Hak Menuntut dan Menjalankan Pidana. Jakarta Timur: Penerbit Raih Asa Sukses, 2014, hal. 54 [8] Sudaryono dan Natangsa Surbakti. Hukum Pidana: Dasar-dasar Hukum Pidana berdasarkan KUHP dan RUU KUHP. Surakarta: Muhammadiyah University Press, 2017, hal. 245 [9] Sudaryono dan Natangsa Surbakti. Hukum Pidana: Dasar-dasar Hukum Pidana berdasarkan KUHP dan RUU KUHP. Surakarta: Muhammadiyah University Press, 2017, hal. 245 [10] Pasal 624 Undang-Undang Nomor 1 Tahun 2023 tentang Kitab Undang-Undang Hukum Pidana (“UU 1/2023”) [11] Penjelasan Pasal 42 huruf a UU 1/2023 [12] Penjelasan Pasal 42 huruf b UU 1/2023 [13] Penjelasan Pasal 42 huruf b UU 1/2023 [14] Mas Putra Zenno Januarsyah. Penerapan Prinsip Ultimum Remedium dalam Tindak Pidana Korupsi. Jurnal Yudisial, Vol. 10, No. 3, 2017, hal. 257-258\n",
            "Klik untuk mengunggah artikel ini ke media sosial Anda.\n",
            "Bagikan artikel ini dengan teman-teman Anda melalui email atau SMS.\n",
            "Klik untuk menyimpan artikel ini sebagai favorit.\n",
            "Klik untuk menambahkan artikel ini ke daftar favorit Anda.\n",
            "Klik untuk membuka artikel ini dalam mode penuh.\n",
            "Klik untuk membuka artikel ini dalam mode penuh.\n",
            "Klik untuk membuka artikel ini dalam mode penuh.\n",
            "Klik untuk membuka artikel ini dalam mode penuh.\n",
            "Klik untuk membuka artikel ini dalam mode penuh.\n",
            "Klik untuk membuka artikel ini dalam mode penuh.\n",
            "Klik untuk membuka artikel ini dalam mode penuh.\n",
            "Klik untuk membuka artikel ini dalam mode penuh.\n",
            "Klik untuk membuka artikel ini dalam mode penuh.\n",
            "Klik untuk membuka artikel ini dalam mode penuh.\n",
            "Klik untuk membuka artikel ini dalam mode penuh.\n",
            "Klik untuk membuka artikel ini dalam mode penuh.\n",
            "Klik untuk membuka artikel ini dalam mode penuh.\n",
            "Klik untuk membuka artikel ini dalam mode penuh.\n",
            "Klik untuk membuka artikel ini dalam mode penuh.\n",
            "Klik untuk membuka artikel ini dalam mode penuh.\n",
            "Klik untuk membuka artikel ini dalam mode penuh.\n",
            "Klik untuk membuka artikel ini dalam mode penuh.\n",
            "Klik untuk membuka artikel ini dalam mode penuh.\n",
            "Klik untuk membuka artikel ini dalam mode penuh.\n",
            "Klik untuk membuka artikel ini dalam mode penuh.\n",
            "Klik untuk membuka artikel ini dalam mode penuh.\n",
            "Klik untuk membuka artikel ini dalam mode penuh.\n",
            "Klik untuk membuka artikel ini dalam mode penuh.\n",
            "Klik untuk membuka artikel ini dalam mode penuh.\n",
            "Klik untuk membuka artikel ini dalam mode penuh.\n",
            "Klik untuk membuka artikel ini dalam mode penuh.\n",
            "Klik untuk membuka artikel ini dalam mode penuh.\n",
            "Klik untuk membuka artikel ini dalam mode penuh.\n",
            "Klik untuk membuka artikel ini dalam mode penuh.\n",
            "Klik untuk membuka artikel ini dalam mode penuh.\n",
            "Klik untuk membuka artikel ini dalam mode penuh.\n",
            "Klik untuk membuka artikel ini dalam mode penuh.\n",
            "Klik untuk membuka artikel ini dalam mode penuh.\n",
            "Klik untuk membuka artikel ini dalam mode penuh.\n",
            "Klik untuk membuka artikel ini dalam mode penuh.\n",
            "Klik untuk membuka artikel ini dalam mode penuh.\n",
            "Klik untuk membuka artikel ini dalam mode penuh.\n",
            "Klik untuk membuka artikel ini dalam mode penuh.\n",
            "Klik untuk membuka artikel ini dalam mode penuh.\n",
            "Klik untuk membuka artikel ini dalam mode penuh.\n",
            "Klik untuk membuka artikel ini dalam mode penuh.\n",
            "Klik untuk membuka artikel ini dalam mode penuh.\n",
            "Klik untuk membuka artikel ini dalam mode penuh.\n",
            "Klik untuk membuka artikel ini dalam mode penuh.\n",
            "Klik untuk membuka artikel ini dalam mode penuh.\n",
            "Klik untuk membuka artikel ini dalam mode penuh.\n",
            "Klik untuk membuka artikel ini dalam mode penuh.\n",
            "Klik untuk membuka artikel ini dalam mode penuh.\n",
            "Klik untuk membuka artikel ini dalam mode penuh.\n",
            "Klik untuk membuka artikel ini dalam mode penuh.\n",
            "Klik untuk membuka artikel ini dalam mode penuh.\n",
            "Klik untuk membuka artikel ini dalam mode penuh.\n",
            "Klik untuk membuka artikel ini dalam mode penuh.\n",
            "Klik untuk membuka artikel ini dalam mode penuh.\n",
            "Klik untuk membuka artikel ini dalam mode penuh.\n",
            "Klik untuk membuka artikel ini dalam mode penuh.\n",
            "Klik untuk membuka artikel ini dalam mode penuh.\n",
            "Klik untuk membuka artikel ini dalam mode penuh.\n",
            "Klik untuk membuka artikel ini dalam mode penuh.\n",
            "Klik untuk membuka artikel ini dalam mode penuh.\n",
            "Klik untuk membuka artikel ini dalam mode penuh.\n",
            "Klik untuk membuka artikel ini dalam mode penuh.\n",
            "Klik untuk membuka artikel ini dalam mode penuh.\n",
            "Klik untuk membuka artikel ini dalam mode penuh.\n",
            "Klik untuk membuka artikel ini dalam mode penuh.\n",
            "Klik untuk membuka artikel ini dalam mode penuh.\n",
            "Klik untuk membuka artikel ini dalam mode penuh.\n",
            "Klik untuk membuka artikel ini dalam mode penuh.\n",
            "Klik untuk membuka artikel ini dalam mode penuh.\n",
            "Klik untuk membuka artikel ini dalam mode penuh.\n",
            "Klik untuk membuka artikel ini dalam mode penuh.\n",
            "Klik untuk membuka artikel ini dalam mode penuh.\n",
            "Klik untuk membuka artikel ini dalam mode penuh.\n",
            "Klik untuk membuka artikel ini dalam mode penuh.\n",
            "Klik untuk membuka artikel ini dalam mode penuh.\n",
            "Klik untuk membuka artikel ini dalam mode penuh.\n",
            "Klik untuk membuka artikel ini dalam mode penuh.\n",
            "Klik untuk membuka artikel ini dalam mode penuh.\n",
            "Klik untuk membuka artikel ini dalam mode penuh.\n",
            "Klik untuk membuka artikel ini dalam mode penuh.\n",
            "Klik untuk membuka artikel ini dalam mode penuh.\n",
            "Klik untuk membuka artikel ini dalam mode penuh.\n",
            "Klik untuk membuka artikel ini dalam mode penuh.\n",
            "Klik untuk membuka artikel ini dalam mode penuh.\n",
            "Klik untuk membuka artikel ini dalam mode penuh.\n",
            "Klik untuk membuka artikel ini dalam mode penuh.\n",
            "Klik untuk membuka artikel ini dalam mode penuh.\n",
            "Klik untuk membuka artikel ini dalam mode penuh.\n",
            "Klik untuk membuka artikel ini dalam mode penuh.\n",
            "Klik untuk membuka artikel ini dalam mode penuh.\n",
            "Klik untuk membuka artikel ini dalam mode penuh.\n",
            "Klik untuk membuka artikel ini dalam mode penuh.\n",
            "Klik untuk membuka artikel ini dalam mode penuh.\n",
            "Klik untuk membuka artikel ini dalam mode penuh.\n",
            "Klik untuk membuka artikel ini dalam mode penuh.\n",
            "Klik untuk membuka artikel ini dalam mode penuh.\n",
            "Klik untuk membuka artikel ini dalam mode penuh.\n",
            "Klik untuk membuka artikel ini dalam mode penuh.\n",
            "Klik untuk membuka artikel ini dalam mode penuh.\n",
            "Klik untuk membuka artikel ini dalam mode penuh.\n",
            "Klik untuk membuka artikel ini dalam mode penuh.\n",
            "Klik untuk membuka artikel ini dalam mode penuh.\n",
            "Klik untuk membuka artikel ini dalam mode penuh.\n",
            "Klik untuk membuka artikel ini dalam mode penuh.\n",
            "Klik untuk membuka artikel ini dalam mode penuh.\n",
            "Klik untuk membuka artikel ini dalam mode penuh.\n",
            "Klik untuk membuka artikel ini dalam mode penuh.\n",
            "Klik untuk membuka artikel ini dalam mode penuh.\n",
            "Klik untuk membuka artikel ini dalam mode penuh.\n",
            "Klik untuk membuka artikel ini dalam mode penuh.\n",
            "Klik untuk membuka artikel ini dalam mode penuh.\n",
            "Klik untuk membuka artikel ini dalam mode penuh.\n",
            "Klik untuk membuka artikel ini dalam mode penuh.\n",
            "Klik untuk membuka artikel ini dalam mode penuh.\n",
            "Klik untuk membuka artikel ini dalam mode penuh.\n",
            "Klik untuk membuka artikel ini dalam mode penuh.\n",
            "Klik untuk membuka artikel ini dalam mode penuh.\n",
            "Klik untuk membuka artikel ini dalam mode penuh.\n",
            "Klik untuk membuka artikel ini dalam mode penuh.\n",
            "Klik untuk membuka artikel ini dalam mode penuh.\n",
            "Klik untuk membuka artikel ini dalam mode penuh.\n",
            "Klik untuk membuka artikel ini dalam mode penuh.\n",
            "Klik untuk membuka artikel ini dalam mode penuh.\n",
            "Klik untuk membuka artikel ini dalam mode penuh.\n",
            "Klik untuk membuka artikel ini dalam mode penuh.\n",
            "Klik untuk membuka artikel ini dalam mode penuh.\n",
            "Klik untuk membuka artikel ini dalam mode penuh.\n",
            "Klik untuk membuka artikel ini dalam mode penuh.\n",
            "Klik untuk membuka artikel ini dalam mode penuh.\n",
            "Klik untuk membuka artikel ini dalam mode penuh.\n",
            "Klik untuk membuka artikel ini dalam mode penuh.\n",
            "Klik untuk membuka artikel ini dalam mode penuh.\n",
            "Klik untuk membuka artikel ini dalam mode penuh.\n",
            "Klik untuk membuka artikel ini dalam mode penuh.\n",
            "Klik untuk membuka artikel ini dalam mode penuh.\n",
            "Klik untuk membuka artikel ini dalam mode penuh.\n",
            "Klik untuk membuka artikel ini dalam mode penuh.\n",
            "Klik untuk membuka artikel ini dalam mode penuh.\n",
            "Klik untuk membuka artikel ini dalam mode penuh.\n",
            "Klik untuk membuka artikel ini dalam mode penuh.\n",
            "Klik untuk membuka artikel ini dalam mode penuh.\n",
            "Klik untuk membuka artikel ini dalam mode penuh.\n",
            "Klik untuk membuka artikel ini dalam mode penuh.\n",
            "Klik untuk membuka artikel ini dalam mode penuh.\n",
            "Klik untuk membuka artikel ini dalam mode penuh.\n",
            "Klik untuk membuka artikel ini dalam mode penuh.\n",
            "Klik untuk membuka artikel ini dalam mode penuh.\n",
            "Klik untuk membuka artikel ini dalam mode penuh.\n",
            "Klik untuk membuka artikel ini dalam mode penuh.\n",
            "Klik untuk membuka artikel ini dalam mode penuh.\n",
            "Klik untuk membuka artikel ini dalam mode penuh.\n",
            "Klik untuk membuka artikel ini dalam mode penuh.\n",
            "Klik untuk membuka artikel ini dalam mode penuh.\n",
            "Klik untuk membuka artikel ini dalam mode penuh.\n",
            "Klik untuk membuka artikel ini dalam mode penuh.\n",
            "Klik untuk membuka artikel ini dalam mode penuh.\n",
            "Klik untuk membuka artikel ini dalam mode penuh.\n",
            "Klik untuk membuka artikel ini dalam mode penuh.\n",
            "Klik untuk membuka artikel ini dalam mode penuh.\n",
            "Klik untuk membuka artikel ini dalam mode penuh.\n",
            "Klik untuk membuka artikel ini dalam mode penuh.\n",
            "Klik untuk membuka artikel ini dalam mode penuh.\n",
            "Klik untuk membuka artikel ini dalam mode penuh.\n",
            "Klik untuk membuka artikel ini dalam mode penuh.\n",
            "Klik untuk membuka artikel ini dalam mode penuh.\n",
            "Klik untuk membuka artikel ini dalam mode penuh.\n",
            "Klik untuk membuka artikel ini dalam mode penuh.\n",
            "Klik untuk membuka artikel ini dalam mode penuh.\n",
            "Klik untuk membuka artikel ini dalam mode penuh.\n",
            "Klik untuk membuka artikel ini dalam mode penuh.\n",
            "Klik untuk membuka artikel ini dalam mode penuh.\n",
            "Klik untuk membuka artikel ini dalam mode penuh.\n",
            "Klik untuk membuka artikel ini dalam mode penuh.\n",
            "Klik untuk membuka artikel ini dalam mode penuh.\n",
            "Klik untuk membuka artikel ini dalam mode penuh.\n",
            "Klik untuk membuka artikel ini dalam mode penuh.\n",
            "Klik untuk membuka artikel ini dalam mode penuh.\n",
            "Klik untuk membuka artikel ini dalam mode penuh.\n",
            "Klik untuk membuka artikel ini dalam mode penuh.\n",
            "Klik untuk membuka artikel ini dalam mode penuh.\n",
            "Klik untuk membuka artikel ini dalam mode penuh.\n",
            "Klik untuk membuka artikel ini dalam mode penuh.\n",
            "Klik untuk membuka artikel ini dalam mode penuh.\n",
            "Klik untuk membuka artikel ini dalam mode penuh.\n",
            "Klik untuk membuka artikel ini dalam mode penuh.\n",
            "Klik untuk membuka artikel ini dalam mode penuh.\n",
            "Klik untuk membuka artikel ini dalam mode penuh.\n",
            "Klik untuk membuka artikel ini dalam mode penuh.\n",
            "Klik untuk membuka artikel ini dalam mode penuh.\n",
            "Klik untuk membuka artikel ini dalam mode penuh.\n",
            "Klik untuk membuka artikel ini dalam mode penuh.\n",
            "Klik untuk membuka artikel ini dalam mode penuh.\n",
            "Klik untuk membuka artikel ini dalam mode penuh.\n",
            "Klik untuk membuka artikel ini dalam mode penuh.\n",
            "Klik untuk membuka artikel ini dalam mode penuh.\n",
            "Klik untuk membuka artikel ini dalam mode penuh.\n",
            "Klik untuk membuka artikel ini dalam mode penuh.\n",
            "Klik untuk membuka artikel ini dalam mode penuh.\n",
            "Klik untuk membuka artikel ini dalam mode penuh.\n",
            "Klik untuk membuka artikel ini dalam mode penuh.\n",
            "Klik untuk membuka artikel ini dalam mode penuh.\n",
            "Klik untuk membuka artikel ini dalam mode penuh.\n",
            "Klik untuk membuka artikel ini dalam mode penuh.\n",
            "Klik untuk membuka artikel ini dalam mode penuh.\n",
            "Klik untuk membuka artikel ini dalam mode penuh.\n",
            "Klik untuk membuka artikel ini dalam mode penuh.\n",
            "Klik untuk membuka artikel ini dalam mode penuh.\n",
            "Klik untuk membuka artikel ini dalam mode penuh.\n",
            "Klik untuk membuka artikel ini dalam mode penuh.\n",
            "Klik untuk membuka artikel ini dalam mode penuh.\n",
            "Klik untuk membuka artikel ini dalam mode penuh.\n",
            "Klik untuk membuka artikel ini dalam mode penuh.\n",
            "Klik untuk membuka artikel ini dalam mode penuh.\n",
            "Klik untuk membuka artikel ini dalam mode penuh.\n",
            "Klik untuk membuka artikel ini dalam mode penuh.\n",
            "Klik untuk membuka artikel ini dalam mode penuh.\n",
            "Klik untuk membuka artikel ini dalam mode penuh.\n",
            "Klik untuk membuka artikel ini dalam mode penuh.\n",
            "Klik untuk membuka artikel ini dalam mode penuh.\n",
            "Klik untuk membuka artikel ini dalam mode penuh.\n",
            "Klik untuk membuka artikel ini dalam mode penuh.\n",
            "Klik untuk membuka artikel ini dalam mode penuh.\n",
            "Klik untuk membuka artikel ini dalam mode penuh.\n",
            "Klik untuk membuka artikel ini dalam mode penuh.\n",
            "Klik untuk membuka artikel ini dalam mode penuh.\n",
            "Klik untuk membuka artikel ini dalam mode penuh.\n",
            "Klik untuk membuka artikel ini dalam mode penuh.\n",
            "Klik untuk membuka artikel ini dalam mode penuh.\n",
            "Klik untuk membuka artikel ini dalam mode penuh.\n",
            "Klik untuk membuka artikel ini dalam mode penuh.\n",
            "Klik untuk membuka artikel ini dalam mode penuh.\n",
            "Klik untuk membuka artikel ini dalam mode penuh.\n",
            "Klik untuk membuka artikel ini dalam mode penuh.\n",
            "Klik untuk membuka artikel ini dalam mode penuh.\n",
            "Klik untuk membuka artikel ini dalam mode penuh.\n",
            "Klik untuk membuka artikel ini dalam mode penuh.\n",
            "Klik untuk membuka artikel ini dalam mode penuh.\n",
            "Klik untuk membuka artikel ini dalam mode penuh.\n",
            "Klik untuk membuka artikel ini dalam mode penuh.\n",
            "Klik untuk membuka artikel ini dalam mode penuh.\n",
            "Klik untuk membuka artikel ini dalam mode penuh.\n",
            "Klik untuk membuka artikel ini dalam mode penuh.\n",
            "Klik untuk membuka artikel ini dalam mode penuh.\n",
            "Klik untuk membuka artikel ini dalam mode penuh.\n",
            "Klik untuk membuka artikel ini dalam mode penuh.\n",
            "Klik untuk membuka artikel ini dalam mode penuh.\n",
            "Klik untuk membuka artikel ini dalam mode penuh.\n",
            "Klik untuk membuka artikel ini dalam mode penuh.\n",
            "Klik untuk membuka artikel ini dalam mode penuh.\n",
            "Klik untuk membuka artikel ini dalam mode penuh.\n",
            "Klik untuk membuka artikel ini dalam mode penuh.\n",
            "Klik untuk membuka artikel ini dalam mode penuh.\n",
            "Klik untuk membuka artikel ini dalam mode penuh.\n",
            "Klik untuk membuka artikel ini dalam mode penuh.\n",
            "Klik untuk membuka artikel ini dalam mode penuh.\n",
            "Klik untuk membuka artikel ini dalam mode penuh.\n",
            "Klik untuk membuka artikel ini dalam mode penuh.\n",
            "Klik untuk membuka artikel ini dalam mode penuh.\n",
            "Klik untuk membuka artikel ini dalam mode penuh.\n",
            "Klik untuk membuka artikel ini dalam mode penuh.\n",
            "Klik untuk membuka artikel ini dalam mode penuh.\n",
            "Klik untuk membuka artikel ini dalam mode penuh.\n",
            "Klik untuk membuka artikel ini dalam mode penuh.\n",
            "Klik untuk membuka artikel ini dalam mode penuh.\n",
            "Klik untuk membuka artikel ini dalam mode penuh.\n",
            "Klik untuk membuka artikel ini dalam mode penuh.\n",
            "Klik untuk membuka artikel ini dalam mode penuh.\n",
            "Klik untuk membuka artikel ini dalam mode penuh.\n",
            "Klik untuk membuka artikel ini dalam mode penuh.\n",
            "Klik untuk membuka artikel ini dalam mode penuh.\n",
            "Klik untuk membuka artikel ini dalam mode penuh.\n",
            "Klik untuk membuka artikel ini dalam mode penuh.\n",
            "Klik untuk\n"
          ]
        }
      ],
      "source": [
        "def split_text_into_chunks(text, max_tokens=8000):\n",
        "    tokens = tokenizer(text, return_tensors='pt', truncation=False)['input_ids'][0]\n",
        "    token_length = len(tokens)\n",
        "\n",
        "    if token_length <= max_tokens:\n",
        "        return [text]\n",
        "\n",
        "    chunks = []\n",
        "    for i in range(0, token_length, max_tokens):\n",
        "        chunk_tokens = tokens[i:min(i + max_tokens, token_length)]\n",
        "        chunk_text = tokenizer.decode(chunk_tokens, skip_special_tokens=True)\n",
        "        chunks.append(chunk_text)\n",
        "\n",
        "    return chunks\n",
        "\n",
        "def translate_large_text(text):\n",
        "    chunks = split_text_into_chunks(text)\n",
        "    formatted_chunks = [f\"Translate the following Indonesian text to English: {chunk}\" for chunk in chunks]\n",
        "    translated_chunks = [translator(chunk, max_length=8000)[0]['generated_text'] for chunk in formatted_chunks]\n",
        "    return ' '.join(translated_chunks)\n",
        "\n",
        "\n",
        "translated_text = translate_large_text(text)\n",
        "print(translated_text)\n"
      ]
    },
    {
      "cell_type": "code",
      "execution_count": 26,
      "metadata": {},
      "outputs": [
        {
          "name": "stdout",
          "output_type": "stream",
          "text": [
            "Token length: 8000\n"
          ]
        }
      ],
      "source": [
        "token_length = count_tokens(translated_text)\n",
        "print(f\"Token length: {token_length}\")"
      ]
    },
    {
      "cell_type": "code",
      "execution_count": 27,
      "metadata": {},
      "outputs": [
        {
          "name": "stderr",
          "output_type": "stream",
          "text": [
            "Truncation was not explicitly activated but `max_length` is provided a specific value, please use `truncation=True` to explicitly truncate examples to max length. Defaulting to 'longest_first' truncation strategy. If you encode pairs of sequences (GLUE-style) with the tokenizer you can select this strategy more precisely by providing a specific strategy to `truncation`.\n",
            "d:\\Python\\LLM_Environment\\myenv\\lib\\site-packages\\transformers\\generation\\configuration_utils.py:601: UserWarning: `do_sample` is set to `False`. However, `temperature` is set to `0.6` -- this flag is only used in sample-based generation modes. You should set `do_sample=True` or unset `temperature`.\n",
            "  warnings.warn(\n",
            "d:\\Python\\LLM_Environment\\myenv\\lib\\site-packages\\transformers\\generation\\configuration_utils.py:606: UserWarning: `do_sample` is set to `False`. However, `top_p` is set to `0.9` -- this flag is only used in sample-based generation modes. You should set `do_sample=True` or unset `top_p`.\n",
            "  warnings.warn(\n"
          ]
        },
        {
          "name": "stdout",
          "output_type": "stream",
          "text": [
            "Translate this Indonesian text to English: KLINIK TERKAITDaya Paksa dan Pembelaan Terpaksa sebagai Alasan Penghapus Pidana11 Jan, 2023 Arti Ultimum Remedium sebagai Sanksi Pamungkas15 Jul, 2022 Litigasi dan Alternatif Penyelesaian Sengketa di Luar Pengadilan10 Jul, 2020 Bisakah Dipidana Karena Menembak Anjing yang Menyerang Orang Lain?22 Okt, 2012 Terima kasih atas pertanyaan Anda. Artikel di bawah ini adalah pemutakhiran dari artikel dengan judul Tentang Overmacht dan Hukum Pidana sebagai Ultimum Remediumyang dibuat oleh Anandito Utomo, S. H. dan dipublikasikan pada 19 Agustus 2016. Belajar Hukum Secara Online dari Pengajar Berkompeten Dengan Biaya Terjangkau Mulai Dari Rp. 149. 000 Lihat Semua Kelas Artikel ini dibuat berdasarkan KUHP lama dan UU 1/2023 tentang KUHP yang diundangkan pada tanggal 2 Januari 2023. Seluruh informasi hukum yang ada di Klinik hukumonline. com disiapkan semata – mata untuk tujuan pendidikan dan bersifat umum (lihat Pernyataan Penyangkalanselengkapnya) . Untuk mendapatkan nasihat hukum spesifik terhadap kasus Anda, konsultasikan langsung dengan Konsultan Mitra Justika. Pengertian Overmacht Sebelum menjawab pertanyaan Anda tentang bagaimana ketentuanovermachtdalam hukum pidana, sebaiknya kita pahami terlebih dahulu pengertianovermacht. Alfitradalam bukunya Hapusnya Hak Menuntut dan Menjalankan Pidana (hal. 63) menjelaskan bahwa dalam Memorie van Toelichting (“Wv T”) , daya paksa (overmacht) dijelaskan sebagai setiap kekuatan, dorongan, dan paksaan yang tidak dapat dilawan. Frasadorongan (gedrongen) merujuk pada tekanan psikis, sedangkanpaksaan (dwang) merujuk pada tekanan fisik. Adapun, overmachtdapat menjadi dasar peniadaan pidana. Sedangkan menurut Fitri Wahyunidalam bukunya Dasar-dasar Hukum Pidana di Indonesia (hal. 76) , overmachtadalahdaya paksa relatif (vis compulsive) sepertikeadaan darurat. Dalam Mv T, daya paksa dilukiskan sebagai kekuatan dan setiap daya paksa orang berada dalamdwangpositie (posisi terjepit) . Daya paksa ini merupakan daya paksa psikis yang berasal dari luar dari si pelaku dan daya paksa tersebut lebih kuat dari padanya. Ketentuan Overmachtdalam KUHPKemudian, overmachtatau daya paksa diatur dalam Pasal 48 KUHPlama yang masih berlaku saat artikel ini diterbitkan, sebagai berikut: Barang siapa melakukan perbuatan karena pengaruh daya paksa, tidak dipidana. Sepanjang penelusuran kami, dalam KUHPtidak dijelaskan apa yang dimaksud dengan daya paksa. Namun, untuk mengetahui batasan ruang lingkup berlakunyaovermacht, R. Sugandhidalam bukunya yang berjudul Kitab Undang-Undang Hukum Pidana Berikut Penjelasannyamengatakan bahwa kalimat “karena pengaruh daya paksa” harus diartikan, baik pengaruh daya paksaan batin, maupun lahir, rohani, maupun jasmani. Daya paksa yang tidak dapat dilawan adalah kekuatan yang lebih besar, yaknikekuasaan yang pada umumnya tidak mungkin dapat ditentang. Mengenai kekuasaan ini dapat dibedakan dalam 3 macam, yaitu: Kekuasaan yang Bersifat Mutlak Kekuasaan yang bersifat mutlak berartiorang itu tidak dapat berbuat lain. Ia mengalami sesuatu yang sama sekali tidak dapat dielakkan. Misalnya, seseorang yang dipegang kemudian dilemparkan orang yang lebih kuat ke jendela kaca sehingga kacanya pecah dan mengakibatkan kejahatan merusak barang orang lain. Dalam peristiwa ini orang yang tenaganya lemah itu tidak dapat dihukum karena yang melakukan ialah orang yang lebih kuat. [1] Kekuasaan yang Bersifat Relatif Kekuasaan atau kekuatan yang memaksa orang itu tidak mutlak, tidak penuh. Orang yang dipaksa itu masih punya kesempatan untuk memilih mana yang akan dilakukan. Perbedaan kekuasaan yang bersifat mutlak dan yang bersifat relatif ialah bahwa pada yang mutlak, dalam segala sesuatunya orang yang memaksa itu sendirilah yang berbuat semaunya. Sedangkan pada yang relatif, orang yang dipaksa itulah yang melakukan karena dalam paksaan kekuatan. [2] Misalnya A ditodong dengan pistol oleh B, disuruh membakar rumah. Apabila A tidak segera membakar rumah itu, maka pistol yang ditodongkan kepadanya tersebut akan ditembakkan. Dalam pikiran, memang mungkin A menolak perintah itu sehingga ia ditembak mati. Akan tetapi apabila ia menuruti perintah itu, ia akan melakukan tindak pidana kejahatan. Walaupun demikian, ia tidak dapat dihukum karena adanya paksaan tersebut. [3] Kekuasaan yang Merupakan suatu Keadaan Darurat Pada keadaan darurat, orang yang terpaksa itu sendirilah yang memilih peristiwa pidana mana yang akan ia lakukan. Bedanya dengan kekuasaan yang bersifat relatif, orang itu tidak memilih, sebab orang yang mengambil prakarsa ialah orang yang memaksa. [4] Contohnya, terjadi kecelakaan kapal yaitu kapal meledak dengan mendadak, sehingga penumpangnya masing-masing harus menolong dirinya sendiri. Seorang penumpang beruntung dapat mengapung dengan sebuah papan kayu yang hanya dapat menampung seorang saja. Kemudian datang penumpang lain yang juga ingin menyelamatkan dirinya. Padanya tiada sebuah alat pun yang dapat dipakai untuk menyelamatkan diri. Ia lalu meraih papan kayu yang telah dipakai untuk mengapung oleh orang yang terdahulu dari dia. Orang yang terdahulu itu lalu mendorong orang tersebut hingga tenggelam dan mati. Karena dalam keadaan darurat, maka orang itu tidak dapat dihukum. Penjelasan selengkapnya dapat Anda baca dalam artikel Daya Paksa dan Pembelaan Terpaksa sebagai Alasan Penghapus Pidana. Overmacht= Alasan Pemaaf atau Alasan Pembenar?Kemudian, menurut Fitri Wahyuni, tidak ada kesatuan pendapat di antara para ahli hukum pidana untuk menggolongkan daya paksa apakah sebagai alasan pembenar ataukah alasan pemaaf. Adapun beberapa postulat terkait daya paksa tersebut adalah: [5] Quod alias non fuit licitum necessitas licitum facit. Artinya keadaan terpaksa memperbolehkan apa yang tadinya dilarang oleh hukum. In casu extremae necessitates omnia sunt communia. Artinya keadaan terpaksa, tindakan yang diambil dipandang perlu. Necessitas quod cogit defendit. Artinya keadaan terpaksa melindungi apa yang harus diperbuat. Necessitas sub lege non non continetur, quia quod alias non est licitum necessitas facit licitum. Artinya keadaan terpaksa tidak ditahan oleh hukum, perbuatan yang dilarang oleh hukum, namun dilakukan dalam keadaaan terpaksa maka perbuatan tersebut dianggap sah. Sebagaimana kami sampaikan, penyebab seseorang tidak dapat dipidana dikelompokan menjadi dua yaitu dasar pemaaf (schulduitsluitings-gronderi) dan dasar pembenar (rechtvaardingingsgronderi) . Dalam hal ini, Alfitramenggolongkanovermachtsebagai alasan pembenar dalam hukum pidana (hal. 54) . Alasan pemaafbersifat subjektif dan melekat pada diri orang tersebut, dan ditentukan berdasarkan sikap batin orang tersebut pada saat sebelum atau akan melakukan suatu tindak pidana. Berikut yang dapat dikategorikan sebagai alasan pemaaf: [6] tidak mampu bertanggung jawab, misalnya ketika pelaku memiliki kondisi kejiwaan yang abnormal;pembelaan terpaksa yang melampaui batas;menjalankan perintah jabatan yang tidak sah namun dengan iktikad baik. Sedangkanalasan pembenarmerupakan sifat objektif yang berasal dari faktor eksternal atau diluar suasana batin seseorang. Berikut yang termasuk alasan pembenar: [7] daya paksa;pembelaan terpaksa;menjalankan perintah undang-undang;menjalankan perintah jabatan yang sah. Berbeda dengan pendapat sebelumnya, Moeljatnodan Van Hattummemandangdaya memaksa itu sebagai alasan pemaaf. Van Hattum mengatakan bahwa perbuatan yang terpaksa dilakukan karena keadaan, patut dimaafkan. Demikian halnya dengan seorang sopir taksi yang takut kehilangan nyawanya, karena ditodong oleh orang yang berpistol di belakangnya, melanggar undang-undang (mengendarai mobil dengan kecepatan yang melebihi batas maksimal) . Perbuatan sopir itu melawan hukum, tetapi patut untuk dimaafkan karena padanya tidak dapat diharapkan untuk mempertaruhkan nyawanya. [8] Sehingga, pada intinya, di antara para penulis tidak ada kesatuan pendapat apakah daya memaksa dalam Pasal 48 KUHP itu adalah alasan pembenar atau alasan pemaaf. [9] Ketentuan Overmachtdalam UU 1/2023 Selanjutnya, dalam UU 1/2023 tentang KUHP baru yang berlaku 3 tahun sejak tanggal diundangkan, [10] yaitu 2026, overmachtdiatur dalam Pasal 42, sebagai berikut: Setiap Orang yang melakukan Tindak Pidana tidak dipidana karena: dipaksa oleh kekuatan yang tidak dapat ditahan; ataudipaksa oleh adanya ancaman, tekanan, atau kekuatan yang tidak dapat dihindari Lebih lanjut, menurut Penjelasan Pasal 42 UU 1/2023, ketentuan ini berkenaan dengan daya paksa yang dibagi menjadipaksaan mutlakdanpaksaan relatif. Yang dimaksud dengan \"dipaksa oleh kekuatan yang tidak dapat ditahan\" ataupaksaan mutlakadalah keadaan yang menyebabkan pelaku tidak mempunyai pilihan lain, kecuali melakukan perbuatan tersebut. Karena keadaan yang ada pada diri pelaku maka tidak mungkin baginya untuk menolak atau memilih ketika melakukan perbuatan tersebut. [11] Sedangkan \"dipaksa oleh adanya ancaman, tekanan, atau kekuatan yang tidak dapatdihindari\" ataupaksaan relatifadalah: [12] ancaman, tekanan, atau kekuatan tersebut menurut akal sehat tidak dapat diharapkan bahwa ia dapat mengadakan perlawanan; danapabila kepentingan yang dikorbankan seimbang atau sedikit lebih daripada kepentingan yang diselamatkan. Tekanan kejiwaan dari luar merupakan syarat utama. Mungkin pula seseorang mengalami tekanan kejiwaan, tetapi bukan karena sesuatu yang datang dari luar, melainkan karena keberatan yang didasarkan kepada pertimbangan pikirannya sendiri. Hal yang demikian tidak merupakan alasan pemaaf yang dapat menghapuskan pidananya. [13] Dengan demikian, dapat kami simpulkan bahwaovermachtadalah hal yang datangnya dari luar, mempengaruhi seseorang yang mengalaminya sehingga orang tersebut tidak memiliki opsi lain untuk membela dirinya. Keberadaan daya paksa menjadi penting karena dapat menentukan dan menjadi dasar peniadaan hukuman pidana. Pengertian Ultimum Remedium Menjawab pertanyaan Anda tentang apa yang dimaksud hukum pidana sebagaiultimum remedium, Sudikno Mertokusumodalam bukunya Penemuan Hukum: Sebuah Pengantar (hal. 128) mengartikanultimum remediumadalah sebagaialat terakhir. Selain itu, ada pendapat yang mengatakan bahwaultimum remediumtidak hanya suatu istilah, tetapi juga merupakan suatuasas hukum. Sebagai contoh, Yasonna Laolydalam berita berjudul Perlu Penegasan Norma Ultimum Remedium Soal Pengenaan Sanksi di Aturan Turunan UU Cipta Kerja (hal. 1) menerangkanultimum remediummerupakan asas hukum yang biasa dipakai dan diartikan sebagai penerapan sanksi pidana menjadi sanksi pamungkas (terakhir) dalam penegakan hukum. Ultimum remediumjuga dapat diartikan sebagai upaya terakhir penegakan hukum, apabila segala upaya seperti perdamaian telah ditempuh. Artinya perkara diutamakan untuk diselesaikan melalui jalur kekeluargaan terlebih dahulu. [14] Dengan demikian, ultimum remediumadalah salah satu asas dalam hukum pidana Indonesia yang mengatakan bahwa hukum pidana hendaklah dijadikan upaya terakhir penegakan hukum. Asasultimum remediumbermakna apabila suatu perkara dapat diselesaikan melalui jalur lain (kekeluargaan, negosiasi, mediasi, perdata, atau hukum administrasi) hendaklah jalur lain tersebut terlebih dahulu dilakukan. Baca juga: Arti Ultimum Remediumsebagai Sanksi Pamungkas Demikian jawaban dari kami, semoga bermanfaat. Dasar Hukum: Kitab Undang-Undang Hukum Pidana;Undang-Undang Nomor 1 Tahun 2023 tentang Kitab Undang-Undang Hukum Pidana. Referensi: Alfitra. Hapusnya Hak Menuntut dan Menjalankan Pidana. Jakarta Timur: Penerbit Raih Asa Sukses, 2014;Fitri Wahyuni. Dasar-dasar Hukum Pidana di Indonesia. Tangerang Selatan: PT Nusantara Persada Utama, 2017. Sudikno Mertokusumo. Penemuan Hukum: Sebuah Pengantar. Yogyakarta: Liberty, 2006;Sudaryono dan Natangsa Surbakti. Hukum Pidana: Dasar-dasar Hukum Pidana berdasarkan KUHP dan RUU KUHP. Surakarta: Muhammadiyah University Press, 2017, hal. 245;R. Sugandhi. Kitab Undang-Undang Hukum Pidana Berikut Penjelasannya. Surabaya: Usaha Nasional, 1980;Mas Putra Zenno Januarsyah. Penerapan Prinsip Ultimum Remedium dalam Tindak Pidana Korupsi. Jurnal Yudisial, Vol. 10, No. 3, 2017 [1] R. Sugandhi. Kitab Undang-Undang Hukum Pidana Berikut Penjelasannya. Surabaya: Usaha Nasional, 1980, hal. 54-55 [2] R. Sugandhi. Kitab Undang-Undang Hukum Pidana Berikut Penjelasannya. Surabaya: Usaha Nasional, 1980, hal. 55 [3] R. Sugandhi. Kitab Undang-Undang Hukum Pidana Berikut Penjelasannya. Surabaya: Usaha Nasional, 1980, hal. 55 [4] R. Sugandhi. Kitab Undang-Undang Hukum Pidana Berikut Penjelasannya. Surabaya: Usaha Nasional, 1980, hal. 55 [5] Fitri Wahyuni. Dasar-dasar Hukum Pidana di Indonesia. Tangerang Selatan: PT Nusantara Persada Utama, 2017, hal. 83 [6] Alfitra. Hapusnya Hak Menuntut dan Menjalankan Pidana. Jakarta Timur: Penerbit Raih Asa Sukses, 2014, hal. 54 [7] Alfitra. Hapusnya Hak Menuntut dan Menjalankan Pidana. Jakarta Timur: Penerbit Raih Asa Sukses, 2014, hal. 54 [8] Sudaryono dan Natangsa Surbakti. Hukum Pidana: Dasar-dasar Hukum Pidana berdasarkan KUHP dan RUU KUHP. Surakarta: Muhammadiyah University Press, 2017, hal. 245 [9] Sudaryono dan Natangsa Surbakti. Hukum Pidana: Dasar-dasar Hukum Pidana berdasarkan KUHP dan RUU KUHP. Surakarta: Muhammadiyah University Press, 2017, hal. 245 [10] Pasal 624 Undang-Undang Nomor 1 Tahun 2023 tentang Kitab Undang-Undang Hukum Pidana (“UU 1/2023”) [11] Penjelasan Pasal 42 huruf a UU 1/2023 [12] Penjelasan Pasal 42 huruf b UU 1/2023 [13] Penjelasan Pasal 42 huruf b UU 1/2023 [14] Mas Putra Zenno Januarsyah. Penerapan Prinsip Ultimum Remedium dalam Tindak Pidana Korupsi. Jurnal Yudisial, Vol. 10, No. 3, 2017, hal. 257-258. Artikel ini dibuat berdasarkan KUHP lama dan UU 1/2023 tentang KUHP yang diundangkan pada tanggal 2 Januari 2023. Seluruh informasi hukum yang ada di Klinik hukumonline.com disiapkan semata – mata untuk tujuan pendidikan dan bersifat umum (lihat Pernyataan Penyangkalanselengkapnya). Untuk mendapatkan nasihat hukum spesifik terhadap kasus Anda, konsultasikan langsung dengan Konsultan Mitra Justika. Klik di sini untuk menghubungi Konsultan Mitra Justika. Klik di sini untuk menghubungi Klinik Hukum Online. Klik di sini untuk menghubungi Mitra Hukum Online. Klik di sini untuk menghubungi Layanan Hukum Online. Klik di sini untuk menghubungi Layanan Hukum Online. Klik di sini untuk menghubungi Layanan Hukum Online. Klik di sini untuk menghubungi Layanan Hukum Online. Klik di sini untuk menghubungi Layanan Hukum Online. Klik di sini untuk menghubungi Layanan Hukum Online. Klik di sini untuk menghubungi Layanan Hukum Online. Klik di sini untuk menghubungi Layanan Hukum Online. Klik di sini untuk menghubungi Layanan Hukum Online. Klik di sini untuk menghubungi Layanan Hukum Online. Klik di sini untuk menghubungi Layanan Hukum Online. Klik di sini untuk menghubungi Layanan Hukum Online. Klik di sini untuk menghubungi Layanan Hukum Online. Klik di sini untuk menghubungi Layanan Hukum Online. Klik di sini untuk menghubungi Layanan Hukum Online. Klik di sini untuk menghubungi Layanan Hukum Online. Klik di sini untuk menghubungi Layanan Hukum Online. Klik di sini untuk menghubungi Layanan Hukum Online. Klik di sini untuk menghubungi Layanan Hukum Online. Klik di sini untuk menghubungi Layanan Hukum Online. Klik di sini untuk menghubungi Layanan Hukum Online. Klik di sini untuk menghubungi Layanan Hukum Online. Klik di sini untuk menghubungi Layanan Hukum Online. Klik di sini untuk menghubungi Layanan Hukum Online. Klik di sini untuk menghubungi Layanan Hukum Online. Klik di sini untuk menghubungi Layanan Hukum Online. Klik di sini untuk menghubungi Layanan Hukum Online. Klik di sini untuk menghubungi Layanan Hukum Online. Klik di sini untuk menghubungi Layanan Hukum Online. Klik di sini untuk menghubungi Layanan Hukum Online. Klik di sini untuk menghubungi Layanan Hukum Online. Klik di sini untuk menghubungi Layanan Hukum Online. Klik di sini untuk menghubungi Layanan Hukum Online. Klik di sini untuk menghubungi Layanan Hukum Online. Klik di sini untuk menghubungi Layanan Hukum Online. Klik di sini untuk menghubungi Layanan Hukum Online. Klik di sini untuk menghubungi Layanan Hukum Online. Klik di sini untuk menghubungi Layanan Hukum Online. Klik di sini untuk menghubungi Layanan Hukum Online. Klik di sini untuk menghubungi Layanan Hukum Online. Klik di sini untuk menghubungi Layanan Hukum Online. Klik di sini untuk menghubungi Layanan Hukum Online. Klik di sini untuk menghubungi Layanan Hukum Online. Klik di sini untuk menghubungi Layanan Hukum Online. Klik di sini untuk menghubungi Layanan Hukum Online. Klik di sini untuk menghubungi Layanan Hukum Online. Klik di sini untuk menghubungi Layanan Hukum Online. Klik di sini untuk menghubungi Layanan Hukum Online. Klik di sini untuk menghubungi Layanan Hukum Online. Klik di sini untuk menghubungi Layanan Hukum Online. Klik di sini untuk menghubungi Layanan Hukum Online. Klik di sini untuk menghubungi Layanan Hukum Online. Klik di sini untuk menghubungi Layanan Hukum Online. Klik di sini untuk menghubungi Layanan Hukum Online. Klik di sini untuk menghubungi Layanan Hukum Online. Klik di sini untuk menghubungi Layanan Hukum Online. Klik di sini untuk menghubungi Layanan Hukum Online. Klik di sini untuk menghubungi Layanan Hukum Online. Klik di sini untuk menghubungi Layanan Hukum Online. Klik di sini untuk menghubungi Layanan Hukum Online. Klik di sini untuk menghubungi Layanan Hukum Online. Klik di sini untuk menghubungi Layanan Hukum Online. Klik di sini untuk menghubungi Layanan Hukum Online. Klik di sini untuk menghubungi Layanan Hukum Online. Klik di sini untuk menghubungi Layanan Hukum Online. Klik di sini untuk menghubungi Layanan Hukum Online. Klik di sini untuk menghubungi Layanan Hukum Online. Klik di sini untuk menghubungi Layanan Hukum Online. Klik di sini untuk menghubungi Layanan Hukum Online. Klik di sini untuk menghubungi Layanan Hukum Online. Klik di sini untuk menghubungi Layanan Hukum Online. Klik di sini untuk menghubungi Layanan Hukum Online. Klik di sini untuk menghubungi Layanan Hukum Online. Klik di sini untuk menghubungi Layanan Hukum Online. Klik di sini untuk menghubungi Layanan Hukum Online. Klik di sini untuk menghubungi Layanan Hukum Online. Klik di sini untuk menghubungi Layanan Hukum Online. Klik di sini untuk menghubungi Layanan Hukum Online. Klik di sini untuk menghubungi Layanan Hukum Online. Klik di sini untuk menghubungi Layanan Hukum Online. Klik di sini untuk menghubungi Layanan Hukum Online. Klik di sini untuk menghubungi Layanan Hukum Online. Klik di sini untuk menghubungi Layanan Hukum Online. Klik di sini untuk menghubungi Layanan Hukum Online. Klik di sini untuk menghubungi Layanan Hukum Online. Klik di sini untuk menghubungi Layanan Hukum Online. Klik di sini untuk menghubungi Layanan Hukum Online. Klik di sini untuk menghubungi Layanan Hukum Online. Klik di sini untuk menghubungi Layanan Hukum Online. Klik di sini untuk menghubungi Layanan Hukum Online. Klik di sini untuk menghubungi Layanan Hukum Online. Klik di sini untuk menghubungi Layanan Hukum Online. Klik di sini untuk menghubungi Layanan Hukum Online. Klik di sini untuk menghubungi Layanan Hukum Online. Klik di sini untuk menghubungi Layanan Hukum Online. Klik di sini untuk menghubungi Layanan Hukum Online. Klik di sini untuk menghubungi Layanan Hukum Online. Klik di sini untuk menghubungi Layanan Hukum Online. Klik di sini untuk menghubungi Layanan Hukum Online. Klik di sini untuk menghubungi Layanan Hukum Online. Klik di sini untuk menghubungi Layanan Hukum Online. Klik di sini untuk menghubungi Layanan Hukum Online. Klik di sini untuk menghubungi Layanan Hukum Online. Klik di sini untuk menghubungi Layanan Hukum Online. Klik di sini untuk menghubungi Layanan Hukum Online. Klik di sini untuk menghubungi Layanan Hukum Online. Klik di sini untuk menghubungi Layanan Hukum Online. Klik di sini untuk menghubungi Layanan Hukum Online. Klik di sini untuk menghubungi Layanan Hukum Online. Klik di sini untuk menghubungi Layanan Hukum Online. Klik di sini untuk menghubungi Layanan Hukum Online. Klik di sini untuk menghubungi Layanan Hukum Online. Klik di sini untuk menghubungi Layanan Hukum Online. Klik di sini untuk menghubungi Layanan Hukum Online. Klik di sini untuk menghubungi Layanan Hukum Online. Klik di sini untuk menghubungi Layanan Hukum Online. Klik di sini untuk menghubungi Layanan Hukum Online. Klik di sini untuk menghubungi Layanan Hukum Online. Klik di sini untuk menghubungi Layanan Hukum Online. Klik di sini untuk menghubungi Layanan Hukum Online. Klik di sini untuk menghubungi Layanan Hukum Online. Klik di sini untuk menghubungi Layanan Hukum Online. Klik di sini untuk menghubungi Layanan Hukum Online. Klik di sini untuk menghubungi Layanan Hukum Online. Klik di sini untuk menghubungi Layanan Hukum Online. Klik di sini untuk menghubungi Layanan Hukum Online. Klik di sini untuk menghubungi Layanan Hukum Online. Klik di sini untuk menghubungi Layanan Hukum Online. Klik di sini untuk menghubungi Layanan Hukum Online. Klik di sini untuk menghubungi Layanan Hukum Online. Klik di sini untuk menghubungi Layanan Hukum Online. Klik di sini untuk menghubungi Layanan Hukum Online. Klik di sini untuk menghubungi Layanan Hukum Online. Klik di sini untuk menghubungi Layanan Hukum Online. Klik di sini untuk menghubungi Layanan Hukum Online. Klik di sini untuk menghubungi Layanan Hukum Online. Klik di sini untuk menghubungi Layanan Hukum Online. Klik di sini untuk menghubungi Layanan Hukum Online. Klik di sini untuk menghubungi Layanan Hukum Online. Klik di sini untuk menghubungi Layanan Hukum Online. Klik di sini untuk menghubungi Layanan Hukum Online. Klik di sini untuk menghubungi Layanan Hukum Online. Klik di sini untuk menghubungi Layanan Hukum Online. Klik di sini untuk menghubungi Layanan Hukum Online. Klik di sini untuk menghubungi Layanan Hukum Online. Klik di sini untuk menghubungi Layanan Hukum Online. Klik di sini untuk menghubungi Layanan Hukum Online. Klik di sini untuk menghubungi Layanan Hukum Online. Klik di sini untuk menghubungi Layanan Hukum Online. Klik di sini untuk menghubungi Layanan Hukum Online. Klik di sini untuk menghubungi Layanan Hukum Online. Klik di sini untuk menghubungi Layanan Hukum Online. Klik di sini untuk menghubungi Layanan Hukum Online. Klik di sini untuk menghubungi Layanan Hukum Online. Klik di sini untuk menghubungi Layanan Hukum Online. Klik di sini untuk menghubungi Layanan Hukum Online. Klik di sini untuk menghubungi Layanan Hukum Online. Klik di sini untuk menghubungi Layanan Hukum Online. Klik di sini untuk menghubungi Layanan Hukum Online. Klik di sini untuk menghubungi Layanan Hukum Online. Klik di sini untuk menghubungi Layanan Hukum Online. Klik di sini untuk menghubungi Layanan Hukum Online. Klik di sini untuk menghubungi Layanan Hukum Online. Klik di sini untuk menghubungi Layanan Hukum Online. Klik di sini untuk menghubungi Layanan Hukum Online. Klik di sini untuk menghubungi Layanan Hukum Online. Klik di sini untuk menghubungi Layanan Hukum Online. Klik di sini untuk menghubungi Layanan Hukum Online. Klik di sini untuk menghubungi Layanan Hukum Online. Klik di sini untuk menghubungi Layanan Hukum Online. Klik di sini untuk menghubungi Layanan Hukum Online. Klik di sini untuk menghubungi Layanan Hukum Online. Klik di sini untuk menghubungi Layanan Hukum Online. Klik di sini untuk menghubungi Layanan Hukum Online. Klik di sini untuk menghubungi Layanan Hukum Online. Klik di sini untuk menghubungi Layanan Hukum Online. Klik di sini untuk menghubungi Layanan Hukum Online. Klik di sini untuk menghubungi Layanan Hukum Online. Klik di sini untuk menghubungi Layanan Hukum Online. Klik di sini untuk menghubungi Layanan Hukum Online. Klik di sini untuk menghubungi Layanan Hukum Online. Klik di sini untuk menghubungi Layanan Hukum Online. Klik di sini untuk menghubungi Layanan Hukum Online. Klik di sini untuk menghubungi Layanan Hukum Online. Klik di sini untuk menghubungi Layanan Hukum Online. Klik di sini untuk menghubungi Layanan Hukum Online. Klik di sini untuk menghubungi Layanan Hukum Online. Klik di sini untuk menghubungi Layanan Hukum Online. Klik di sini untuk menghubungi Layanan Hukum Online. Klik di sini untuk menghubungi Layanan Hukum Online. Klik di sini untuk menghubungi Layanan Hukum Online. Klik di sini untuk menghubungi Layanan Hukum Online. Klik di sini untuk menghubungi Layanan Hukum Online. Klik di sini untuk menghubungi Layanan Hukum Online. Klik di sini untuk menghubungi Layanan Hukum Online. Klik di sini untuk menghubungi Layanan Hukum Online. Klik di sini untuk menghubungi Layanan Hukum Online. Klik di sini untuk menghubungi Layanan Hukum Online. Klik di sini untuk menghubungi Layanan Hukum Online. Klik di sini untuk menghubungi Layanan Hukum Online. Klik di sini untuk menghubungi Layanan Hukum Online. Klik di sini untuk menghubungi Layanan Hukum Online. Klik di sini untuk menghubungi Layanan Hukum Online. Klik di sini untuk menghubungi Layanan Hukum Online. Klik di sini untuk menghubungi Layanan Hukum Online. Klik di sini untuk menghubungi Layanan Hukum Online. Klik di sini untuk menghubungi Layanan Hukum Online. Klik di sini untuk menghubungi Layanan Hukum Online. Klik di sini untuk menghubungi Layanan Hukum Online. Klik di sini untuk menghubungi Layanan Hukum Online. Klik di sini untuk menghubungi Layanan Hukum Online. Klik di sini untuk menghubungi Layanan Hukum Online. Klik di sini untuk menghubungi Layanan Hukum Online. Klik di sini untuk menghubungi Layanan Hukum Online. Klik di sini untuk menghubungi Layanan Hukum\n"
          ]
        }
      ],
      "source": [
        "translator = pipeline(\"text-generation\", model=model, tokenizer=tokenizer, device=0)\n",
        "\n",
        "def split_text_into_chunks(text, max_tokens=8000):\n",
        "    tokens = tokenizer(text, return_tensors='pt', truncation=False)['input_ids'][0]\n",
        "    token_length = len(tokens)\n",
        "\n",
        "    if token_length <= max_tokens:\n",
        "        return [text]\n",
        "\n",
        "    chunks = []\n",
        "    for i in range(0, token_length, max_tokens):\n",
        "        chunk_tokens = tokens[i:min(i + max_tokens, token_length)]\n",
        "        chunk_text = tokenizer.decode(chunk_tokens, skip_special_tokens=True)\n",
        "        chunks.append(chunk_text)\n",
        "\n",
        "    return chunks\n",
        "\n",
        "def translate_large_text(text):\n",
        "    chunks = split_text_into_chunks(text)\n",
        "    formatted_chunks = [f\"Translate this Indonesian text to English: {chunk}\" for chunk in chunks]\n",
        "\n",
        "    translated_chunks = []\n",
        "    for chunk in formatted_chunks:\n",
        "        translated = translator(chunk, max_length=8000, do_sample=False)[0]['generated_text']\n",
        "        translated_chunks.append(translated.strip())\n",
        "    \n",
        "    return ' '.join(translated_chunks)\n",
        "\n",
        "translated_text = translate_large_text(text)\n",
        "print(translated_text)"
      ]
    },
    {
      "cell_type": "code",
      "execution_count": 28,
      "metadata": {},
      "outputs": [
        {
          "name": "stdout",
          "output_type": "stream",
          "text": [
            "Token length: 8000\n"
          ]
        }
      ],
      "source": [
        "token_length = count_tokens(translated_text)\n",
        "print(f\"Token length: {token_length}\")"
      ]
    },
    {
      "cell_type": "markdown",
      "metadata": {},
      "source": [
        "### Question Generation"
      ]
    },
    {
      "cell_type": "code",
      "execution_count": 29,
      "metadata": {},
      "outputs": [
        {
          "name": "stdout",
          "output_type": "stream",
          "text": [
            "Generated Questions:\n",
            "### Human:Generate questions based on the following text:KLINIK TERKAITDaya Paksa dan Pembelaan Terpaksa sebagai Alasan Penghapus Pidana11 Jan, 2023 Arti Ultimum Remedium sebagai Sanksi Pamungkas15 Jul, 2022 Litigasi dan Alternatif Penyelesaian Sengketa di Luar Pengadilan10 Jul, 2020 Bisakah Dipidana Karena Menembak Anjing yang Menyerang Orang Lain?22 Okt, 2012 Terima kasih atas pertanyaan Anda. Artikel di bawah ini adalah pemutakhiran dari artikel dengan judul Tentang Overmacht dan Hukum Pidana sebagai Ultimum Remediumyang dibuat oleh Anandito Utomo, S. H. dan dipublikasikan pada 19 Agustus 2016. Belajar Hukum Secara Online dari Pengajar Berkompeten Dengan Biaya Terjangkau Mulai Dari Rp. 149. 000 Lihat Semua Kelas Artikel ini dibuat berdasarkan KUHP lama dan UU 1/2023 tentang KUHP yang diundangkan pada tanggal 2 Januari 2023. Seluruh informasi hukum yang ada di Klinik hukumonline. com disiapkan semata – mata untuk tujuan pendidikan dan bersifat umum (lihat Pernyataan Penyangkalanselengkapnya) . Untuk mendapatkan nasihat hukum spesifik terhadap kasus Anda, konsultasikan langsung dengan Konsultan Mitra Justika. Pengertian Overmacht Sebelum menjawab pertanyaan Anda tentang bagaimana ketentuanovermachtdalam hukum pidana, sebaiknya kita pahami terlebih dahulu pengertianovermacht. Alfitradalam bukunya Hapusnya Hak Menuntut dan Menjalankan Pidana (hal. 63) menjelaskan bahwa dalam Memorie van Toelichting (“Wv T”) , daya paksa (overmacht) dijelaskan sebagai setiap kekuatan, dorongan, dan paksaan yang tidak dapat dilawan. Frasadorongan (gedrongen) merujuk pada tekanan psikis, sedangkanpaksaan (dwang) merujuk pada tekanan fisik. Adapun, overmachtdapat menjadi dasar peniadaan pidana. Sedangkan menurut Fitri Wahyunidalam bukunya Dasar-dasar Hukum Pidana di Indonesia (hal. 76) , overmachtadalahdaya paksa relatif (vis compulsive) sepertikeadaan darurat. Dalam Mv T, daya paksa dilukiskan sebagai kekuatan dan setiap daya paksa orang berada dalamdwangpositie (posisi terjepit) . Daya paksa ini merupakan daya paksa psikis yang berasal dari luar dari si pelaku dan daya paksa tersebut lebih kuat dari padanya. Ketentuan Overmachtdalam KUHPKemudian, overmachtatau daya paksa diatur dalam Pasal 48 KUHPlama yang masih berlaku saat artikel ini diterbitkan, sebagai berikut: Barang siapa melakukan perbuatan karena pengaruh daya paksa, tidak dipidana. Sepanjang penelusuran kami, dalam KUHPtidak dijelaskan apa yang dimaksud dengan daya paksa. Namun, untuk mengetahui batasan ruang lingkup berlakunyaovermacht, R. Sugandhidalam bukunya yang berjudul Kitab Undang-Undang Hukum Pidana Berikut Penjelasannyamengatakan bahwa kalimat “karena pengaruh daya paksa” harus diartikan, baik pengaruh daya paksaan batin, maupun lahir, rohani, maupun jasmani. Daya paksa yang tidak dapat dilawan adalah kekuatan yang lebih besar, yaknikekuasaan yang pada umumnya tidak mungkin dapat ditentang. Mengenai kekuasaan ini dapat dibedakan dalam 3 macam, yaitu: Kekuasaan yang Bersifat Mutlak Kekuasaan yang bersifat mutlak berartiorang itu tidak dapat berbuat lain. Ia mengalami sesuatu yang sama sekali tidak dapat dielakkan. Misalnya, seseorang yang dipegang kemudian dilemparkan orang yang lebih kuat ke jendela kaca sehingga kacanya pecah dan mengakibatkan kejahatan merusak barang orang lain. Dalam peristiwa ini orang yang tenaganya lemah itu tidak dapat dihukum karena yang melakukan ialah orang yang lebih kuat. [1] Kekuasaan yang Bersifat Relatif Kekuasaan atau kekuatan yang memaksa orang itu tidak mutlak, tidak penuh. Orang yang dipaksa itu masih punya kesempatan untuk memilih mana yang akan dilakukan. Perbedaan kekuasaan yang bersifat mutlak dan yang bersifat relatif ialah bahwa pada yang mutlak, dalam segala sesuatunya orang yang memaksa itu sendirilah yang berbuat semaunya. Sedangkan pada yang relatif, orang yang dipaksa itulah yang melakukan karena dalam paksaan kekuatan. [2] Misalnya A ditodong dengan pistol oleh B, disuruh membakar rumah. Apabila A tidak segera membakar rumah itu, maka pistol yang ditodongkan kepadanya tersebut akan ditembakkan. Dalam pikiran, memang mungkin A menolak perintah itu sehingga ia ditembak mati. Akan tetapi apabila ia menuruti perintah itu, ia akan melakukan tindak pidana kejahatan. Walaupun demikian, ia tidak dapat dihukum karena adanya paksaan tersebut. [3] Kekuasaan yang Merupakan suatu Keadaan Darurat Pada keadaan darurat, orang yang terpaksa itu sendirilah yang memilih peristiwa pidana mana yang akan ia lakukan. Bedanya dengan kekuasaan yang bersifat relatif, orang itu tidak memilih, sebab orang yang mengambil prakarsa ialah orang yang memaksa. [4] Contohnya, terjadi kecelakaan kapal yaitu kapal meledak dengan mendadak, sehingga penumpangnya masing-masing harus menolong dirinya sendiri. Seorang penumpang beruntung dapat mengapung dengan sebuah papan kayu yang hanya dapat menampung seorang saja. Kemudian datang penumpang lain yang juga ingin menyelamatkan dirinya. Padanya tiada sebuah alat pun yang dapat dipakai untuk menyelamatkan diri. Ia lalu meraih papan kayu yang telah dipakai untuk mengapung oleh orang yang terdahulu dari dia. Orang yang terdahulu itu lalu mendorong orang tersebut hingga tenggelam dan mati. Karena dalam keadaan darurat, maka orang itu tidak dapat dihukum. Penjelasan selengkapnya dapat Anda baca dalam artikel Daya Paksa dan Pembelaan Terpaksa sebagai Alasan Penghapus Pidana. Overmacht= Alasan Pemaaf atau Alasan Pembenar?Kemudian, menurut Fitri Wahyuni, tidak ada kesatuan pendapat di antara para ahli hukum pidana untuk menggolongkan daya paksa apakah sebagai alasan pembenar ataukah alasan pemaaf. Adapun beberapa postulat terkait daya paksa tersebut adalah: [5] Quod alias non fuit licitum necessitas licitum facit. Artinya keadaan terpaksa memperbolehkan apa yang tadinya dilarang oleh hukum. In casu extremae necessitates omnia sunt communia. Artinya keadaan terpaksa, tindakan yang diambil dipandang perlu. Necessitas quod cogit defendit. Artinya keadaan terpaksa melindungi apa yang harus diperbuat. Necessitas sub lege non non continetur, quia quod alias non est licitum necessitas facit licitum. Artinya keadaan terpaksa tidak ditahan oleh hukum, perbuatan yang dilarang oleh hukum, namun dilakukan dalam keadaaan terpaksa maka perbuatan tersebut dianggap sah. Sebagaimana kami sampaikan, penyebab seseorang tidak dapat dipidana dikelompokan menjadi dua yaitu dasar pemaaf (schulduitsluitings-gronderi) dan dasar pembenar (rechtvaardingingsgronderi) . Dalam hal ini, Alfitramenggolongkanovermachtsebagai alasan pembenar dalam hukum pidana (hal. 54) . Alasan pemaafbersifat subjektif dan melekat pada diri orang tersebut, dan ditentukan berdasarkan sikap batin orang tersebut pada saat sebelum atau akan melakukan suatu tindak pidana. Berikut yang dapat dikategorikan sebagai alasan pemaaf: [6] tidak mampu bertanggung jawab, misalnya ketika pelaku memiliki kondisi kejiwaan yang abnormal;pembelaan terpaksa yang melampaui batas;menjalankan perintah jabatan yang tidak sah namun dengan iktikad baik. Sedangkanalasan pembenarmerupakan sifat objektif yang berasal dari faktor eksternal atau diluar suasana batin seseorang. Berikut yang termasuk alasan pembenar: [7] daya paksa;pembelaan terpaksa;menjalankan perintah undang-undang;menjalankan perintah jabatan yang sah. Berbeda dengan pendapat sebelumnya, Moeljatnodan Van Hattummemandangdaya memaksa itu sebagai alasan pemaaf. Van Hattum mengatakan bahwa perbuatan yang terpaksa dilakukan karena keadaan, patut dimaafkan. Demikian halnya dengan seorang sopir taksi yang takut kehilangan nyawanya, karena ditodong oleh orang yang berpistol di belakangnya, melanggar undang-undang (mengendarai mobil dengan kecepatan yang melebihi batas maksimal) . Perbuatan sopir itu melawan hukum, tetapi patut untuk dimaafkan karena padanya tidak dapat diharapkan untuk mempertaruhkan nyawanya. [8] Sehingga, pada intinya, di antara para penulis tidak ada kesatuan pendapat apakah daya memaksa dalam Pasal 48 KUHP itu adalah alasan pembenar atau alasan pemaaf. [9] Ketentuan Overmachtdalam UU 1/2023 Selanjutnya, dalam UU 1/2023 tentang KUHP baru yang berlaku 3 tahun sejak tanggal diundangkan, [10] yaitu 2026, overmachtdiatur dalam Pasal 42, sebagai berikut: Setiap Orang yang melakukan Tindak Pidana tidak dipidana karena: dipaksa oleh kekuatan yang tidak dapat ditahan; ataudipaksa oleh adanya ancaman, tekanan, atau kekuatan yang tidak dapat dihindari Lebih lanjut, menurut Penjelasan Pasal 42 UU 1/2023, ketentuan ini berkenaan dengan daya paksa yang dibagi menjadipaksaan mutlakdanpaksaan relatif. Yang dimaksud dengan \"dipaksa oleh kekuatan yang tidak dapat ditahan\" ataupaksaan mutlakadalah keadaan yang menyebabkan pelaku tidak mempunyai pilihan lain, kecuali melakukan perbuatan tersebut. Karena keadaan yang ada pada diri pelaku maka tidak mungkin baginya untuk menolak atau memilih ketika melakukan perbuatan tersebut. [11] Sedangkan \"dipaksa oleh adanya ancaman, tekanan, atau kekuatan yang tidak dapatdihindari\" ataupaksaan relatifadalah: [12] ancaman, tekanan, atau kekuatan tersebut menurut akal sehat tidak dapat diharapkan bahwa ia dapat mengadakan perlawanan; danapabila kepentingan yang dikorbankan seimbang atau sedikit lebih daripada kepentingan yang diselamatkan. Tekanan kejiwaan dari luar merupakan syarat utama. Mungkin pula seseorang mengalami tekanan kejiwaan, tetapi bukan karena sesuatu yang datang dari luar, melainkan karena keberatan yang didasarkan kepada pertimbangan pikirannya sendiri. Hal yang demikian tidak merupakan alasan pemaaf yang dapat menghapuskan pidananya. [13] Dengan demikian, dapat kami simpulkan bahwaovermachtadalah hal yang datangnya dari luar, mempengaruhi seseorang yang mengalaminya sehingga orang tersebut tidak memiliki opsi lain untuk membela dirinya. Keberadaan daya paksa menjadi penting karena dapat menentukan dan menjadi dasar peniadaan hukuman pidana. Pengertian Ultimum Remedium Menjawab pertanyaan Anda tentang apa yang dimaksud hukum pidana sebagaiultimum remedium, Sudikno Mertokusumodalam bukunya Penemuan Hukum: Sebuah Pengantar (hal. 128) mengartikanultimum remediumadalah sebagaialat terakhir. Selain itu, ada pendapat yang mengatakan bahwaultimum remediumtidak hanya suatu istilah, tetapi juga merupakan suatuasas hukum. Sebagai contoh, Yasonna Laolydalam berita berjudul Perlu Penegasan Norma Ultimum Remedium Soal Pengenaan Sanksi di Aturan Turunan UU Cipta Kerja (hal. 1) menerangkanultimum remediummerupakan asas hukum yang biasa dipakai dan diartikan sebagai penerapan sanksi pidana menjadi sanksi pamungkas (terakhir) dalam penegakan hukum. Ultimum remediumjuga dapat diartikan sebagai upaya terakhir penegakan hukum, apabila segala upaya seperti perdamaian telah ditempuh. Artinya perkara diutamakan untuk diselesaikan melalui jalur kekeluargaan terlebih dahulu. [14] Dengan demikian, ultimum remediumadalah salah satu asas dalam hukum pidana Indonesia yang mengatakan bahwa hukum pidana hendaklah dijadikan upaya terakhir penegakan hukum. Asasultimum remediumbermakna apabila suatu perkara dapat diselesaikan melalui jalur lain (kekeluargaan, negosiasi, mediasi, perdata, atau hukum administrasi) hendaklah jalur lain tersebut terlebih dahulu dilakukan. Baca juga: Arti Ultimum Remediumsebagai Sanksi Pamungkas Demikian jawaban dari kami, semoga bermanfaat. Dasar Hukum: Kitab Undang-Undang Hukum Pidana;Undang-Undang Nomor 1 Tahun 2023 tentang Kitab Undang-Undang Hukum Pidana. Referensi: Alfitra. Hapusnya Hak Menuntut dan Menjalankan Pidana. Jakarta Timur: Penerbit Raih Asa Sukses, 2014;Fitri Wahyuni. Dasar-dasar Hukum Pidana di Indonesia. Tangerang Selatan: PT Nusantara Persada Utama, 2017. Sudikno Mertokusumo. Penemuan Hukum: Sebuah Pengantar. Yogyakarta: Liberty, 2006;Sudaryono dan Natangsa Surbakti. Hukum Pidana: Dasar-dasar Hukum Pidana berdasarkan KUHP dan RUU KUHP. Surakarta: Muhammadiyah University Press, 2017, hal. 245;R. Sugandhi. Kitab Undang-Undang Hukum Pidana Berikut Penjelasannya. Surabaya: Usaha Nasional, 1980;Mas Putra Zenno Januarsyah. Penerapan Prinsip Ultimum Remedium dalam Tindak Pidana Korupsi. Jurnal Yudisial, Vol. 10, No. 3, 2017 [1] R. Sugandhi. Kitab Undang-Undang Hukum Pidana Berikut Penjelasannya. Surabaya: Usaha Nasional, 1980, hal. 54-55 [2] R. Sugandhi. Kitab Undang-Undang Hukum Pidana Berikut Penjelasannya. Surabaya: Usaha Nasional, 1980, hal. 55 [3] R. Sugandhi. Kitab Undang-Undang Hukum Pidana Berikut Penjelasannya. Surabaya: Usaha Nasional, 1980, hal. 55 [4] R. Sugandhi. Kitab Undang-Undang Hukum Pidana Berikut Penjelasannya. Surabaya: Usaha Nasional, 1980, hal. 55 [5] Fitri Wahyuni. Dasar-dasar Hukum Pidana di Indonesia. Tangerang Selatan: PT Nusantara Persada Utama, 2017, hal. 83 [6] Alfitra. Hapusnya Hak Menuntut dan Menjalankan Pidana. Jakarta Timur: Penerbit Raih Asa Sukses, 2014, hal. 54 [7] Alfitra. Hapusnya Hak Menuntut dan Menjalankan Pidana. Jakarta Timur: Penerbit Raih Asa Sukses, 2014, hal. 54 [8] Sudaryono dan Natangsa Surbakti. Hukum Pidana: Dasar-dasar Hukum Pidana berdasarkan KUHP dan RUU KUHP. Surakarta: Muhammadiyah University Press, 2017, hal. 245 [9] Sudaryono dan Natangsa Surbakti. Hukum Pidana: Dasar-dasar Hukum Pidana berdasarkan KUHP dan RUU KUHP. Surakarta: Muhammadiyah University Press, 2017, hal. 245 [10] Pasal 624 Undang-Undang Nomor 1 Tahun 2023 tentang Kitab Undang-Undang Hukum Pidana (“UU 1/2023”) [11] Penjelasan Pasal 42 huruf a UU 1/2023 [12] Penjelasan Pasal 42 huruf b UU 1/2023 [13] Penjelasan Pasal 42 huruf b UU 1/2023 [14] Mas Putra Zenno Januarsyah. Penerapan Prinsip Ultimum Remedium dalam Tindak Pidana Korupsi. Jurnal Yudisial, Vol. 10, No. 3, 2017, hal. 257\n",
            "Token length: 4389\n",
            "### Assistant:Generate questions based on the provided text\n",
            "Token length: 11\n",
            "Here are some questions that can be generated based on the provided text:\n",
            "Token length: 15\n",
            "**Overmacht (Daya Paksa)**\n",
            "Token length: 11\n",
            "1. Apa itu overmacht dalam konteks hukum pidana?\n",
            "Token length: 18\n",
            "2. Bagaimana perbedaan antara daya paksa psikis dan daya paksa fisik?\n",
            "Token length: 25\n",
            "3. Apa yang dimaksud dengan \"dipaksa oleh kekuatan yang tidak dapat ditahan\" dalam Pasal 42 UU 1/2023?\n",
            "Token length: 38\n",
            "4. Bagaimana perbedaan antara paksaan mutlak dan paksaan relatif dalam konteks overmacht?\n",
            "Token length: 28\n",
            "**Ultimum Remedium**\n",
            "Token length: 7\n",
            "1. Apa itu ultimum remedium dalam konteks hukum pidana?\n",
            "Token length: 19\n",
            "2. Bagaimana perbedaan antara ultimum remedium sebagai sanksi pamungkas dan sanksi lainnya?\n",
            "Token length: 29\n",
            "3. Apa yang dimaksud dengan \"upaya terakhir penegakan hukum\" dalam konteks ultimum remedium?\n",
            "Token length: 30\n",
            "4. Bagaimana perbedaan antara ultimum remedium dan jalur lain seperti kekeluargaan, negosiasi, mediasi, perdata, atau hukum administrasi?\n",
            "Token length: 43\n",
            "**Penghapusan Pidana**\n",
            "Token length: 10\n",
            "1. Apa yang dimaksud dengan penghapusan pidana dalam konteks hukum pidana?\n",
            "Token length: 24\n",
            "2. Bagaimana perbedaan antara penghapusan pidana karena overmacht dan penghapusan pidana karena alasan lain?\n",
            "Token length: 31\n",
            "3. Apa yang dimaksud dengan \"pembelaan terpaksa\" dalam konteks penghapusan pidana?\n",
            "Token length: 28\n",
            "4. Bagaimana perbedaan antara penghapusan pidana karena overmacht dan penghapusan pidana karena alasan lain dalam konteks hukum pidana?\n",
            "Token length: 39\n",
            "**Pertanyaan Lain**\n",
            "Token length: 9\n",
            "1. Apa yang dimaksud dengan \"sanksi pamungkas\" dalam konteks hukum pidana?\n",
            "Token length: 27\n",
            "2. Bagaimana perbedaan antara sanksi pamungkas dan sanksi lainnya dalam konteks hukum pidana?\n",
            "Token length: 32\n",
            "3. Apa yang dimaksud dengan \"penegakan hukum\" dalam konteks hukum pidana?\n",
            "Token length: 27\n",
            "4. Bagaimana perbedaan antara penegakan hukum dan penghapusan pidana dalam konteks hukum pidana?\n",
            "Token length: 32\n"
          ]
        }
      ],
      "source": [
        "question_generator = pipeline(\"text-generation\", model=model, tokenizer=tokenizer, device=0)\n",
        "\n",
        "def generate_questions(text):\n",
        "    prompt = f\"### Human:Generate questions based on the following text:{text}\\n### Assistant:\"\n",
        "    generated_text = question_generator(prompt, max_new_tokens=800, do_sample=False)[0]['generated_text']\n",
        "    questions = [q.strip() for q in generated_text.split('\\n') if q.strip()]\n",
        "    return questions\n",
        "\n",
        "questions = generate_questions(text)\n",
        "print(\"Generated Questions:\")\n",
        "for question in questions:\n",
        "    print(question)\n",
        "    token_length = count_tokens(question)\n",
        "    print(f\"Token length: {token_length}\")"
      ]
    },
    {
      "cell_type": "code",
      "execution_count": 30,
      "metadata": {},
      "outputs": [
        {
          "name": "stdout",
          "output_type": "stream",
          "text": [
            "Translated Text: ### Human:Translate this Indonesian text to English: KLINIK TERKAITDaya Paksa dan Pembelaan Terpaksa sebagai Alasan Penghapus Pidana11 Jan, 2023 Arti Ultimum Remedium sebagai Sanksi Pamungkas15 Jul, 2022 Litigasi dan Alternatif Penyelesaian Sengketa di Luar Pengadilan10 Jul, 2020 Bisakah Dipidana Karena Menembak Anjing yang Menyerang Orang Lain?22 Okt, 2012 Terima kasih atas pertanyaan Anda. Artikel di bawah ini adalah pemutakhiran dari artikel dengan judul Tentang Overmacht dan Hukum Pidana sebagai Ultimum Remediumyang dibuat oleh Anandito Utomo, S. H. dan dipublikasikan pada 19 Agustus 2016. Belajar Hukum Secara Online dari Pengajar Berkompeten Dengan Biaya Terjangkau Mulai Dari Rp. 149. 000 Lihat Semua Kelas Artikel ini dibuat berdasarkan KUHP lama dan UU 1/2023 tentang KUHP yang diundangkan pada tanggal 2 Januari 2023. Seluruh informasi hukum yang ada di Klinik hukumonline. com disiapkan semata – mata untuk tujuan pendidikan dan bersifat umum (lihat Pernyataan Penyangkalanselengkapnya). Untuk mendapatkan nasihat hukum spesifik terhadap kasus Anda, konsultasikan langsung dengan Konsultan Mitra Justika. Pengertian Overmacht Sebelum menjawab pertanyaan Anda tentang bagaimana ketentuanovermachtdalam hukum pidana, sebaiknya kita pahami terlebih dahulu pengertianovermacht. Alfitradalam bukunya Hapusnya Hak Menuntut dan Menjalankan Pidana (hal. 63) menjelaskan bahwa dalam Memorie van Toelichting (“Wv T”), daya paksa (overmacht) dijelaskan sebagai setiap kekuatan, dorongan, dan paksaan yang tidak dapat dilawan. Frasadorongan (gedrongen) merujuk pada tekanan psikis, sedangkanpaksaan (dwang) merujuk pada tekanan fisik. Adapun, overmachtdapat menjadi dasar peniadaan pidana. Sedangkan menurut Fitri Wahyunidalam bukunya Dasar-dasar Hukum Pidana di Indonesia (hal. 76), overmachtadalahdaya paksa relatif (vis compulsive) sepertikeadaan darurat. Dalam Mv T, daya paksa dilukiskan sebagai kekuatan dan setiap daya paksa orang berada dalamdwangpositie (posisi terjepit). Daya paksa ini merupakan daya paksa psikis yang berasal dari luar dari si pelaku dan daya paksa tersebut lebih kuat dari padanya. Ketentuan Overmachtdalam KUHPKemudian, overmachtatau daya paksa diatur dalam Pasal 48 KUHPlama yang masih berlaku saat artikel ini diterbitkan, sebagai berikut: Barang siapa melakukan perbuatan karena pengaruh daya paksa, tidak dipidana. Sepanjang penelusuran kami, dalam KUHPtidak dijelaskan apa yang dimaksud dengan daya paksa. Namun, untuk mengetahui batasan ruang lingkup berlakunyaovermacht, R. Sugandhidalam bukunya yang berjudul Kitab Undang-Undang Hukum Pidana Berikut Penjelasannyamengatakan bahwa kalimat “karena pengaruh daya paksa” harus diartikan, baik pengaruh daya paksaan batin, maupun lahir, rohani, maupun jasmani. Daya paksa yang tidak dapat dilawan adalah kekuatan yang lebih besar, yaknikekuasaan yang pada umumnya tidak mungkin dapat ditentang. Mengenai kekuasaan ini dapat dibedakan dalam 3 macam, yaitu: Kekuasaan yang Bersifat Mutlak Kekuasaan yang bersifat mutlak berartiorang itu tidak dapat berbuat lain. Ia mengalami sesuatu yang sama sekali tidak dapat dielakkan. Misalnya, seseorang yang dipegang kemudian dilemparkan orang yang lebih kuat ke jendela kaca sehingga kacanya pecah dan mengakibatkan kejahatan merusak barang orang lain. Dalam peristiwa ini orang yang tenaganya lemah itu tidak dapat dihukum karena yang melakukan ialah orang yang lebih kuat. [1] Kekuasaan yang Bersifat Relatif Kekuasaan atau kekuatan yang memaksa orang itu tidak mutlak, tidak penuh. Orang yang dipaksa itu masih punya kesempatan untuk memilih mana yang akan dilakukan. Perbedaan kekuasaan yang bersifat mutlak dan yang bersifat relatif ialah bahwa pada yang mutlak, dalam segala sesuatunya orang yang memaksa itu sendirilah yang berbuat semaunya. Sedangkan pada yang relatif, orang yang dipaksa itulah yang melakukan karena dalam paksaan kekuatan. [2] Misalnya A ditodong dengan pistol oleh B, disuruh membakar rumah. Apabila A tidak segera membakar rumah itu, maka pistol yang ditodongkan kepadanya tersebut akan ditembakkan. Dalam pikiran, memang mungkin A menolak perintah itu sehingga ia ditembak mati. Akan tetapi apabila ia menuruti perintah itu, ia akan melakukan tindak pidana kejahatan. Walaupun demikian, ia tidak dapat dihukum karena adanya paksaan tersebut. [3] Kekuasaan yang Merupakan suatu Keadaan Darurat Pada keadaan darurat, orang yang terpaksa itu sendirilah yang memilih peristiwa pidana mana yang akan ia lakukan. Bedanya dengan kekuasaan yang bersifat relatif, orang itu tidak memilih, sebab orang yang mengambil prakarsa ialah orang yang memaksa. [4] Contohnya, terjadi kecelakaan kapal yaitu kapal meledak dengan mendadak, sehingga penumpangnya masing-masing harus menolong dirinya sendiri. Seorang penumpang beruntung dapat mengapung dengan sebuah papan kayu yang hanya dapat menampung seorang saja. Kemudian datang penumpang lain yang juga ingin menyelamatkan dirinya. Padanya tiada sebuah alat pun yang dapat dipakai untuk menyelamatkan diri. Ia lalu meraih papan kayu yang telah dipakai untuk mengapung oleh orang yang terdahulu dari dia. Orang yang terdahulu itu lalu mendorong orang tersebut hingga tenggelam dan mati. Karena dalam keadaan darurat, maka orang itu tidak dapat dihukum. Penjelasan selengkapnya dapat Anda baca dalam artikel Daya Paksa dan Pembelaan Terpaksa sebagai Alasan Penghapus Pidana. Overmacht= Alasan Pemaaf atau Alasan Pembenar?Kemudian, menurut Fitri Wahyuni, tidak ada kesatuan pendapat di antara para ahli hukum pidana untuk menggolongkan daya paksa apakah sebagai alasan pembenar ataukah alasan pemaaf. Adapun beberapa postulat terkait daya paksa tersebut adalah: [5] Quod alias non fuit licitum necessitas licitum facit. Artinya keadaan terpaksa memperbolehkan apa yang tadinya dilarang oleh hukum. In casu extremae necessitates omnia sunt communia. Artinya keadaan terpaksa, tindakan yang diambil dipandang perlu. Necessitas quod cogit defendit. Artinya keadaan terpaksa melindungi apa yang harus diperbuat. Necessitas sub lege non non continetur, quia quod alias non est licitum necessitas facit licitum. Artinya keadaan terpaksa tidak ditahan oleh hukum, perbuatan yang dilarang oleh hukum, namun dilakukan dalam keadaaan terpaksa maka perbuatan tersebut dianggap sah. Sebagaimana kami sampaikan, penyebab seseorang tidak dapat dipidana dikelompokan menjadi dua yaitu dasar pemaaf (schulduitsluitings-gronderi) dan dasar pembenar (rechtvaardingingsgronderi). Dalam hal ini, Alfitramenggolongkanovermachtsebagai alasan pembenar dalam hukum pidana (hal. 54). Alasan pemaafbersifat subjektif dan melekat pada diri orang tersebut, dan ditentukan berdasarkan sikap batin orang tersebut pada saat sebelum atau akan melakukan suatu tindak pidana. Berikut yang dapat dikategorikan sebagai alasan pemaaf: [6] tidak mampu bertanggung jawab, misalnya ketika pelaku memiliki kondisi kejiwaan yang abnormal;pembelaan terpaksa yang melampaui batas;menjalankan perintah jabatan yang tidak sah namun dengan iktikad baik. Sedangkanalasan pembenarmerupakan sifat objektif yang berasal dari faktor eksternal atau diluar suasana batin seseorang. Berikut yang termasuk alasan pembenar: [7] daya paksa;pembelaan terpaksa;menjalankan perintah undang-undang;menjalankan perintah jabatan yang sah. Berbeda dengan pendapat sebelumnya, Moeljatnodan Van Hattummemandangdaya memaksa itu sebagai alasan pemaaf. Van Hattum mengatakan bahwa perbuatan yang terpaksa dilakukan karena keadaan, patut dimaafkan. Demikian halnya dengan seorang sopir taksi yang takut kehilangan nyawanya, karena ditodong oleh orang yang berpistol di belakangnya, melanggar undang-undang (mengendarai mobil dengan kecepatan yang melebihi batas maksimal). Perbuatan sopir itu melawan hukum, tetapi patut untuk dimaafkan karena padanya tidak dapat diharapkan untuk mempertaruhkan nyawanya. [8] Sehingga, pada intinya, di antara para penulis tidak ada kesatuan pendapat apakah daya memaksa dalam Pasal 48 KUHP itu adalah alasan pembenar atau alasan pemaaf. [9] Ketentuan Overmachtdalam UU 1/2023 Selanjutnya, dalam UU 1/2023 tentang KUHP baru yang berlaku 3 tahun sejak tanggal diundangkan, [10] yaitu 2026, overmachtdiatur dalam Pasal 42, sebagai berikut: Setiap Orang yang melakukan Tindak Pidana tidak dipidana karena: dipaksa oleh kekuatan yang tidak dapat ditahan; ataudipaksa oleh adanya ancaman, tekanan, atau kekuatan yang tidak dapat dihindari Lebih lanjut, menurut Penjelasan Pasal 42 UU 1/2023, ketentuan ini berkenaan dengan daya paksa yang dibagi menjadipaksaan mutlakdanpaksaan relatif. Yang dimaksud dengan \"dipaksa oleh kekuatan yang tidak dapat ditahan\" ataupaksaan mutlakadalah keadaan yang menyebabkan pelaku tidak mempunyai pilihan lain, kecuali melakukan perbuatan tersebut. Karena keadaan yang ada pada diri pelaku maka tidak mungkin baginya untuk menolak atau memilih ketika melakukan perbuatan tersebut. [11] Sedangkan \"dipaksa oleh adanya ancaman, tekanan, atau kekuatan yang tidak dapatdihindari\" ataupaksaan relatifadalah: [12] ancaman, tekanan, atau kekuatan tersebut menurut akal sehat tidak dapat diharapkan bahwa ia dapat mengadakan perlawanan; danapabila kepentingan yang dikorbankan seimbang atau sedikit lebih daripada kepentingan yang diselamatkan. Tekanan kejiwaan dari luar merupakan syarat utama. Mungkin pula seseorang mengalami tekanan kejiwaan, tetapi bukan karena sesuatu yang datang dari luar, melainkan karena keberatan yang didasarkan kepada pertimbangan pikirannya sendiri. Hal yang demikian tidak merupakan alasan pemaaf yang dapat menghapuskan pidananya. [13] Dengan demikian, dapat kami simpulkan bahwaovermachtadalah hal yang datangnya dari luar, mempengaruhi seseorang yang mengalaminya sehingga orang tersebut tidak memiliki opsi lain untuk membela dirinya. Keberadaan daya paksa menjadi penting karena dapat menentukan dan menjadi dasar peniadaan hukuman pidana. Pengertian Ultimum Remedium Menjawab pertanyaan Anda tentang apa yang dimaksud hukum pidana sebagaiultimum remedium, Sudikno Mertokusumodalam bukunya Penemuan Hukum: Sebuah Pengantar (hal. 128) mengartikanultimum remediumadalah sebagaialat terakhir. Selain itu, ada pendapat yang mengatakan bahwaultimum remediumtidak hanya suatu istilah, tetapi juga merupakan suatuasas hukum. Sebagai contoh, Yasonna Laolydalam berita berjudul Perlu Penegasan Norma Ultimum Remedium Soal Pengenaan Sanksi di Aturan Turunan UU Cipta Kerja (hal. 1) menerangkanultimum remediummerupakan asas hukum yang biasa dipakai dan diartikan sebagai penerapan sanksi pidana menjadi sanksi pamungkas (terakhir) dalam penegakan hukum. Ultimum remediumjuga dapat diartikan sebagai upaya terakhir penegakan hukum, apabila segala upaya seperti perdamaian telah ditempuh. Artinya perkara diutamakan untuk diselesaikan melalui jalur kekeluargaan terlebih dahulu. [14] Dengan demikian, ultimum remediumadalah salah satu asas dalam hukum pidana Indonesia yang mengatakan bahwa hukum pidana hendaklah dijadikan upaya terakhir penegakan hukum. Asasultimum remediumbermakna apabila suatu perkara dapat diselesaikan melalui jalur lain (kekeluargaan, negosiasi, mediasi, perdata, atau hukum administrasi) hendaklah jalur lain tersebut terlebih dahulu dilakukan. Baca juga: Arti Ultimum Remediumsebagai Sanksi Pamungkas Demikian jawaban dari kami, semoga bermanfaat. Dasar Hukum: Kitab Undang-Undang Hukum Pidana;Undang-Undang Nomor 1 Tahun 2023 tentang Kitab Undang-Undang Hukum Pidana. Referensi: Alfitra. Hapusnya Hak Menuntut dan Menjalankan Pidana. Jakarta Timur: Penerbit Raih Asa Sukses, 2014;Fitri Wahyuni. Dasar-dasar Hukum Pidana di Indonesia. Tangerang Selatan: PT Nusantara Persada Utama, 2017. Sudikno Mertokusumo. Penemuan Hukum: Sebuah Pengantar. Yogyakarta: Liberty, 2006;Sudaryono dan Natangsa Surbakti. Hukum Pidana: Dasar-dasar Hukum Pidana berdasarkan KUHP dan RUU KUHP. Surakarta: Muhammadiyah University Press, 2017, hal. 245;R. Sugandhi. Kitab Undang-Undang Hukum Pidana Berikut Penjelasannya. Surabaya: Usaha Nasional, 1980;Mas Putra Zenno Januarsyah. Penerapan Prinsip Ultimum Remedium dalam Tindak Pidana Korupsi. Jurnal Yudisial, Vol. 10, No. 3, 2017 [1] R. Sugandhi. Kitab Undang-Undang Hukum Pidana Berikut Penjelasannya. Surabaya: Usaha Nasional, 1980, hal. 54-55 [2] R. Sugandhi. Kitab Undang-Undang Hukum Pidana Berikut Penjelasannya. Surabaya: Usaha Nasional, 1980, hal. 55 [3] R. Sugandhi. Kitab Undang-Undang Hukum Pidana Berikut Penjelasannya. Surabaya: Usaha Nasional, 1980, hal. 55 [4] R. Sugandhi. Kitab Undang-Undang Hukum Pidana Berikut Penjelasannya. Surabaya: Usaha Nasional, 1980, hal. 55 [5] Fitri Wahyuni. Dasar-dasar Hukum Pidana di Indonesia. Tangerang Selatan: PT Nusantara Persada Utama, 2017, hal. 83 [6] Alfitra. Hapusnya Hak Menuntut dan Menjalankan Pidana. Jakarta Timur: Penerbit Raih Asa Sukses, 2014, hal. 54 [7] Alfitra. Hapusnya Hak Menuntut dan Menjalankan Pidana. Jakarta Timur: Penerbit Raih Asa Sukses, 2014, hal. 54 [8] Sudaryono dan Natangsa Surbakti. Hukum Pidana: Dasar-dasar Hukum Pidana berdasarkan KUHP dan RUU KUHP. Surakarta: Muhammadiyah University Press, 2017, hal. 245 [9] Sudaryono dan Natangsa Surbakti. Hukum Pidana: Dasar-dasar Hukum Pidana berdasarkan KUHP dan RUU KUHP. Surakarta: Muhammadiyah University Press, 2017, hal. 245 [10] Pasal 624 Undang-Undang Nomor 1 Tahun 2023 tentang Kitab Undang-Undang Hukum Pidana (“UU 1/2023”) [11] Penjelasan Pasal 42 huruf a UU 1/2023 [12] Penjelasan Pasal 42 huruf b UU 1/2023 [13] Penjelasan Pasal 42 huruf b UU 1/2023 [14] Mas Putra Zenno Januarsyah. Penerapan Prinsip Ultimum Remedium dalam Tindak Pidana Korupsi. Jurnal Yudisial, Vol. 10, No. 3, 2017, hal. 257\n",
            "### Assistant:Here is the translation of the Indonesian text to English:\n",
            "\n",
            "**Clinic Related:**\n",
            "\n",
            "* **Overpower and Defense as a Reason for Exoneration**\n",
            "* **Ultimum Remedium as a Final Penalty**\n",
            "* **Litigation and Alternative Dispute Resolution Outside the Court**\n",
            "* **Can Be Punished for Shooting a Dog that Attacks a Human?**\n",
            "* **Thank you for your question. The article below is a revision of the article with the title \"About Overpower and Criminal Law as a Final Penalty\" by Anandito Utomo, S. H. and published on August 19, 2016.**\n",
            "\n",
            "**Learn Law Online from Competent Teachers at a Low Cost Starting from Rp. 149,000**\n",
            "\n",
            "* **Definition of Overpower**\n",
            "* **Before answering your question about how the term \"overpower\" in criminal law, we need to understand the definition of \"overpower\" first.**\n",
            "* **Alfitra in his book \"Hapusnya Hak Menuntut dan Menjalankan Pidana\" (Exoneration of Rights to Sue and Enforce a Crime) defines \"overpower\" as any force, pressure, and coercion that cannot be resisted.**\n",
            "* **Fraser pressure (gedrongen) refers to psychological pressure, while coercion (dwang) refers to physical pressure.**\n",
            "* **Overpower can be a basis for exoneration of a crime.**\n",
            "* **In contrast, Fitri Wahyuni does not agree on a unified opinion among experts in criminal law regarding whether \"overpower\" is an excuse or an excuse.**\n",
            "* **Some postulates related to \"overpower\" are:**\n",
            "* **Quod alias non fuit licitum necessitas licitum facit. (What was not allowed by law is allowed by necessity.)**\n",
            "* **In casu extremae necessitas omnia sunt communia. (In extreme necessity, all things are common.)**\n",
            "* **Necessitas quod cogit defendit. (Necessity protects what must be done.)**\n",
            "* **Necessitas sub lege non non continetur, quia quod alias non est licitum necessitas facit licitum. (Necessity cannot be contained by law, because what was not allowed by law is done by necessity.)**\n",
            "* **According to Alfitra, \"overpower\" is an excuse in criminal law.**\n",
            "* **Alfitra categorizes \"overpower\" as an excuse (schulduitsluitings-gronderi) and an excuse (rechtvaardingingsgronderi).**\n",
            "* **Sedangkan, Moeljatno dan Van Hattum memandang \"daya memaksa\" itu sebagai alasan pemaaf.**\n",
            "* **Van Hattum states that the act that is forced to be done due to a situation is worthy of being excused.**\n",
            "* **For example, a taxi\n",
            "Token length: 4985\n",
            "Generated Questions: ### Human:Generate questions based on the following text:KLINIK TERKAITDaya Paksa dan Pembelaan Terpaksa sebagai Alasan Penghapus Pidana11 Jan, 2023 Arti Ultimum Remedium sebagai Sanksi Pamungkas15 Jul, 2022 Litigasi dan Alternatif Penyelesaian Sengketa di Luar Pengadilan10 Jul, 2020 Bisakah Dipidana Karena Menembak Anjing yang Menyerang Orang Lain?22 Okt, 2012 Terima kasih atas pertanyaan Anda. Artikel di bawah ini adalah pemutakhiran dari artikel dengan judul Tentang Overmacht dan Hukum Pidana sebagai Ultimum Remediumyang dibuat oleh Anandito Utomo, S. H. dan dipublikasikan pada 19 Agustus 2016. Belajar Hukum Secara Online dari Pengajar Berkompeten Dengan Biaya Terjangkau Mulai Dari Rp. 149. 000 Lihat Semua Kelas Artikel ini dibuat berdasarkan KUHP lama dan UU 1/2023 tentang KUHP yang diundangkan pada tanggal 2 Januari 2023. Seluruh informasi hukum yang ada di Klinik hukumonline. com disiapkan semata – mata untuk tujuan pendidikan dan bersifat umum (lihat Pernyataan Penyangkalanselengkapnya). Untuk mendapatkan nasihat hukum spesifik terhadap kasus Anda, konsultasikan langsung dengan Konsultan Mitra Justika. Pengertian Overmacht Sebelum menjawab pertanyaan Anda tentang bagaimana ketentuanovermachtdalam hukum pidana, sebaiknya kita pahami terlebih dahulu pengertianovermacht. Alfitradalam bukunya Hapusnya Hak Menuntut dan Menjalankan Pidana (hal. 63) menjelaskan bahwa dalam Memorie van Toelichting (“Wv T”), daya paksa (overmacht) dijelaskan sebagai setiap kekuatan, dorongan, dan paksaan yang tidak dapat dilawan. Frasadorongan (gedrongen) merujuk pada tekanan psikis, sedangkanpaksaan (dwang) merujuk pada tekanan fisik. Adapun, overmachtdapat menjadi dasar peniadaan pidana. Sedangkan menurut Fitri Wahyunidalam bukunya Dasar-dasar Hukum Pidana di Indonesia (hal. 76), overmachtadalahdaya paksa relatif (vis compulsive) sepertikeadaan darurat. Dalam Mv T, daya paksa dilukiskan sebagai kekuatan dan setiap daya paksa orang berada dalamdwangpositie (posisi terjepit). Daya paksa ini merupakan daya paksa psikis yang berasal dari luar dari si pelaku dan daya paksa tersebut lebih kuat dari padanya. Ketentuan Overmachtdalam KUHPKemudian, overmachtatau daya paksa diatur dalam Pasal 48 KUHPlama yang masih berlaku saat artikel ini diterbitkan, sebagai berikut: Barang siapa melakukan perbuatan karena pengaruh daya paksa, tidak dipidana. Sepanjang penelusuran kami, dalam KUHPtidak dijelaskan apa yang dimaksud dengan daya paksa. Namun, untuk mengetahui batasan ruang lingkup berlakunyaovermacht, R. Sugandhidalam bukunya yang berjudul Kitab Undang-Undang Hukum Pidana Berikut Penjelasannyamengatakan bahwa kalimat “karena pengaruh daya paksa” harus diartikan, baik pengaruh daya paksaan batin, maupun lahir, rohani, maupun jasmani. Daya paksa yang tidak dapat dilawan adalah kekuatan yang lebih besar, yaknikekuasaan yang pada umumnya tidak mungkin dapat ditentang. Mengenai kekuasaan ini dapat dibedakan dalam 3 macam, yaitu: Kekuasaan yang Bersifat Mutlak Kekuasaan yang bersifat mutlak berartiorang itu tidak dapat berbuat lain. Ia mengalami sesuatu yang sama sekali tidak dapat dielakkan. Misalnya, seseorang yang dipegang kemudian dilemparkan orang yang lebih kuat ke jendela kaca sehingga kacanya pecah dan mengakibatkan kejahatan merusak barang orang lain. Dalam peristiwa ini orang yang tenaganya lemah itu tidak dapat dihukum karena yang melakukan ialah orang yang lebih kuat. [1] Kekuasaan yang Bersifat Relatif Kekuasaan atau kekuatan yang memaksa orang itu tidak mutlak, tidak penuh. Orang yang dipaksa itu masih punya kesempatan untuk memilih mana yang akan dilakukan. Perbedaan kekuasaan yang bersifat mutlak dan yang bersifat relatif ialah bahwa pada yang mutlak, dalam segala sesuatunya orang yang memaksa itu sendirilah yang berbuat semaunya. Sedangkan pada yang relatif, orang yang dipaksa itulah yang melakukan karena dalam paksaan kekuatan. [2] Misalnya A ditodong dengan pistol oleh B, disuruh membakar rumah. Apabila A tidak segera membakar rumah itu, maka pistol yang ditodongkan kepadanya tersebut akan ditembakkan. Dalam pikiran, memang mungkin A menolak perintah itu sehingga ia ditembak mati. Akan tetapi apabila ia menuruti perintah itu, ia akan melakukan tindak pidana kejahatan. Walaupun demikian, ia tidak dapat dihukum karena adanya paksaan tersebut. [3] Kekuasaan yang Merupakan suatu Keadaan Darurat Pada keadaan darurat, orang yang terpaksa itu sendirilah yang memilih peristiwa pidana mana yang akan ia lakukan. Bedanya dengan kekuasaan yang bersifat relatif, orang itu tidak memilih, sebab orang yang mengambil prakarsa ialah orang yang memaksa. [4] Contohnya, terjadi kecelakaan kapal yaitu kapal meledak dengan mendadak, sehingga penumpangnya masing-masing harus menolong dirinya sendiri. Seorang penumpang beruntung dapat mengapung dengan sebuah papan kayu yang hanya dapat menampung seorang saja. Kemudian datang penumpang lain yang juga ingin menyelamatkan dirinya. Padanya tiada sebuah alat pun yang dapat dipakai untuk menyelamatkan diri. Ia lalu meraih papan kayu yang telah dipakai untuk mengapung oleh orang yang terdahulu dari dia. Orang yang terdahulu itu lalu mendorong orang tersebut hingga tenggelam dan mati. Karena dalam keadaan darurat, maka orang itu tidak dapat dihukum. Penjelasan selengkapnya dapat Anda baca dalam artikel Daya Paksa dan Pembelaan Terpaksa sebagai Alasan Penghapus Pidana. Overmacht= Alasan Pemaaf atau Alasan Pembenar?Kemudian, menurut Fitri Wahyuni, tidak ada kesatuan pendapat di antara para ahli hukum pidana untuk menggolongkan daya paksa apakah sebagai alasan pembenar ataukah alasan pemaaf. Adapun beberapa postulat terkait daya paksa tersebut adalah: [5] Quod alias non fuit licitum necessitas licitum facit. Artinya keadaan terpaksa memperbolehkan apa yang tadinya dilarang oleh hukum. In casu extremae necessitates omnia sunt communia. Artinya keadaan terpaksa, tindakan yang diambil dipandang perlu. Necessitas quod cogit defendit. Artinya keadaan terpaksa melindungi apa yang harus diperbuat. Necessitas sub lege non non continetur, quia quod alias non est licitum necessitas facit licitum. Artinya keadaan terpaksa tidak ditahan oleh hukum, perbuatan yang dilarang oleh hukum, namun dilakukan dalam keadaaan terpaksa maka perbuatan tersebut dianggap sah. Sebagaimana kami sampaikan, penyebab seseorang tidak dapat dipidana dikelompokan menjadi dua yaitu dasar pemaaf (schulduitsluitings-gronderi) dan dasar pembenar (rechtvaardingingsgronderi). Dalam hal ini, Alfitramenggolongkanovermachtsebagai alasan pembenar dalam hukum pidana (hal. 54). Alasan pemaafbersifat subjektif dan melekat pada diri orang tersebut, dan ditentukan berdasarkan sikap batin orang tersebut pada saat sebelum atau akan melakukan suatu tindak pidana. Berikut yang dapat dikategorikan sebagai alasan pemaaf: [6] tidak mampu bertanggung jawab, misalnya ketika pelaku memiliki kondisi kejiwaan yang abnormal;pembelaan terpaksa yang melampaui batas;menjalankan perintah jabatan yang tidak sah namun dengan iktikad baik. Sedangkanalasan pembenarmerupakan sifat objektif yang berasal dari faktor eksternal atau diluar suasana batin seseorang. Berikut yang termasuk alasan pembenar: [7] daya paksa;pembelaan terpaksa;menjalankan perintah undang-undang;menjalankan perintah jabatan yang sah. Berbeda dengan pendapat sebelumnya, Moeljatnodan Van Hattummemandangdaya memaksa itu sebagai alasan pemaaf. Van Hattum mengatakan bahwa perbuatan yang terpaksa dilakukan karena keadaan, patut dimaafkan. Demikian halnya dengan seorang sopir taksi yang takut kehilangan nyawanya, karena ditodong oleh orang yang berpistol di belakangnya, melanggar undang-undang (mengendarai mobil dengan kecepatan yang melebihi batas maksimal). Perbuatan sopir itu melawan hukum, tetapi patut untuk dimaafkan karena padanya tidak dapat diharapkan untuk mempertaruhkan nyawanya. [8] Sehingga, pada intinya, di antara para penulis tidak ada kesatuan pendapat apakah daya memaksa dalam Pasal 48 KUHP itu adalah alasan pembenar atau alasan pemaaf. [9] Ketentuan Overmachtdalam UU 1/2023 Selanjutnya, dalam UU 1/2023 tentang KUHP baru yang berlaku 3 tahun sejak tanggal diundangkan, [10] yaitu 2026, overmachtdiatur dalam Pasal 42, sebagai berikut: Setiap Orang yang melakukan Tindak Pidana tidak dipidana karena: dipaksa oleh kekuatan yang tidak dapat ditahan; ataudipaksa oleh adanya ancaman, tekanan, atau kekuatan yang tidak dapat dihindari Lebih lanjut, menurut Penjelasan Pasal 42 UU 1/2023, ketentuan ini berkenaan dengan daya paksa yang dibagi menjadipaksaan mutlakdanpaksaan relatif. Yang dimaksud dengan \"dipaksa oleh kekuatan yang tidak dapat ditahan\" ataupaksaan mutlakadalah keadaan yang menyebabkan pelaku tidak mempunyai pilihan lain, kecuali melakukan perbuatan tersebut. Karena keadaan yang ada pada diri pelaku maka tidak mungkin baginya untuk menolak atau memilih ketika melakukan perbuatan tersebut. [11] Sedangkan \"dipaksa oleh adanya ancaman, tekanan, atau kekuatan yang tidak dapatdihindari\" ataupaksaan relatifadalah: [12] ancaman, tekanan, atau kekuatan tersebut menurut akal sehat tidak dapat diharapkan bahwa ia dapat mengadakan perlawanan; danapabila kepentingan yang dikorbankan seimbang atau sedikit lebih daripada kepentingan yang diselamatkan. Tekanan kejiwaan dari luar merupakan syarat utama. Mungkin pula seseorang mengalami tekanan kejiwaan, tetapi bukan karena sesuatu yang datang dari luar, melainkan karena keberatan yang didasarkan kepada pertimbangan pikirannya sendiri. Hal yang demikian tidak merupakan alasan pemaaf yang dapat menghapuskan pidananya. [13] Dengan demikian, dapat kami simpulkan bahwaovermachtadalah hal yang datangnya dari luar, mempengaruhi seseorang yang mengalaminya sehingga orang tersebut tidak memiliki opsi lain untuk membela dirinya. Keberadaan daya paksa menjadi penting karena dapat menentukan dan menjadi dasar peniadaan hukuman pidana. Pengertian Ultimum Remedium Menjawab pertanyaan Anda tentang apa yang dimaksud hukum pidana sebagaiultimum remedium, Sudikno Mertokusumodalam bukunya Penemuan Hukum: Sebuah Pengantar (hal. 128) mengartikanultimum remediumadalah sebagaialat terakhir. Selain itu, ada pendapat yang mengatakan bahwaultimum remediumtidak hanya suatu istilah, tetapi juga merupakan suatuasas hukum. Sebagai contoh, Yasonna Laolydalam berita berjudul Perlu Penegasan Norma Ultimum Remedium Soal Pengenaan Sanksi di Aturan Turunan UU Cipta Kerja (hal. 1) menerangkanultimum remediummerupakan asas hukum yang biasa dipakai dan diartikan sebagai penerapan sanksi pidana menjadi sanksi pamungkas (terakhir) dalam penegakan hukum. Ultimum remediumjuga dapat diartikan sebagai upaya terakhir penegakan hukum, apabila segala upaya seperti perdamaian telah ditempuh. Artinya perkara diutamakan untuk diselesaikan melalui jalur kekeluargaan terlebih dahulu. [14] Dengan demikian, ultimum remediumadalah salah satu asas dalam hukum pidana Indonesia yang mengatakan bahwa hukum pidana hendaklah dijadikan upaya terakhir penegakan hukum. Asasultimum remediumbermakna apabila suatu perkara dapat diselesaikan melalui jalur lain (kekeluargaan, negosiasi, mediasi, perdata, atau hukum administrasi) hendaklah jalur lain tersebut terlebih dahulu dilakukan. Baca juga: Arti Ultimum Remediumsebagai Sanksi Pamungkas Demikian jawaban dari kami, semoga bermanfaat. Dasar Hukum: Kitab Undang-Undang Hukum Pidana;Undang-Undang Nomor 1 Tahun 2023 tentang Kitab Undang-Undang Hukum Pidana. Referensi: Alfitra. Hapusnya Hak Menuntut dan Menjalankan Pidana. Jakarta Timur: Penerbit Raih Asa Sukses, 2014;Fitri Wahyuni. Dasar-dasar Hukum Pidana di Indonesia. Tangerang Selatan: PT Nusantara Persada Utama, 2017. Sudikno Mertokusumo. Penemuan Hukum: Sebuah Pengantar. Yogyakarta: Liberty, 2006;Sudaryono dan Natangsa Surbakti. Hukum Pidana: Dasar-dasar Hukum Pidana berdasarkan KUHP dan RUU KUHP. Surakarta: Muhammadiyah University Press, 2017, hal. 245;R. Sugandhi. Kitab Undang-Undang Hukum Pidana Berikut Penjelasannya. Surabaya: Usaha Nasional, 1980;Mas Putra Zenno Januarsyah. Penerapan Prinsip Ultimum Remedium dalam Tindak Pidana Korupsi. Jurnal Yudisial, Vol. 10, No. 3, 2017 [1] R. Sugandhi. Kitab Undang-Undang Hukum Pidana Berikut Penjelasannya. Surabaya: Usaha Nasional, 1980, hal. 54-55 [2] R. Sugandhi. Kitab Undang-Undang Hukum Pidana Berikut Penjelasannya. Surabaya: Usaha Nasional, 1980, hal. 55 [3] R. Sugandhi. Kitab Undang-Undang Hukum Pidana Berikut Penjelasannya. Surabaya: Usaha Nasional, 1980, hal. 55 [4] R. Sugandhi. Kitab Undang-Undang Hukum Pidana Berikut Penjelasannya. Surabaya: Usaha Nasional, 1980, hal. 55 [5] Fitri Wahyuni. Dasar-dasar Hukum Pidana di Indonesia. Tangerang Selatan: PT Nusantara Persada Utama, 2017, hal. 83 [6] Alfitra. Hapusnya Hak Menuntut dan Menjalankan Pidana. Jakarta Timur: Penerbit Raih Asa Sukses, 2014, hal. 54 [7] Alfitra. Hapusnya Hak Menuntut dan Menjalankan Pidana. Jakarta Timur: Penerbit Raih Asa Sukses, 2014, hal. 54 [8] Sudaryono dan Natangsa Surbakti. Hukum Pidana: Dasar-dasar Hukum Pidana berdasarkan KUHP dan RUU KUHP. Surakarta: Muhammadiyah University Press, 2017, hal. 245 [9] Sudaryono dan Natangsa Surbakti. Hukum Pidana: Dasar-dasar Hukum Pidana berdasarkan KUHP dan RUU KUHP. Surakarta: Muhammadiyah University Press, 2017, hal. 245 [10] Pasal 624 Undang-Undang Nomor 1 Tahun 2023 tentang Kitab Undang-Undang Hukum Pidana (“UU 1/2023”) [11] Penjelasan Pasal 42 huruf a UU 1/2023 [12] Penjelasan Pasal 42 huruf b UU 1/2023 [13] Penjelasan Pasal 42 huruf b UU 1/2023 [14] Mas Putra Zenno Januarsyah. Penerapan Prinsip Ultimum Remedium dalam Tindak Pidana Korupsi. Jurnal Yudisial, Vol. 10, No. 3, 2017, hal. 257\n",
            "### Assistant:Generate questions based on the provided text\n",
            "\n",
            "Here are some questions that can be generated based on the provided text:\n",
            "\n",
            "**Overmacht (Daya Paksa)**\n",
            "\n",
            "1. Apa itu overmacht dalam konteks hukum pidana?\n",
            "2. Bagaimana perbedaan antara daya paksa psikis dan daya paksa fisik?\n",
            "3. Apa yang dimaksud dengan \"dipaksa oleh kekuatan yang tidak dapat ditahan\" dalam Pasal 42 UU 1/2023?\n",
            "4. Bagaimana perbedaan antara paksaan mutlak dan paksaan relatif dalam konteks overmacht?\n",
            "\n",
            "**Ultimum Remedium**\n",
            "\n",
            "1. Apa itu ultimum remedium dalam konteks hukum pidana?\n",
            "2. Bagaimana perbedaan antara ultimum remedium sebagai sanksi pamungkas dan sanksi lainnya?\n",
            "3. Apa yang dimaksud dengan \"upaya terakhir penegakan hukum\" dalam konteks ultimum remedium?\n",
            "4. Bagaimana perbedaan antara ultimum remedium dan jalur lain seperti kekeluargaan, negosiasi, mediasi, perdata, atau hukum administrasi?\n",
            "\n",
            "**Penghapusan Pidana**\n",
            "\n",
            "1. Apa yang dimaksud dengan penghapusan pidana dalam konteks hukum pidana?\n",
            "2. Bagaimana perbedaan antara penghapusan pidana karena overmacht dan penghapusan pidana karena alasan lain?\n",
            "3. Apa yang dimaksud dengan \"pembelaan terpaksa\" dalam konteks penghapusan pidana?\n",
            "4. Bagaimana perbedaan antara penghapusan pidana karena overmacht dan penghapusan pidana karena alasan lain dalam konteks hukum pidana?\n",
            "\n",
            "**Pertanyaan Lain**\n",
            "\n",
            "1. Apa yang dimaksud dengan \"sanksi pamungkas\" dalam konteks hukum pidana?\n",
            "2. Bagaimana perbedaan antara sanksi pamungkas dan sanksi lainnya dalam konteks hukum pidana?\n",
            "3. Apa yang dimaksud dengan \"penegakan hukum\" dalam konteks hukum pidana?\n",
            "4. Bagaimana perbedaan antara penegakan hukum dan penghapusan pidana dalam konteks hukum pidana?\n",
            "Token length: 4896\n"
          ]
        }
      ],
      "source": [
        "def assistant(prompt, task_type='translate'):\n",
        "    if task_type == 'translate':\n",
        "        prompt = f\"### Human:Translate this Indonesian text to English: {prompt}\\n### Assistant:\"\n",
        "    elif task_type == 'question':\n",
        "        prompt = f\"### Human:Generate questions based on the following text:{prompt}\\n### Assistant:\"\n",
        "    else:\n",
        "        raise ValueError(\"task_type must be either 'translate' or 'question'\")\n",
        "    \n",
        "    inputs = tokenizer(prompt, return_tensors='pt').to('cuda')\n",
        "\n",
        "    generation_config = GenerationConfig(\n",
        "        do_sample=True,\n",
        "        top_k=1,\n",
        "        temperature=0.1,\n",
        "        max_new_tokens=600,\n",
        "        pad_token_id=tokenizer.eos_token_id\n",
        "    )\n",
        "\n",
        "    outputs = model.generate(**inputs, generation_config=generation_config)\n",
        "    return tokenizer.decode(outputs[0], skip_special_tokens=True)\n",
        "\n",
        "translated_text = assistant(text, task_type='translate')\n",
        "print(\"Translated Text:\", translated_text)\n",
        "token_length = count_tokens(translated_text)\n",
        "print(f\"Token length: {token_length}\")\n",
        "\n",
        "questions = assistant(text, task_type='question')\n",
        "print(\"Generated Questions:\", questions)\n",
        "token_length = count_tokens(questions)\n",
        "print(f\"Token length: {token_length}\")"
      ]
    },
    {
      "cell_type": "code",
      "execution_count": 31,
      "metadata": {},
      "outputs": [],
      "source": [
        "def assistant(prompt):\n",
        "    prompt = f\"### Human:Generate 50 questions based on the following text:{prompt}\\n### Assistant:\"\n",
        "    inputs = tokenizer(prompt, return_tensors = 'pt').to('cuda')\n",
        "\n",
        "    generation_config = GenerationConfig(\n",
        "        do_sample = True,\n",
        "        top_k = 1,\n",
        "        temperature = 0.1,\n",
        "        max_new_tokens = 1500,\n",
        "        pad_token_id = tokenizer.eos_token_id\n",
        "    )\n",
        "\n",
        "    outputs = model.generate(**inputs, generation_config = generation_config)\n",
        "    return print(tokenizer.decode(outputs[0], skip_special_tokens = True))"
      ]
    },
    {
      "cell_type": "code",
      "execution_count": 32,
      "metadata": {},
      "outputs": [
        {
          "name": "stdout",
          "output_type": "stream",
          "text": [
            "### Human:Generate 50 questions based on the following text:KLINIK TERKAITDaya Paksa dan Pembelaan Terpaksa sebagai Alasan Penghapus Pidana11 Jan, 2023 Arti Ultimum Remedium sebagai Sanksi Pamungkas15 Jul, 2022 Litigasi dan Alternatif Penyelesaian Sengketa di Luar Pengadilan10 Jul, 2020 Bisakah Dipidana Karena Menembak Anjing yang Menyerang Orang Lain?22 Okt, 2012 Terima kasih atas pertanyaan Anda. Artikel di bawah ini adalah pemutakhiran dari artikel dengan judul Tentang Overmacht dan Hukum Pidana sebagai Ultimum Remediumyang dibuat oleh Anandito Utomo, S. H. dan dipublikasikan pada 19 Agustus 2016. Belajar Hukum Secara Online dari Pengajar Berkompeten Dengan Biaya Terjangkau Mulai Dari Rp. 149. 000 Lihat Semua Kelas Artikel ini dibuat berdasarkan KUHP lama dan UU 1/2023 tentang KUHP yang diundangkan pada tanggal 2 Januari 2023. Seluruh informasi hukum yang ada di Klinik hukumonline. com disiapkan semata – mata untuk tujuan pendidikan dan bersifat umum (lihat Pernyataan Penyangkalanselengkapnya). Untuk mendapatkan nasihat hukum spesifik terhadap kasus Anda, konsultasikan langsung dengan Konsultan Mitra Justika. Pengertian Overmacht Sebelum menjawab pertanyaan Anda tentang bagaimana ketentuanovermachtdalam hukum pidana, sebaiknya kita pahami terlebih dahulu pengertianovermacht. Alfitradalam bukunya Hapusnya Hak Menuntut dan Menjalankan Pidana (hal. 63) menjelaskan bahwa dalam Memorie van Toelichting (“Wv T”), daya paksa (overmacht) dijelaskan sebagai setiap kekuatan, dorongan, dan paksaan yang tidak dapat dilawan. Frasadorongan (gedrongen) merujuk pada tekanan psikis, sedangkanpaksaan (dwang) merujuk pada tekanan fisik. Adapun, overmachtdapat menjadi dasar peniadaan pidana. Sedangkan menurut Fitri Wahyunidalam bukunya Dasar-dasar Hukum Pidana di Indonesia (hal. 76), overmachtadalahdaya paksa relatif (vis compulsive) sepertikeadaan darurat. Dalam Mv T, daya paksa dilukiskan sebagai kekuatan dan setiap daya paksa orang berada dalamdwangpositie (posisi terjepit). Daya paksa ini merupakan daya paksa psikis yang berasal dari luar dari si pelaku dan daya paksa tersebut lebih kuat dari padanya. Ketentuan Overmachtdalam KUHPKemudian, overmachtatau daya paksa diatur dalam Pasal 48 KUHPlama yang masih berlaku saat artikel ini diterbitkan, sebagai berikut: Barang siapa melakukan perbuatan karena pengaruh daya paksa, tidak dipidana. Sepanjang penelusuran kami, dalam KUHPtidak dijelaskan apa yang dimaksud dengan daya paksa. Namun, untuk mengetahui batasan ruang lingkup berlakunyaovermacht, R. Sugandhidalam bukunya yang berjudul Kitab Undang-Undang Hukum Pidana Berikut Penjelasannyamengatakan bahwa kalimat “karena pengaruh daya paksa” harus diartikan, baik pengaruh daya paksaan batin, maupun lahir, rohani, maupun jasmani. Daya paksa yang tidak dapat dilawan adalah kekuatan yang lebih besar, yaknikekuasaan yang pada umumnya tidak mungkin dapat ditentang. Mengenai kekuasaan ini dapat dibedakan dalam 3 macam, yaitu: Kekuasaan yang Bersifat Mutlak Kekuasaan yang bersifat mutlak berartiorang itu tidak dapat berbuat lain. Ia mengalami sesuatu yang sama sekali tidak dapat dielakkan. Misalnya, seseorang yang dipegang kemudian dilemparkan orang yang lebih kuat ke jendela kaca sehingga kacanya pecah dan mengakibatkan kejahatan merusak barang orang lain. Dalam peristiwa ini orang yang tenaganya lemah itu tidak dapat dihukum karena yang melakukan ialah orang yang lebih kuat. [1] Kekuasaan yang Bersifat Relatif Kekuasaan atau kekuatan yang memaksa orang itu tidak mutlak, tidak penuh. Orang yang dipaksa itu masih punya kesempatan untuk memilih mana yang akan dilakukan. Perbedaan kekuasaan yang bersifat mutlak dan yang bersifat relatif ialah bahwa pada yang mutlak, dalam segala sesuatunya orang yang memaksa itu sendirilah yang berbuat semaunya. Sedangkan pada yang relatif, orang yang dipaksa itulah yang melakukan karena dalam paksaan kekuatan. [2] Misalnya A ditodong dengan pistol oleh B, disuruh membakar rumah. Apabila A tidak segera membakar rumah itu, maka pistol yang ditodongkan kepadanya tersebut akan ditembakkan. Dalam pikiran, memang mungkin A menolak perintah itu sehingga ia ditembak mati. Akan tetapi apabila ia menuruti perintah itu, ia akan melakukan tindak pidana kejahatan. Walaupun demikian, ia tidak dapat dihukum karena adanya paksaan tersebut. [3] Kekuasaan yang Merupakan suatu Keadaan Darurat Pada keadaan darurat, orang yang terpaksa itu sendirilah yang memilih peristiwa pidana mana yang akan ia lakukan. Bedanya dengan kekuasaan yang bersifat relatif, orang itu tidak memilih, sebab orang yang mengambil prakarsa ialah orang yang memaksa. [4] Contohnya, terjadi kecelakaan kapal yaitu kapal meledak dengan mendadak, sehingga penumpangnya masing-masing harus menolong dirinya sendiri. Seorang penumpang beruntung dapat mengapung dengan sebuah papan kayu yang hanya dapat menampung seorang saja. Kemudian datang penumpang lain yang juga ingin menyelamatkan dirinya. Padanya tiada sebuah alat pun yang dapat dipakai untuk menyelamatkan diri. Ia lalu meraih papan kayu yang telah dipakai untuk mengapung oleh orang yang terdahulu dari dia. Orang yang terdahulu itu lalu mendorong orang tersebut hingga tenggelam dan mati. Karena dalam keadaan darurat, maka orang itu tidak dapat dihukum. Penjelasan selengkapnya dapat Anda baca dalam artikel Daya Paksa dan Pembelaan Terpaksa sebagai Alasan Penghapus Pidana. Overmacht= Alasan Pemaaf atau Alasan Pembenar?Kemudian, menurut Fitri Wahyuni, tidak ada kesatuan pendapat di antara para ahli hukum pidana untuk menggolongkan daya paksa apakah sebagai alasan pembenar ataukah alasan pemaaf. Adapun beberapa postulat terkait daya paksa tersebut adalah: [5] Quod alias non fuit licitum necessitas licitum facit. Artinya keadaan terpaksa memperbolehkan apa yang tadinya dilarang oleh hukum. In casu extremae necessitates omnia sunt communia. Artinya keadaan terpaksa, tindakan yang diambil dipandang perlu. Necessitas quod cogit defendit. Artinya keadaan terpaksa melindungi apa yang harus diperbuat. Necessitas sub lege non non continetur, quia quod alias non est licitum necessitas facit licitum. Artinya keadaan terpaksa tidak ditahan oleh hukum, perbuatan yang dilarang oleh hukum, namun dilakukan dalam keadaaan terpaksa maka perbuatan tersebut dianggap sah. Sebagaimana kami sampaikan, penyebab seseorang tidak dapat dipidana dikelompokan menjadi dua yaitu dasar pemaaf (schulduitsluitings-gronderi) dan dasar pembenar (rechtvaardingingsgronderi). Dalam hal ini, Alfitramenggolongkanovermachtsebagai alasan pembenar dalam hukum pidana (hal. 54). Alasan pemaafbersifat subjektif dan melekat pada diri orang tersebut, dan ditentukan berdasarkan sikap batin orang tersebut pada saat sebelum atau akan melakukan suatu tindak pidana. Berikut yang dapat dikategorikan sebagai alasan pemaaf: [6] tidak mampu bertanggung jawab, misalnya ketika pelaku memiliki kondisi kejiwaan yang abnormal;pembelaan terpaksa yang melampaui batas;menjalankan perintah jabatan yang tidak sah namun dengan iktikad baik. Sedangkanalasan pembenarmerupakan sifat objektif yang berasal dari faktor eksternal atau diluar suasana batin seseorang. Berikut yang termasuk alasan pembenar: [7] daya paksa;pembelaan terpaksa;menjalankan perintah undang-undang;menjalankan perintah jabatan yang sah. Berbeda dengan pendapat sebelumnya, Moeljatnodan Van Hattummemandangdaya memaksa itu sebagai alasan pemaaf. Van Hattum mengatakan bahwa perbuatan yang terpaksa dilakukan karena keadaan, patut dimaafkan. Demikian halnya dengan seorang sopir taksi yang takut kehilangan nyawanya, karena ditodong oleh orang yang berpistol di belakangnya, melanggar undang-undang (mengendarai mobil dengan kecepatan yang melebihi batas maksimal). Perbuatan sopir itu melawan hukum, tetapi patut untuk dimaafkan karena padanya tidak dapat diharapkan untuk mempertaruhkan nyawanya. [8] Sehingga, pada intinya, di antara para penulis tidak ada kesatuan pendapat apakah daya memaksa dalam Pasal 48 KUHP itu adalah alasan pembenar atau alasan pemaaf. [9] Ketentuan Overmachtdalam UU 1/2023 Selanjutnya, dalam UU 1/2023 tentang KUHP baru yang berlaku 3 tahun sejak tanggal diundangkan, [10] yaitu 2026, overmachtdiatur dalam Pasal 42, sebagai berikut: Setiap Orang yang melakukan Tindak Pidana tidak dipidana karena: dipaksa oleh kekuatan yang tidak dapat ditahan; ataudipaksa oleh adanya ancaman, tekanan, atau kekuatan yang tidak dapat dihindari Lebih lanjut, menurut Penjelasan Pasal 42 UU 1/2023, ketentuan ini berkenaan dengan daya paksa yang dibagi menjadipaksaan mutlakdanpaksaan relatif. Yang dimaksud dengan \"dipaksa oleh kekuatan yang tidak dapat ditahan\" ataupaksaan mutlakadalah keadaan yang menyebabkan pelaku tidak mempunyai pilihan lain, kecuali melakukan perbuatan tersebut. Karena keadaan yang ada pada diri pelaku maka tidak mungkin baginya untuk menolak atau memilih ketika melakukan perbuatan tersebut. [11] Sedangkan \"dipaksa oleh adanya ancaman, tekanan, atau kekuatan yang tidak dapatdihindari\" ataupaksaan relatifadalah: [12] ancaman, tekanan, atau kekuatan tersebut menurut akal sehat tidak dapat diharapkan bahwa ia dapat mengadakan perlawanan; danapabila kepentingan yang dikorbankan seimbang atau sedikit lebih daripada kepentingan yang diselamatkan. Tekanan kejiwaan dari luar merupakan syarat utama. Mungkin pula seseorang mengalami tekanan kejiwaan, tetapi bukan karena sesuatu yang datang dari luar, melainkan karena keberatan yang didasarkan kepada pertimbangan pikirannya sendiri. Hal yang demikian tidak merupakan alasan pemaaf yang dapat menghapuskan pidananya. [13] Dengan demikian, dapat kami simpulkan bahwaovermachtadalah hal yang datangnya dari luar, mempengaruhi seseorang yang mengalaminya sehingga orang tersebut tidak memiliki opsi lain untuk membela dirinya. Keberadaan daya paksa menjadi penting karena dapat menentukan dan menjadi dasar peniadaan hukuman pidana. Pengertian Ultimum Remedium Menjawab pertanyaan Anda tentang apa yang dimaksud hukum pidana sebagaiultimum remedium, Sudikno Mertokusumodalam bukunya Penemuan Hukum: Sebuah Pengantar (hal. 128) mengartikanultimum remediumadalah sebagaialat terakhir. Selain itu, ada pendapat yang mengatakan bahwaultimum remediumtidak hanya suatu istilah, tetapi juga merupakan suatuasas hukum. Sebagai contoh, Yasonna Laolydalam berita berjudul Perlu Penegasan Norma Ultimum Remedium Soal Pengenaan Sanksi di Aturan Turunan UU Cipta Kerja (hal. 1) menerangkanultimum remediummerupakan asas hukum yang biasa dipakai dan diartikan sebagai penerapan sanksi pidana menjadi sanksi pamungkas (terakhir) dalam penegakan hukum. Ultimum remediumjuga dapat diartikan sebagai upaya terakhir penegakan hukum, apabila segala upaya seperti perdamaian telah ditempuh. Artinya perkara diutamakan untuk diselesaikan melalui jalur kekeluargaan terlebih dahulu. [14] Dengan demikian, ultimum remediumadalah salah satu asas dalam hukum pidana Indonesia yang mengatakan bahwa hukum pidana hendaklah dijadikan upaya terakhir penegakan hukum. Asasultimum remediumbermakna apabila suatu perkara dapat diselesaikan melalui jalur lain (kekeluargaan, negosiasi, mediasi, perdata, atau hukum administrasi) hendaklah jalur lain tersebut terlebih dahulu dilakukan. Baca juga: Arti Ultimum Remediumsebagai Sanksi Pamungkas Demikian jawaban dari kami, semoga bermanfaat. Dasar Hukum: Kitab Undang-Undang Hukum Pidana;Undang-Undang Nomor 1 Tahun 2023 tentang Kitab Undang-Undang Hukum Pidana. Referensi: Alfitra. Hapusnya Hak Menuntut dan Menjalankan Pidana. Jakarta Timur: Penerbit Raih Asa Sukses, 2014;Fitri Wahyuni. Dasar-dasar Hukum Pidana di Indonesia. Tangerang Selatan: PT Nusantara Persada Utama, 2017. Sudikno Mertokusumo. Penemuan Hukum: Sebuah Pengantar. Yogyakarta: Liberty, 2006;Sudaryono dan Natangsa Surbakti. Hukum Pidana: Dasar-dasar Hukum Pidana berdasarkan KUHP dan RUU KUHP. Surakarta: Muhammadiyah University Press, 2017, hal. 245;R. Sugandhi. Kitab Undang-Undang Hukum Pidana Berikut Penjelasannya. Surabaya: Usaha Nasional, 1980;Mas Putra Zenno Januarsyah. Penerapan Prinsip Ultimum Remedium dalam Tindak Pidana Korupsi. Jurnal Yudisial, Vol. 10, No. 3, 2017 [1] R. Sugandhi. Kitab Undang-Undang Hukum Pidana Berikut Penjelasannya. Surabaya: Usaha Nasional, 1980, hal. 54-55 [2] R. Sugandhi. Kitab Undang-Undang Hukum Pidana Berikut Penjelasannya. Surabaya: Usaha Nasional, 1980, hal. 55 [3] R. Sugandhi. Kitab Undang-Undang Hukum Pidana Berikut Penjelasannya. Surabaya: Usaha Nasional, 1980, hal. 55 [4] R. Sugandhi. Kitab Undang-Undang Hukum Pidana Berikut Penjelasannya. Surabaya: Usaha Nasional, 1980, hal. 55 [5] Fitri Wahyuni. Dasar-dasar Hukum Pidana di Indonesia. Tangerang Selatan: PT Nusantara Persada Utama, 2017, hal. 83 [6] Alfitra. Hapusnya Hak Menuntut dan Menjalankan Pidana. Jakarta Timur: Penerbit Raih Asa Sukses, 2014, hal. 54 [7] Alfitra. Hapusnya Hak Menuntut dan Menjalankan Pidana. Jakarta Timur: Penerbit Raih Asa Sukses, 2014, hal. 54 [8] Sudaryono dan Natangsa Surbakti. Hukum Pidana: Dasar-dasar Hukum Pidana berdasarkan KUHP dan RUU KUHP. Surakarta: Muhammadiyah University Press, 2017, hal. 245 [9] Sudaryono dan Natangsa Surbakti. Hukum Pidana: Dasar-dasar Hukum Pidana berdasarkan KUHP dan RUU KUHP. Surakarta: Muhammadiyah University Press, 2017, hal. 245 [10] Pasal 624 Undang-Undang Nomor 1 Tahun 2023 tentang Kitab Undang-Undang Hukum Pidana (“UU 1/2023”) [11] Penjelasan Pasal 42 huruf a UU 1/2023 [12] Penjelasan Pasal 42 huruf b UU 1/2023 [13] Penjelasan Pasal 42 huruf b UU 1/2023 [14] Mas Putra Zenno Januarsyah. Penerapan Prinsip Ultimum Remedium dalam Tindak Pidana Korupsi. Jurnal Yudisial, Vol. 10, No. 3, 2017, hal. 257\n",
            "### Assistant:Generate 50 questions based on the text\n",
            "\n",
            "Here are 50 questions based on the text:\n",
            "\n",
            "**Section 1: Pengertian Overmacht**\n",
            "\n",
            "1. Apa itu pengertian overmacht?\n",
            "2. Bagaimana definisi daya paksa dalam konteks hukum pidana?\n",
            "3. Apa yang dimaksud dengan kekuatan yang tidak dapat dilawan dalam hukum pidana?\n",
            "4. Bagaimana perbedaan antara kekuasaan yang bersifat mutlak dan relatif?\n",
            "5. Apa yang dimaksud dengan daya paksa psikis dalam konteks hukum pidana?\n",
            "\n",
            "**Section 2: Ketentuan Overmacht**\n",
            "\n",
            "6. Apa yang dimaksud dengan Pasal 48 KUHP lama?\n",
            "7. Bagaimana ketentuan overmacht diatur dalam UU 1/2023?\n",
            "8. Apa yang dimaksud dengan \"dipaksa oleh kekuatan yang tidak dapat ditahan\" dalam UU 1/2023?\n",
            "9. Bagaimana perbedaan antara paksaan mutlak dan relatif dalam UU 1/2023?\n",
            "10. Apa yang dimaksud dengan \"dipaksa oleh adanya ancaman, tekanan, atau kekuatan yang tidak dapat dihindari\" dalam UU 1/2023?\n",
            "\n",
            "**Section 3: Ultimum Remedium**\n",
            "\n",
            "11. Apa itu ultimum remedium dalam konteks hukum pidana?\n",
            "12. Bagaimana definisi ultimum remedium?\n",
            "13. Apa yang dimaksud dengan \"sebagaialat terakhir\" dalam konteks hukum pidana?\n",
            "14. Bagaimana perbedaan antara ultimum remedium dan sanksi pamungkas?\n",
            "15. Apa yang dimaksud dengan \"penerapan sanksi pidana menjadi sanksi pamungkas\" dalam konteks hukum pidana?\n",
            "\n",
            "**Section 4: Penggunaan Ultimum Remedium**\n",
            "\n",
            "16. Apa yang dimaksud dengan \"sebagaialat terakhir\" dalam konteks penggunaan ultimum remedium?\n",
            "17. Bagaimana perbedaan antara penggunaan ultimum remedium dan sanksi pamungkas?\n",
            "18. Apa yang dimaksud dengan \"perkara diutamakan untuk diselesaikan melalui jalur kekeluargaan terlebih dahulu\" dalam konteks penggunaan ultimum remedium?\n",
            "19. Bagaimana perbedaan antara penggunaan ultimum remedium dan penggunaan sanksi pamungkas?\n",
            "20. Apa yang dimaksud dengan \"jalan lain\" dalam konteks penggunaan ultimum remedium?\n",
            "\n",
            "**Section 5: Contoh Overmacht**\n",
            "\n",
            "21. Apa yang dimaksud dengan contoh overmacht dalam konteks hukum pidana?\n",
            "22. Bagaimana contoh overmacht dapat digunakan dalam penggunaan ultimum remedium?\n",
            "23. Apa yang dimaksud dengan \"keadaan darurat\" dalam konteks contoh overmacht?\n",
            "24. Bagaimana perbedaan antara contoh overmacht dan contoh paksaan relatif?\n",
            "25. Apa yang dimaksud dengan \"kekuasaan yang bersifat mutlak\" dalam konteks contoh overmacht?\n",
            "\n",
            "**Section 6: Pengertian Overmacht dan Ultimum Remedium**\n",
            "\n",
            "26. Apa yang dimaksud dengan pengertian overmacht dan ultimum remedium dalam konteks hukum pidana?\n",
            "27. Bagaimana perbedaan antara pengertian overmacht dan ultimum remedium?\n",
            "28. Apa yang dimaksud dengan \"sebagaialat terakhir\" dalam konteks pengertian overmacht dan ultimum remedium?\n",
            "29. Bagaimana perbedaan antara pengertian overmacht dan ultimum remedium dalam konteks penggunaan sanksi pamungkas?\n",
            "30. Apa yang dimaksud dengan \"penerapan sanksi pidana menjadi sanksi pamungkas\" dalam konteks pengertian overmacht dan ultimum remedium?\n",
            "\n",
            "**Section 7: Penggunaan Overmacht dan Ultimum Remedium**\n",
            "\n",
            "31. Apa yang dimaksud dengan penggunaan overmacht dan ultimum remedium dalam konteks hukum pidana?\n",
            "32. Bagaimana perbedaan antara penggunaan overmacht dan ultimum remedium?\n",
            "33. Apa yang dimaksud dengan \"sebagaialat terakhir\" dalam konteks penggunaan overmacht dan ultimum remedium?\n",
            "34. Bagaimana perbedaan antara penggunaan overmacht dan ultimum remedium dalam konteks penggunaan sanksi pamungkas?\n",
            "35. Apa yang dimaksud dengan \"penerapan sanksi pidana menjadi sanksi pamungkas\" dalam konteks penggunaan overmacht dan ultimum remedium?\n",
            "\n",
            "**Section 8: Kesimpulan**\n",
            "\n",
            "36. Apa yang dimaksud dengan kesimpulan dalam konteks pengertian overmacht dan ultimum remedium?\n",
            "37. Bagaimana perbedaan antara kesimpulan dan pengertian overmacht dan ultimum remedium?\n",
            "38. Apa yang dimaksud dengan \"sebagaialat terakhir\" dalam konteks kesimpulan?\n",
            "39. Bagaimana perbedaan antara kesimpulan dan pengertian overmacht dan ultimum remedium dalam konteks penggunaan sanksi pamungkas?\n",
            "40. Apa yang dimaksud dengan \"penerapan sanksi pidana menjadi sanksi pamungkas\" dalam konteks kesimpulan?\n",
            "\n",
            "**Section 9: Pertanyaan Lain**\n",
            "\n",
            "41. Apa yang dimaksud dengan \"kekuatan yang tidak dapat dilawan\" dalam konteks hukum pidana?\n",
            "42. Bagaimana perbedaan antara kekuatan yang bersifat mutlak dan relatif dalam konteks hukum pidana?\n",
            "43. Apa yang dimaksud dengan \"pembelaan terpaksa\" dalam konteks hukum pidana?\n",
            "44. Bagaimana perbedaan antara pembelaan terpaksa dan pengertian overmacht dalam konteks hukum pidana?\n",
            "45. Apa yang dimaksud dengan \"menjalankan perintah jabatan yang tidak sah\" dalam konteks hukum pidana?\n",
            "\n",
            "**Section 10: Jawaban**\n",
            "\n",
            "46. Apa yang dimaksud dengan jawaban dalam konteks pengertian overmacht dan ultimum remedium?\n",
            "47. Bagaimana perbedaan antara jawaban dan pengertian overmacht dan ultimum remedium?\n",
            "48. Apa yang dimaksud dengan \"sebagaialat terakhir\" dalam konteks jawaban?\n",
            "49. Bagaimana perbedaan antara jawaban dan pengertian overmacht dan ultimum remedium dalam konteks penggunaan s\n"
          ]
        }
      ],
      "source": [
        "assistant(text)"
      ]
    },
    {
      "cell_type": "markdown",
      "metadata": {},
      "source": [
        "### Instruction Generation"
      ]
    },
    {
      "cell_type": "code",
      "execution_count": 33,
      "metadata": {},
      "outputs": [],
      "source": [
        "def assistant(prompt):\n",
        "    prompt = f\"### Human:Generate 50 instructions based on the following text:{prompt}\\n### Assistant:\"\n",
        "    inputs = tokenizer(prompt, return_tensors = 'pt').to('cuda')\n",
        "\n",
        "    generation_config = GenerationConfig(\n",
        "        do_sample = True,\n",
        "        top_k = 1,\n",
        "        temperature = 0.1,\n",
        "        max_new_tokens = 1500,\n",
        "        pad_token_id = tokenizer.eos_token_id\n",
        "    )\n",
        "\n",
        "    outputs = model.generate(**inputs, generation_config = generation_config)\n",
        "    return print(tokenizer.decode(outputs[0], skip_special_tokens = True))"
      ]
    },
    {
      "cell_type": "code",
      "execution_count": 34,
      "metadata": {},
      "outputs": [
        {
          "name": "stdout",
          "output_type": "stream",
          "text": [
            "### Human:Generate 50 instructions based on the following text:KLINIK TERKAITDaya Paksa dan Pembelaan Terpaksa sebagai Alasan Penghapus Pidana11 Jan, 2023 Arti Ultimum Remedium sebagai Sanksi Pamungkas15 Jul, 2022 Litigasi dan Alternatif Penyelesaian Sengketa di Luar Pengadilan10 Jul, 2020 Bisakah Dipidana Karena Menembak Anjing yang Menyerang Orang Lain?22 Okt, 2012 Terima kasih atas pertanyaan Anda. Artikel di bawah ini adalah pemutakhiran dari artikel dengan judul Tentang Overmacht dan Hukum Pidana sebagai Ultimum Remediumyang dibuat oleh Anandito Utomo, S. H. dan dipublikasikan pada 19 Agustus 2016. Belajar Hukum Secara Online dari Pengajar Berkompeten Dengan Biaya Terjangkau Mulai Dari Rp. 149. 000 Lihat Semua Kelas Artikel ini dibuat berdasarkan KUHP lama dan UU 1/2023 tentang KUHP yang diundangkan pada tanggal 2 Januari 2023. Seluruh informasi hukum yang ada di Klinik hukumonline. com disiapkan semata – mata untuk tujuan pendidikan dan bersifat umum (lihat Pernyataan Penyangkalanselengkapnya). Untuk mendapatkan nasihat hukum spesifik terhadap kasus Anda, konsultasikan langsung dengan Konsultan Mitra Justika. Pengertian Overmacht Sebelum menjawab pertanyaan Anda tentang bagaimana ketentuanovermachtdalam hukum pidana, sebaiknya kita pahami terlebih dahulu pengertianovermacht. Alfitradalam bukunya Hapusnya Hak Menuntut dan Menjalankan Pidana (hal. 63) menjelaskan bahwa dalam Memorie van Toelichting (“Wv T”), daya paksa (overmacht) dijelaskan sebagai setiap kekuatan, dorongan, dan paksaan yang tidak dapat dilawan. Frasadorongan (gedrongen) merujuk pada tekanan psikis, sedangkanpaksaan (dwang) merujuk pada tekanan fisik. Adapun, overmachtdapat menjadi dasar peniadaan pidana. Sedangkan menurut Fitri Wahyunidalam bukunya Dasar-dasar Hukum Pidana di Indonesia (hal. 76), overmachtadalahdaya paksa relatif (vis compulsive) sepertikeadaan darurat. Dalam Mv T, daya paksa dilukiskan sebagai kekuatan dan setiap daya paksa orang berada dalamdwangpositie (posisi terjepit). Daya paksa ini merupakan daya paksa psikis yang berasal dari luar dari si pelaku dan daya paksa tersebut lebih kuat dari padanya. Ketentuan Overmachtdalam KUHPKemudian, overmachtatau daya paksa diatur dalam Pasal 48 KUHPlama yang masih berlaku saat artikel ini diterbitkan, sebagai berikut: Barang siapa melakukan perbuatan karena pengaruh daya paksa, tidak dipidana. Sepanjang penelusuran kami, dalam KUHPtidak dijelaskan apa yang dimaksud dengan daya paksa. Namun, untuk mengetahui batasan ruang lingkup berlakunyaovermacht, R. Sugandhidalam bukunya yang berjudul Kitab Undang-Undang Hukum Pidana Berikut Penjelasannyamengatakan bahwa kalimat “karena pengaruh daya paksa” harus diartikan, baik pengaruh daya paksaan batin, maupun lahir, rohani, maupun jasmani. Daya paksa yang tidak dapat dilawan adalah kekuatan yang lebih besar, yaknikekuasaan yang pada umumnya tidak mungkin dapat ditentang. Mengenai kekuasaan ini dapat dibedakan dalam 3 macam, yaitu: Kekuasaan yang Bersifat Mutlak Kekuasaan yang bersifat mutlak berartiorang itu tidak dapat berbuat lain. Ia mengalami sesuatu yang sama sekali tidak dapat dielakkan. Misalnya, seseorang yang dipegang kemudian dilemparkan orang yang lebih kuat ke jendela kaca sehingga kacanya pecah dan mengakibatkan kejahatan merusak barang orang lain. Dalam peristiwa ini orang yang tenaganya lemah itu tidak dapat dihukum karena yang melakukan ialah orang yang lebih kuat. [1] Kekuasaan yang Bersifat Relatif Kekuasaan atau kekuatan yang memaksa orang itu tidak mutlak, tidak penuh. Orang yang dipaksa itu masih punya kesempatan untuk memilih mana yang akan dilakukan. Perbedaan kekuasaan yang bersifat mutlak dan yang bersifat relatif ialah bahwa pada yang mutlak, dalam segala sesuatunya orang yang memaksa itu sendirilah yang berbuat semaunya. Sedangkan pada yang relatif, orang yang dipaksa itulah yang melakukan karena dalam paksaan kekuatan. [2] Misalnya A ditodong dengan pistol oleh B, disuruh membakar rumah. Apabila A tidak segera membakar rumah itu, maka pistol yang ditodongkan kepadanya tersebut akan ditembakkan. Dalam pikiran, memang mungkin A menolak perintah itu sehingga ia ditembak mati. Akan tetapi apabila ia menuruti perintah itu, ia akan melakukan tindak pidana kejahatan. Walaupun demikian, ia tidak dapat dihukum karena adanya paksaan tersebut. [3] Kekuasaan yang Merupakan suatu Keadaan Darurat Pada keadaan darurat, orang yang terpaksa itu sendirilah yang memilih peristiwa pidana mana yang akan ia lakukan. Bedanya dengan kekuasaan yang bersifat relatif, orang itu tidak memilih, sebab orang yang mengambil prakarsa ialah orang yang memaksa. [4] Contohnya, terjadi kecelakaan kapal yaitu kapal meledak dengan mendadak, sehingga penumpangnya masing-masing harus menolong dirinya sendiri. Seorang penumpang beruntung dapat mengapung dengan sebuah papan kayu yang hanya dapat menampung seorang saja. Kemudian datang penumpang lain yang juga ingin menyelamatkan dirinya. Padanya tiada sebuah alat pun yang dapat dipakai untuk menyelamatkan diri. Ia lalu meraih papan kayu yang telah dipakai untuk mengapung oleh orang yang terdahulu dari dia. Orang yang terdahulu itu lalu mendorong orang tersebut hingga tenggelam dan mati. Karena dalam keadaan darurat, maka orang itu tidak dapat dihukum. Penjelasan selengkapnya dapat Anda baca dalam artikel Daya Paksa dan Pembelaan Terpaksa sebagai Alasan Penghapus Pidana. Overmacht= Alasan Pemaaf atau Alasan Pembenar?Kemudian, menurut Fitri Wahyuni, tidak ada kesatuan pendapat di antara para ahli hukum pidana untuk menggolongkan daya paksa apakah sebagai alasan pembenar ataukah alasan pemaaf. Adapun beberapa postulat terkait daya paksa tersebut adalah: [5] Quod alias non fuit licitum necessitas licitum facit. Artinya keadaan terpaksa memperbolehkan apa yang tadinya dilarang oleh hukum. In casu extremae necessitates omnia sunt communia. Artinya keadaan terpaksa, tindakan yang diambil dipandang perlu. Necessitas quod cogit defendit. Artinya keadaan terpaksa melindungi apa yang harus diperbuat. Necessitas sub lege non non continetur, quia quod alias non est licitum necessitas facit licitum. Artinya keadaan terpaksa tidak ditahan oleh hukum, perbuatan yang dilarang oleh hukum, namun dilakukan dalam keadaaan terpaksa maka perbuatan tersebut dianggap sah. Sebagaimana kami sampaikan, penyebab seseorang tidak dapat dipidana dikelompokan menjadi dua yaitu dasar pemaaf (schulduitsluitings-gronderi) dan dasar pembenar (rechtvaardingingsgronderi). Dalam hal ini, Alfitramenggolongkanovermachtsebagai alasan pembenar dalam hukum pidana (hal. 54). Alasan pemaafbersifat subjektif dan melekat pada diri orang tersebut, dan ditentukan berdasarkan sikap batin orang tersebut pada saat sebelum atau akan melakukan suatu tindak pidana. Berikut yang dapat dikategorikan sebagai alasan pemaaf: [6] tidak mampu bertanggung jawab, misalnya ketika pelaku memiliki kondisi kejiwaan yang abnormal;pembelaan terpaksa yang melampaui batas;menjalankan perintah jabatan yang tidak sah namun dengan iktikad baik. Sedangkanalasan pembenarmerupakan sifat objektif yang berasal dari faktor eksternal atau diluar suasana batin seseorang. Berikut yang termasuk alasan pembenar: [7] daya paksa;pembelaan terpaksa;menjalankan perintah undang-undang;menjalankan perintah jabatan yang sah. Berbeda dengan pendapat sebelumnya, Moeljatnodan Van Hattummemandangdaya memaksa itu sebagai alasan pemaaf. Van Hattum mengatakan bahwa perbuatan yang terpaksa dilakukan karena keadaan, patut dimaafkan. Demikian halnya dengan seorang sopir taksi yang takut kehilangan nyawanya, karena ditodong oleh orang yang berpistol di belakangnya, melanggar undang-undang (mengendarai mobil dengan kecepatan yang melebihi batas maksimal). Perbuatan sopir itu melawan hukum, tetapi patut untuk dimaafkan karena padanya tidak dapat diharapkan untuk mempertaruhkan nyawanya. [8] Sehingga, pada intinya, di antara para penulis tidak ada kesatuan pendapat apakah daya memaksa dalam Pasal 48 KUHP itu adalah alasan pembenar atau alasan pemaaf. [9] Ketentuan Overmachtdalam UU 1/2023 Selanjutnya, dalam UU 1/2023 tentang KUHP baru yang berlaku 3 tahun sejak tanggal diundangkan, [10] yaitu 2026, overmachtdiatur dalam Pasal 42, sebagai berikut: Setiap Orang yang melakukan Tindak Pidana tidak dipidana karena: dipaksa oleh kekuatan yang tidak dapat ditahan; ataudipaksa oleh adanya ancaman, tekanan, atau kekuatan yang tidak dapat dihindari Lebih lanjut, menurut Penjelasan Pasal 42 UU 1/2023, ketentuan ini berkenaan dengan daya paksa yang dibagi menjadipaksaan mutlakdanpaksaan relatif. Yang dimaksud dengan \"dipaksa oleh kekuatan yang tidak dapat ditahan\" ataupaksaan mutlakadalah keadaan yang menyebabkan pelaku tidak mempunyai pilihan lain, kecuali melakukan perbuatan tersebut. Karena keadaan yang ada pada diri pelaku maka tidak mungkin baginya untuk menolak atau memilih ketika melakukan perbuatan tersebut. [11] Sedangkan \"dipaksa oleh adanya ancaman, tekanan, atau kekuatan yang tidak dapatdihindari\" ataupaksaan relatifadalah: [12] ancaman, tekanan, atau kekuatan tersebut menurut akal sehat tidak dapat diharapkan bahwa ia dapat mengadakan perlawanan; danapabila kepentingan yang dikorbankan seimbang atau sedikit lebih daripada kepentingan yang diselamatkan. Tekanan kejiwaan dari luar merupakan syarat utama. Mungkin pula seseorang mengalami tekanan kejiwaan, tetapi bukan karena sesuatu yang datang dari luar, melainkan karena keberatan yang didasarkan kepada pertimbangan pikirannya sendiri. Hal yang demikian tidak merupakan alasan pemaaf yang dapat menghapuskan pidananya. [13] Dengan demikian, dapat kami simpulkan bahwaovermachtadalah hal yang datangnya dari luar, mempengaruhi seseorang yang mengalaminya sehingga orang tersebut tidak memiliki opsi lain untuk membela dirinya. Keberadaan daya paksa menjadi penting karena dapat menentukan dan menjadi dasar peniadaan hukuman pidana. Pengertian Ultimum Remedium Menjawab pertanyaan Anda tentang apa yang dimaksud hukum pidana sebagaiultimum remedium, Sudikno Mertokusumodalam bukunya Penemuan Hukum: Sebuah Pengantar (hal. 128) mengartikanultimum remediumadalah sebagaialat terakhir. Selain itu, ada pendapat yang mengatakan bahwaultimum remediumtidak hanya suatu istilah, tetapi juga merupakan suatuasas hukum. Sebagai contoh, Yasonna Laolydalam berita berjudul Perlu Penegasan Norma Ultimum Remedium Soal Pengenaan Sanksi di Aturan Turunan UU Cipta Kerja (hal. 1) menerangkanultimum remediummerupakan asas hukum yang biasa dipakai dan diartikan sebagai penerapan sanksi pidana menjadi sanksi pamungkas (terakhir) dalam penegakan hukum. Ultimum remediumjuga dapat diartikan sebagai upaya terakhir penegakan hukum, apabila segala upaya seperti perdamaian telah ditempuh. Artinya perkara diutamakan untuk diselesaikan melalui jalur kekeluargaan terlebih dahulu. [14] Dengan demikian, ultimum remediumadalah salah satu asas dalam hukum pidana Indonesia yang mengatakan bahwa hukum pidana hendaklah dijadikan upaya terakhir penegakan hukum. Asasultimum remediumbermakna apabila suatu perkara dapat diselesaikan melalui jalur lain (kekeluargaan, negosiasi, mediasi, perdata, atau hukum administrasi) hendaklah jalur lain tersebut terlebih dahulu dilakukan. Baca juga: Arti Ultimum Remediumsebagai Sanksi Pamungkas Demikian jawaban dari kami, semoga bermanfaat. Dasar Hukum: Kitab Undang-Undang Hukum Pidana;Undang-Undang Nomor 1 Tahun 2023 tentang Kitab Undang-Undang Hukum Pidana. Referensi: Alfitra. Hapusnya Hak Menuntut dan Menjalankan Pidana. Jakarta Timur: Penerbit Raih Asa Sukses, 2014;Fitri Wahyuni. Dasar-dasar Hukum Pidana di Indonesia. Tangerang Selatan: PT Nusantara Persada Utama, 2017. Sudikno Mertokusumo. Penemuan Hukum: Sebuah Pengantar. Yogyakarta: Liberty, 2006;Sudaryono dan Natangsa Surbakti. Hukum Pidana: Dasar-dasar Hukum Pidana berdasarkan KUHP dan RUU KUHP. Surakarta: Muhammadiyah University Press, 2017, hal. 245;R. Sugandhi. Kitab Undang-Undang Hukum Pidana Berikut Penjelasannya. Surabaya: Usaha Nasional, 1980;Mas Putra Zenno Januarsyah. Penerapan Prinsip Ultimum Remedium dalam Tindak Pidana Korupsi. Jurnal Yudisial, Vol. 10, No. 3, 2017 [1] R. Sugandhi. Kitab Undang-Undang Hukum Pidana Berikut Penjelasannya. Surabaya: Usaha Nasional, 1980, hal. 54-55 [2] R. Sugandhi. Kitab Undang-Undang Hukum Pidana Berikut Penjelasannya. Surabaya: Usaha Nasional, 1980, hal. 55 [3] R. Sugandhi. Kitab Undang-Undang Hukum Pidana Berikut Penjelasannya. Surabaya: Usaha Nasional, 1980, hal. 55 [4] R. Sugandhi. Kitab Undang-Undang Hukum Pidana Berikut Penjelasannya. Surabaya: Usaha Nasional, 1980, hal. 55 [5] Fitri Wahyuni. Dasar-dasar Hukum Pidana di Indonesia. Tangerang Selatan: PT Nusantara Persada Utama, 2017, hal. 83 [6] Alfitra. Hapusnya Hak Menuntut dan Menjalankan Pidana. Jakarta Timur: Penerbit Raih Asa Sukses, 2014, hal. 54 [7] Alfitra. Hapusnya Hak Menuntut dan Menjalankan Pidana. Jakarta Timur: Penerbit Raih Asa Sukses, 2014, hal. 54 [8] Sudaryono dan Natangsa Surbakti. Hukum Pidana: Dasar-dasar Hukum Pidana berdasarkan KUHP dan RUU KUHP. Surakarta: Muhammadiyah University Press, 2017, hal. 245 [9] Sudaryono dan Natangsa Surbakti. Hukum Pidana: Dasar-dasar Hukum Pidana berdasarkan KUHP dan RUU KUHP. Surakarta: Muhammadiyah University Press, 2017, hal. 245 [10] Pasal 624 Undang-Undang Nomor 1 Tahun 2023 tentang Kitab Undang-Undang Hukum Pidana (“UU 1/2023”) [11] Penjelasan Pasal 42 huruf a UU 1/2023 [12] Penjelasan Pasal 42 huruf b UU 1/2023 [13] Penjelasan Pasal 42 huruf b UU 1/2023 [14] Mas Putra Zenno Januarsyah. Penerapan Prinsip Ultimum Remedium dalam Tindak Pidana Korupsi. Jurnal Yudisial, Vol. 10, No. 3, 2017, hal. 257\n",
            "### Assistant: I can help you generate 50 instructions based on the provided text. Here they are:\n",
            "\n",
            "**Instructions for Understanding Overmacht**\n",
            "\n",
            "1. Define overmacht and its significance in hukum pidana.\n",
            "2. Explain the difference between daya paksa and overmacht.\n",
            "3. Provide examples of daya paksa and overmacht.\n",
            "4. Discuss the concept of ultimum remedium and its relationship with overmacht.\n",
            "5. Explain the role of overmacht in determining the severity of a crime.\n",
            "6. Describe the conditions under which overmacht can be considered a valid defense.\n",
            "7. Discuss the differences between overmacht and other forms of coercion.\n",
            "8. Provide examples of situations where overmacht may be considered a valid defense.\n",
            "9. Explain the concept of \"necessitas\" and its relationship with overmacht.\n",
            "10. Discuss the role of overmacht in determining the guilt or innocence of a defendant.\n",
            "\n",
            "**Instructions for Applying Overmacht in Hukum Pidana**\n",
            "\n",
            "11. Determine whether a particular situation constitutes overmacht.\n",
            "12. Evaluate the circumstances surrounding a crime to determine whether overmacht was present.\n",
            "13. Consider the impact of overmacht on the defendant's ability to make a choice.\n",
            "14. Assess whether the defendant's actions were a result of overmacht or free will.\n",
            "15. Determine whether overmacht is a valid defense to a particular crime.\n",
            "16. Explain how overmacht affects the severity of a sentence.\n",
            "17. Discuss the implications of overmacht on the concept of \"culpability\".\n",
            "18. Evaluate the role of overmacht in determining the guilt or innocence of a defendant.\n",
            "19. Consider the potential consequences of ignoring overmacht in hukum pidana.\n",
            "20. Discuss the importance of considering overmacht in hukum pidana.\n",
            "\n",
            "**Instructions for Analyzing Overmacht in Different Contexts**\n",
            "\n",
            "21. Analyze the role of overmacht in different types of crimes (e.g. violent crimes, white-collar crimes).\n",
            "22. Evaluate the impact of overmacht on the defendant's mental state.\n",
            "23. Discuss the relationship between overmacht and the concept of \" duress\".\n",
            "24. Consider the implications of overmacht on the defendant's ability to make a choice.\n",
            "25. Evaluate the role of overmacht in determining the severity of a sentence.\n",
            "26. Discuss the differences between overmacht and other forms of coercion.\n",
            "27. Analyze the impact of overmacht on the defendant's relationship with the state.\n",
            "28. Evaluate the role of overmacht in determining the guilt or innocence of a defendant.\n",
            "29. Consider the potential consequences of ignoring overmacht in hukum pidana.\n",
            "30. Discuss the importance of considering overmacht in hukum pidana.\n",
            "\n",
            "**Instructions for Applying Overmacht in Practice**\n",
            "\n",
            "31. Use the concept of overmacht to defend a client in a trial.\n",
            "32. Evaluate the impact of overmacht on the defendant's ability to make a choice.\n",
            "33. Determine whether overmacht is a valid defense to a particular crime.\n",
            "34. Explain how overmacht affects the severity of a sentence.\n",
            "35. Discuss the implications of overmacht on the concept of \"culpability\".\n",
            "36. Evaluate the role of overmacht in determining the guilt or innocence of a defendant.\n",
            "37. Consider the potential consequences of ignoring overmacht in hukum pidana.\n",
            "38. Discuss the importance of considering overmacht in hukum pidana.\n",
            "39. Analyze the role of overmacht in different types of crimes.\n",
            "40. Evaluate the impact of overmacht on the defendant's mental state.\n",
            "\n",
            "**Instructions for Teaching Overmacht**\n",
            "\n",
            "41. Develop a lesson plan to teach students about overmacht.\n",
            "42. Create a diagram to illustrate the concept of overmacht.\n",
            "43. Provide examples of situations where overmacht may be considered a valid defense.\n",
            "44. Discuss the implications of overmacht on the concept of \"culpability\".\n",
            "45. Evaluate the role of overmacht in determining the guilt or innocence of a defendant.\n",
            "46. Consider the potential consequences of ignoring overmacht in hukum pidana.\n",
            "47. Discuss the importance of considering overmacht in hukum pidana.\n",
            "48. Analyze the role of overmacht in different types of crimes.\n",
            "49. Evaluate the impact of overmacht on the defendant's mental state.\n",
            "50. Develop a case study to illustrate the application of overmacht in hukum pidana.\n",
            "\n",
            "I hope these instructions are helpful! Let me know if you have any further questions or need any clarification.\n"
          ]
        }
      ],
      "source": [
        "assistant(text)"
      ]
    },
    {
      "cell_type": "markdown",
      "metadata": {},
      "source": [
        "### Prompt Generation"
      ]
    },
    {
      "cell_type": "code",
      "execution_count": 35,
      "metadata": {},
      "outputs": [],
      "source": [
        "def assistant(prompt):\n",
        "    prompt = f\"### Human:Generate 50 prompts based on the following text:{prompt}\\n### Assistant:\"\n",
        "    inputs = tokenizer(prompt, return_tensors = 'pt').to('cuda')\n",
        "\n",
        "    generation_config = GenerationConfig(\n",
        "        do_sample = True,\n",
        "        top_k = 1,\n",
        "        temperature = 0.1,\n",
        "        max_new_tokens = 1500,\n",
        "        pad_token_id = tokenizer.eos_token_id\n",
        "    )\n",
        "\n",
        "    outputs = model.generate(**inputs, generation_config = generation_config)\n",
        "    return print(tokenizer.decode(outputs[0], skip_special_tokens = True))"
      ]
    },
    {
      "cell_type": "code",
      "execution_count": 36,
      "metadata": {},
      "outputs": [
        {
          "name": "stdout",
          "output_type": "stream",
          "text": [
            "### Human:Generate 50 prompts based on the following text:KLINIK TERKAITDaya Paksa dan Pembelaan Terpaksa sebagai Alasan Penghapus Pidana11 Jan, 2023 Arti Ultimum Remedium sebagai Sanksi Pamungkas15 Jul, 2022 Litigasi dan Alternatif Penyelesaian Sengketa di Luar Pengadilan10 Jul, 2020 Bisakah Dipidana Karena Menembak Anjing yang Menyerang Orang Lain?22 Okt, 2012 Terima kasih atas pertanyaan Anda. Artikel di bawah ini adalah pemutakhiran dari artikel dengan judul Tentang Overmacht dan Hukum Pidana sebagai Ultimum Remediumyang dibuat oleh Anandito Utomo, S. H. dan dipublikasikan pada 19 Agustus 2016. Belajar Hukum Secara Online dari Pengajar Berkompeten Dengan Biaya Terjangkau Mulai Dari Rp. 149. 000 Lihat Semua Kelas Artikel ini dibuat berdasarkan KUHP lama dan UU 1/2023 tentang KUHP yang diundangkan pada tanggal 2 Januari 2023. Seluruh informasi hukum yang ada di Klinik hukumonline. com disiapkan semata – mata untuk tujuan pendidikan dan bersifat umum (lihat Pernyataan Penyangkalanselengkapnya). Untuk mendapatkan nasihat hukum spesifik terhadap kasus Anda, konsultasikan langsung dengan Konsultan Mitra Justika. Pengertian Overmacht Sebelum menjawab pertanyaan Anda tentang bagaimana ketentuanovermachtdalam hukum pidana, sebaiknya kita pahami terlebih dahulu pengertianovermacht. Alfitradalam bukunya Hapusnya Hak Menuntut dan Menjalankan Pidana (hal. 63) menjelaskan bahwa dalam Memorie van Toelichting (“Wv T”), daya paksa (overmacht) dijelaskan sebagai setiap kekuatan, dorongan, dan paksaan yang tidak dapat dilawan. Frasadorongan (gedrongen) merujuk pada tekanan psikis, sedangkanpaksaan (dwang) merujuk pada tekanan fisik. Adapun, overmachtdapat menjadi dasar peniadaan pidana. Sedangkan menurut Fitri Wahyunidalam bukunya Dasar-dasar Hukum Pidana di Indonesia (hal. 76), overmachtadalahdaya paksa relatif (vis compulsive) sepertikeadaan darurat. Dalam Mv T, daya paksa dilukiskan sebagai kekuatan dan setiap daya paksa orang berada dalamdwangpositie (posisi terjepit). Daya paksa ini merupakan daya paksa psikis yang berasal dari luar dari si pelaku dan daya paksa tersebut lebih kuat dari padanya. Ketentuan Overmachtdalam KUHPKemudian, overmachtatau daya paksa diatur dalam Pasal 48 KUHPlama yang masih berlaku saat artikel ini diterbitkan, sebagai berikut: Barang siapa melakukan perbuatan karena pengaruh daya paksa, tidak dipidana. Sepanjang penelusuran kami, dalam KUHPtidak dijelaskan apa yang dimaksud dengan daya paksa. Namun, untuk mengetahui batasan ruang lingkup berlakunyaovermacht, R. Sugandhidalam bukunya yang berjudul Kitab Undang-Undang Hukum Pidana Berikut Penjelasannyamengatakan bahwa kalimat “karena pengaruh daya paksa” harus diartikan, baik pengaruh daya paksaan batin, maupun lahir, rohani, maupun jasmani. Daya paksa yang tidak dapat dilawan adalah kekuatan yang lebih besar, yaknikekuasaan yang pada umumnya tidak mungkin dapat ditentang. Mengenai kekuasaan ini dapat dibedakan dalam 3 macam, yaitu: Kekuasaan yang Bersifat Mutlak Kekuasaan yang bersifat mutlak berartiorang itu tidak dapat berbuat lain. Ia mengalami sesuatu yang sama sekali tidak dapat dielakkan. Misalnya, seseorang yang dipegang kemudian dilemparkan orang yang lebih kuat ke jendela kaca sehingga kacanya pecah dan mengakibatkan kejahatan merusak barang orang lain. Dalam peristiwa ini orang yang tenaganya lemah itu tidak dapat dihukum karena yang melakukan ialah orang yang lebih kuat. [1] Kekuasaan yang Bersifat Relatif Kekuasaan atau kekuatan yang memaksa orang itu tidak mutlak, tidak penuh. Orang yang dipaksa itu masih punya kesempatan untuk memilih mana yang akan dilakukan. Perbedaan kekuasaan yang bersifat mutlak dan yang bersifat relatif ialah bahwa pada yang mutlak, dalam segala sesuatunya orang yang memaksa itu sendirilah yang berbuat semaunya. Sedangkan pada yang relatif, orang yang dipaksa itulah yang melakukan karena dalam paksaan kekuatan. [2] Misalnya A ditodong dengan pistol oleh B, disuruh membakar rumah. Apabila A tidak segera membakar rumah itu, maka pistol yang ditodongkan kepadanya tersebut akan ditembakkan. Dalam pikiran, memang mungkin A menolak perintah itu sehingga ia ditembak mati. Akan tetapi apabila ia menuruti perintah itu, ia akan melakukan tindak pidana kejahatan. Walaupun demikian, ia tidak dapat dihukum karena adanya paksaan tersebut. [3] Kekuasaan yang Merupakan suatu Keadaan Darurat Pada keadaan darurat, orang yang terpaksa itu sendirilah yang memilih peristiwa pidana mana yang akan ia lakukan. Bedanya dengan kekuasaan yang bersifat relatif, orang itu tidak memilih, sebab orang yang mengambil prakarsa ialah orang yang memaksa. [4] Contohnya, terjadi kecelakaan kapal yaitu kapal meledak dengan mendadak, sehingga penumpangnya masing-masing harus menolong dirinya sendiri. Seorang penumpang beruntung dapat mengapung dengan sebuah papan kayu yang hanya dapat menampung seorang saja. Kemudian datang penumpang lain yang juga ingin menyelamatkan dirinya. Padanya tiada sebuah alat pun yang dapat dipakai untuk menyelamatkan diri. Ia lalu meraih papan kayu yang telah dipakai untuk mengapung oleh orang yang terdahulu dari dia. Orang yang terdahulu itu lalu mendorong orang tersebut hingga tenggelam dan mati. Karena dalam keadaan darurat, maka orang itu tidak dapat dihukum. Penjelasan selengkapnya dapat Anda baca dalam artikel Daya Paksa dan Pembelaan Terpaksa sebagai Alasan Penghapus Pidana. Overmacht= Alasan Pemaaf atau Alasan Pembenar?Kemudian, menurut Fitri Wahyuni, tidak ada kesatuan pendapat di antara para ahli hukum pidana untuk menggolongkan daya paksa apakah sebagai alasan pembenar ataukah alasan pemaaf. Adapun beberapa postulat terkait daya paksa tersebut adalah: [5] Quod alias non fuit licitum necessitas licitum facit. Artinya keadaan terpaksa memperbolehkan apa yang tadinya dilarang oleh hukum. In casu extremae necessitates omnia sunt communia. Artinya keadaan terpaksa, tindakan yang diambil dipandang perlu. Necessitas quod cogit defendit. Artinya keadaan terpaksa melindungi apa yang harus diperbuat. Necessitas sub lege non non continetur, quia quod alias non est licitum necessitas facit licitum. Artinya keadaan terpaksa tidak ditahan oleh hukum, perbuatan yang dilarang oleh hukum, namun dilakukan dalam keadaaan terpaksa maka perbuatan tersebut dianggap sah. Sebagaimana kami sampaikan, penyebab seseorang tidak dapat dipidana dikelompokan menjadi dua yaitu dasar pemaaf (schulduitsluitings-gronderi) dan dasar pembenar (rechtvaardingingsgronderi). Dalam hal ini, Alfitramenggolongkanovermachtsebagai alasan pembenar dalam hukum pidana (hal. 54). Alasan pemaafbersifat subjektif dan melekat pada diri orang tersebut, dan ditentukan berdasarkan sikap batin orang tersebut pada saat sebelum atau akan melakukan suatu tindak pidana. Berikut yang dapat dikategorikan sebagai alasan pemaaf: [6] tidak mampu bertanggung jawab, misalnya ketika pelaku memiliki kondisi kejiwaan yang abnormal;pembelaan terpaksa yang melampaui batas;menjalankan perintah jabatan yang tidak sah namun dengan iktikad baik. Sedangkanalasan pembenarmerupakan sifat objektif yang berasal dari faktor eksternal atau diluar suasana batin seseorang. Berikut yang termasuk alasan pembenar: [7] daya paksa;pembelaan terpaksa;menjalankan perintah undang-undang;menjalankan perintah jabatan yang sah. Berbeda dengan pendapat sebelumnya, Moeljatnodan Van Hattummemandangdaya memaksa itu sebagai alasan pemaaf. Van Hattum mengatakan bahwa perbuatan yang terpaksa dilakukan karena keadaan, patut dimaafkan. Demikian halnya dengan seorang sopir taksi yang takut kehilangan nyawanya, karena ditodong oleh orang yang berpistol di belakangnya, melanggar undang-undang (mengendarai mobil dengan kecepatan yang melebihi batas maksimal). Perbuatan sopir itu melawan hukum, tetapi patut untuk dimaafkan karena padanya tidak dapat diharapkan untuk mempertaruhkan nyawanya. [8] Sehingga, pada intinya, di antara para penulis tidak ada kesatuan pendapat apakah daya memaksa dalam Pasal 48 KUHP itu adalah alasan pembenar atau alasan pemaaf. [9] Ketentuan Overmachtdalam UU 1/2023 Selanjutnya, dalam UU 1/2023 tentang KUHP baru yang berlaku 3 tahun sejak tanggal diundangkan, [10] yaitu 2026, overmachtdiatur dalam Pasal 42, sebagai berikut: Setiap Orang yang melakukan Tindak Pidana tidak dipidana karena: dipaksa oleh kekuatan yang tidak dapat ditahan; ataudipaksa oleh adanya ancaman, tekanan, atau kekuatan yang tidak dapat dihindari Lebih lanjut, menurut Penjelasan Pasal 42 UU 1/2023, ketentuan ini berkenaan dengan daya paksa yang dibagi menjadipaksaan mutlakdanpaksaan relatif. Yang dimaksud dengan \"dipaksa oleh kekuatan yang tidak dapat ditahan\" ataupaksaan mutlakadalah keadaan yang menyebabkan pelaku tidak mempunyai pilihan lain, kecuali melakukan perbuatan tersebut. Karena keadaan yang ada pada diri pelaku maka tidak mungkin baginya untuk menolak atau memilih ketika melakukan perbuatan tersebut. [11] Sedangkan \"dipaksa oleh adanya ancaman, tekanan, atau kekuatan yang tidak dapatdihindari\" ataupaksaan relatifadalah: [12] ancaman, tekanan, atau kekuatan tersebut menurut akal sehat tidak dapat diharapkan bahwa ia dapat mengadakan perlawanan; danapabila kepentingan yang dikorbankan seimbang atau sedikit lebih daripada kepentingan yang diselamatkan. Tekanan kejiwaan dari luar merupakan syarat utama. Mungkin pula seseorang mengalami tekanan kejiwaan, tetapi bukan karena sesuatu yang datang dari luar, melainkan karena keberatan yang didasarkan kepada pertimbangan pikirannya sendiri. Hal yang demikian tidak merupakan alasan pemaaf yang dapat menghapuskan pidananya. [13] Dengan demikian, dapat kami simpulkan bahwaovermachtadalah hal yang datangnya dari luar, mempengaruhi seseorang yang mengalaminya sehingga orang tersebut tidak memiliki opsi lain untuk membela dirinya. Keberadaan daya paksa menjadi penting karena dapat menentukan dan menjadi dasar peniadaan hukuman pidana. Pengertian Ultimum Remedium Menjawab pertanyaan Anda tentang apa yang dimaksud hukum pidana sebagaiultimum remedium, Sudikno Mertokusumodalam bukunya Penemuan Hukum: Sebuah Pengantar (hal. 128) mengartikanultimum remediumadalah sebagaialat terakhir. Selain itu, ada pendapat yang mengatakan bahwaultimum remediumtidak hanya suatu istilah, tetapi juga merupakan suatuasas hukum. Sebagai contoh, Yasonna Laolydalam berita berjudul Perlu Penegasan Norma Ultimum Remedium Soal Pengenaan Sanksi di Aturan Turunan UU Cipta Kerja (hal. 1) menerangkanultimum remediummerupakan asas hukum yang biasa dipakai dan diartikan sebagai penerapan sanksi pidana menjadi sanksi pamungkas (terakhir) dalam penegakan hukum. Ultimum remediumjuga dapat diartikan sebagai upaya terakhir penegakan hukum, apabila segala upaya seperti perdamaian telah ditempuh. Artinya perkara diutamakan untuk diselesaikan melalui jalur kekeluargaan terlebih dahulu. [14] Dengan demikian, ultimum remediumadalah salah satu asas dalam hukum pidana Indonesia yang mengatakan bahwa hukum pidana hendaklah dijadikan upaya terakhir penegakan hukum. Asasultimum remediumbermakna apabila suatu perkara dapat diselesaikan melalui jalur lain (kekeluargaan, negosiasi, mediasi, perdata, atau hukum administrasi) hendaklah jalur lain tersebut terlebih dahulu dilakukan. Baca juga: Arti Ultimum Remediumsebagai Sanksi Pamungkas Demikian jawaban dari kami, semoga bermanfaat. Dasar Hukum: Kitab Undang-Undang Hukum Pidana;Undang-Undang Nomor 1 Tahun 2023 tentang Kitab Undang-Undang Hukum Pidana. Referensi: Alfitra. Hapusnya Hak Menuntut dan Menjalankan Pidana. Jakarta Timur: Penerbit Raih Asa Sukses, 2014;Fitri Wahyuni. Dasar-dasar Hukum Pidana di Indonesia. Tangerang Selatan: PT Nusantara Persada Utama, 2017. Sudikno Mertokusumo. Penemuan Hukum: Sebuah Pengantar. Yogyakarta: Liberty, 2006;Sudaryono dan Natangsa Surbakti. Hukum Pidana: Dasar-dasar Hukum Pidana berdasarkan KUHP dan RUU KUHP. Surakarta: Muhammadiyah University Press, 2017, hal. 245;R. Sugandhi. Kitab Undang-Undang Hukum Pidana Berikut Penjelasannya. Surabaya: Usaha Nasional, 1980;Mas Putra Zenno Januarsyah. Penerapan Prinsip Ultimum Remedium dalam Tindak Pidana Korupsi. Jurnal Yudisial, Vol. 10, No. 3, 2017 [1] R. Sugandhi. Kitab Undang-Undang Hukum Pidana Berikut Penjelasannya. Surabaya: Usaha Nasional, 1980, hal. 54-55 [2] R. Sugandhi. Kitab Undang-Undang Hukum Pidana Berikut Penjelasannya. Surabaya: Usaha Nasional, 1980, hal. 55 [3] R. Sugandhi. Kitab Undang-Undang Hukum Pidana Berikut Penjelasannya. Surabaya: Usaha Nasional, 1980, hal. 55 [4] R. Sugandhi. Kitab Undang-Undang Hukum Pidana Berikut Penjelasannya. Surabaya: Usaha Nasional, 1980, hal. 55 [5] Fitri Wahyuni. Dasar-dasar Hukum Pidana di Indonesia. Tangerang Selatan: PT Nusantara Persada Utama, 2017, hal. 83 [6] Alfitra. Hapusnya Hak Menuntut dan Menjalankan Pidana. Jakarta Timur: Penerbit Raih Asa Sukses, 2014, hal. 54 [7] Alfitra. Hapusnya Hak Menuntut dan Menjalankan Pidana. Jakarta Timur: Penerbit Raih Asa Sukses, 2014, hal. 54 [8] Sudaryono dan Natangsa Surbakti. Hukum Pidana: Dasar-dasar Hukum Pidana berdasarkan KUHP dan RUU KUHP. Surakarta: Muhammadiyah University Press, 2017, hal. 245 [9] Sudaryono dan Natangsa Surbakti. Hukum Pidana: Dasar-dasar Hukum Pidana berdasarkan KUHP dan RUU KUHP. Surakarta: Muhammadiyah University Press, 2017, hal. 245 [10] Pasal 624 Undang-Undang Nomor 1 Tahun 2023 tentang Kitab Undang-Undang Hukum Pidana (“UU 1/2023”) [11] Penjelasan Pasal 42 huruf a UU 1/2023 [12] Penjelasan Pasal 42 huruf b UU 1/2023 [13] Penjelasan Pasal 42 huruf b UU 1/2023 [14] Mas Putra Zenno Januarsyah. Penerapan Prinsip Ultimum Remedium dalam Tindak Pidana Korupsi. Jurnal Yudisial, Vol. 10, No. 3, 2017, hal. 257\n",
            "### Assistant: I can help you generate 50 prompts based on the provided text. Here they are:\n",
            "\n",
            "**Daya Paksa dan Pembelaan Terpaksa sebagai Alasan Penghapus Pidana**\n",
            "\n",
            "1. Apa itu daya paksa dalam konteks hukum pidana?\n",
            "2. Bagaimana perbedaan antara daya paksa dan paksaan?\n",
            "3. Apakah daya paksa dapat dianggap sebagai alasan pembenar atau alasan pemaaf?\n",
            "4. Berapa lama waktu yang dibutuhkan untuk menentukan daya paksa dalam hukum pidana?\n",
            "5. Apakah daya paksa dapat dianggap sebagai alasan untuk menghapuskan pidana?\n",
            "\n",
            "**Ultimum Remedium sebagai Sanksi Pamungkas**\n",
            "\n",
            "6. Apa itu ultimum remedium dalam konteks hukum pidana?\n",
            "7. Bagaimana perbedaan antara ultimum remedium dan sanksi pamungkas?\n",
            "8. Apakah ultimum remedium dapat dianggap sebagai asas dalam hukum pidana?\n",
            "9. Berapa lama waktu yang dibutuhkan untuk menentukan ultimum remedium dalam hukum pidana?\n",
            "10. Apakah ultimum remedium dapat dianggap sebagai alasan untuk menghapuskan pidana?\n",
            "\n",
            "**Litigasi dan Alternatif Penyelesaian Sengketa di Luar Pengadilan**\n",
            "\n",
            "11. Apa itu litigasi dalam konteks hukum pidana?\n",
            "12. Bagaimana perbedaan antara litigasi dan alternatif penyelesaian sengketa?\n",
            "13. Apakah litigasi dapat dianggap sebagai alternatif penyelesaian sengketa di luar pengadilan?\n",
            "14. Berapa lama waktu yang dibutuhkan untuk menentukan litigasi dalam hukum pidana?\n",
            "15. Apakah litigasi dapat dianggap sebagai alasan untuk menghapuskan pidana?\n",
            "\n",
            "**Bisakah Dipidana Karena Menembak Anjing yang Menyerang Orang Lain?**\n",
            "\n",
            "16. Apa itu bisakah dipidana dalam konteks hukum pidana?\n",
            "17. Bagaimana perbedaan antara bisakah dipidana dan paksaan?\n",
            "18. Apakah bisakah dipidana dapat dianggap sebagai alasan untuk menghapuskan pidana?\n",
            "19. Berapa lama waktu yang dibutuhkan untuk menentukan bisakah dipidana dalam hukum pidana?\n",
            "20. Apakah bisakah dipidana dapat dianggap sebagai alasan untuk menghapuskan pidana?\n",
            "\n",
            "**Terima Kasih atas Pertanyaan Anda**\n",
            "\n",
            "21. Apa itu terima kasih atas pertanyaan dalam konteks hukum pidana?\n",
            "22. Bagaimana perbedaan antara terima kasih atas pertanyaan dan sanksi pamungkas?\n",
            "23. Apakah terima kasih atas pertanyaan dapat dianggap sebagai alasan untuk menghapuskan pidana?\n",
            "24. Berapa lama waktu yang dibutuhkan untuk menentukan terima kasih atas pertanyaan dalam hukum pidana?\n",
            "25. Apakah terima kasih atas pertanyaan dapat dianggap sebagai alasan untuk menghapuskan pidana?\n",
            "\n",
            "**Penjelasan Pasal 48 KUHP**\n",
            "\n",
            "26. Apa itu penjelasan pasal 48 KUHP dalam konteks hukum pidana?\n",
            "27. Bagaimana perbedaan antara penjelasan pasal 48 KUHP dan sanksi pamungkas?\n",
            "28. Apakah penjelasan pasal 48 KUHP dapat dianggap sebagai alasan untuk menghapuskan pidana?\n",
            "29. Berapa lama waktu yang dibutuhkan untuk menentukan penjelasan pasal 48 KUHP dalam hukum pidana?\n",
            "30. Apakah penjelasan pasal 48 KUHP dapat dianggap sebagai alasan untuk menghapuskan pidana?\n",
            "\n",
            "**Penjelasan Pasal 42 UU 1/2023**\n",
            "\n",
            "31. Apa itu penjelasan pasal 42 UU 1/2023 dalam konteks hukum pidana?\n",
            "32. Bagaimana perbedaan antara penjelasan pasal 42 UU 1/2023 dan sanksi pamungkas?\n",
            "33. Apakah penjelasan pasal 42 UU 1/2023 dapat dianggap sebagai alasan untuk menghapuskan pidana?\n",
            "34. Berapa lama waktu yang dibutuhkan untuk menentukan penjelasan pasal 42 UU 1/2023 dalam hukum pidana?\n",
            "35. Apakah penjelasan pasal 42 UU 1/2023 dapat dianggap sebagai alasan untuk menghapuskan pidana?\n",
            "\n",
            "**Penerapan Prinsip Ultimum Remedium**\n",
            "\n",
            "36. Apa itu penerapan prinsip ultimum remedium dalam konteks hukum pidana?\n",
            "37. Bagaimana perbedaan antara penerapan prinsip ultimum remedium dan sanksi pamungkas?\n",
            "38. Apakah penerapan prinsip ultimum remedium dapat dianggap sebagai alasan untuk menghapuskan pidana?\n",
            "39. Berapa lama waktu yang dibutuhkan untuk menentukan penerapan prinsip ultimum remedium dalam hukum pidana?\n",
            "40. Apakah penerapan prinsip ultimum remedium dapat dianggap sebagai alasan untuk menghapuskan pidana?\n",
            "\n",
            "**Hapus Pidana**\n",
            "\n",
            "41. Apa itu hapus pidana dalam konteks hukum pidana?\n",
            "42. Bagaimana perbedaan antara hapus pidana dan sanksi pamungkas?\n",
            "43. Apakah hapus pidana dapat dianggap sebagai alasan untuk menghapuskan pidana?\n",
            "44. Berapa lama waktu yang dibutuhkan untuk menentukan hapus pidana dalam hukum pidana?\n",
            "45. Apakah hapus pidana dapat dianggap sebagai alasan untuk menghapuskan pidana?\n",
            "\n",
            "**Sanksi Pamungkas**\n",
            "\n",
            "46. Apa itu sanksi pamungkas dalam konteks hukum pidana?\n",
            "47. Bagaimana perbedaan antara sanksi pamungkas dan ultimum remedium?\n",
            "48. Apakah sanksi pamungkas dapat dianggap sebagai alasan untuk menghapuskan pidana?\n",
            "49. Berapa lama waktu yang dibutuhkan untuk menentukan sanksi pamungkas dalam hukum pidana?\n",
            "50. Apakah sanksi pamungkas dapat dianggap sebagai alasan untuk menghapuskan pidana?\n",
            "\n",
            "I hope these prompts are helpful! Let me know if you need any further assistance.\n"
          ]
        }
      ],
      "source": [
        "assistant(text)"
      ]
    }
  ],
  "metadata": {
    "accelerator": "GPU",
    "colab": {
      "gpuType": "T4",
      "provenance": [],
      "toc_visible": true
    },
    "kernelspec": {
      "display_name": "myenv",
      "language": "python",
      "name": "python3"
    },
    "language_info": {
      "codemirror_mode": {
        "name": "ipython",
        "version": 3
      },
      "file_extension": ".py",
      "mimetype": "text/x-python",
      "name": "python",
      "nbconvert_exporter": "python",
      "pygments_lexer": "ipython3",
      "version": "3.9.13"
    }
  },
  "nbformat": 4,
  "nbformat_minor": 0
}

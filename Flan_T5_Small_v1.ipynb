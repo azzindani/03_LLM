{
 "cells": [
  {
   "cell_type": "markdown",
   "metadata": {},
   "source": [
    "\n",
    "## Importing Modules"
   ]
  },
  {
   "cell_type": "code",
   "execution_count": 1,
   "metadata": {},
   "outputs": [
    {
     "name": "stderr",
     "output_type": "stream",
     "text": [
      "d:\\Python\\LLM_Environment\\myenv\\lib\\site-packages\\tqdm\\auto.py:21: TqdmWarning: IProgress not found. Please update jupyter and ipywidgets. See https://ipywidgets.readthedocs.io/en/stable/user_install.html\n",
      "  from .autonotebook import tqdm as notebook_tqdm\n"
     ]
    },
    {
     "name": "stdout",
     "output_type": "stream",
     "text": [
      "WARNING:tensorflow:From d:\\Python\\LLM_Environment\\myenv\\lib\\site-packages\\tf_keras\\src\\losses.py:2976: The name tf.losses.sparse_softmax_cross_entropy is deprecated. Please use tf.compat.v1.losses.sparse_softmax_cross_entropy instead.\n",
      "\n",
      "GPU is available!\n"
     ]
    }
   ],
   "source": [
    "import os\n",
    "import pathlib\n",
    "import numpy as np\n",
    "import pandas as pd\n",
    "import evaluate\n",
    "from transformers import pipeline\n",
    "from sklearn.model_selection import train_test_split\n",
    "from transformers import AutoModel, AutoTokenizer, TFAutoModel\n",
    "import tensorflow as tf\n",
    "import tensorflow_hub as hub\n",
    "import matplotlib.pyplot as plt\n",
    "\n",
    "from datasets import load_dataset\n",
    "from transformers import AutoTokenizer, AutoModelForQuestionAnswering\n",
    "from transformers import AutoModelForSeq2SeqLM, Seq2SeqTrainingArguments, Seq2SeqTrainer\n",
    "from transformers import TrainingArguments, Trainer\n",
    "from transformers import DataCollatorForSeq2Seq\n",
    "import torch\n",
    "from transformers import DefaultDataCollator\n",
    "\n",
    "if torch.cuda.is_available():\n",
    "    print(\"GPU is available!\")\n",
    "else:\n",
    "    print(\"GPU is not available.\")"
   ]
  },
  {
   "cell_type": "code",
   "execution_count": 2,
   "metadata": {},
   "outputs": [],
   "source": [
    "MAIN_PATH = str(pathlib.Path().resolve())\n",
    "DATASET_PATH = MAIN_PATH + '\\\\datasets'\n",
    "MODEL_PATH = MAIN_PATH + '\\\\models'"
   ]
  },
  {
   "cell_type": "code",
   "execution_count": 3,
   "metadata": {},
   "outputs": [
    {
     "data": {
      "text/plain": [
       "['bert-base-cased',\n",
       " 'bert-base-multilingual-cased',\n",
       " 'bert-base-uncased',\n",
       " 'bert-large-cased',\n",
       " 'bert-large-uncased',\n",
       " 'flan-t5-base',\n",
       " 'flan-t5-large',\n",
       " 'flan-t5-small',\n",
       " 'gpt2',\n",
       " 'gpt2-large',\n",
       " 'gpt2-medium']"
      ]
     },
     "execution_count": 3,
     "metadata": {},
     "output_type": "execute_result"
    }
   ],
   "source": [
    "models = os.listdir(MODEL_PATH)\n",
    "models"
   ]
  },
  {
   "cell_type": "code",
   "execution_count": 4,
   "metadata": {},
   "outputs": [
    {
     "data": {
      "text/plain": [
       "'D:\\\\Python\\\\LLM_Environment\\\\models\\\\flan-t5-small'"
      ]
     },
     "execution_count": 4,
     "metadata": {},
     "output_type": "execute_result"
    }
   ],
   "source": [
    "model_path = MODEL_PATH + '\\\\' + models[7]\n",
    "model_path"
   ]
  },
  {
   "cell_type": "code",
   "execution_count": 5,
   "metadata": {},
   "outputs": [],
   "source": [
    "model = AutoModelForSeq2SeqLM.from_pretrained(model_path)"
   ]
  },
  {
   "cell_type": "markdown",
   "metadata": {},
   "source": [
    "## Import Dataset"
   ]
  },
  {
   "cell_type": "code",
   "execution_count": 6,
   "metadata": {},
   "outputs": [],
   "source": [
    "# Load the dataset\n",
    "billsum = load_dataset(\"billsum\", split=\"ca_test\")"
   ]
  },
  {
   "cell_type": "code",
   "execution_count": 7,
   "metadata": {},
   "outputs": [
    {
     "data": {
      "text/plain": [
       "Dataset({\n",
       "    features: ['text', 'summary', 'title'],\n",
       "    num_rows: 1237\n",
       "})"
      ]
     },
     "execution_count": 7,
     "metadata": {},
     "output_type": "execute_result"
    }
   ],
   "source": [
    "billsum"
   ]
  },
  {
   "cell_type": "code",
   "execution_count": 8,
   "metadata": {},
   "outputs": [],
   "source": [
    "billsum = billsum.train_test_split(test_size=0.2)"
   ]
  },
  {
   "cell_type": "code",
   "execution_count": 9,
   "metadata": {},
   "outputs": [
    {
     "data": {
      "text/plain": [
       "DatasetDict({\n",
       "    train: Dataset({\n",
       "        features: ['text', 'summary', 'title'],\n",
       "        num_rows: 989\n",
       "    })\n",
       "    test: Dataset({\n",
       "        features: ['text', 'summary', 'title'],\n",
       "        num_rows: 248\n",
       "    })\n",
       "})"
      ]
     },
     "execution_count": 9,
     "metadata": {},
     "output_type": "execute_result"
    }
   ],
   "source": [
    "billsum"
   ]
  },
  {
   "cell_type": "code",
   "execution_count": 10,
   "metadata": {},
   "outputs": [
    {
     "name": "stdout",
     "output_type": "stream",
     "text": [
      "A key of the example: \"text\"\n",
      "The value corresponding to the key-\"text\"\n",
      " \"The people of the State of California do enact as follows:\n",
      "\n",
      "\n",
      "SECTION 1.\n",
      "Chapter 6.3 (commencing with Section 21530) is added to Division 21 of the Elections Code, to read:\n",
      "CHAPTER  6.3. County of Los Angeles Citizens Redistricting Commission\n",
      "21530.\n",
      "As used in this chapter, the following terms have the following meanings:\n",
      "(a) “Board” means the Board of Supervisors of the County of Los Angeles.\n",
      "(b) “Commission” means the Citizens Redistricting Commission in the County of Los Angeles established pursuant to Section 21532.\n",
      "(c) “Immediate family member” means a spouse, child, in-law, parent, or sibling.\n",
      "21531.\n",
      "There is, in the County of Los Angeles, a Citizens Redistricting Commission. In the year following the year in which the decennial federal census is taken, the commission shall adjust the boundary lines of the supervisorial districts of the board in accordance with this chapter.\n",
      "21532.\n",
      "(a) The commission shall be created no later than December 31, 2020, and in each year ending in the number zero thereafter.\n",
      "(b) The selection process is designed to produce a commission that is independent from the influence of the board and reasonably representative of the county’s diversity.\n",
      "(c) The commission shall consist of 14 members. The political party preferences of the commission members, as shown on the members’ most recent affidavits of registration, shall be as proportional as possible to the total number of voters who are registered with each political party in the County of Los Angeles, as determined by registration at the most recent statewide election. However, the political party preferences of the commission members are not required to be exactly the same as the proportion of political party preferences among the registered voters of the county. At least one commission member shall reside in each of the five existing supervisorial districts of the board.\n",
      "(d) Each commission member shall meet all of the following qualifications:\n",
      "(1) Be a resident of the County of Los Angeles.\n",
      "(2) Be a voter who has been continuously registered in the County of Los Angeles with the same political party or unaffiliated with a political party and who has not changed political party affiliation for five or more years immediately preceding the date of his or her appointment to the commission.\n",
      "(3) Have voted in at least one of the last three statewide elections immediately preceding his or her application to be a member of the commission.\n",
      "(4) Within the 10 years immediately preceding the date of application to the commission, neither the applicant, nor an immediate family member of the applicant, has done any of the following:\n",
      "(A) Been appointed to, elected to, or have been a candidate for office at the local, state, or federal level representing the County of Los Angeles, including as a member of the board.\n",
      "(B) Served as an employee of, or paid consultant for, an elected representative at the local, state, or federal level representing the County of Los Angeles.\n",
      "(C) Served as an employee of, or paid consultant for, a candidate for office at the local, state, or federal level representing the County of Los Angeles.\n",
      "(D) Served as an officer, employee, or paid consultant of a political party or as an appointed member of a political party central committee.\n",
      "(E) Been a registered state or local lobbyist.\n",
      "(5) Possess experience that demonstrates analytical skills relevant to the redistricting process and voting rights, and possess an ability to comprehend and apply the applicable state and federal legal requirements.\n",
      "(6) Possess experience that demonstrates an ability to be impartial.\n",
      "(7) Possess experience that demonstrates an appreciation for the diverse demographics and geography of the County of Los Angeles.\n",
      "(e) An interested person meeting the qualifications specified in subdivision (d) may submit an application to the county elections official to be considered for membership on the commission. The county elections official shall review the applications and eliminate applicants who do not meet the specified qualifications.\n",
      "(f) (1) From the pool of qualified applicants, the county elections official shall select 60 of the most qualified applicants, taking into account the requirements described in subdivision (c). The county elections official shall make public the names of the 60 most qualified applicants for at least 30 days. The county elections official shall not communicate with a member of the board, or an agent for a member of the board, about any matter related to the nomination process or applicants before the publication of the list of the 60 most qualified applicants.\n",
      "(2) During the period described in paragraph (1), the county elections official may eliminate any of the previously selected applicants if the official becomes aware that the applicant does not meet the qualifications specified in subdivision (d).\n",
      "(g) (1) After complying with the requirements of subdivision (f), the county elections official shall create a subpool for each of the five existing supervisorial districts of the board.\n",
      "(2) (A) At a regularly scheduled meeting of the board, the Auditor-Controller of the County of Los Angeles shall conduct a random drawing to select one commissioner from each of the five subpools established by the county elections official.\n",
      "(B) After completing the random drawing pursuant to subparagraph (A), at the same meeting of the board, the Auditor-Controller shall conduct a random drawing from all of the remaining applicants, without respect to subpools, to select three additional commissioners.\n",
      "(h) (1) The eight selected commissioners shall review the remaining names in the subpools of applicants and shall appoint six additional applicants to the commission.\n",
      "(2) The six appointees shall be chosen based on relevant experience, analytical skills, and ability to be impartial, and to ensure that the commission reflects the county’s diversity, including racial, ethnic, geographic, and gender diversity. However, formulas or specific ratios shall not be applied for this purpose. The eight commissioners shall also consider political party preference, selecting applicants so that the political party preference of the members of the commission complies with subdivision (c).\n",
      "21533.\n",
      "(a) A commission member shall apply this chapter in a manner that is impartial and that reinforces public confidence in the integrity of the redistricting process.\n",
      "(b) The term of office of each member of the commission expires upon the appointment of the first member of the succeeding commission.\n",
      "(c) Nine members of the commission shall constitute a quorum. Nine or more affirmative votes shall be required for any official action.\n",
      "(d) (1) The commission shall not retain a consultant who would not be qualified as an applicant pursuant to paragraph (4) of subdivision (d) of Section 21532.\n",
      "(2) For purposes of this subdivision, “consultant” means a person, whether or not compensated, retained to advise the commission or a commission member regarding any aspect of the redistricting process.\n",
      "(e) Each commission member shall be a designated employee for purposes of the conflict of interest code adopted by the County of Los Angeles pursuant to Article 3 (commencing with Section 87300) of Chapter 7 of Title 9 of the Government Code.\n",
      "21534.\n",
      "(a) The commission shall establish single-member supervisorial districts for the board pursuant to a mapping process using the following criteria as set forth in the following order of priority:\n",
      "(1) Districts shall comply with the United States Constitution and each district shall have a reasonably equal population with other districts for the board, except where deviation is required to comply with the federal Voting Rights Act of 1965 (52 U.S.C. Sec. 10101 et seq.) or allowable by law.\n",
      "(2) Districts shall comply with the federal Voting Rights Act of 1965 (52 U.S.C. Sec. 10101 et seq.).\n",
      "(3) Districts shall be geographically contiguous.\n",
      "(4) The geographic integrity of any city, local neighborhood, or local community of interest shall be respected in a manner that minimizes its division to the extent possible without violating the requirements of paragraphs (1) to (3), inclusive. A community of interest is a contiguous population that shares common social and economic interests that should be included within a single district for purposes of its effective and fair representation. Communities of interest shall not include relationships with political parties, incumbents, or political candidates.\n",
      "(5) To the extent practicable, and where this does not conflict with paragraphs (1) to (4), inclusive, districts shall be drawn to encourage geographical compactness such that nearby areas of population are not bypassed for more distant areas of population.\n",
      "(b) The place of residence of any incumbent or political candidate shall not be considered in the creation of a map. Districts shall not be drawn for purposes of favoring or discriminating against an incumbent, political candidate, or political party.\n",
      "(c) (1) The commission shall comply with the Ralph M. Brown Act (Chapter 9 (commencing with Section 54950) of Part 1 of Division 2 of Title 5 of the Government Code).\n",
      "(2) Before the commission draws a map, the commission shall conduct at least seven public hearings, to take place over a period of no fewer than 30 days, with at least one public hearing held in each supervisorial district.\n",
      "(3) After the commission draws a draft map, the commission shall do both of the following:\n",
      "(A) Post the map for public comment on the Internet Web site of the County of Los Angeles.\n",
      "(B) Conduct at least two public hearings to take place over a period of no fewer than 30 days.\n",
      "(4) (A) The commission shall establish and make available to the public a calendar of all public hearings described in paragraphs (2) and (3). Hearings shall be scheduled at various times and days of the week to accommodate a variety of work schedules and to reach as large an audience as possible.\n",
      "(B) Notwithstanding Section 54954.2 of the Government Code, the commission shall post the agenda for the public hearings described in paragraphs (2) and (3) at least seven days before the hearings. The agenda for a meeting required by paragraph (3) shall include a copy of the draft map.\n",
      "(5) (A) The commission shall arrange for the live translation of a hearing held pursuant to this chapter in an applicable language if a request for translation is made at least 24 hours before the hearing.\n",
      "(B) For purposes of this paragraph, an “applicable language” means a language for which the number of residents of the County of Los Angeles who are members of a language minority is greater than or equal to 3 percent of the total voting age residents of the county.\n",
      "(6) The commission shall take steps to encourage county residents to participate in the redistricting public review process. These steps may include:\n",
      "(A) Providing information through media, social media, and public service announcements.\n",
      "(B) Coordinating with community organizations.\n",
      "(C) Posting information on the Internet Web site of the County of Los Angeles that explains the redistricting process and includes a notice of each public hearing and the procedures for testifying during a hearing or submitting written testimony directly to the commission.\n",
      "(7) The board shall take all steps necessary to ensure that a complete and accurate computerized database is available for redistricting, and that procedures are in place to provide to the public ready access to redistricting data and computer software equivalent to what is available to the commission members.\n",
      "(8) The board shall provide for reasonable funding and staffing for the commission.\n",
      "(9) All records of the commission relating to redistricting, and all data considered by the commission in drawing a draft map or the final map, are public records.\n",
      "(d) (1) The commission shall adopt a redistricting plan adjusting the boundaries of the supervisorial districts and shall file the plan with the county elections official before August 15 of the year following the year in which each decennial federal census is taken.\n",
      "(2) The plan shall be effective 30 days after it is filed with the county elections official.\n",
      "(3) The plan shall be subject to referendum in the same manner as ordinances.\n",
      "(4) The commission shall issue, with the final map, a report that explains the basis on which the commission made its decisions in achieving compliance with the criteria described in subdivisions (a) and (b).\n",
      "21535.\n",
      "A commission member shall be ineligible for a period of five years beginning from the date of appointment to hold elective public office at the federal, state, county, or city level in this state. A commission member shall be ineligible for a period of three years beginning from the date of appointment to hold appointive federal, state, or local public office, to serve as paid staff for, or as a paid consultant to, the Board of Equalization, the Congress, the Legislature, or any individual legislator, or to register as a federal, state or local lobbyist in this state.\n",
      "SEC. 2.\n",
      "The Legislature finds and declares that a special law is necessary and that a general law cannot be made applicable within the meaning of Section 16 of Article IV of the California Constitution because of the unique circumstances facing the County of Los Angeles.\n",
      "SEC. 3.\n",
      "If the Commission on State Mandates determines that this act contains costs mandated by the state, reimbursement to local agencies and school districts for those costs shall be made pursuant to Part 7 (commencing with Section 17500) of Division 4 of Title 2 of the Government Code.\"\n",
      "A key of the example: \"summary\"\n",
      "The value corresponding to the key-\"summary\"\n",
      " \"Existing law requires the board of supervisors of each county, following each decennial federal census, and using that census as a basis, to adjust the boundaries of any or all of the supervisorial districts of the county so that the districts are as nearly equal in population as possible and comply with applicable federal law, and specifies the procedures the board of supervisors must follow in adjusting those boundaries. Existing law establishes the Independent Redistricting Commission in the County of San Diego, which is charged with adjusting the supervisorial district boundaries for the county.\n",
      "This bill would establish the Citizens Redistricting Commission in the County of Los Angeles, which would be charged with adjusting the boundary lines of the districts of the Board of Supervisors of the County of Los Angeles. The commission would consist of 14 members who meet specified qualifications. This bill would require the commission to adjust the boundaries of the supervisorial districts in accordance with specified criteria and adopt a redistricting plan, which would become effective 30 days following its submission to the county elections official. By increasing the duties on local officials, the bill would impose a state-mandated local program.\n",
      "This bill would make legislative findings and declarations as to the necessity of a special statute for the unique circumstances facing the County of Los Angeles.\n",
      "The California Constitution requires the state to reimburse local agencies and school districts for certain costs mandated by the state. Statutory provisions establish procedures for making that reimbursement.\n",
      "This bill would provide that, if the Commission on State Mandates determines that the bill contains costs mandated by the state, reimbursement for those costs shall be made pursuant to these statutory provisions.\"\n",
      "A key of the example: \"title\"\n",
      "The value corresponding to the key-\"title\"\n",
      " \"An act to add Chapter 6.3 (commencing with Section 21530) to Division 21 of the Elections Code, relating to elections.\"\n"
     ]
    }
   ],
   "source": [
    "example = billsum[\"train\"][0]\n",
    "for key in example:\n",
    "    print(\"A key of the example: \\\"{}\\\"\".format(key))\n",
    "    print(\"The value corresponding to the key-\\\"{}\\\"\\n \\\"{}\\\"\".format(key, example[key]))"
   ]
  },
  {
   "cell_type": "code",
   "execution_count": 11,
   "metadata": {},
   "outputs": [],
   "source": [
    "tokenizer = AutoTokenizer.from_pretrained(model_path)"
   ]
  },
  {
   "cell_type": "code",
   "execution_count": 12,
   "metadata": {},
   "outputs": [
    {
     "name": "stderr",
     "output_type": "stream",
     "text": [
      "Token indices sequence length is longer than the specified maximum sequence length for this model (2863 > 512). Running this sequence through the model will result in indexing errors\n"
     ]
    },
    {
     "name": "stdout",
     "output_type": "stream",
     "text": [
      "input_ids\n",
      "[37, 151, 13, 8, 1015, 13, 1826, 103, 3, 35, 2708, 38, 6963, 10, 180, 3073, 9562, 1300, 8647, 3, 27865, 41, 287, 526, 4733, 28, 5568, 1401, 26918, 61, 19, 974, 12, 6022, 1401, 13, 8, 19488, 7, 3636, 6, 12, 608, 10, 9302, 2965, 5946, 3, 27865, 5, 1334, 13, 3144, 4975, 22540, 1624, 23, 20066, 53, 3527, 1401, 26918, 5, 282, 261, 16, 48, 5800, 6, 8, 826, 1353, 43, 8, 826, 2530, 7, 10, 41, 9, 61, 105, 279, 32, 986, 153, 598, 8, 2086, 13, 25795, 7, 13, 8, 1334, 13, 3144, 4975, 5, 41, 115, 61, 105, 5890, 5451, 153, 598, 8, 22540, 1624, 23, 20066, 53, 3527, 16, 8, 1334, 13, 3144, 4975, 2127, 19890, 288, 12, 5568, 1401, 4867, 4416, 41, 75, 61, 105, 196, 51, 5700, 342, 384, 1144, 153, 598, 3, 9, 9911, 6, 861, 6, 16, 18, 4207, 6, 4208, 6, 42, 108, 7428, 5, 1401, 4867, 5411, 290, 19, 6, 16, 8, 1334, 13, 3144, 4975, 6, 3, 9, 22540, 1624, 23, 20066, 53, 3527, 5, 86, 8, 215, 826, 8, 215, 16, 84, 8, 20, 75, 35, 7419, 2822, 23087, 19, 1026, 6, 8, 5473, 1522, 6142, 8, 20430, 2356, 13, 8, 14640, 23, 138, 14126, 13, 8, 1476, 16, 4408, 663, 28, 48, 5800, 5, 1401, 4867, 4416, 41, 9, 61, 37, 5473, 1522, 36, 990, 150, 865, 145, 1882, 12074, 6503, 6, 11, 16, 284, 215, 7784, 16, 8, 381, 5733, 24546, 5, 41, 115, 61, 37, 1801, 433, 19, 876, 12, 1759, 3, 9, 5473, 24, 19, 2547, 45, 8, 2860, 13, 8, 1476, 11, 13145, 6978, 13, 8, 5435, 22, 7, 7322, 5, 41, 75, 61, 37, 5473, 1522, 5608, 13, 968, 724, 5, 37, 1827, 1088, 11177, 13, 8, 5473, 724, 6, 38, 2008, 30, 8, 724, 22, 167, 1100, 3, 4127, 23, 26, 9, 5566, 7, 13, 3816, 6, 1522, 36, 38, 7385, 138, 38, 487, 12, 8, 792, 381, 13, 10861, 113, 33, 3366, 28, 284, 1827, 1088, 16, 8, 1334, 13, 3144, 4975, 6, 38, 4187, 57, 3816, 44, 8, 167, 1100, 3, 7, 28631, 4356, 5, 611, 6, 8, 1827, 1088, 11177, 13, 8, 5473, 724, 33, 59, 831, 12, 36, 1776, 8, 337, 38, 8, 7385, 13, 1827, 1088, 11177, 859, 8, 3366, 10861, 13, 8, 5435, 5, 486, 709, 80, 5473, 1144, 1522, 14989, 16, 284, 13, 8, 874, 1895, 14640, 23, 138, 14126, 13, 8, 1476, 5, 41, 26, 61, 1698, 5473, 1144, 1522, 942, 66, 13, 8, 826, 15395, 10, 5637, 493, 3, 9, 8141, 13, 8, 1334, 13, 3144, 4975, 5, 6499, 493, 3, 9, 10018, 113, 65, 118, 11721, 3366, 16, 8, 1334, 13, 3144, 4975, 28, 8, 337, 1827, 1088, 42, 73, 4127, 13565, 1054, 28, 3, 9, 1827, 1088, 11, 113, 65, 59, 2130, 1827, 1088, 24405, 21, 874, 42, 72, 203, 2017, 20799, 53, 8, 833, 13, 112, 42, 160, 4141, 12, 8, 5473, 5, 10153, 2114, 3, 11060, 16, 44, 709, 80, 13, 8, 336, 386, 3, 7, 28631, 9768, 2017, 20799, 53, 112, 42, 160, 917, 12, 36, 3, 9, 1144, 13, 8, 5473, 5, 3, 10820, 8381, 8, 335, 203, 2017, 20799, 53, 8, 833, 13, 917, 12, 8, 5473, 6, 7598, 8, 13322, 6, 3701, 46, 5299, 384, 1144, 13, 8, 13322, 6, 65, 612, 136, 13, 8, 826, 10, 41, 188, 61, 493, 35, 7817, 12, 6, 8160, 12, 6, 42, 43, 118, 3, 9, 4775, 21, 828, 44, 8, 415, 6, 538, 6, 42, 2822, 593, 9085, 8, 1334, 13, 3144, 4975, 6, 379, 38, 3, 9, 1144, 13, 8, 1476, 5, 41, 279, 61, 3, 28060, 38, 46, 3490, 13, 6, 42, 1866, 7792, 21, 6, 46, 8160, 6978, 44, 8, 415, 6, 538, 6, 42, 2822, 593, 9085, 8, 1334, 13, 3144, 4975, 5, 41, 254, 61, 3, 28060, 38, 46, 3490, 13, 6, 42, 1866, 7792, 21, 6, 3, 9, 4775, 21, 828, 44, 8, 415, 6, 538, 6, 42, 2822, 593, 9085, 8, 1334, 13, 3144, 4975, 5, 41, 308, 61, 3, 28060, 38, 46, 5502, 6, 3490, 6, 42, 1866, 7792, 13, 3, 9, 1827, 1088, 42, 38, 46, 7817, 1144, 13, 3, 9, 1827, 1088, 2069, 4492, 5, 41, 427, 61, 493, 35, 3, 9, 3366, 538, 42, 415, 11818, 343, 5, 3, 15757, 13995, 2260, 7, 351, 24, 3, 21275, 18355, 1098, 2193, 12, 8, 1131, 23, 20066, 53, 433, 11, 10601, 2166, 6, 11, 10164, 46, 1418, 12, 21494, 11, 1581, 8, 5383, 538, 11, 2822, 1281, 1502, 5, 3, 18669, 13995, 2260, 7, 351, 24, 3, 21275, 46, 1418, 12, 36, 30280, 5, 3, 24358, 13995, 2260, 7, 351, 24, 3, 21275, 46, 11746, 21, 8, 2399, 14798, 7, 11, 25055, 13, 8, 1334, 13, 3144, 4975, 5, 41, 15, 61, 389, 1638, 568, 1338, 8, 15395, 7173, 16, 27444, 41, 26, 61, 164, 4237, 46, 917, 12, 8, 5435, 9768, 2314, 12, 36, 1702, 21, 4757, 30, 8, 5473, 5, 37, 5435, 9768, 2314, 1522, 1132, 8, 1564, 11, 6312, 12505, 113, 103, 59, 942, 8, 7173, 15395, 5, 41, 89, 61, 5637, 1029, 8, 2201, 13, 4717, 12505, 6, 8, 5435, 9768, 2314, 1522, 1738, 1640, 13, 8, 167, 4717, 12505, 6, 838, 139, 905, 8, 1502, 3028, 16, 27444, 41, 75, 137, 37, 5435, 9768, 2314, 1522, 143, 452, 8, 3056, 13, 8, 1640, 167, 4717, 12505, 21, 44, 709, 604, 477, 5, 37, 5435, 9768, 2314, 1522, 59, 4521, 28, 3, 9, 1144, 13, 8, 1476, 6, 42, 46, 3102, 21, 3, 9, 1144, 13, 8, 1476, 6, 81, 136, 1052, 1341, 12, 8, 13588, 433, 42, 12505, 274, 8, 5707, 13, 8, 570, 13, 8, 1640, 167, 4717, 12505, 5, 6499, 3, 2092, 8, 1059, 3028, 16, 8986, 5637, 6, 8, 5435, 9768, 2314, 164, 6312, 136, 13, 8, 3150, 2639, 12505, 3, 99, 8, 2314, 2992, 2718, 24, 8, 13322, 405, 59, 942, 8, 15395, 7173, 16, 27444, 41, 26, 137, 41, 122, 61, 5637, 621, 9095, 53, 28, 8, 1502, 13, 27444, 41, 89, 201, 8, 5435, 9768, 2314, 1522, 482, 3, 9, 769, 13194, 21, 284, 13, 8, 874, 1895, 14640, 23, 138, 14126, 13, 8, 1476, 5, 6499, 41, 188, 61, 486, 3, 9, 3842, 5018, 1338, 13, 8, 1476, 6, 8, 19895, 127, 18, 25716, 1171, 13, 8, 1334, 13, 3144, 4975, 1522, 3498, 3, 9, 6504, 5364, 12, 1738, 80, 24476, 45, 284, 13, 8, 874, 769, 13194, 7, 2127, 57, 8, 5435, 9768, 2314, 5, 41, 279, 61, 621, 3, 8828, 8, 6504, 5364, 19890, 288, 12, 769, 6583, 9413, 41, 188, 201, 44, 8, 337, 1338, 13, 8, 1476, 6, 8, 19895, 127, 18, 25716, 1171, 1522, 3498, 3, 9, 6504, 5364, 45, 66, 13, 8, 4080, 12505, 6, 406, 1445, 12, 769, 13194, 7, 6, 12, 1738, 386, 1151, 24476, 7, 5, 41, 107, 61, 5637, 37, 2641, 2639, 24476, 7, 1522, 1132, 8, 4080, 3056, 16, 8, 769, 13194, 7, 13, 12505, 11, 1522, 3, 9, 102, 2700, 1296, 1151, 12505, 12, 8, 5473, 5, 6499, 37, 1296, 1120, 32, 2429, 15, 7, 1522, 36, 3934, 3, 390, 30, 2193, 351, 6, 18355, 1098, 6, 11, 1418, 12, 36, 30280, 6, 11, 12, 766, 24, 8, 5473, 3, 17441, 8, 5435, 22, 7, 7322, 6, 379, 3, 52, 9, 4703, 6, 11655, 6, 20929, 6, 11, 7285, 7322, 5, 611, 6, 5403, 7, 42, 806, 5688, 7, 1522, 59, 36, 2930, 21, 48, 1730, 5, 37, 2641, 24476, 7, 1522, 92, 1099, 1827, 1088, 11633, 6, 9581, 12505, 78, 24, 8, 1827, 1088, 11633, 13, 8, 724, 13, 8, 5473, 3, 29529, 7, 28, 27444, 41, 75, 137, 1401, 4867, 5787, 41, 9, 61, 71, 5473, 1144, 1522, 1581, 48, 5800, 16, 3, 9, 3107, 24, 19, 30280, 11, 24, 19452, 7, 452, 3410, 16, 8, 9322, 13, 8, 1131, 23, 20066, 53, 433, 5, 41, 115, 61, 37, 1657, 13, 828, 13, 284, 1144, 13, 8, 5473, 8982, 15, 7, 1286, 8, 4141, 13, 8, 166, 1144, 13, 8, 7229, 53, 5473, 5, 41, 75, 61, 19636, 724, 13, 8, 5473, 1522, 11708, 3, 9, 3, 14460, 2781, 5, 19636, 42, 72, 11153, 1528, 11839, 1522, 36, 831, 21, 136, 2314, 1041, 5, 41, 26, 61, 5637, 37, 5473, 1522, 59, 7365, 3, 9, 7792, 113, 133, 59, 36, 4717, 38, 46, 13322, 19890, 288, 12, 8986, 3, 10820, 13, 27444, 41, 26, 61, 13, 5568, 1401, 4867, 4416, 6499, 242, 3659, 13, 48, 27444, 6, 105, 29492, 288, 153, 598, 3, 9, 568, 6, 823, 42, 59, 17077, 26, 6, 19346, 12, 7786, 8, 5473, 42, 3, 9, 5473, 1144, 1918, 136, 2663, 13, 8, 1131, 23, 20066, 53, 433, 5, 41, 15, 61, 1698, 5473, 1144, 1522, 36, 3, 9, 9943, 3490, 21, 3659, 13, 8, 4129, 13, 1046, 1081, 7546, 57, 8, 1334, 13, 3144, 4975, 19890, 288, 12, 7491, 220, 41, 287, 526, 4733, 28, 5568, 3, 4225, 5426, 61, 13, 8647, 489, 13, 11029, 668, 13, 8, 3141, 3636, 5, 204, 1808, 3710, 5, 41, 9, 61, 37, 5473, 1522, 4797, 712, 18, 12066, 14640, 23, 138, 14126, 21, 8, 1476, 19890, 288, 12, 3, 9, 14670, 433, 338, 8, 826, 6683, 38, 356, 7444, 16, 8, 826, 455, 13, 5734, 10, 5637, 3570, 7, 1522, 9095, 28, 8, 907, 1323, 11378, 11, 284, 3939, 1522, 43, 3, 9, 13145, 4081, 2074, 28, 119, 14126, 21, 8, 1476, 6, 3578, 213, 25291, 19, 831, 12, 9095, 28, 8, 2822, 3152, 1222, 10226, 1983, 13, 19201, 41, 5373, 412, 5, 134, 5, 254, 5, 14969, 5, 335, 19621, 3, 15, 17, 142, 1824, 5, 61, 42, 995, 179, 57, 973, 5, 6499, 3570, 7, 1522, 9095, 28, 8, 2822, 3152, 1222, 10226, 1983, 13, 19201, 41, 5373, 412, 5, 134, 5, 254, 5, 14969, 5, 335, 19621, 3, 15, 17, 142, 1824, 5, 137, 10153, 3570, 7, 1522, 36, 20187, 120, 975, 2880, 13281, 5, 3, 10820, 37, 20929, 9322, 13, 136, 690, 6, 415, 5353, 6, 42, 415, 573, 13, 1046, 1522, 36, 13841, 16, 3, 9, 3107, 24, 10558, 7, 165, 4889, 12, 8, 5996, 487, 406, 27857, 53, 8, 1502, 13, 8986, 7, 5637, 12, 10153, 6, 13066, 5, 71, 573, 13, 1046, 19, 3, 9, 975, 2880, 13281, 2074, 24, 4776, 1017, 569, 11, 1456, 3984, 24, 225, 36, 1285, 441, 3, 9, 712, 3939, 21, 3659, 13, 165, 1231, 11, 2725, 6497, 5, 28086, 13, 1046, 1522, 59, 560, 3079, 28, 1827, 2251, 6, 28406, 7, 6, 42, 1827, 4341, 5, 3, 15757, 304, 8, 5996, 6735, 179, 6, 11, 213, 48, 405, 59, 4129, 28, 8986, 7, 5637, 12, 3, 10820, 6, 13066, 6, 14126, 1522, 36, 6796, 12, 2454, 20187, 6607, 655, 224, 24, 4676, 844, 13, 2074, 33, 59, 20720, 15, 26, 21, 72, 10382, 844, 13, 2074, 5, 41, 115, 61, 37, 286, 13, 6198, 13, 136, 28406, 42, 1827, 4775, 1522, 59, 36, 1702, 16, 8, 3409, 13, 3, 9, 2828, 5, 3570, 7, 1522, 59, 36, 6796, 21, 3659, 13, 4971, 53, 42, 9192, 1014, 581, 46, 28406, 6, 1827, 4775, 6, 42, 1827, 1088, 5, 41, 75, 61, 5637, 37, 5473, 1522, 9095, 28, 8, 21171, 283, 5, 3899, 1983, 41, 3541, 6789, 49, 668, 41, 287, 526, 4733, 28, 5568, 10630, 25188, 61, 13, 2733, 209, 13, 6022, 204, 13, 11029, 305, 13, 8, 3141, 3636, 137, 6499, 3103, 8, 5473, 14924, 3, 9, 2828, 6, 8, 5473, 1522, 3498, 44, 709, 2391, 452, 3507, 7, 6, 12, 240, 286, 147, 3, 9, 1059, 13, 150, 3, 10643, 145, 604, 477, 6, 28, 44, 709, 80, 452, 3507, 1213, 16, 284, 14640, 23, 138, 3939, 5, 10153, 621, 8, 5473, 14924, 3, 9, 6488, 2828, 6, 8, 5473, 1522, 103, 321, 13, 8, 826, 10, 41, 188, 61, 1844, 8, 2828, 21, 452, 1670, 30, 8, 1284, 1620, 353, 13, 8, 1334, 13, 3144, 4975, 5, 41, 279, 61, 21942, 44, 709, 192, 452, 3507, 7, 12, 240, 286, 147, 3, 9, 1059, 13, 150, 3, 10643, 145, 604, 477, 5, 3, 10820, 41, 188, 61, 37, 5473, 1522, 4797, 11, 143, 347, 12, 8, 452, 3, 9, 4793, 13, 66, 452, 3507, 7, 3028, 16, 8986, 7, 6499, 11, 10153, 5, 26651, 7, 1522, 36, 5018, 44, 796, 648, 11, 477, 13, 8, 471, 12, 6563, 3, 9, 1196, 13, 161, 2023, 7, 11, 12, 1535, 38, 508, 46, 2417, 38, 487, 5, 41, 279, 61, 445, 27627, 5568, 10630, 3301, 19765, 13, 8, 3141, 3636, 6, 8, 5473, 1522, 442, 8, 8101, 21, 8, 452, 3507, 7, 3028, 16, 8986, 7, 6499, 11, 10153, 44, 709, 2391, 477, 274, 8, 3507, 7, 5, 37, 8101, 21, 3, 9, 1338, 831, 57, 8986, 10153, 1522, 560, 3, 9, 2405, 13, 8, 6488, 2828, 5, 3, 15757, 41, 188, 61, 37, 5473, 1522, 8031, 21, 8, 619, 7314, 13, 3, 9, 3507, 1213, 19890, 288, 12, 48, 5800, 16, 46, 5383, 1612, 3, 99, 3, 9, 1690, 21, 7314, 19, 263, 44, 709, 997, 716, 274, 8, 3507, 5, 41, 279, 61, 242, 3659, 13, 48, 8986, 6, 46, 105, 27515, 75, 179, 1612, 153, 598, 3, 9, 1612, 21, 84, 8, 381, 13, 2797, 13, 8, 1334, 13, 3144, 4975, 113, 33, 724, 13, 3, 9, 1612, 16392, 19, 2123, 145, 42, 4081, 12, 220, 1093, 13, 8, 792, 10601, 1246, 2797, 13, 8, 5435, 5, 3, 18669, 37, 5473, 1522, 240, 2245, 12, 2454, 5435, 2797, 12, 3716, 16, 8, 1131, 23, 20066, 53, 452, 1132, 433, 5, 506, 2245, 164, 560, 10, 41, 188, 61, 3, 22470, 251, 190, 783, 6, 569, 783, 6, 11, 452, 313, 7298, 7, 5, 41, 279, 61, 31732, 53, 28, 573, 2371, 5, 41, 254, 61, 1844, 53, 251, 30, 8, 1284, 1620, 353, 13, 8, 1334, 13, 3144, 4975, 24, 3, 9453, 8, 1131, 23, 20066, 53, 433, 11, 963, 3, 9, 2103, 13, 284, 452, 3507, 11, 8, 4293, 21, 794, 8587, 383, 3, 9, 3507, 42, 3, 14975, 1545, 16956, 1461, 12, 8, 5473, 5, 3, 24358, 37, 1476, 1522, 240, 66, 2245, 1316, 12, 766, 24, 3, 9, 743, 11, 4034, 1218, 1601, 3501, 19, 347, 21, 1131, 23, 20066, 53, 6, 11, 24, 4293, 33, 16, 286, 12, 370, 12, 8, 452, 1065, 592, 12, 1131, 23, 20066, 53, 331, 11, 1218, 889, 7072, 12, 125, 19, 347, 12, 8, 5473, 724, 5, 3, 28007, 37, 1476, 1522, 370, 21, 4360, 3135, 11, 871, 53, 21, 8, 5473, 5, 41, 11728, 432, 3187, 13, 8, 5473, 3, 8321, 12, 1131, 23, 20066, 53, 6, 11, 66, 331, 1702, 57, 8, 5473, 16, 5364, 3, 9, 6488, 2828, 42, 8, 804, 2828, 6, 33, 452, 3187, 5, 41, 26, 61, 5637, 37, 5473, 1522, 4693, 3, 9, 1131, 23, 20066, 53, 515, 3, 21604, 8, 11814, 13, 8, 14640, 23, 138, 14126, 11, 1522, 1042, 8, 515, 28, 8, 5435, 9768, 2314, 274, 1660, 627, 13, 8, 215, 826, 8, 215, 16, 84, 284, 20, 75, 35, 7419, 2822, 23087, 19, 1026, 5, 6499, 37, 515, 1522, 36, 1231, 604, 477, 227, 34, 19, 5132, 28, 8, 5435, 9768, 2314, 5, 10153, 37, 515, 1522, 36, 1426, 12, 20037, 16, 8, 337, 3107, 38, 24417, 7, 5, 3, 10820, 37, 5473, 1522, 962, 6, 28, 8, 804, 2828, 6, 3, 9, 934, 24, 3, 9453, 8, 1873, 30, 84, 8, 5473, 263, 165, 3055, 16, 3, 9582, 5856, 28, 8, 6683, 3028, 16, 27444, 7, 41, 9, 61, 11, 41, 115, 137, 204, 1808, 2469, 5, 71, 5473, 1144, 1522, 36, 16, 15, 2825, 2317, 21, 3, 9, 1059, 13, 874, 203, 1849, 45, 8, 833, 13, 4141, 12, 1520, 11924, 757, 452, 828, 44, 8, 2822, 6, 538, 6, 5435, 6, 42, 690, 593, 16, 48, 538, 5, 71, 5473, 1144, 1522, 36, 16, 15, 2825, 2317, 21, 3, 9, 1059, 13, 386, 203, 1849, 45, 8, 833, 13, 4141, 12, 1520, 3, 9, 102, 2700, 757, 2822, 6, 538, 6, 42, 415, 452, 828, 6, 12, 1716, 38, 1866, 871, 21, 6, 42, 38, 3, 9, 1866, 7792, 12, 6, 8, 2086, 13, 26088, 1707, 6, 8, 4442, 6, 8, 28204, 6, 42, 136, 928, 26109, 6, 42, 12, 3691, 38, 3, 9, 2822, 6, 538, 42, 415, 11818, 343, 16, 48, 538, 5, 180, 3073, 5, 1682, 37, 28204, 12902, 11, 15884, 7, 24, 3, 9, 534, 973, 19, 1316, 11, 24, 3, 9, 879, 973, 1178, 36, 263, 5383, 441, 8, 2530, 13, 5568, 898, 13, 7491, 10869, 13, 8, 1826, 11378, 250, 13, 8, 775, 4616, 5008, 8, 1334, 13, 3144, 4975, 5, 180, 3073, 5, 1877, 156, 8, 3527, 30, 1015, 19926, 1422, 2082, 7, 24, 48, 1810, 2579, 1358, 12871, 26, 57, 8, 538, 6, 23960, 12, 415, 4299, 11, 496, 14126, 21, 273, 1358, 1522, 36, 263, 19890, 288, 12, 2733, 489, 41, 287, 526, 4733, 28, 5568, 1003, 2560, 61, 13, 6022, 314, 13, 11029, 204, 13, 8, 3141, 3636, 5, 1]\n",
      "attention_mask\n",
      "[1, 1, 1, 1, 1, 1, 1, 1, 1, 1, 1, 1, 1, 1, 1, 1, 1, 1, 1, 1, 1, 1, 1, 1, 1, 1, 1, 1, 1, 1, 1, 1, 1, 1, 1, 1, 1, 1, 1, 1, 1, 1, 1, 1, 1, 1, 1, 1, 1, 1, 1, 1, 1, 1, 1, 1, 1, 1, 1, 1, 1, 1, 1, 1, 1, 1, 1, 1, 1, 1, 1, 1, 1, 1, 1, 1, 1, 1, 1, 1, 1, 1, 1, 1, 1, 1, 1, 1, 1, 1, 1, 1, 1, 1, 1, 1, 1, 1, 1, 1, 1, 1, 1, 1, 1, 1, 1, 1, 1, 1, 1, 1, 1, 1, 1, 1, 1, 1, 1, 1, 1, 1, 1, 1, 1, 1, 1, 1, 1, 1, 1, 1, 1, 1, 1, 1, 1, 1, 1, 1, 1, 1, 1, 1, 1, 1, 1, 1, 1, 1, 1, 1, 1, 1, 1, 1, 1, 1, 1, 1, 1, 1, 1, 1, 1, 1, 1, 1, 1, 1, 1, 1, 1, 1, 1, 1, 1, 1, 1, 1, 1, 1, 1, 1, 1, 1, 1, 1, 1, 1, 1, 1, 1, 1, 1, 1, 1, 1, 1, 1, 1, 1, 1, 1, 1, 1, 1, 1, 1, 1, 1, 1, 1, 1, 1, 1, 1, 1, 1, 1, 1, 1, 1, 1, 1, 1, 1, 1, 1, 1, 1, 1, 1, 1, 1, 1, 1, 1, 1, 1, 1, 1, 1, 1, 1, 1, 1, 1, 1, 1, 1, 1, 1, 1, 1, 1, 1, 1, 1, 1, 1, 1, 1, 1, 1, 1, 1, 1, 1, 1, 1, 1, 1, 1, 1, 1, 1, 1, 1, 1, 1, 1, 1, 1, 1, 1, 1, 1, 1, 1, 1, 1, 1, 1, 1, 1, 1, 1, 1, 1, 1, 1, 1, 1, 1, 1, 1, 1, 1, 1, 1, 1, 1, 1, 1, 1, 1, 1, 1, 1, 1, 1, 1, 1, 1, 1, 1, 1, 1, 1, 1, 1, 1, 1, 1, 1, 1, 1, 1, 1, 1, 1, 1, 1, 1, 1, 1, 1, 1, 1, 1, 1, 1, 1, 1, 1, 1, 1, 1, 1, 1, 1, 1, 1, 1, 1, 1, 1, 1, 1, 1, 1, 1, 1, 1, 1, 1, 1, 1, 1, 1, 1, 1, 1, 1, 1, 1, 1, 1, 1, 1, 1, 1, 1, 1, 1, 1, 1, 1, 1, 1, 1, 1, 1, 1, 1, 1, 1, 1, 1, 1, 1, 1, 1, 1, 1, 1, 1, 1, 1, 1, 1, 1, 1, 1, 1, 1, 1, 1, 1, 1, 1, 1, 1, 1, 1, 1, 1, 1, 1, 1, 1, 1, 1, 1, 1, 1, 1, 1, 1, 1, 1, 1, 1, 1, 1, 1, 1, 1, 1, 1, 1, 1, 1, 1, 1, 1, 1, 1, 1, 1, 1, 1, 1, 1, 1, 1, 1, 1, 1, 1, 1, 1, 1, 1, 1, 1, 1, 1, 1, 1, 1, 1, 1, 1, 1, 1, 1, 1, 1, 1, 1, 1, 1, 1, 1, 1, 1, 1, 1, 1, 1, 1, 1, 1, 1, 1, 1, 1, 1, 1, 1, 1, 1, 1, 1, 1, 1, 1, 1, 1, 1, 1, 1, 1, 1, 1, 1, 1, 1, 1, 1, 1, 1, 1, 1, 1, 1, 1, 1, 1, 1, 1, 1, 1, 1, 1, 1, 1, 1, 1, 1, 1, 1, 1, 1, 1, 1, 1, 1, 1, 1, 1, 1, 1, 1, 1, 1, 1, 1, 1, 1, 1, 1, 1, 1, 1, 1, 1, 1, 1, 1, 1, 1, 1, 1, 1, 1, 1, 1, 1, 1, 1, 1, 1, 1, 1, 1, 1, 1, 1, 1, 1, 1, 1, 1, 1, 1, 1, 1, 1, 1, 1, 1, 1, 1, 1, 1, 1, 1, 1, 1, 1, 1, 1, 1, 1, 1, 1, 1, 1, 1, 1, 1, 1, 1, 1, 1, 1, 1, 1, 1, 1, 1, 1, 1, 1, 1, 1, 1, 1, 1, 1, 1, 1, 1, 1, 1, 1, 1, 1, 1, 1, 1, 1, 1, 1, 1, 1, 1, 1, 1, 1, 1, 1, 1, 1, 1, 1, 1, 1, 1, 1, 1, 1, 1, 1, 1, 1, 1, 1, 1, 1, 1, 1, 1, 1, 1, 1, 1, 1, 1, 1, 1, 1, 1, 1, 1, 1, 1, 1, 1, 1, 1, 1, 1, 1, 1, 1, 1, 1, 1, 1, 1, 1, 1, 1, 1, 1, 1, 1, 1, 1, 1, 1, 1, 1, 1, 1, 1, 1, 1, 1, 1, 1, 1, 1, 1, 1, 1, 1, 1, 1, 1, 1, 1, 1, 1, 1, 1, 1, 1, 1, 1, 1, 1, 1, 1, 1, 1, 1, 1, 1, 1, 1, 1, 1, 1, 1, 1, 1, 1, 1, 1, 1, 1, 1, 1, 1, 1, 1, 1, 1, 1, 1, 1, 1, 1, 1, 1, 1, 1, 1, 1, 1, 1, 1, 1, 1, 1, 1, 1, 1, 1, 1, 1, 1, 1, 1, 1, 1, 1, 1, 1, 1, 1, 1, 1, 1, 1, 1, 1, 1, 1, 1, 1, 1, 1, 1, 1, 1, 1, 1, 1, 1, 1, 1, 1, 1, 1, 1, 1, 1, 1, 1, 1, 1, 1, 1, 1, 1, 1, 1, 1, 1, 1, 1, 1, 1, 1, 1, 1, 1, 1, 1, 1, 1, 1, 1, 1, 1, 1, 1, 1, 1, 1, 1, 1, 1, 1, 1, 1, 1, 1, 1, 1, 1, 1, 1, 1, 1, 1, 1, 1, 1, 1, 1, 1, 1, 1, 1, 1, 1, 1, 1, 1, 1, 1, 1, 1, 1, 1, 1, 1, 1, 1, 1, 1, 1, 1, 1, 1, 1, 1, 1, 1, 1, 1, 1, 1, 1, 1, 1, 1, 1, 1, 1, 1, 1, 1, 1, 1, 1, 1, 1, 1, 1, 1, 1, 1, 1, 1, 1, 1, 1, 1, 1, 1, 1, 1, 1, 1, 1, 1, 1, 1, 1, 1, 1, 1, 1, 1, 1, 1, 1, 1, 1, 1, 1, 1, 1, 1, 1, 1, 1, 1, 1, 1, 1, 1, 1, 1, 1, 1, 1, 1, 1, 1, 1, 1, 1, 1, 1, 1, 1, 1, 1, 1, 1, 1, 1, 1, 1, 1, 1, 1, 1, 1, 1, 1, 1, 1, 1, 1, 1, 1, 1, 1, 1, 1, 1, 1, 1, 1, 1, 1, 1, 1, 1, 1, 1, 1, 1, 1, 1, 1, 1, 1, 1, 1, 1, 1, 1, 1, 1, 1, 1, 1, 1, 1, 1, 1, 1, 1, 1, 1, 1, 1, 1, 1, 1, 1, 1, 1, 1, 1, 1, 1, 1, 1, 1, 1, 1, 1, 1, 1, 1, 1, 1, 1, 1, 1, 1, 1, 1, 1, 1, 1, 1, 1, 1, 1, 1, 1, 1, 1, 1, 1, 1, 1, 1, 1, 1, 1, 1, 1, 1, 1, 1, 1, 1, 1, 1, 1, 1, 1, 1, 1, 1, 1, 1, 1, 1, 1, 1, 1, 1, 1, 1, 1, 1, 1, 1, 1, 1, 1, 1, 1, 1, 1, 1, 1, 1, 1, 1, 1, 1, 1, 1, 1, 1, 1, 1, 1, 1, 1, 1, 1, 1, 1, 1, 1, 1, 1, 1, 1, 1, 1, 1, 1, 1, 1, 1, 1, 1, 1, 1, 1, 1, 1, 1, 1, 1, 1, 1, 1, 1, 1, 1, 1, 1, 1, 1, 1, 1, 1, 1, 1, 1, 1, 1, 1, 1, 1, 1, 1, 1, 1, 1, 1, 1, 1, 1, 1, 1, 1, 1, 1, 1, 1, 1, 1, 1, 1, 1, 1, 1, 1, 1, 1, 1, 1, 1, 1, 1, 1, 1, 1, 1, 1, 1, 1, 1, 1, 1, 1, 1, 1, 1, 1, 1, 1, 1, 1, 1, 1, 1, 1, 1, 1, 1, 1, 1, 1, 1, 1, 1, 1, 1, 1, 1, 1, 1, 1, 1, 1, 1, 1, 1, 1, 1, 1, 1, 1, 1, 1, 1, 1, 1, 1, 1, 1, 1, 1, 1, 1, 1, 1, 1, 1, 1, 1, 1, 1, 1, 1, 1, 1, 1, 1, 1, 1, 1, 1, 1, 1, 1, 1, 1, 1, 1, 1, 1, 1, 1, 1, 1, 1, 1, 1, 1, 1, 1, 1, 1, 1, 1, 1, 1, 1, 1, 1, 1, 1, 1, 1, 1, 1, 1, 1, 1, 1, 1, 1, 1, 1, 1, 1, 1, 1, 1, 1, 1, 1, 1, 1, 1, 1, 1, 1, 1, 1, 1, 1, 1, 1, 1, 1, 1, 1, 1, 1, 1, 1, 1, 1, 1, 1, 1, 1, 1, 1, 1, 1, 1, 1, 1, 1, 1, 1, 1, 1, 1, 1, 1, 1, 1, 1, 1, 1, 1, 1, 1, 1, 1, 1, 1, 1, 1, 1, 1, 1, 1, 1, 1, 1, 1, 1, 1, 1, 1, 1, 1, 1, 1, 1, 1, 1, 1, 1, 1, 1, 1, 1, 1, 1, 1, 1, 1, 1, 1, 1, 1, 1, 1, 1, 1, 1, 1, 1, 1, 1, 1, 1, 1, 1, 1, 1, 1, 1, 1, 1, 1, 1, 1, 1, 1, 1, 1, 1, 1, 1, 1, 1, 1, 1, 1, 1, 1, 1, 1, 1, 1, 1, 1, 1, 1, 1, 1, 1, 1, 1, 1, 1, 1, 1, 1, 1, 1, 1, 1, 1, 1, 1, 1, 1, 1, 1, 1, 1, 1, 1, 1, 1, 1, 1, 1, 1, 1, 1, 1, 1, 1, 1, 1, 1, 1, 1, 1, 1, 1, 1, 1, 1, 1, 1, 1, 1, 1, 1, 1, 1, 1, 1, 1, 1, 1, 1, 1, 1, 1, 1, 1, 1, 1, 1, 1, 1, 1, 1, 1, 1, 1, 1, 1, 1, 1, 1, 1, 1, 1, 1, 1, 1, 1, 1, 1, 1, 1, 1, 1, 1, 1, 1, 1, 1, 1, 1, 1, 1, 1, 1, 1, 1, 1, 1, 1, 1, 1, 1, 1, 1, 1, 1, 1, 1, 1, 1, 1, 1, 1, 1, 1, 1, 1, 1, 1, 1, 1, 1, 1, 1, 1, 1, 1, 1, 1, 1, 1, 1, 1, 1, 1, 1, 1, 1, 1, 1, 1, 1, 1, 1, 1, 1, 1, 1, 1, 1, 1, 1, 1, 1, 1, 1, 1, 1, 1, 1, 1, 1, 1, 1, 1, 1, 1, 1, 1, 1, 1, 1, 1, 1, 1, 1, 1, 1, 1, 1, 1, 1, 1, 1, 1, 1, 1, 1, 1, 1, 1, 1, 1, 1, 1, 1, 1, 1, 1, 1, 1, 1, 1, 1, 1, 1, 1, 1, 1, 1, 1, 1, 1, 1, 1, 1, 1, 1, 1, 1, 1, 1, 1, 1, 1, 1, 1, 1, 1, 1, 1, 1, 1, 1, 1, 1, 1, 1, 1, 1, 1, 1, 1, 1, 1, 1, 1, 1, 1, 1, 1, 1, 1, 1, 1, 1, 1, 1, 1, 1, 1, 1, 1, 1, 1, 1, 1, 1, 1, 1, 1, 1, 1, 1, 1, 1, 1, 1, 1, 1, 1, 1, 1, 1, 1, 1, 1, 1, 1, 1, 1, 1, 1, 1, 1, 1, 1, 1, 1, 1, 1, 1, 1, 1, 1, 1, 1, 1, 1, 1, 1, 1, 1, 1, 1, 1, 1, 1, 1, 1, 1, 1, 1, 1, 1, 1, 1, 1, 1, 1, 1, 1, 1, 1, 1, 1, 1, 1, 1, 1, 1, 1, 1, 1, 1, 1, 1, 1, 1, 1, 1, 1, 1, 1, 1, 1, 1, 1, 1, 1, 1, 1, 1, 1, 1, 1, 1, 1, 1, 1, 1, 1, 1, 1, 1, 1, 1, 1, 1, 1, 1, 1, 1, 1, 1, 1, 1, 1, 1, 1, 1, 1, 1, 1, 1, 1, 1, 1, 1, 1, 1, 1, 1, 1, 1, 1, 1, 1, 1, 1, 1, 1, 1, 1, 1, 1, 1, 1, 1, 1, 1, 1, 1, 1, 1, 1, 1, 1, 1, 1, 1, 1, 1, 1, 1, 1, 1, 1, 1, 1, 1, 1, 1, 1, 1, 1, 1, 1, 1, 1, 1, 1, 1, 1, 1, 1, 1, 1, 1, 1, 1, 1, 1, 1, 1, 1, 1, 1, 1, 1, 1, 1, 1, 1, 1, 1, 1, 1, 1, 1, 1, 1, 1, 1, 1, 1, 1, 1, 1, 1, 1, 1, 1, 1, 1, 1, 1, 1, 1, 1, 1, 1, 1, 1, 1, 1, 1, 1, 1, 1, 1, 1, 1, 1, 1, 1, 1, 1, 1, 1, 1, 1, 1, 1, 1, 1, 1, 1, 1, 1, 1, 1, 1, 1, 1, 1, 1, 1, 1, 1, 1, 1, 1, 1, 1, 1, 1, 1, 1, 1, 1, 1, 1, 1, 1, 1, 1, 1, 1, 1, 1, 1, 1, 1, 1, 1, 1, 1, 1, 1, 1, 1, 1, 1, 1, 1, 1, 1, 1, 1, 1, 1, 1, 1, 1, 1, 1, 1, 1, 1, 1, 1, 1, 1, 1, 1, 1, 1, 1, 1, 1, 1, 1, 1, 1, 1, 1, 1, 1, 1, 1, 1, 1, 1, 1, 1, 1, 1, 1, 1, 1, 1, 1, 1, 1, 1, 1, 1, 1, 1, 1, 1, 1, 1, 1, 1, 1, 1, 1, 1, 1, 1, 1, 1, 1, 1, 1, 1, 1, 1, 1, 1, 1, 1, 1, 1, 1, 1, 1, 1, 1, 1, 1, 1, 1, 1, 1, 1, 1, 1, 1, 1, 1, 1, 1, 1, 1, 1, 1, 1, 1, 1, 1, 1, 1, 1, 1, 1, 1, 1, 1, 1, 1, 1, 1, 1, 1, 1, 1, 1, 1, 1, 1, 1, 1, 1, 1, 1, 1, 1, 1, 1, 1, 1, 1, 1, 1, 1, 1, 1, 1, 1, 1, 1, 1, 1, 1, 1, 1, 1, 1, 1, 1, 1, 1, 1, 1, 1, 1, 1, 1, 1, 1, 1, 1, 1, 1, 1, 1, 1, 1, 1, 1, 1, 1, 1, 1, 1, 1, 1, 1, 1, 1, 1, 1, 1, 1, 1, 1, 1, 1, 1, 1, 1, 1, 1, 1, 1, 1, 1, 1, 1, 1, 1, 1, 1, 1, 1, 1, 1, 1, 1, 1, 1, 1, 1, 1, 1, 1, 1, 1, 1, 1, 1, 1, 1, 1, 1, 1, 1, 1, 1, 1, 1, 1, 1, 1, 1, 1, 1, 1, 1, 1, 1, 1, 1, 1, 1, 1, 1, 1, 1, 1, 1, 1, 1, 1, 1, 1, 1, 1, 1, 1, 1, 1, 1, 1, 1, 1, 1, 1, 1, 1, 1, 1, 1, 1, 1, 1, 1, 1, 1, 1, 1, 1, 1, 1, 1, 1, 1, 1, 1, 1, 1, 1, 1, 1, 1, 1, 1, 1, 1, 1, 1, 1, 1, 1, 1, 1, 1, 1, 1, 1, 1, 1, 1, 1, 1, 1, 1, 1, 1, 1, 1, 1, 1, 1, 1, 1, 1, 1, 1, 1, 1, 1, 1, 1, 1, 1, 1, 1, 1, 1, 1, 1, 1, 1, 1, 1, 1, 1, 1, 1, 1, 1, 1, 1, 1, 1, 1, 1, 1, 1, 1, 1, 1, 1, 1, 1, 1, 1, 1, 1, 1, 1, 1, 1, 1, 1, 1, 1, 1, 1, 1, 1, 1, 1, 1, 1, 1, 1, 1, 1, 1, 1, 1, 1, 1, 1, 1, 1, 1, 1, 1, 1, 1, 1, 1, 1, 1, 1, 1, 1, 1, 1, 1, 1, 1, 1, 1, 1, 1, 1, 1, 1, 1, 1, 1, 1, 1, 1, 1, 1, 1, 1, 1, 1, 1, 1, 1, 1, 1, 1, 1, 1, 1, 1, 1, 1, 1, 1, 1, 1, 1, 1, 1, 1, 1, 1, 1, 1, 1, 1, 1, 1, 1, 1, 1, 1, 1, 1, 1, 1, 1, 1, 1, 1, 1, 1, 1, 1, 1, 1, 1, 1, 1, 1, 1, 1, 1, 1, 1, 1, 1, 1, 1, 1, 1, 1, 1, 1, 1, 1, 1, 1, 1, 1, 1, 1, 1, 1, 1, 1, 1, 1, 1, 1, 1, 1, 1, 1, 1, 1, 1, 1, 1, 1, 1, 1, 1, 1, 1, 1, 1, 1, 1, 1, 1, 1, 1, 1, 1, 1, 1, 1, 1, 1, 1, 1, 1, 1, 1, 1, 1, 1, 1, 1, 1, 1, 1, 1, 1, 1, 1, 1, 1, 1, 1, 1, 1, 1, 1, 1, 1, 1, 1, 1, 1, 1, 1, 1, 1, 1, 1, 1, 1, 1, 1, 1, 1, 1, 1, 1, 1, 1, 1, 1, 1, 1, 1, 1, 1, 1, 1, 1, 1, 1, 1, 1, 1, 1, 1, 1, 1, 1, 1, 1, 1, 1, 1, 1, 1, 1, 1, 1, 1, 1, 1, 1, 1, 1, 1, 1, 1, 1, 1, 1, 1, 1, 1, 1, 1, 1, 1, 1, 1, 1, 1, 1, 1, 1, 1, 1, 1, 1, 1, 1, 1, 1, 1, 1, 1, 1, 1, 1, 1, 1, 1, 1, 1, 1, 1, 1, 1, 1, 1, 1, 1, 1, 1, 1, 1, 1, 1, 1, 1, 1, 1, 1, 1, 1, 1, 1, 1, 1, 1, 1, 1, 1, 1, 1, 1, 1, 1, 1, 1, 1, 1, 1, 1, 1, 1, 1, 1, 1, 1, 1, 1, 1, 1, 1, 1, 1, 1, 1, 1, 1, 1, 1, 1, 1, 1, 1, 1, 1, 1, 1, 1, 1, 1, 1, 1, 1, 1, 1]\n"
     ]
    }
   ],
   "source": [
    "tokenized_text = tokenizer(example['text'])\n",
    "for key in tokenized_text:\n",
    "    print(key)\n",
    "    print(tokenized_text[key])"
   ]
  },
  {
   "cell_type": "code",
   "execution_count": 13,
   "metadata": {},
   "outputs": [],
   "source": [
    "def preprocess_function(examples):\n",
    "    # Prepends the string \"summarize: \" to each document in the 'text' field of the input examples.\n",
    "    # This is done to instruct the T5 model on the task it needs to perform, which in this case is summarization.\n",
    "    inputs = [\"summarize: \" + doc for doc in examples[\"text\"]]\n",
    "\n",
    "    # Tokenizes the prepended input texts to convert them into a format that can be fed into the T5 model.\n",
    "    # Sets a maximum token length of 1024, and truncates any text longer than this limit.\n",
    "    model_inputs = tokenizer(inputs, max_length=1024, truncation=True)\n",
    "\n",
    "    # Tokenizes the 'summary' field of the input examples to prepare the target labels for the summarization task.\n",
    "    # Sets a maximum token length of 128, and truncates any text longer than this limit.\n",
    "    labels = tokenizer(text_target=examples[\"summary\"], max_length=128, truncation=True)\n",
    "\n",
    "    # Assigns the tokenized labels to the 'labels' field of model_inputs.\n",
    "    # The 'labels' field is used during training to calculate the loss and guide model learning.\n",
    "    model_inputs[\"labels\"] = labels[\"input_ids\"]\n",
    "\n",
    "    # Returns the prepared inputs and labels as a single dictionary, ready for training.\n",
    "    return model_inputs"
   ]
  },
  {
   "cell_type": "code",
   "execution_count": 14,
   "metadata": {},
   "outputs": [
    {
     "name": "stderr",
     "output_type": "stream",
     "text": [
      "Map:   0%|          | 0/989 [00:00<?, ? examples/s]"
     ]
    },
    {
     "name": "stderr",
     "output_type": "stream",
     "text": [
      "Map: 100%|██████████| 989/989 [00:01<00:00, 622.57 examples/s]\n",
      "Map: 100%|██████████| 248/248 [00:00<00:00, 726.75 examples/s]\n"
     ]
    }
   ],
   "source": [
    "tokenized_billsum = billsum.map(preprocess_function, batched=True)"
   ]
  },
  {
   "cell_type": "code",
   "execution_count": 15,
   "metadata": {},
   "outputs": [
    {
     "data": {
      "text/plain": [
       "'The people of the State of California do enact as follows:\\n\\n\\nSECTION 1.\\nSection 1714.21 of the Civil Code is amended to read:\\n1714.21.\\n(a) For purposes of this section, the following definitions shall apply:\\n(1) “AED” or “defibrillator” means an automated external defibrillator.\\n(2) “CPR” means cardiopulmonary resuscitation.\\n(b) Any person who, in good faith and not for compensation, renders emergency care or treatment by the use of an AED at the scene of an emergency is not liable for any civil damages resulting from any acts or omissions in rendering the emergency care.\\n(c) A person or entity who provides CPR and AED training to a person who renders emergency care pursuant to subdivision (b) is not liable for any civil damages resulting from any acts or omissions of the person rendering the emergency care.\\n(d) (1) A person or entity that acquires an AED for emergency use pursuant to this section is not liable for any civil damages resulting from any acts or omissions in the rendering of the emergency care by use of an AED if that person or entity has complied with subdivision (b) of Section 1797.196 of the Health and Safety Code.\\n(2) A physician and surgeon or other health care professional that is involved in the selection, placement, or installation of an AED pursuant to Section 1797.196 of the Health and Safety Code is not liable for civil damages resulting from acts or omissions in the rendering of emergency care by use of that AED.\\n(e) The protections specified in this section do not apply in the case of personal injury or wrongful death that results from the gross negligence or willful or wanton misconduct of the person who renders emergency care or treatment by the use of an AED.\\n(f) This section does not relieve a manufacturer, designer, developer, distributor, installer, or supplier of an AED or defibrillator of any liability under any applicable statute or rule of law.\\nSEC. 2.\\nSection 1797.196 of the Health and Safety Code is amended to read:\\n1797.196.\\n(a) For purposes of this section, “AED” or “defibrillator” means an automated external defibrillator.\\n(b) (1) In order to ensure public safety, a person or entity that acquires an AED shall do all of the following:\\n(A) Comply with all regulations governing the placement of an AED.\\n(B) Notify an agent of the local EMS agency of the existence, location, and type of AED acquired.\\n(C) Ensure that the AED is maintained and tested according to the operation and maintenance guidelines set forth by the manufacturer.\\n(D) Ensure that the AED is tested at least biannually and after each use.\\n(E) Ensure that an inspection is made of all AEDs on the premises at least every 90 days for potential issues related to operability of the device, including a blinking light or other obvious defect that may suggest tampering or that another problem has arisen with the functionality of the AED.\\n(F) Ensure that records of the maintenance and testing required pursuant to this paragraph are maintained.\\n(2) When an AED is placed in a building, the building owner shall do all of the following:\\n(A) At least once a year, notify the tenants as to the location of the AED units and provide information to tenants about who they can contact if they want to voluntarily take AED or CPR training.\\n(B) At least once a year, offer a demonstration to at least one person associated with the building so that the person can be walked through how to use an AED properly in an emergency. The building owner may arrange for the demonstration or partner with a nonprofit organization to do so.\\n(C) Next to the AED, post instructions, in no less than 14-point type, on how to use the AED.\\n(3) A medical director or other physician and surgeon is not required to be involved in the acquisition or placement of an AED.\\n(c) (1) When an AED is placed in a public or private K–12 school, the principal shall ensure that the school administrators and staff annually receive information that describes sudden cardiac arrest, the school’s emergency response plan, and the proper use of an AED. The principal shall also ensure that instructions, in no less than 14-point type, on how to use the AED are posted next to every AED. The principal shall, at least annually, notify school employees as to the location of all AED units on the campus.\\n(2) This section does not prohibit a school employee or other person from rendering aid with an AED.\\n(d) A manufacturer or retailer supplying an AED shall provide to the acquirer of the AED all information governing the use, installation, operation, training, and maintenance of the AED.\\n(e) A violation of this section is not subject to penalties pursuant to Section 1798.206.\\n(f) Nothing in this section or Section 1714.21 of the Civil Code may be construed to require a building owner or a building manager to acquire and have installed an AED in any building.\\n(g) For purposes of this section, “local EMS agency” means an agency established pursuant to Section 1797.200.\\n(h) This section does not apply to facilities licensed pursuant to subdivision (a), (b), (c), or (f) of Section 1250.'"
      ]
     },
     "execution_count": 15,
     "metadata": {},
     "output_type": "execute_result"
    }
   ],
   "source": [
    "tokenized_billsum['test'][0]['text']"
   ]
  },
  {
   "cell_type": "code",
   "execution_count": 16,
   "metadata": {},
   "outputs": [
    {
     "data": {
      "text/plain": [
       "'Existing law exempts from civil liability any person who, in good faith and not for compensation, renders emergency care or treatment by the use of an automated external defibrillator (AED) at the scene of an emergency, except in the case of personal injury or wrongful death that results from the gross negligence or willful or wanton misconduct of the person who renders emergency care or treatment. Existing law also exempts from civil liability a person or entity that acquires an AED for emergency use, a physician who is involved with the placement of the AED, and any person or entity responsible for the site where the AED is located if specified conditions are met, including maintenance and regular testing of the AED and having a written plan that describes the procedures to be followed in case of an emergency that may involve the use of the AED. Under existing law, those specified conditions also require, when an AED is placed in a public or private K–12 school, the school principal to, among other things, ensure that the school administrators and staff annually receive a brochure, approved as to content and style by the American Heart Association or the American Red Cross, that describes the proper use of an AED, to ensure that similar information is posted next to every AED, and to designate the trained employees who are available to respond to an emergency that may involve the use of an AED during normal operating hours.\\nThis bill would provide an exemption from civil liability for a physician and surgeon or other health care professional that is involved in the selection, placement, or installation of an AED. The bill would require a person or entity, other than a health facility as defined, that acquires an AED to, among other things, comply with specified regulations for the placement of the device and ensure that the AED is maintained and tested as specified. The bill would require a building owner to annually notify the tenants as to the location of the AED units and provide information to tenants about who they can contact if they want to voluntarily take AED or CPR training, to offer a demonstration to at least one person associated with the building as to the use of an AED in an emergency, and post instructions for the use of the AED. The bill would also specify that a medical director or physician and surgeon is not required to be involved in the acquisition or placement of an AED. The bill would make related changes.\\nThis bill would revise the public or private K–12 school provisions described above by instead requiring, when an AED is placed in a public or private K–12 school, the school principal to ensure that the school administrators and staff annually receive information that describes sudden cardiac arrest, the school’s emergency response plan, and the proper use of an AED, by instead requiring the school principal to ensure that instructions, in no less than 14-point type, on how to use the AED are posted next to every AED, and by deleting the requirement that the school principal designate the trained employees who are available to respond to an emergency that may involve the use of an AED during normal operating hours.'"
      ]
     },
     "execution_count": 16,
     "metadata": {},
     "output_type": "execute_result"
    }
   ],
   "source": [
    "tokenized_billsum['test'][0]['summary']"
   ]
  },
  {
   "cell_type": "code",
   "execution_count": 17,
   "metadata": {},
   "outputs": [],
   "source": [
    "data_collator = DataCollatorForSeq2Seq(tokenizer=tokenizer, model=model_path)"
   ]
  },
  {
   "cell_type": "code",
   "execution_count": 18,
   "metadata": {},
   "outputs": [],
   "source": [
    "rouge = evaluate.load(\"rouge\")"
   ]
  },
  {
   "cell_type": "code",
   "execution_count": 19,
   "metadata": {},
   "outputs": [],
   "source": [
    "def compute_metrics(eval_pred):\n",
    "    # Unpacks the evaluation predictions tuple into predictions and labels.\n",
    "    predictions, labels = eval_pred\n",
    "\n",
    "    # Decodes the tokenized predictions back to text, skipping any special tokens (e.g., padding tokens).\n",
    "    decoded_preds = tokenizer.batch_decode(predictions, skip_special_tokens=True)\n",
    "\n",
    "    # Replaces any -100 values in labels with the tokenizer's pad_token_id.\n",
    "    # This is done because -100 is often used to ignore certain tokens when calculating the loss during training.\n",
    "    labels = np.where(labels != -100, labels, tokenizer.pad_token_id)\n",
    "\n",
    "    # Decodes the tokenized labels back to text, skipping any special tokens (e.g., padding tokens).\n",
    "    decoded_labels = tokenizer.batch_decode(labels, skip_special_tokens=True)\n",
    "\n",
    "    # Computes the ROUGE metric between the decoded predictions and decoded labels.\n",
    "    # The use_stemmer parameter enables stemming, which reduces words to their root form before comparison.\n",
    "    result = rouge.compute(predictions=decoded_preds, references=decoded_labels, use_stemmer=True)\n",
    "\n",
    "    # Calculates the length of each prediction by counting the non-padding tokens.\n",
    "    prediction_lens = [np.count_nonzero(pred != tokenizer.pad_token_id) for pred in predictions]\n",
    "\n",
    "    # Computes the mean length of the predictions and adds it to the result dictionary under the key \"gen_len\".\n",
    "    result[\"gen_len\"] = np.mean(prediction_lens)\n",
    "\n",
    "    # Rounds each value in the result dictionary to 4 decimal places for cleaner output, and returns the result.\n",
    "    return {k: round(v, 4) for k, v in result.items()}"
   ]
  },
  {
   "cell_type": "code",
   "execution_count": 20,
   "metadata": {},
   "outputs": [
    {
     "name": "stderr",
     "output_type": "stream",
     "text": [
      "d:\\Python\\LLM_Environment\\myenv\\lib\\site-packages\\transformers\\training_args.py:1545: FutureWarning: `evaluation_strategy` is deprecated and will be removed in version 4.46 of 🤗 Transformers. Use `eval_strategy` instead\n",
      "  warnings.warn(\n"
     ]
    }
   ],
   "source": [
    "training_args = Seq2SeqTrainingArguments(\n",
    "    output_dir=\"my_fine_tuned_t5_small_model\",\n",
    "    evaluation_strategy=\"epoch\",\n",
    "    learning_rate=2e-5,\n",
    "    per_device_train_batch_size=8,\n",
    "    per_device_eval_batch_size=8,\n",
    "    weight_decay=0.01,\n",
    "    save_total_limit=3,\n",
    "    num_train_epochs=4,\n",
    "    predict_with_generate=True,\n",
    "    fp16=True,\n",
    ")"
   ]
  },
  {
   "cell_type": "code",
   "execution_count": 21,
   "metadata": {},
   "outputs": [],
   "source": [
    "trainer = Seq2SeqTrainer(\n",
    "    model=model,\n",
    "    args=training_args,\n",
    "    train_dataset=tokenized_billsum[\"train\"],\n",
    "    eval_dataset=tokenized_billsum[\"test\"],\n",
    "    tokenizer=tokenizer,\n",
    "    data_collator=data_collator,\n",
    "    compute_metrics=compute_metrics,\n",
    ")"
   ]
  },
  {
   "cell_type": "code",
   "execution_count": 22,
   "metadata": {},
   "outputs": [
    {
     "name": "stderr",
     "output_type": "stream",
     "text": [
      " 25%|██▌       | 124/496 [00:56<02:48,  2.20it/s]d:\\Python\\LLM_Environment\\myenv\\lib\\site-packages\\transformers\\generation\\utils.py:1220: UserWarning: Using the model-agnostic default `max_length` (=20) to control the generation length. We recommend setting `max_new_tokens` to control the maximum length of the generation.\n",
      "  warnings.warn(\n",
      "\n",
      " 25%|██▌       | 124/496 [01:20<02:48,  2.20it/s]"
     ]
    },
    {
     "name": "stdout",
     "output_type": "stream",
     "text": [
      "{'eval_loss': nan, 'eval_rouge1': 0.0854, 'eval_rouge2': 0.0236, 'eval_rougeL': 0.0704, 'eval_rougeLsum': 0.0702, 'eval_gen_len': 13.9798, 'eval_runtime': 23.6688, 'eval_samples_per_second': 10.478, 'eval_steps_per_second': 1.31, 'epoch': 1.0}\n"
     ]
    },
    {
     "name": "stderr",
     "output_type": "stream",
     "text": [
      " 50%|█████     | 248/496 [02:17<01:50,  2.25it/s]\n",
      " 50%|█████     | 248/496 [02:41<01:50,  2.25it/s]"
     ]
    },
    {
     "name": "stdout",
     "output_type": "stream",
     "text": [
      "{'eval_loss': nan, 'eval_rouge1': 0.0854, 'eval_rouge2': 0.0236, 'eval_rougeL': 0.0704, 'eval_rougeLsum': 0.0702, 'eval_gen_len': 13.9798, 'eval_runtime': 24.0089, 'eval_samples_per_second': 10.329, 'eval_steps_per_second': 1.291, 'epoch': 2.0}\n"
     ]
    },
    {
     "name": "stderr",
     "output_type": "stream",
     "text": [
      "                                                 \n",
      " 75%|███████▌  | 372/496 [04:02<00:57,  2.14it/s]"
     ]
    },
    {
     "name": "stdout",
     "output_type": "stream",
     "text": [
      "{'eval_loss': nan, 'eval_rouge1': 0.0854, 'eval_rouge2': 0.0236, 'eval_rougeL': 0.0704, 'eval_rougeLsum': 0.0702, 'eval_gen_len': 13.9798, 'eval_runtime': 24.2416, 'eval_samples_per_second': 10.23, 'eval_steps_per_second': 1.279, 'epoch': 3.0}\n"
     ]
    },
    {
     "name": "stderr",
     "output_type": "stream",
     "text": [
      "100%|██████████| 496/496 [05:01<00:00,  2.19it/s]d:\\Python\\LLM_Environment\\myenv\\lib\\site-packages\\transformers\\generation\\utils.py:1220: UserWarning: Using the model-agnostic default `max_length` (=20) to control the generation length. We recommend setting `max_new_tokens` to control the maximum length of the generation.\n",
      "  warnings.warn(\n",
      "                                                 \n",
      "100%|██████████| 496/496 [05:25<00:00,  1.52it/s]"
     ]
    },
    {
     "name": "stdout",
     "output_type": "stream",
     "text": [
      "{'eval_loss': nan, 'eval_rouge1': 0.0854, 'eval_rouge2': 0.0236, 'eval_rougeL': 0.0704, 'eval_rougeLsum': 0.0702, 'eval_gen_len': 13.9798, 'eval_runtime': 24.1329, 'eval_samples_per_second': 10.276, 'eval_steps_per_second': 1.285, 'epoch': 4.0}\n",
      "{'train_runtime': 325.9456, 'train_samples_per_second': 12.137, 'train_steps_per_second': 1.522, 'train_loss': 0.0, 'epoch': 4.0}\n"
     ]
    },
    {
     "name": "stderr",
     "output_type": "stream",
     "text": [
      "\n"
     ]
    },
    {
     "data": {
      "text/plain": [
       "TrainOutput(global_step=496, training_loss=0.0, metrics={'train_runtime': 325.9456, 'train_samples_per_second': 12.137, 'train_steps_per_second': 1.522, 'total_flos': 1470765673218048.0, 'train_loss': 0.0, 'epoch': 4.0})"
      ]
     },
     "execution_count": 22,
     "metadata": {},
     "output_type": "execute_result"
    }
   ],
   "source": [
    "trainer.train()"
   ]
  },
  {
   "cell_type": "code",
   "execution_count": 23,
   "metadata": {},
   "outputs": [],
   "source": [
    "trainer.save_model(\"my_fine_tuned_t5_small_model\")"
   ]
  },
  {
   "cell_type": "code",
   "execution_count": 24,
   "metadata": {},
   "outputs": [
    {
     "data": {
      "text/plain": [
       "'summarize: The people of the State of California do enact as follows:\\n\\n\\nSECTION 1.\\nSection 21159.21 of the Public Resources Code is amended to read:\\n21159.21.\\nA housing project qualifies for an exemption from this division pursuant to Section 21159.22, 21159.23, or 21159.24 if it meets the criteria in the applicable section and all of the following criteria:\\n(a) The project is consistent with any applicable general plan, specific plan, and local coastal program, including any mitigation measures required by a plan or program, as that plan or program existed on the date that the application was deemed complete and with any applicable zoning ordinance, as that zoning ordinance existed on the date that the application was deemed complete, except that a project shall not be deemed to be inconsistent with the zoning designation for the site if that zoning designation is inconsistent with the general plan only because the project site has not been rezoned to conform with a more recently adopted general plan.\\n(b)\\nCommunity-level\\nA community-level\\nenvironmental review has been adopted or certified.\\n(c) The project and other projects approved prior to the approval of the project can be adequately served by existing utilities, and the project applicant has paid, or has committed to pay, all applicable in-lieu or development fees.\\n(d) The site of the project does not contain wetlands, does not have any value as a wildlife habitat, and the project does not harm any species protected by the federal Endangered Species Act of 1973 (16 U.S.C. Sec. 1531 et seq.) or\\nprotected\\nby the Native Plant Protection Act (Chapter 10 (commencing with Section 1900) of Division 2 of the Fish and Game Code), the California Endangered Species Act (Chapter 1.5 (commencing with Section 2050) of Division 3 of the Fish and Game Code), and the project does not cause the destruction or removal of any species protected by a local ordinance in effect at the time the application for the project was deemed complete. For the purposes of this subdivision, “wetlands” has the same meaning as in Section 328.3 of Title 33 of the Code of Federal Regulations and “wildlife habitat” means the ecological communities upon which wild animals, birds, plants, fish, amphibians, and invertebrates depend for their conservation and protection.\\n(e) The site of the project is not included on any list of facilities and sites compiled pursuant to Section 65962.5 of the Government Code.\\n(f) The site of the project is subject to a preliminary endangerment assessment prepared by an environmental assessor to determine the existence of any release of a hazardous substance on the site and to determine the potential for exposure of future occupants to significant health hazards from any nearby property or activity.\\n(1) If a release of a hazardous substance is found to exist on the site, the release shall be removed, or any significant effects of the release shall be mitigated to a level of insignificance in compliance with state and federal requirements.\\n(2) If a potential for exposure to significant hazards from surrounding properties or activities is found to exist, the effects of the potential exposure shall be mitigated to a level of insignificance in compliance with state and federal requirements.\\n(g) The project does not have a significant effect on historical resources pursuant to Section 21084.1.\\n(h) The project site is not subject to any of the following:\\n(1) A wildland fire hazard, as determined by the Department of Forestry and Fire Protection, unless the applicable general plan or zoning ordinance contains provisions to mitigate the risk of a wildland fire hazard.\\n(2) An unusually high risk of fire or explosion from materials stored or used on nearby properties.\\n(3) Risk of a public health exposure at a level that would exceed the standards established by any state or federal agency.\\n(4) Within a delineated earthquake fault zone, as determined pursuant to Section 2622, or a seismic hazard zone, as determined pursuant to Section 2696, unless the applicable general plan or zoning ordinance contains provisions to mitigate the risk of an earthquake fault or seismic hazard zone.\\n(5) Landslide hazard, flood plain, flood way, or restriction zone, unless the applicable general plan or zoning ordinance contains provisions to mitigate the risk of a landslide or flood.\\n(i) (1) The project site is not located on developed open space.\\n(2) For the purposes of this subdivision, “developed open space” means land that meets all of the following criteria:\\n(A) Is publicly owned, or financed in whole or in part by public funds.\\n(B) Is generally open to, and available for use by, the public.\\n(C) Is predominantly lacking in structural development other than structures associated with open spaces, including, but not limited to, playgrounds, swimming pools, ballfields, enclosed child play areas, and picnic facilities.\\n(3) For the purposes of this subdivision, “developed open space” includes land that has been designated for acquisition by a public agency for developed open space, but does not include lands acquired by public funds dedicated to the acquisition of land for housing purposes.'"
      ]
     },
     "execution_count": 24,
     "metadata": {},
     "output_type": "execute_result"
    }
   ],
   "source": [
    "text = billsum['test'][100]['text']\n",
    "text = \"summarize: \" + text\n",
    "text"
   ]
  },
  {
   "cell_type": "code",
   "execution_count": 25,
   "metadata": {},
   "outputs": [
    {
     "name": "stderr",
     "output_type": "stream",
     "text": [
      "Hardware accelerator e.g. GPU is available in the environment, but no `device` argument is passed to the `Pipeline` object. Model will be on CPU.\n",
      "Token indices sequence length is longer than the specified maximum sequence length for this model (1132 > 512). Running this sequence through the model will result in indexing errors\n"
     ]
    },
    {
     "data": {
      "text/plain": [
       "[{'summary_text': '(i) (1) The project site is not located on developed open space. (2) For the purposes of this subdivision, “developed open space” means land that meets all of the following criteria: (a) It is consistent with any applicable general plan, specific plan, and local coastal program, including any mitigation measures required by a plan or program; (b) It does not contain wetlands, does not have any value as a wildlife habitat; and the project does not harm any species protected by the federal Endangered Species Act of 1973 (16 U.S.C. Sec. 1531 et seq.) or protected under the Native Plant Protection Act (Chapter 10 (commencing with Section 2050) of Division 3 of the Fish and Game Code), and the program does not cause the destruction or removal of any species listed by zoning ordinance in effect at the time the application for the project was deemed complete.'}]"
      ]
     },
     "execution_count": 25,
     "metadata": {},
     "output_type": "execute_result"
    }
   ],
   "source": [
    "summarizer = pipeline(\"summarization\", model=\"my_fine_tuned_t5_small_model\")\n",
    "pred = summarizer(text)\n",
    "pred"
   ]
  },
  {
   "cell_type": "code",
   "execution_count": 26,
   "metadata": {},
   "outputs": [
    {
     "name": "stderr",
     "output_type": "stream",
     "text": [
      "Token indices sequence length is longer than the specified maximum sequence length for this model (1130 > 512). Running this sequence through the model will result in indexing errors\n"
     ]
    },
    {
     "data": {
      "text/plain": [
       "tensor([[21603,    10,    37,  ...,  3659,     5,     1]])"
      ]
     },
     "execution_count": 26,
     "metadata": {},
     "output_type": "execute_result"
    }
   ],
   "source": [
    "tokenizer = AutoTokenizer.from_pretrained(\"my_fine_tuned_t5_small_model\")\n",
    "inputs = tokenizer(text, return_tensors=\"pt\").input_ids\n",
    "inputs"
   ]
  },
  {
   "cell_type": "code",
   "execution_count": 27,
   "metadata": {},
   "outputs": [],
   "source": [
    "model = AutoModelForSeq2SeqLM.from_pretrained(\"my_fine_tuned_t5_small_model\")\n",
    "outputs = model.generate(inputs, max_new_tokens=100, do_sample=False)"
   ]
  },
  {
   "cell_type": "code",
   "execution_count": 28,
   "metadata": {},
   "outputs": [
    {
     "data": {
      "text/plain": [
       "'(i) (1) The project site is not located on developed open space. (2) For the purposes of this subdivision, “developed open space” means land that meets all of the following criteria: (a) It is consistent with any applicable general plan, specific plan, and local coastal program, including any mitigation measures required by a plan or program; (b) It does not contain wetlands, does not have any value as a wildlife habitat; and the project does not harm any species protected by the federal Endangered Species Act of 1973 (16 U.S.C. Sec. 1531 et seq.) or protected under the Native Plant Protection Act (Chapter 10 (commencing with Section 2050) of Division 3 of the Fish and Game Code), and the program does not cause the destruction or removal of any species listed by zoning ordinance in effect at the time the application for the project was deemed complete.'"
      ]
     },
     "execution_count": 28,
     "metadata": {},
     "output_type": "execute_result"
    }
   ],
   "source": [
    "pred[0]['summary_text']"
   ]
  },
  {
   "cell_type": "code",
   "execution_count": 29,
   "metadata": {},
   "outputs": [],
   "source": [
    "preds = [pred[0]['summary_text']]"
   ]
  },
  {
   "cell_type": "code",
   "execution_count": 30,
   "metadata": {},
   "outputs": [],
   "source": [
    "labels = [billsum['test'][100]['summary']]"
   ]
  },
  {
   "cell_type": "code",
   "execution_count": 31,
   "metadata": {},
   "outputs": [
    {
     "data": {
      "text/plain": [
       "{'rouge1': 0.3558718861209964,\n",
       " 'rouge2': 0.043010752688172046,\n",
       " 'rougeL': 0.1423487544483986,\n",
       " 'rougeLsum': 0.1708185053380783}"
      ]
     },
     "execution_count": 31,
     "metadata": {},
     "output_type": "execute_result"
    }
   ],
   "source": [
    "rouge.compute(predictions=preds, references=labels, use_stemmer=True)"
   ]
  }
 ],
 "metadata": {
  "kernelspec": {
   "display_name": "myenv",
   "language": "python",
   "name": "python3"
  },
  "language_info": {
   "codemirror_mode": {
    "name": "ipython",
    "version": 3
   },
   "file_extension": ".py",
   "mimetype": "text/x-python",
   "name": "python",
   "nbconvert_exporter": "python",
   "pygments_lexer": "ipython3",
   "version": "3.9.13"
  }
 },
 "nbformat": 4,
 "nbformat_minor": 2
}

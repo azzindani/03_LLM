{
  "cells": [
    {
      "cell_type": "markdown",
      "metadata": {
        "id": "S53iOvd3OAYi"
      },
      "source": [
        "## Import Modules"
      ]
    },
    {
      "cell_type": "code",
      "execution_count": 1,
      "metadata": {
        "id": "Oo12ksslNojR"
      },
      "outputs": [
        {
          "name": "stderr",
          "output_type": "stream",
          "text": [
            "d:\\Python\\LLM_Environment\\myenv\\lib\\site-packages\\tqdm\\auto.py:21: TqdmWarning: IProgress not found. Please update jupyter and ipywidgets. See https://ipywidgets.readthedocs.io/en/stable/user_install.html\n",
            "  from .autonotebook import tqdm as notebook_tqdm\n"
          ]
        },
        {
          "name": "stdout",
          "output_type": "stream",
          "text": [
            "WARNING:tensorflow:From d:\\Python\\LLM_Environment\\myenv\\lib\\site-packages\\tf_keras\\src\\losses.py:2976: The name tf.losses.sparse_softmax_cross_entropy is deprecated. Please use tf.compat.v1.losses.sparse_softmax_cross_entropy instead.\n",
            "\n",
            "GPU is available!\n"
          ]
        }
      ],
      "source": [
        "import os\n",
        "import pandas as pd\n",
        "import pathlib\n",
        "import json\n",
        "import numpy as np\n",
        "import json\n",
        "import struct\n",
        "import subprocess\n",
        "import torch\n",
        "import re\n",
        "import unicodedata\n",
        "import nltk\n",
        "import spacy\n",
        "\n",
        "from datasets import load_dataset\n",
        "from datasets import Dataset\n",
        "\n",
        "from transformers import (\n",
        "    AutoTokenizer,\n",
        "    AutoModelForCausalLM,\n",
        "    AutoModel,\n",
        "    AutoModelForSequenceClassification,\n",
        "    DataCollatorForLanguageModeling,\n",
        "    Trainer,\n",
        "    TrainingArguments,\n",
        "    pipeline,\n",
        "    TextDataset,\n",
        "    EvalPrediction,\n",
        "    DataCollatorWithPadding,\n",
        "    GenerationConfig,\n",
        "    BitsAndBytesConfig,\n",
        "    MarianMTModel,\n",
        "    MarianTokenizer,\n",
        "    T5Tokenizer,\n",
        "    T5ForConditionalGeneration\n",
        ")\n",
        "\n",
        "from nltk.corpus import stopwords\n",
        "from contractions import fix\n",
        "from nltk.stem import WordNetLemmatizer\n",
        "from nltk.corpus import wordnet\n",
        "from textblob import TextBlob\n",
        "from spellchecker import SpellChecker\n",
        "\n",
        "if torch.cuda.is_available():\n",
        "    print(\"GPU is available!\")\n",
        "else:\n",
        "    print(\"GPU is not available.\")"
      ]
    },
    {
      "cell_type": "code",
      "execution_count": 2,
      "metadata": {},
      "outputs": [
        {
          "data": {
            "text/plain": [
              "device(type='cuda')"
            ]
          },
          "execution_count": 2,
          "metadata": {},
          "output_type": "execute_result"
        }
      ],
      "source": [
        "device = torch.device(\"cuda\" if torch.cuda.is_available() else \"cpu\")\n",
        "device"
      ]
    },
    {
      "cell_type": "code",
      "execution_count": 3,
      "metadata": {},
      "outputs": [],
      "source": [
        "MAIN_PATH = str(pathlib.Path().resolve())\n",
        "DATASET_PATH = MAIN_PATH + '\\\\datasets'\n",
        "MODEL_PATH = MAIN_PATH + '\\\\models'\n",
        "MODELS = 'D:\\\\AI\\\\LLM\\\\models'"
      ]
    },
    {
      "cell_type": "markdown",
      "metadata": {},
      "source": [
        "## Set Up Model Path"
      ]
    },
    {
      "cell_type": "code",
      "execution_count": 4,
      "metadata": {},
      "outputs": [
        {
          "data": {
            "text/plain": [
              "['bart-large-cnn',\n",
              " 'bert-base-cased',\n",
              " 'bert-base-multilingual-cased',\n",
              " 'bert-base-uncased',\n",
              " 'bert-large-cased',\n",
              " 'bert-large-uncased',\n",
              " 'flan-t5-base',\n",
              " 'flan-t5-large',\n",
              " 'flan-t5-small',\n",
              " 'gpt2',\n",
              " 'gpt2-large',\n",
              " 'gpt2-medium',\n",
              " 'opus-mt-en-id',\n",
              " 'opus-mt-id-en',\n",
              " 't5-base',\n",
              " 't5-large']"
            ]
          },
          "execution_count": 4,
          "metadata": {},
          "output_type": "execute_result"
        }
      ],
      "source": [
        "models = os.listdir(MODEL_PATH)\n",
        "models"
      ]
    },
    {
      "cell_type": "markdown",
      "metadata": {
        "id": "Skn_3steOnNB"
      },
      "source": [
        "## Select Dataset"
      ]
    },
    {
      "cell_type": "code",
      "execution_count": 5,
      "metadata": {
        "colab": {
          "base_uri": "https://localhost:8080/"
        },
        "id": "rrp6do78OquB",
        "outputId": "ec5542a0-5d03-48ea-b518-0a089cdf14c3"
      },
      "outputs": [
        {
          "name": "stdout",
          "output_type": "stream",
          "text": [
            "D:\\Python\\LLM_Environment\\datasets/Australian_Legal_Corpus.jsonl\n",
            "D:\\Python\\LLM_Environment\\datasets/cached_lm_GPT2Tokenizer_128_Shakespeare_Dataset.txt\n",
            "D:\\Python\\LLM_Environment\\datasets/Customer.csv\n",
            "D:\\Python\\LLM_Environment\\datasets/Html.csv\n",
            "D:\\Python\\LLM_Environment\\datasets/Hukum_Online_Klinik.xlsx\n",
            "D:\\Python\\LLM_Environment\\datasets/Recipes.csv\n",
            "D:\\Python\\LLM_Environment\\datasets/Recipes_1000.csv\n",
            "D:\\Python\\LLM_Environment\\datasets/Shakespeare_Dataset.txt\n",
            "D:\\Python\\LLM_Environment\\datasets/Taylor_Swift_Lyrics.csv\n",
            "D:\\Python\\LLM_Environment\\datasets/Twitter.csv\n"
          ]
        }
      ],
      "source": [
        "counter = 0\n",
        "n = 20\n",
        "\n",
        "path_list = []\n",
        "\n",
        "for dirpath, dirnames, filenames in os.walk(DATASET_PATH):\n",
        "    for filename in filenames:\n",
        "        print(dirpath + '/' + filename)\n",
        "        path_list.append(dirpath + '/' + filename)\n",
        "    counter += 1\n",
        "    if counter >= n:\n",
        "        break"
      ]
    },
    {
      "cell_type": "code",
      "execution_count": 6,
      "metadata": {
        "colab": {
          "base_uri": "https://localhost:8080/",
          "height": 36
        },
        "id": "enaptdsJOsfp",
        "outputId": "efd73416-d7d9-4d8e-cb93-592b1c15b0e1"
      },
      "outputs": [
        {
          "data": {
            "text/plain": [
              "'D:\\\\Python\\\\LLM_Environment\\\\datasets\\\\Hukum_Online_Klinik.xlsx'"
            ]
          },
          "execution_count": 6,
          "metadata": {},
          "output_type": "execute_result"
        }
      ],
      "source": [
        "file_format = '.xlsx'\n",
        "\n",
        "file_paths = []\n",
        "\n",
        "for root, dirs, files in os.walk(DATASET_PATH):\n",
        "    for file in files:\n",
        "        if file.endswith(file_format):\n",
        "            file_paths.append(os.path.join(root, file))\n",
        "        if len(file_paths) >= n:\n",
        "            break\n",
        "    if len(file_paths) >= n:\n",
        "        break\n",
        "file_paths[0]"
      ]
    },
    {
      "cell_type": "code",
      "execution_count": 7,
      "metadata": {
        "colab": {
          "base_uri": "https://localhost:8080/",
          "height": 36
        },
        "id": "xUiT2aD2PfeR",
        "outputId": "409dcbab-9a7f-46d6-d319-e50289a5d48a"
      },
      "outputs": [
        {
          "data": {
            "text/plain": [
              "'D:\\\\Python\\\\LLM_Environment\\\\datasets\\\\Hukum_Online_Klinik.xlsx'"
            ]
          },
          "execution_count": 7,
          "metadata": {},
          "output_type": "execute_result"
        }
      ],
      "source": [
        "file_path = file_paths[0]\n",
        "file_path"
      ]
    },
    {
      "cell_type": "markdown",
      "metadata": {
        "id": "lz6tGJioPD6b"
      },
      "source": [
        "## Read Dataset"
      ]
    },
    {
      "cell_type": "markdown",
      "metadata": {
        "id": "ksGPhfsJPFqz"
      },
      "source": [
        "### Read as CSV"
      ]
    },
    {
      "cell_type": "code",
      "execution_count": 8,
      "metadata": {
        "colab": {
          "base_uri": "https://localhost:8080/",
          "height": 293
        },
        "id": "T-7IIyVtPHgy",
        "outputId": "04fcaf68-951d-4c28-b1fa-da00734ae8aa"
      },
      "outputs": [],
      "source": [
        "try:\n",
        "    df = pd.read_csv(file_path, encoding = 'ISO-8859-1')#, sep = ';')\n",
        "    print(\"DataFrame shape:\", df.shape)\n",
        "    display(df.head())\n",
        "except:\n",
        "    pass"
      ]
    },
    {
      "cell_type": "markdown",
      "metadata": {
        "id": "Pi0mHuLmPIWE"
      },
      "source": [
        "### Read as Excel"
      ]
    },
    {
      "cell_type": "code",
      "execution_count": 9,
      "metadata": {
        "id": "tKPi-pNoPKfj"
      },
      "outputs": [
        {
          "name": "stdout",
          "output_type": "stream",
          "text": [
            "DataFrame shape: (8371, 5)\n"
          ]
        },
        {
          "data": {
            "text/html": [
              "<div>\n",
              "<style scoped>\n",
              "    .dataframe tbody tr th:only-of-type {\n",
              "        vertical-align: middle;\n",
              "    }\n",
              "\n",
              "    .dataframe tbody tr th {\n",
              "        vertical-align: top;\n",
              "    }\n",
              "\n",
              "    .dataframe thead th {\n",
              "        text-align: right;\n",
              "    }\n",
              "</style>\n",
              "<table border=\"1\" class=\"dataframe\">\n",
              "  <thead>\n",
              "    <tr style=\"text-align: right;\">\n",
              "      <th></th>\n",
              "      <th>Title</th>\n",
              "      <th>Link</th>\n",
              "      <th>Question</th>\n",
              "      <th>Summary</th>\n",
              "      <th>Answer</th>\n",
              "    </tr>\n",
              "  </thead>\n",
              "  <tbody>\n",
              "    <tr>\n",
              "      <th>0</th>\n",
              "      <td>PengertianOvermachtdanUltimum Remediumdalam Hu...</td>\n",
              "      <td>https://www.hukumonline.com/klinik/a/pengertia...</td>\n",
              "      <td>Bagaimana ketentuanovermachtdalam hukum pidana...</td>\n",
              "      <td>Daya paksa atauovermachtdalam hukum pidana mer...</td>\n",
              "      <td>KLINIK TERKAITDaya Paksa dan Pembelaan Terpaks...</td>\n",
              "    </tr>\n",
              "    <tr>\n",
              "      <th>1</th>\n",
              "      <td>Ini 6 Perbedaan CV dan PT yang Wajib Diketahui</td>\n",
              "      <td>https://www.hukumonline.com/klinik/a/perbedaan...</td>\n",
              "      <td>Saya punya tiga pertanyaan. Apa perbedaan PT d...</td>\n",
              "      <td>PT adalah singkatan dari perseroan terbatas ya...</td>\n",
              "      <td>Terima kasih atas pertanyaan Anda.Artikel di b...</td>\n",
              "    </tr>\n",
              "    <tr>\n",
              "      <th>2</th>\n",
              "      <td>KDRT Hingga Meninggal, Penganiayaan atau Pembu...</td>\n",
              "      <td>https://www.hukumonline.com/klinik/a/kdrt-hing...</td>\n",
              "      <td>Belakangan ini, viral kasus seorang suami di S...</td>\n",
              "      <td>Pasal KDRT atau kekerasan dalam rumah tangga y...</td>\n",
              "      <td>Terima kasih atas pertanyaan Anda.Artikel di b...</td>\n",
              "    </tr>\n",
              "    <tr>\n",
              "      <th>3</th>\n",
              "      <td>7 Cara Memperoleh Wilayah dalam Hukum Internas...</td>\n",
              "      <td>https://www.hukumonline.com/klinik/a/7-cara-me...</td>\n",
              "      <td>Konflik Palestina-Israel masih berlarut-larut ...</td>\n",
              "      <td>Pada dasarnya, terdapat 7 cara memperoleh wila...</td>\n",
              "      <td>Terima kasih atas pertanyaan Anda.Seluruh info...</td>\n",
              "    </tr>\n",
              "    <tr>\n",
              "      <th>4</th>\n",
              "      <td>Pacar Tidak Mau Bertanggung Jawab, Kapan Maksi...</td>\n",
              "      <td>https://www.hukumonline.com/klinik/a/pacar-tid...</td>\n",
              "      <td>Saya ingin menanyakan bila laki-laki dan perem...</td>\n",
              "      <td>Jika terjadi persetubuhan antara sepasang keka...</td>\n",
              "      <td>Terima kasih atas pertanyaan Anda.Artikel di b...</td>\n",
              "    </tr>\n",
              "  </tbody>\n",
              "</table>\n",
              "</div>"
            ],
            "text/plain": [
              "                                               Title  \\\n",
              "0  PengertianOvermachtdanUltimum Remediumdalam Hu...   \n",
              "1     Ini 6 Perbedaan CV dan PT yang Wajib Diketahui   \n",
              "2  KDRT Hingga Meninggal, Penganiayaan atau Pembu...   \n",
              "3  7 Cara Memperoleh Wilayah dalam Hukum Internas...   \n",
              "4  Pacar Tidak Mau Bertanggung Jawab, Kapan Maksi...   \n",
              "\n",
              "                                                Link  \\\n",
              "0  https://www.hukumonline.com/klinik/a/pengertia...   \n",
              "1  https://www.hukumonline.com/klinik/a/perbedaan...   \n",
              "2  https://www.hukumonline.com/klinik/a/kdrt-hing...   \n",
              "3  https://www.hukumonline.com/klinik/a/7-cara-me...   \n",
              "4  https://www.hukumonline.com/klinik/a/pacar-tid...   \n",
              "\n",
              "                                            Question  \\\n",
              "0  Bagaimana ketentuanovermachtdalam hukum pidana...   \n",
              "1  Saya punya tiga pertanyaan. Apa perbedaan PT d...   \n",
              "2  Belakangan ini, viral kasus seorang suami di S...   \n",
              "3  Konflik Palestina-Israel masih berlarut-larut ...   \n",
              "4  Saya ingin menanyakan bila laki-laki dan perem...   \n",
              "\n",
              "                                             Summary  \\\n",
              "0  Daya paksa atauovermachtdalam hukum pidana mer...   \n",
              "1  PT adalah singkatan dari perseroan terbatas ya...   \n",
              "2  Pasal KDRT atau kekerasan dalam rumah tangga y...   \n",
              "3  Pada dasarnya, terdapat 7 cara memperoleh wila...   \n",
              "4  Jika terjadi persetubuhan antara sepasang keka...   \n",
              "\n",
              "                                              Answer  \n",
              "0  KLINIK TERKAITDaya Paksa dan Pembelaan Terpaks...  \n",
              "1  Terima kasih atas pertanyaan Anda.Artikel di b...  \n",
              "2  Terima kasih atas pertanyaan Anda.Artikel di b...  \n",
              "3  Terima kasih atas pertanyaan Anda.Seluruh info...  \n",
              "4  Terima kasih atas pertanyaan Anda.Artikel di b...  "
            ]
          },
          "metadata": {},
          "output_type": "display_data"
        }
      ],
      "source": [
        "try:\n",
        "    df = pd.read_excel(file_path)\n",
        "    print(\"DataFrame shape:\", df.shape)\n",
        "    display(df.head())\n",
        "except:\n",
        "    pass"
      ]
    },
    {
      "cell_type": "markdown",
      "metadata": {
        "id": "Fh07w4qkPMKr"
      },
      "source": [
        "### Read as JSON"
      ]
    },
    {
      "cell_type": "code",
      "execution_count": 10,
      "metadata": {
        "id": "uZf5VhsZPOSa"
      },
      "outputs": [],
      "source": [
        "counter = 0\n",
        "row = 20\n",
        "\n",
        "try:\n",
        "    with open(file_path, 'r') as file:\n",
        "        for line in file:\n",
        "            data = json.loads(line)\n",
        "            print(data)\n",
        "            counter += 1\n",
        "\n",
        "            if counter >= row:\n",
        "                break\n",
        "except:\n",
        "    pass"
      ]
    },
    {
      "cell_type": "code",
      "execution_count": 11,
      "metadata": {
        "id": "bB3AtQkZPSWb"
      },
      "outputs": [],
      "source": [
        "n = 50\n",
        "chunk_size = 1000\n",
        "total_rows_processed = 0\n",
        "\n",
        "data_frames = []\n",
        "\n",
        "try:\n",
        "    with open(file_path, 'r') as file:\n",
        "        counter = 0\n",
        "\n",
        "        while counter < n:\n",
        "            data_list = []\n",
        "\n",
        "            for _ in range(chunk_size):\n",
        "                line = file.readline()\n",
        "                if not line:\n",
        "                    break\n",
        "\n",
        "                data = json.loads(line)\n",
        "                data_list.append(data)\n",
        "\n",
        "            if data_list:\n",
        "                df_chunk = pd.DataFrame(data_list)\n",
        "                data_frames.append(df_chunk)\n",
        "\n",
        "                print(f'Processed chunk with {len(df_chunk)} rows.')\n",
        "                total_rows_processed += len(df_chunk)\n",
        "                counter += 1\n",
        "\n",
        "            else:\n",
        "                break\n",
        "\n",
        "    print(f'Total rows processed: {total_rows_processed}')\n",
        "\n",
        "    # (Optional) Concatenate all DataFrames if needed\n",
        "    if data_frames:  # Check if there are any DataFrames to concatenate\n",
        "        df = pd.concat(data_frames, ignore_index = True)\n",
        "        print('Concatenated DataFrame shape:', df.shape)\n",
        "        display(df.head())\n",
        "except:\n",
        "    pass"
      ]
    },
    {
      "cell_type": "markdown",
      "metadata": {
        "id": "rSPwKZdzPYZ8"
      },
      "source": [
        "### Read as Parquet"
      ]
    },
    {
      "cell_type": "code",
      "execution_count": 12,
      "metadata": {
        "id": "MpWuA23lPbdA"
      },
      "outputs": [],
      "source": [
        "try:\n",
        "    df = pd.read_parquet(file_path)\n",
        "    print(\"DataFrame shape:\", df.shape)\n",
        "    display(df.head())\n",
        "except:\n",
        "    pass"
      ]
    },
    {
      "cell_type": "markdown",
      "metadata": {
        "id": "dF9bTQT4Qqcr"
      },
      "source": [
        "## 04. Translation"
      ]
    },
    {
      "cell_type": "code",
      "execution_count": 13,
      "metadata": {
        "colab": {
          "base_uri": "https://localhost:8080/"
        },
        "id": "iGQOcK6vasEa",
        "outputId": "0487951f-144e-4b34-8c8a-efd5cbbf5ac9"
      },
      "outputs": [
        {
          "data": {
            "text/plain": [
              "(10, 5)"
            ]
          },
          "execution_count": 13,
          "metadata": {},
          "output_type": "execute_result"
        }
      ],
      "source": [
        "dfa = df.iloc[:10]\n",
        "dfa.shape"
      ]
    },
    {
      "cell_type": "code",
      "execution_count": 14,
      "metadata": {},
      "outputs": [
        {
          "data": {
            "text/plain": [
              "['bart-large-cnn',\n",
              " 'bert-base-cased',\n",
              " 'bert-base-multilingual-cased',\n",
              " 'bert-base-uncased',\n",
              " 'bert-large-cased',\n",
              " 'bert-large-uncased',\n",
              " 'flan-t5-base',\n",
              " 'flan-t5-large',\n",
              " 'flan-t5-small',\n",
              " 'gpt2',\n",
              " 'gpt2-large',\n",
              " 'gpt2-medium',\n",
              " 'opus-mt-en-id',\n",
              " 'opus-mt-id-en',\n",
              " 't5-base',\n",
              " 't5-large']"
            ]
          },
          "execution_count": 14,
          "metadata": {},
          "output_type": "execute_result"
        }
      ],
      "source": [
        "models"
      ]
    },
    {
      "cell_type": "code",
      "execution_count": 15,
      "metadata": {},
      "outputs": [
        {
          "data": {
            "text/plain": [
              "'D:\\\\Python\\\\LLM_Environment\\\\models\\\\flan-t5-small'"
            ]
          },
          "execution_count": 15,
          "metadata": {},
          "output_type": "execute_result"
        }
      ],
      "source": [
        "model_path = MODEL_PATH + '\\\\' + models[8]\n",
        "model_path"
      ]
    },
    {
      "cell_type": "code",
      "execution_count": 16,
      "metadata": {},
      "outputs": [
        {
          "name": "stderr",
          "output_type": "stream",
          "text": [
            "You are using the default legacy behaviour of the <class 'transformers.models.t5.tokenization_t5.T5Tokenizer'>. This is expected, and simply means that the `legacy` (previous) behavior will be used so nothing changes for you. If you want to use the new behaviour, set `legacy=False`. This should only be set if you understand what it means, and thoroughly read the reason why this was added as explained in https://github.com/huggingface/transformers/pull/24565\n"
          ]
        }
      ],
      "source": [
        "model = T5ForConditionalGeneration.from_pretrained(model_path, torch_dtype = torch.float16).to('cuda')\n",
        "tokenizer = T5Tokenizer.from_pretrained(model_path)"
      ]
    },
    {
      "cell_type": "markdown",
      "metadata": {},
      "source": [
        "### Count Token Length"
      ]
    },
    {
      "cell_type": "code",
      "execution_count": 17,
      "metadata": {},
      "outputs": [
        {
          "name": "stderr",
          "output_type": "stream",
          "text": [
            "C:\\Users\\422in\\AppData\\Local\\Temp\\ipykernel_50960\\4293223326.py:1: FutureWarning: Series.__getitem__ treating keys as positions is deprecated. In a future version, integer keys will always be treated as labels (consistent with DataFrame behavior). To access a value by position, use `ser.iloc[pos]`\n",
            "  text = dfa.iloc[0][4]\n"
          ]
        },
        {
          "data": {
            "text/plain": [
              "'KLINIK TERKAITDaya Paksa dan Pembelaan Terpaksa sebagai Alasan Penghapus Pidana11 Jan, 2023Arti Ultimum Remedium sebagai Sanksi Pamungkas15 Jul, 2022Litigasi dan Alternatif Penyelesaian Sengketa di Luar Pengadilan10 Jul, 2020Bisakah Dipidana Karena Menembak Anjing yang Menyerang Orang Lain?22 Okt, 2012Terima kasih atas pertanyaan Anda.Artikel di bawah ini adalah pemutakhiran dari artikel dengan judulTentang\\xa0Overmacht\\xa0dan Hukum Pidana sebagai\\xa0Ultimum Remediumyang dibuat olehAnandito Utomo, S.H.dan dipublikasikan pada 19 Agustus 2016.Belajar Hukum Secara Online dari Pengajar Berkompeten Dengan Biaya TerjangkauMulai DariRp. 149.000Lihat Semua KelasArtikel ini dibuat berdasarkan KUHP lama dan UU 1/2023 tentang KUHP yang diundangkan pada tanggal 2 Januari 2023.Seluruh informasi hukum yang ada di Klinik hukumonline.com disiapkan semata – mata untuk tujuan pendidikan dan bersifat umum (lihatPernyataan Penyangkalanselengkapnya). Untuk mendapatkan nasihat hukum spesifik terhadap kasus Anda, konsultasikan langsung denganKonsultan Mitra Justika.PengertianOvermachtSebelum menjawab pertanyaan Anda tentang bagaimana ketentuanovermachtdalam hukum pidana, sebaiknya kita pahami terlebih dahulu pengertianovermacht.Alfitradalam bukunyaHapusnya Hak Menuntut dan Menjalankan Pidana(hal.63) menjelaskan bahwa dalamMemorie van Toelichting(“WvT”),daya paksa(overmacht)dijelaskan sebagai setiap kekuatan, dorongan, dan paksaan yang tidak dapat dilawan. Frasadorongan(gedrongen)merujuk pada tekanan psikis, sedangkanpaksaan(dwang)merujuk pada tekanan fisik.\\xa0 Adapun,overmachtdapat menjadi dasar peniadaan pidana.Sedangkan menurutFitri Wahyunidalam bukunyaDasar-dasar Hukum Pidana di Indonesia(hal. 76),overmachtadalahdaya paksa relatif(vis compulsive)sepertikeadaan darurat. Dalam MvT, daya paksa dilukiskan sebagai kekuatan dan setiap daya paksa orang berada dalamdwangpositie (posisi terjepit). Daya paksa ini merupakan daya paksa psikis yang berasal dari luar dari si pelaku dan daya paksa tersebut lebih kuat dari padanya.KetentuanOvermachtdalam KUHPKemudian,overmachtatau daya paksa diatur dalamPasal 48KUHPlama yang masih berlaku saat artikel ini diterbitkan, sebagai berikut:Barang siapa melakukan perbuatan karena pengaruh daya paksa, tidak dipidana.Sepanjang penelusuran kami, dalam KUHPtidak dijelaskan apa yang dimaksud dengan daya paksa. Namun, untuk mengetahui batasan ruang lingkup berlakunyaovermacht,R. Sugandhidalam bukunya yang berjudulKitab Undang-Undang Hukum Pidana Berikut Penjelasannyamengatakan bahwa kalimat “karena pengaruh daya paksa” harus diartikan, baik pengaruh daya paksaan batin, maupun lahir, rohani, maupun jasmani. Daya paksa yang tidak dapat dilawan adalah kekuatan yang lebih besar, yaknikekuasaan yang pada umumnya tidak mungkin dapat ditentang.Mengenai kekuasaan ini dapat dibedakan dalam 3 macam, yaitu:Kekuasaan yang Bersifat MutlakKekuasaan yang bersifat mutlak berartiorang itu tidak dapat berbuat lain.\\xa0Ia mengalami sesuatu yang sama sekali tidak dapat dielakkan. Misalnya, seseorang yang dipegang kemudian dilemparkan orang yang lebih kuat ke jendela kaca sehingga kacanya pecah dan mengakibatkan kejahatan merusak barang orang lain. Dalam peristiwa ini orang yang tenaganya lemah itu tidak dapat dihukum karena yang melakukan ialah orang yang lebih kuat.[1]Kekuasaan yang Bersifat RelatifKekuasaan atau kekuatan yang memaksa orang itu tidak mutlak, tidak penuh.Orang yang dipaksa itu masih punya kesempatan untuk memilih mana yang akan dilakukan.\\xa0Perbedaan kekuasaan yang bersifat mutlak dan yang bersifat relatif ialah bahwa pada yang mutlak, dalam segala sesuatunya orang yang memaksa itu sendirilah yang berbuat semaunya. Sedangkan pada yang relatif, orang yang dipaksa itulah yang melakukan karena dalam paksaan kekuatan.[2]Misalnya A ditodong dengan pistol oleh B, disuruh membakar rumah. Apabila A tidak segera membakar rumah itu, maka pistol yang ditodongkan kepadanya tersebut akan ditembakkan. Dalam pikiran, memang mungkin A menolak perintah itu sehingga ia ditembak mati. Akan tetapi apabila ia menuruti perintah itu, ia akan melakukan tindak pidana kejahatan.\\xa0Walaupun demikian, ia tidak dapat dihukum karena adanya paksaan tersebut.[3]Kekuasaan yang Merupakan suatu Keadaan DaruratPada keadaan darurat,orang yang terpaksa itu sendirilah yang memilih peristiwa pidana mana yang akan ia lakukan. Bedanya dengan kekuasaan yang bersifat relatif, orang itu tidak memilih, sebab orang yang mengambil prakarsa ialah orang yang memaksa.[4]Contohnya, terjadi kecelakaan kapal yaitu kapal meledak dengan mendadak, sehingga penumpangnya masing-masing harus menolong dirinya sendiri. Seorang penumpang beruntung dapat mengapung dengan sebuah papan kayu yang hanya dapat menampung seorang saja. Kemudian datang penumpang lain yang juga ingin menyelamatkan dirinya. Padanya tiada sebuah alat pun yang dapat dipakai untuk menyelamatkan diri. Ia lalu meraih papan kayu yang telah dipakai untuk mengapung oleh orang yang terdahulu dari dia. Orang yang terdahulu itu lalu mendorong orang tersebut hingga tenggelam dan mati. Karena dalam keadaan darurat, maka orang itu tidak dapat dihukum.Penjelasan selengkapnya dapat Anda baca dalam artikelDaya Paksa dan Pembelaan Terpaksa sebagai Alasan Penghapus Pidana.Overmacht= Alasan Pemaaf atau Alasan Pembenar?Kemudian, menurutFitri Wahyuni,tidak ada kesatuan pendapat di antara para ahli hukum pidana untuk menggolongkan daya paksa apakah sebagai alasan pembenar ataukah alasan pemaaf. Adapun beberapa postulat terkait daya paksa tersebut adalah:[5]Quod alias non fuit licitum necessitas licitum facit. Artinya keadaan terpaksa memperbolehkan apa yang tadinya dilarang oleh hukum.In casu extremae necessitates omnia sunt communia. Artinya keadaan terpaksa, tindakan yang diambil dipandang perlu.Necessitas quod cogit defendit. Artinya keadaan terpaksa melindungi apa yang harus diperbuat.Necessitas sub lege non non continetur, quia quod alias non est licitum necessitas facit licitum. Artinya keadaan terpaksa tidak ditahan oleh hukum, perbuatan yang dilarang oleh hukum, namun dilakukan dalam keadaaan terpaksa maka perbuatan tersebut dianggap sah.Sebagaimana kami sampaikan, penyebab seseorang tidak dapat dipidana dikelompokan menjadi dua yaitu dasar pemaaf(schulduitsluitings-gronderi)dan dasar pembenar(rechtvaardingingsgronderi). Dalam hal ini,Alfitramenggolongkanovermachtsebagai alasan pembenar dalam hukum pidana(hal. 54).Alasan pemaafbersifat subjektif dan melekat pada diri orang tersebut, dan ditentukan berdasarkan sikap batin orang tersebut pada saat sebelum atau akan melakukan suatu tindak pidana. Berikut yang dapat dikategorikan sebagai alasan pemaaf:[6]tidak mampu bertanggung jawab, misalnya ketika pelaku memiliki kondisi kejiwaan yang abnormal;pembelaan terpaksa yang melampaui batas;menjalankan perintah jabatan yang tidak sah namun dengan iktikad baik.Sedangkanalasan pembenarmerupakan sifat objektif yang berasal dari faktor eksternal atau diluar suasana batin seseorang. Berikut yang termasuk alasan pembenar:[7]daya paksa;pembelaan terpaksa;menjalankan perintah undang-undang;menjalankan perintah jabatan yang sah.Berbeda dengan pendapat sebelumnya,MoeljatnodanVan Hattummemandangdaya memaksa itu sebagai alasan pemaaf. Van Hattum mengatakan bahwa perbuatan yang terpaksa dilakukan karena keadaan, patut dimaafkan. Demikian halnya dengan seorang sopir taksi yang takut kehilangan nyawanya, karena ditodong oleh orang yang berpistol di belakangnya, melanggar undang-undang (mengendarai mobil dengan kecepatan yang melebihi batas maksimal). Perbuatan sopir itu melawan hukum, tetapi patut untuk dimaafkan karena padanya tidak dapat diharapkan untuk mempertaruhkan nyawanya.[8]Sehingga, pada intinya, di antara para penulis tidak ada kesatuan pendapat apakah daya memaksa dalam Pasal 48 KUHP itu adalah alasan pembenar atau alasan pemaaf.[9]KetentuanOvermachtdalam UU 1/2023Selanjutnya, dalamUU 1/2023tentang KUHP baru yang berlaku 3 tahun sejak tanggal diundangkan,[10]yaitu 2026,overmachtdiatur dalamPasal 42, sebagai berikut:Setiap Orang yang melakukan Tindak Pidana tidak dipidana karena:dipaksa oleh kekuatan yang tidak dapat ditahan; ataudipaksa oleh adanya ancaman, tekanan, atau kekuatan yang tidak dapat dihindariLebih lanjut, menurutPenjelasan Pasal 42 UU 1/2023, ketentuan ini berkenaan dengan daya paksa yang dibagi menjadipaksaan mutlakdanpaksaan relatif.Yang dimaksud dengan \"dipaksa oleh kekuatan yang tidak dapat ditahan\" ataupaksaan mutlakadalah keadaan yang menyebabkan pelaku tidak mempunyai pilihan lain, kecuali melakukan perbuatan tersebut. Karena keadaan yang ada pada diri pelaku maka tidak mungkin baginya untuk menolak atau memilih ketika melakukan perbuatan tersebut.[11]Sedangkan \"dipaksa oleh adanya ancaman, tekanan, atau kekuatan yang tidak dapatdihindari\" ataupaksaan relatifadalah:[12]ancaman, tekanan, atau kekuatan tersebut menurut akal sehat tidak dapat diharapkan bahwa ia dapat mengadakan perlawanan; danapabila kepentingan yang dikorbankan seimbang atau sedikit lebih daripada kepentingan yang diselamatkan.Tekanan kejiwaan dari luar merupakan syarat utama. Mungkin pula seseorang mengalami tekanan kejiwaan, tetapi bukan karena sesuatu yang datang dari luar, melainkan karena keberatan yang didasarkan kepada pertimbangan pikirannya sendiri. Hal yang demikian tidak merupakan alasan pemaaf yang dapat menghapuskan pidananya.[13]Dengan demikian, dapat kami simpulkan bahwaovermachtadalah hal yang datangnya dari luar, mempengaruhi seseorang yang mengalaminya sehingga orang tersebut tidak memiliki opsi lain untuk membela dirinya. Keberadaan daya paksa menjadi penting karena dapat menentukan dan menjadi dasar peniadaan hukuman pidana.PengertianUltimum RemediumMenjawab pertanyaan Anda tentang apa yang dimaksud hukum pidana sebagaiultimum remedium,Sudikno Mertokusumodalam bukunyaPenemuan Hukum: Sebuah Pengantar(hal. 128) mengartikanultimum remediumadalah sebagaialat terakhir.Selain itu, ada pendapat yang mengatakan bahwaultimum remediumtidak hanya suatu istilah, tetapi juga merupakan suatuasas hukum. Sebagai contoh,Yasonna Laolydalam berita berjudulPerlu Penegasan NormaUltimum RemediumSoal Pengenaan Sanksi di Aturan Turunan UU Cipta Kerja(hal. 1) menerangkanultimum remediummerupakan asas hukum yang biasa dipakai dan diartikan sebagai penerapan sanksi pidana menjadi sanksi pamungkas (terakhir) dalam penegakan hukum.Ultimum remediumjuga dapat diartikan sebagai upaya terakhir penegakan hukum, apabila segala upaya seperti perdamaian telah ditempuh. Artinya perkara diutamakan untuk diselesaikan melalui jalur kekeluargaan terlebih dahulu.[14]Dengan demikian,ultimum remediumadalah salah satu asas dalam hukum pidana Indonesia yang mengatakan bahwa hukum pidana hendaklah dijadikan upaya terakhir penegakan hukum. Asasultimum remediumbermakna apabila suatu perkara dapat diselesaikan melalui jalur lain (kekeluargaan, negosiasi, mediasi, perdata, atau hukum administrasi) hendaklah jalur lain tersebut terlebih dahulu dilakukan.Baca juga:ArtiUltimum Remediumsebagai Sanksi PamungkasDemikian jawaban dari kami, semoga bermanfaat.Dasar Hukum:Kitab Undang-Undang Hukum Pidana;Undang-Undang Nomor 1 Tahun 2023 tentang Kitab Undang-Undang Hukum Pidana.Referensi:Alfitra.Hapusnya Hak Menuntut dan Menjalankan Pidana. Jakarta Timur: Penerbit Raih Asa Sukses, 2014;Fitri Wahyuni.Dasar-dasar Hukum Pidana di Indonesia. Tangerang Selatan: PT Nusantara Persada Utama, 2017.Sudikno Mertokusumo.Penemuan Hukum: Sebuah Pengantar. Yogyakarta: Liberty, 2006;Sudaryono dan Natangsa Surbakti. Hukum Pidana:Dasar-dasar Hukum Pidana berdasarkan KUHP dan RUU KUHP. Surakarta: Muhammadiyah University Press, 2017, hal. 245;R. Sugandhi.Kitab Undang-Undang Hukum Pidana Berikut Penjelasannya. Surabaya: Usaha Nasional, 1980;Mas Putra Zenno Januarsyah.Penerapan Prinsip Ultimum Remedium dalam Tindak Pidana Korupsi.Jurnal Yudisial, Vol. 10, No. 3, 2017[1]R. Sugandhi.Kitab Undang-Undang Hukum Pidana Berikut Penjelasannya. Surabaya: Usaha Nasional, 1980, hal. 54-55[2]R. Sugandhi.Kitab Undang-Undang Hukum Pidana Berikut Penjelasannya. Surabaya: Usaha Nasional, 1980, hal. 55[3]R. Sugandhi.Kitab Undang-Undang Hukum Pidana Berikut Penjelasannya. Surabaya: Usaha Nasional, 1980, hal. 55[4]R. Sugandhi.Kitab Undang-Undang Hukum Pidana Berikut Penjelasannya. Surabaya: Usaha Nasional, 1980, hal. 55[5]Fitri Wahyuni.Dasar-dasar Hukum Pidana di Indonesia. Tangerang Selatan: PT Nusantara Persada Utama, 2017, hal. 83[6]Alfitra.Hapusnya Hak Menuntut dan Menjalankan Pidana. Jakarta Timur: Penerbit Raih Asa Sukses, 2014, hal. 54[7]Alfitra.Hapusnya Hak Menuntut dan Menjalankan Pidana. Jakarta Timur: Penerbit Raih Asa Sukses, 2014, hal. 54[8]Sudaryono dan Natangsa Surbakti. Hukum Pidana:Dasar-dasar Hukum Pidana berdasarkan KUHP dan RUU KUHP. Surakarta: Muhammadiyah University Press, 2017, hal. 245[9]Sudaryono dan Natangsa Surbakti. Hukum Pidana:Dasar-dasar Hukum Pidana berdasarkan KUHP dan RUU KUHP. Surakarta: Muhammadiyah University Press, 2017, hal. 245[10]Pasal 624Undang-Undang Nomor 1 Tahun 2023 tentang Kitab Undang-Undang Hukum Pidana(“UU 1/2023”)[11]Penjelasan Pasal 42 huruf a UU 1/2023[12]Penjelasan Pasal 42 huruf b UU 1/2023[13]Penjelasan Pasal 42 huruf b UU 1/2023[14]Mas Putra Zenno Januarsyah.Penerapan Prinsip Ultimum Remedium dalam Tindak Pidana Korupsi.Jurnal Yudisial, Vol. 10, No. 3, 2017, hal. 257'"
            ]
          },
          "execution_count": 17,
          "metadata": {},
          "output_type": "execute_result"
        }
      ],
      "source": [
        "text = dfa.iloc[0][4]\n",
        "text"
      ]
    },
    {
      "cell_type": "code",
      "execution_count": 18,
      "metadata": {},
      "outputs": [
        {
          "name": "stderr",
          "output_type": "stream",
          "text": [
            "Token indices sequence length is longer than the specified maximum sequence length for this model (6648 > 512). Running this sequence through the model will result in indexing errors\n"
          ]
        },
        {
          "name": "stdout",
          "output_type": "stream",
          "text": [
            "Token length: 6648\n"
          ]
        }
      ],
      "source": [
        "def count_tokens(text):\n",
        "    tokens = tokenizer(text, return_tensors = \"pt\", truncation = False).to('cuda')\n",
        "    return len(tokens['input_ids'][0])\n",
        "\n",
        "token_length = count_tokens(text)\n",
        "print(f\"Token length: {token_length}\")"
      ]
    },
    {
      "cell_type": "markdown",
      "metadata": {},
      "source": [
        "### Clean Text"
      ]
    },
    {
      "cell_type": "code",
      "execution_count": 19,
      "metadata": {},
      "outputs": [
        {
          "name": "stdout",
          "output_type": "stream",
          "text": [
            "KLINIK TERKAITDaya Paksa dan Pembelaan Terpaksa sebagai Alasan Penghapus Pidana11 Jan, 2023 Arti Ultimum Remedium sebagai Sanksi Pamungkas15 Jul, 2022 Litigasi dan Alternatif Penyelesaian Sengketa di Luar Pengadilan10 Jul, 2020 Bisakah Dipidana Karena Menembak Anjing yang Menyerang Orang Lain?22 Okt, 2012 Terima kasih atas pertanyaan Anda. Artikel di bawah ini adalah pemutakhiran dari artikel dengan judul Tentang Overmacht dan Hukum Pidana sebagai Ultimum Remediumyang dibuat oleh Anandito Utomo, S. H. dan dipublikasikan pada 19 Agustus 2016. Belajar Hukum Secara Online dari Pengajar Berkompeten Dengan Biaya Terjangkau Mulai Dari Rp. 149. 000 Lihat Semua Kelas Artikel ini dibuat berdasarkan KUHP lama dan UU 1/2023 tentang KUHP yang diundangkan pada tanggal 2 Januari 2023. Seluruh informasi hukum yang ada di Klinik hukumonline. com disiapkan semata – mata untuk tujuan pendidikan dan bersifat umum (lihat Pernyataan Penyangkalanselengkapnya) . Untuk mendapatkan nasihat hukum spesifik terhadap kasus Anda, konsultasikan langsung dengan Konsultan Mitra Justika. Pengertian Overmacht Sebelum menjawab pertanyaan Anda tentang bagaimana ketentuanovermachtdalam hukum pidana, sebaiknya kita pahami terlebih dahulu pengertianovermacht. Alfitradalam bukunya Hapusnya Hak Menuntut dan Menjalankan Pidana (hal. 63) menjelaskan bahwa dalam Memorie van Toelichting (“Wv T”) , daya paksa (overmacht) dijelaskan sebagai setiap kekuatan, dorongan, dan paksaan yang tidak dapat dilawan. Frasadorongan (gedrongen) merujuk pada tekanan psikis, sedangkanpaksaan (dwang) merujuk pada tekanan fisik. Adapun, overmachtdapat menjadi dasar peniadaan pidana. Sedangkan menurut Fitri Wahyunidalam bukunya Dasar-dasar Hukum Pidana di Indonesia (hal. 76) , overmachtadalahdaya paksa relatif (vis compulsive) sepertikeadaan darurat. Dalam Mv T, daya paksa dilukiskan sebagai kekuatan dan setiap daya paksa orang berada dalamdwangpositie (posisi terjepit) . Daya paksa ini merupakan daya paksa psikis yang berasal dari luar dari si pelaku dan daya paksa tersebut lebih kuat dari padanya. Ketentuan Overmachtdalam KUHPKemudian, overmachtatau daya paksa diatur dalam Pasal 48 KUHPlama yang masih berlaku saat artikel ini diterbitkan, sebagai berikut: Barang siapa melakukan perbuatan karena pengaruh daya paksa, tidak dipidana. Sepanjang penelusuran kami, dalam KUHPtidak dijelaskan apa yang dimaksud dengan daya paksa. Namun, untuk mengetahui batasan ruang lingkup berlakunyaovermacht, R. Sugandhidalam bukunya yang berjudul Kitab Undang-Undang Hukum Pidana Berikut Penjelasannyamengatakan bahwa kalimat “karena pengaruh daya paksa” harus diartikan, baik pengaruh daya paksaan batin, maupun lahir, rohani, maupun jasmani. Daya paksa yang tidak dapat dilawan adalah kekuatan yang lebih besar, yaknikekuasaan yang pada umumnya tidak mungkin dapat ditentang. Mengenai kekuasaan ini dapat dibedakan dalam 3 macam, yaitu: Kekuasaan yang Bersifat Mutlak Kekuasaan yang bersifat mutlak berartiorang itu tidak dapat berbuat lain. Ia mengalami sesuatu yang sama sekali tidak dapat dielakkan. Misalnya, seseorang yang dipegang kemudian dilemparkan orang yang lebih kuat ke jendela kaca sehingga kacanya pecah dan mengakibatkan kejahatan merusak barang orang lain. Dalam peristiwa ini orang yang tenaganya lemah itu tidak dapat dihukum karena yang melakukan ialah orang yang lebih kuat. [1] Kekuasaan yang Bersifat Relatif Kekuasaan atau kekuatan yang memaksa orang itu tidak mutlak, tidak penuh. Orang yang dipaksa itu masih punya kesempatan untuk memilih mana yang akan dilakukan. Perbedaan kekuasaan yang bersifat mutlak dan yang bersifat relatif ialah bahwa pada yang mutlak, dalam segala sesuatunya orang yang memaksa itu sendirilah yang berbuat semaunya. Sedangkan pada yang relatif, orang yang dipaksa itulah yang melakukan karena dalam paksaan kekuatan. [2] Misalnya A ditodong dengan pistol oleh B, disuruh membakar rumah. Apabila A tidak segera membakar rumah itu, maka pistol yang ditodongkan kepadanya tersebut akan ditembakkan. Dalam pikiran, memang mungkin A menolak perintah itu sehingga ia ditembak mati. Akan tetapi apabila ia menuruti perintah itu, ia akan melakukan tindak pidana kejahatan. Walaupun demikian, ia tidak dapat dihukum karena adanya paksaan tersebut. [3] Kekuasaan yang Merupakan suatu Keadaan Darurat Pada keadaan darurat, orang yang terpaksa itu sendirilah yang memilih peristiwa pidana mana yang akan ia lakukan. Bedanya dengan kekuasaan yang bersifat relatif, orang itu tidak memilih, sebab orang yang mengambil prakarsa ialah orang yang memaksa. [4] Contohnya, terjadi kecelakaan kapal yaitu kapal meledak dengan mendadak, sehingga penumpangnya masing-masing harus menolong dirinya sendiri. Seorang penumpang beruntung dapat mengapung dengan sebuah papan kayu yang hanya dapat menampung seorang saja. Kemudian datang penumpang lain yang juga ingin menyelamatkan dirinya. Padanya tiada sebuah alat pun yang dapat dipakai untuk menyelamatkan diri. Ia lalu meraih papan kayu yang telah dipakai untuk mengapung oleh orang yang terdahulu dari dia. Orang yang terdahulu itu lalu mendorong orang tersebut hingga tenggelam dan mati. Karena dalam keadaan darurat, maka orang itu tidak dapat dihukum. Penjelasan selengkapnya dapat Anda baca dalam artikel Daya Paksa dan Pembelaan Terpaksa sebagai Alasan Penghapus Pidana. Overmacht= Alasan Pemaaf atau Alasan Pembenar?Kemudian, menurut Fitri Wahyuni, tidak ada kesatuan pendapat di antara para ahli hukum pidana untuk menggolongkan daya paksa apakah sebagai alasan pembenar ataukah alasan pemaaf. Adapun beberapa postulat terkait daya paksa tersebut adalah: [5] Quod alias non fuit licitum necessitas licitum facit. Artinya keadaan terpaksa memperbolehkan apa yang tadinya dilarang oleh hukum. In casu extremae necessitates omnia sunt communia. Artinya keadaan terpaksa, tindakan yang diambil dipandang perlu. Necessitas quod cogit defendit. Artinya keadaan terpaksa melindungi apa yang harus diperbuat. Necessitas sub lege non non continetur, quia quod alias non est licitum necessitas facit licitum. Artinya keadaan terpaksa tidak ditahan oleh hukum, perbuatan yang dilarang oleh hukum, namun dilakukan dalam keadaaan terpaksa maka perbuatan tersebut dianggap sah. Sebagaimana kami sampaikan, penyebab seseorang tidak dapat dipidana dikelompokan menjadi dua yaitu dasar pemaaf (schulduitsluitings-gronderi) dan dasar pembenar (rechtvaardingingsgronderi) . Dalam hal ini, Alfitramenggolongkanovermachtsebagai alasan pembenar dalam hukum pidana (hal. 54) . Alasan pemaafbersifat subjektif dan melekat pada diri orang tersebut, dan ditentukan berdasarkan sikap batin orang tersebut pada saat sebelum atau akan melakukan suatu tindak pidana. Berikut yang dapat dikategorikan sebagai alasan pemaaf: [6] tidak mampu bertanggung jawab, misalnya ketika pelaku memiliki kondisi kejiwaan yang abnormal;pembelaan terpaksa yang melampaui batas;menjalankan perintah jabatan yang tidak sah namun dengan iktikad baik. Sedangkanalasan pembenarmerupakan sifat objektif yang berasal dari faktor eksternal atau diluar suasana batin seseorang. Berikut yang termasuk alasan pembenar: [7] daya paksa;pembelaan terpaksa;menjalankan perintah undang-undang;menjalankan perintah jabatan yang sah. Berbeda dengan pendapat sebelumnya, Moeljatnodan Van Hattummemandangdaya memaksa itu sebagai alasan pemaaf. Van Hattum mengatakan bahwa perbuatan yang terpaksa dilakukan karena keadaan, patut dimaafkan. Demikian halnya dengan seorang sopir taksi yang takut kehilangan nyawanya, karena ditodong oleh orang yang berpistol di belakangnya, melanggar undang-undang (mengendarai mobil dengan kecepatan yang melebihi batas maksimal) . Perbuatan sopir itu melawan hukum, tetapi patut untuk dimaafkan karena padanya tidak dapat diharapkan untuk mempertaruhkan nyawanya. [8] Sehingga, pada intinya, di antara para penulis tidak ada kesatuan pendapat apakah daya memaksa dalam Pasal 48 KUHP itu adalah alasan pembenar atau alasan pemaaf. [9] Ketentuan Overmachtdalam UU 1/2023 Selanjutnya, dalam UU 1/2023 tentang KUHP baru yang berlaku 3 tahun sejak tanggal diundangkan, [10] yaitu 2026, overmachtdiatur dalam Pasal 42, sebagai berikut: Setiap Orang yang melakukan Tindak Pidana tidak dipidana karena: dipaksa oleh kekuatan yang tidak dapat ditahan; ataudipaksa oleh adanya ancaman, tekanan, atau kekuatan yang tidak dapat dihindari Lebih lanjut, menurut Penjelasan Pasal 42 UU 1/2023, ketentuan ini berkenaan dengan daya paksa yang dibagi menjadipaksaan mutlakdanpaksaan relatif. Yang dimaksud dengan \"dipaksa oleh kekuatan yang tidak dapat ditahan\" ataupaksaan mutlakadalah keadaan yang menyebabkan pelaku tidak mempunyai pilihan lain, kecuali melakukan perbuatan tersebut. Karena keadaan yang ada pada diri pelaku maka tidak mungkin baginya untuk menolak atau memilih ketika melakukan perbuatan tersebut. [11] Sedangkan \"dipaksa oleh adanya ancaman, tekanan, atau kekuatan yang tidak dapatdihindari\" ataupaksaan relatifadalah: [12] ancaman, tekanan, atau kekuatan tersebut menurut akal sehat tidak dapat diharapkan bahwa ia dapat mengadakan perlawanan; danapabila kepentingan yang dikorbankan seimbang atau sedikit lebih daripada kepentingan yang diselamatkan. Tekanan kejiwaan dari luar merupakan syarat utama. Mungkin pula seseorang mengalami tekanan kejiwaan, tetapi bukan karena sesuatu yang datang dari luar, melainkan karena keberatan yang didasarkan kepada pertimbangan pikirannya sendiri. Hal yang demikian tidak merupakan alasan pemaaf yang dapat menghapuskan pidananya. [13] Dengan demikian, dapat kami simpulkan bahwaovermachtadalah hal yang datangnya dari luar, mempengaruhi seseorang yang mengalaminya sehingga orang tersebut tidak memiliki opsi lain untuk membela dirinya. Keberadaan daya paksa menjadi penting karena dapat menentukan dan menjadi dasar peniadaan hukuman pidana. Pengertian Ultimum Remedium Menjawab pertanyaan Anda tentang apa yang dimaksud hukum pidana sebagaiultimum remedium, Sudikno Mertokusumodalam bukunya Penemuan Hukum: Sebuah Pengantar (hal. 128) mengartikanultimum remediumadalah sebagaialat terakhir. Selain itu, ada pendapat yang mengatakan bahwaultimum remediumtidak hanya suatu istilah, tetapi juga merupakan suatuasas hukum. Sebagai contoh, Yasonna Laolydalam berita berjudul Perlu Penegasan Norma Ultimum Remedium Soal Pengenaan Sanksi di Aturan Turunan UU Cipta Kerja (hal. 1) menerangkanultimum remediummerupakan asas hukum yang biasa dipakai dan diartikan sebagai penerapan sanksi pidana menjadi sanksi pamungkas (terakhir) dalam penegakan hukum. Ultimum remediumjuga dapat diartikan sebagai upaya terakhir penegakan hukum, apabila segala upaya seperti perdamaian telah ditempuh. Artinya perkara diutamakan untuk diselesaikan melalui jalur kekeluargaan terlebih dahulu. [14] Dengan demikian, ultimum remediumadalah salah satu asas dalam hukum pidana Indonesia yang mengatakan bahwa hukum pidana hendaklah dijadikan upaya terakhir penegakan hukum. Asasultimum remediumbermakna apabila suatu perkara dapat diselesaikan melalui jalur lain (kekeluargaan, negosiasi, mediasi, perdata, atau hukum administrasi) hendaklah jalur lain tersebut terlebih dahulu dilakukan. Baca juga: Arti Ultimum Remediumsebagai Sanksi Pamungkas Demikian jawaban dari kami, semoga bermanfaat. Dasar Hukum: Kitab Undang-Undang Hukum Pidana;Undang-Undang Nomor 1 Tahun 2023 tentang Kitab Undang-Undang Hukum Pidana. Referensi: Alfitra. Hapusnya Hak Menuntut dan Menjalankan Pidana. Jakarta Timur: Penerbit Raih Asa Sukses, 2014;Fitri Wahyuni. Dasar-dasar Hukum Pidana di Indonesia. Tangerang Selatan: PT Nusantara Persada Utama, 2017. Sudikno Mertokusumo. Penemuan Hukum: Sebuah Pengantar. Yogyakarta: Liberty, 2006;Sudaryono dan Natangsa Surbakti. Hukum Pidana: Dasar-dasar Hukum Pidana berdasarkan KUHP dan RUU KUHP. Surakarta: Muhammadiyah University Press, 2017, hal. 245;R. Sugandhi. Kitab Undang-Undang Hukum Pidana Berikut Penjelasannya. Surabaya: Usaha Nasional, 1980;Mas Putra Zenno Januarsyah. Penerapan Prinsip Ultimum Remedium dalam Tindak Pidana Korupsi. Jurnal Yudisial, Vol. 10, No. 3, 2017 [1] R. Sugandhi. Kitab Undang-Undang Hukum Pidana Berikut Penjelasannya. Surabaya: Usaha Nasional, 1980, hal. 54-55 [2] R. Sugandhi. Kitab Undang-Undang Hukum Pidana Berikut Penjelasannya. Surabaya: Usaha Nasional, 1980, hal. 55 [3] R. Sugandhi. Kitab Undang-Undang Hukum Pidana Berikut Penjelasannya. Surabaya: Usaha Nasional, 1980, hal. 55 [4] R. Sugandhi. Kitab Undang-Undang Hukum Pidana Berikut Penjelasannya. Surabaya: Usaha Nasional, 1980, hal. 55 [5] Fitri Wahyuni. Dasar-dasar Hukum Pidana di Indonesia. Tangerang Selatan: PT Nusantara Persada Utama, 2017, hal. 83 [6] Alfitra. Hapusnya Hak Menuntut dan Menjalankan Pidana. Jakarta Timur: Penerbit Raih Asa Sukses, 2014, hal. 54 [7] Alfitra. Hapusnya Hak Menuntut dan Menjalankan Pidana. Jakarta Timur: Penerbit Raih Asa Sukses, 2014, hal. 54 [8] Sudaryono dan Natangsa Surbakti. Hukum Pidana: Dasar-dasar Hukum Pidana berdasarkan KUHP dan RUU KUHP. Surakarta: Muhammadiyah University Press, 2017, hal. 245 [9] Sudaryono dan Natangsa Surbakti. Hukum Pidana: Dasar-dasar Hukum Pidana berdasarkan KUHP dan RUU KUHP. Surakarta: Muhammadiyah University Press, 2017, hal. 245 [10] Pasal 624 Undang-Undang Nomor 1 Tahun 2023 tentang Kitab Undang-Undang Hukum Pidana (“UU 1/2023”) [11] Penjelasan Pasal 42 huruf a UU 1/2023 [12] Penjelasan Pasal 42 huruf b UU 1/2023 [13] Penjelasan Pasal 42 huruf b UU 1/2023 [14] Mas Putra Zenno Januarsyah. Penerapan Prinsip Ultimum Remedium dalam Tindak Pidana Korupsi. Jurnal Yudisial, Vol. 10, No. 3, 2017, hal. 257\n"
          ]
        }
      ],
      "source": [
        "def clean_text(text):\n",
        "    text = text.replace('\\xa0', ' ').strip()\n",
        "    text = text.replace('.', '. ')\n",
        "    text = text.replace('(', ' (')\n",
        "    text = text.replace(')', ') ')\n",
        "    text = text.replace('[', ' [')\n",
        "    text = text.replace(']', '] ')\n",
        "    text = text.replace(',', ', ')\n",
        "    text = text.replace(':', ': ')\n",
        "    text = re.sub(r'([a-z])([A-Z])', r'\\1 \\2', text)\n",
        "    #text = re.sub(r'([A-Za-z])([A-Z]{2,})', r'\\1 \\2', text)\n",
        "    text = re.sub(r'(\\d+)([A-Za-z])', r'\\1 \\2', text)\n",
        "    text = re.sub(r'(\\d{1,2})([A-Z][a-z]+),(\\s*\\d{4})', r'\\1 \\2 \\3', text)\n",
        "    text = re.sub(r'Mulai DariRp\\..*', '', text)\n",
        "    text = re.sub(r'\\d+\\.\\d+', '', text)\n",
        "\n",
        "    cleaned_text = re.sub(r'\\s+', ' ', text).strip()\n",
        "    \n",
        "    return cleaned_text\n",
        "\n",
        "cleaned_text = clean_text(text)\n",
        "print(cleaned_text)"
      ]
    },
    {
      "cell_type": "markdown",
      "metadata": {},
      "source": [
        "### Translate"
      ]
    },
    {
      "cell_type": "code",
      "execution_count": 20,
      "metadata": {},
      "outputs": [],
      "source": [
        "text = cleaned_text"
      ]
    },
    {
      "cell_type": "markdown",
      "metadata": {},
      "source": [
        "1st method"
      ]
    },
    {
      "cell_type": "code",
      "execution_count": 21,
      "metadata": {},
      "outputs": [],
      "source": [
        "torch.cuda.empty_cache()"
      ]
    },
    {
      "cell_type": "code",
      "execution_count": 22,
      "metadata": {},
      "outputs": [
        {
          "data": {
            "text/plain": [
              "'D:\\\\Python\\\\LLM_Environment\\\\models\\\\opus-mt-id-en'"
            ]
          },
          "execution_count": 22,
          "metadata": {},
          "output_type": "execute_result"
        }
      ],
      "source": [
        "model_path = MODEL_PATH + '\\\\' + models[13]\n",
        "model_path"
      ]
    },
    {
      "cell_type": "code",
      "execution_count": 23,
      "metadata": {},
      "outputs": [],
      "source": [
        "translator = pipeline(\"translation\", model = model_path, device = 0)"
      ]
    },
    {
      "cell_type": "code",
      "execution_count": 24,
      "metadata": {},
      "outputs": [],
      "source": [
        "tokenizer = MarianTokenizer.from_pretrained(model_path)\n",
        "\n",
        "def split_text_into_chunks(text, max_tokens = 400):\n",
        "    tokens = tokenizer(text, return_tensors = 'pt', truncation = False).to('cuda')['input_ids'][0]\n",
        "    chunks = [tokenizer.decode(tokens[i:i+max_tokens], skip_special_tokens = True) for i in range(0, len(tokens), max_tokens)]\n",
        "    return chunks\n"
      ]
    },
    {
      "cell_type": "code",
      "execution_count": 25,
      "metadata": {},
      "outputs": [
        {
          "name": "stderr",
          "output_type": "stream",
          "text": [
            "Token indices sequence length is longer than the specified maximum sequence length for this model (2943 > 512). Running this sequence through the model will result in indexing errors\n"
          ]
        },
        {
          "name": "stdout",
          "output_type": "stream",
          "text": [
            "All thanks to the question under this and under this question of the article about Overmah and the Law of the Final Final Resupation created by the Uhtium of the July 11 11 11 11 11 11 11 1, 2023 '23 '23, 2023 2023 '23 '23 '23 '2023 ' cause remove cause removes Ul2222 and removes '20 to remove the Peni under this, 2022 under this, 2022, 2022, 2022, 2022, 2022 of the cause, 2022 lition with an article on the finals with the title of Overstah, 20hhhmah and the final completion as the final completion of the final completion made by the Umah of the Utah of the Utah and  by the Utomo.h.h and the 19. and the 20. .. and the final law learn of the law of fire from the ground of the ground of the ground of the ground of the ground of the ground. God is All-mighty, All- all- powerful. They will come to you, but they will not be able to save themselves. It is not for a soul to be punished by a man, and it is no sin for a man to do what it is necessary (to do that), and if he had been forced to do what he had to do, and he had been forced to protect what must be done, and he had been forced to protect what must be done. The decree of Overmach in the next chapter of the 48p is a valid reason or the pardoning factor. [9] The Overmach of the Overmach in the next Act 1/202023, in the Code 2023 about the new CANG3 about the Code 3 years since the date of the invitation, 3 years since the date of the date of the invitation, [10] 2026, overchhhhhht in the 4220h]. That is the law, and the law is the law, the law, the law, the law, the law, the law, the law, the law, the law, the law, the law, the law, the law, the law, the law, the law, the law, the law. Its laws, its laws, its laws, its laws, its laws, its laws, its laws, its laws, its laws, its laws, its laws, its laws, its laws, its laws, its laws, its laws, its laws, its laws, its laws, its laws, its laws, its laws, its laws, its laws, its laws, its laws, its laws, its laws, its laws, its laws, its laws, its laws. A based on KUHP and KUHP bill. Surakarta: Muhammadiyah University Press, 2017, things. 245 [10] Article 624 Article Number 1 Act of the Year 2023 about the Pidanal Act (U 1/2023) [11] Explanation section 42 Act 1/2023 [12] Description Article 42 1/2023 [13] Section 42 Act 42 Underlaw 2023 [14] Mas Son of Zen Janno Bansal. The Ultimium Principle in Pitimium in Piangandary, Vol. 10, 31.\n"
          ]
        }
      ],
      "source": [
        "def translate_large_text(text):\n",
        "    chunks = split_text_into_chunks(text)\n",
        "    translated_chunks = [translator(chunk)[0]['translation_text'] for chunk in chunks]\n",
        "    return ' '.join(translated_chunks)\n",
        "\n",
        "translated_text = translate_large_text(text)\n",
        "print(translated_text)"
      ]
    },
    {
      "cell_type": "code",
      "execution_count": 26,
      "metadata": {},
      "outputs": [
        {
          "name": "stdout",
          "output_type": "stream",
          "text": [
            "Token length: 858\n"
          ]
        }
      ],
      "source": [
        "token_length = count_tokens(translated_text)\n",
        "print(f\"Token length: {token_length}\")"
      ]
    },
    {
      "cell_type": "code",
      "execution_count": 27,
      "metadata": {},
      "outputs": [],
      "source": [
        "def split_text_into_chunks(text, max_tokens = 400):\n",
        "    tokens = tokenizer(text, return_tensors = 'pt', truncation = False)['input_ids'][0]\n",
        "    token_length = len(tokens)\n",
        "\n",
        "    if token_length <= max_tokens:\n",
        "        return [text]\n",
        "\n",
        "    chunks = []\n",
        "    for i in range(0, token_length, max_tokens):\n",
        "        chunk_tokens = tokens[i:i+max_tokens]\n",
        "        chunk_text = tokenizer.decode(chunk_tokens, skip_special_tokens = True)\n",
        "        chunks.append(chunk_text)\n",
        "    \n",
        "    return chunks"
      ]
    },
    {
      "cell_type": "code",
      "execution_count": 28,
      "metadata": {},
      "outputs": [
        {
          "name": "stderr",
          "output_type": "stream",
          "text": [
            "You seem to be using the pipelines sequentially on GPU. In order to maximize efficiency please use a dataset\n"
          ]
        },
        {
          "name": "stdout",
          "output_type": "stream",
          "text": [
            "All thanks to the question under this and under this question of the article about Overmah and the Law of the Final Final Resupation created by the Uhtium of the July 11 11 11 11 11 11 11 1, 2023 '23 '23, 2023 2023 '23 '23 '23 '2023 ' cause remove cause removes Ul2222 and removes '20 to remove the Peni under this, 2022 under this, 2022, 2022, 2022, 2022, 2022 of the cause, 2022 lition with an article on the finals with the title of Overstah, 20hhhmah and the final completion as the final completion of the final completion made by the Umah of the Utah of the Utah and  by the Utomo.h.h and the 19. and the 20. .. and the final law learn of the law of fire from the ground of the ground of the ground of the ground of the ground of the ground. God is All-mighty, All- all- powerful. They will come to you, but they will not be able to save themselves. It is not for a soul to be punished by a man, and it is no sin for a man to do what it is necessary (to do that), and if he had been forced to do what he had to do, and he had been forced to protect what must be done, and he had been forced to protect what must be done. The decree of Overmach in the next chapter of the 48p is a valid reason or the pardoning factor. [9] The Overmach of the Overmach in the next Act 1/202023, in the Code 2023 about the new CANG3 about the Code 3 years since the date of the invitation, 3 years since the date of the date of the invitation, [10] 2026, overchhhhhht in the 4220h]. That is the law, and the law is the law, the law, the law, the law, the law, the law, the law, the law, the law, the law, the law, the law, the law, the law, the law, the law, the law, the law. Its laws, its laws, its laws, its laws, its laws, its laws, its laws, its laws, its laws, its laws, its laws, its laws, its laws, its laws, its laws, its laws, its laws, its laws, its laws, its laws, its laws, its laws, its laws, its laws, its laws, its laws, its laws, its laws, its laws, its laws, its laws, its laws. A based on KUHP and KUHP bill. Surakarta: Muhammadiyah University Press, 2017, things. 245 [10] Article 624 Article Number 1 Act of the Year 2023 about the Pidanal Act (U 1/2023) [11] Explanation section 42 Act 1/2023 [12] Description Article 42 1/2023 [13] Section 42 Act 42 Underlaw 2023 [14] Mas Son of Zen Janno Bansal. The Ultimium Principle in Pitimium in Piangandary, Vol. 10, 31.\n"
          ]
        }
      ],
      "source": [
        "def translate_large_text(text):\n",
        "    chunks = split_text_into_chunks(text)\n",
        "    translated_chunks = [translator(chunk)[0]['translation_text'] for chunk in chunks]\n",
        "    return ' '.join(translated_chunks)\n",
        "\n",
        "translated_text = translate_large_text(text)\n",
        "print(translated_text)"
      ]
    },
    {
      "cell_type": "code",
      "execution_count": 29,
      "metadata": {},
      "outputs": [
        {
          "name": "stdout",
          "output_type": "stream",
          "text": [
            "Token length: 858\n"
          ]
        }
      ],
      "source": [
        "token_length = count_tokens(translated_text)\n",
        "print(f\"Token length: {token_length}\")"
      ]
    },
    {
      "cell_type": "code",
      "execution_count": 30,
      "metadata": {},
      "outputs": [
        {
          "name": "stdout",
          "output_type": "stream",
          "text": [
            "All thanks to the question under this and under this question of the article about Overmah and the Law of the Final Final Resupation created by the Uhtium of the July 11 11 11 11 11 11 11 1, 2023 '23 '23, 2023 2023 '23 '23 '23 '2023 ' cause remove cause removes Ul2222 and removes '20 to remove the Peni under this, 2022 under this, 2022, 2022, 2022, 2022, 2022 of the cause, 2022 lition with an article on the finals with the title of Overstah, 20hhhmah and the final completion as the final completion of the final completion made by the Umah of the Utah of the Utah and  by the Utomo.h.h and the 19. and the 20. .. and the final law learn of the law of fire from the ground of the ground of the ground of the ground of the ground of the ground. God is All-mighty, All- all- powerful. They will come to you, but they will not be able to save themselves. It is not for a soul to be punished by a man, and it is no sin for a man to do what it is necessary (to do that), and if he had been forced to do what he had to do, and he had been forced to protect what must be done, and he had been forced to protect what must be done. The decree of Overmach in the next chapter of the 48p is a valid reason or the pardoning factor. [9] The Overmach of the Overmach in the next Act 1/202023, in the Code 2023 about the new CANG3 about the Code 3 years since the date of the invitation, 3 years since the date of the date of the invitation, [10] 2026, overchhhhhht in the 4220h]. That is the law, and the law is the law, the law, the law, the law, the law, the law, the law, the law, the law, the law, the law, the law, the law, the law, the law, the law, the law, the law. Its laws, its laws, its laws, its laws, its laws, its laws, its laws, its laws, its laws, its laws, its laws, its laws, its laws, its laws, its laws, its laws, its laws, its laws, its laws, its laws, its laws, its laws, its laws, its laws, its laws, its laws, its laws, its laws, its laws, its laws, its laws, its laws. A based on KUHP and KUHP bill. Surakarta: Muhammadiyah University Press, 2017, things. 245 [10] Article 624 Article Number 1 Act of the Year 2023 about the Pidanal Act (U 1/2023) [11] Explanation section 42 Act 1/2023 [12] Description Article 42 1/2023 [13] Section 42 Act 42 Underlaw 2023 [14] Mas Son of Zen Janno Bansal. The Ultimium Principle in Pitimium in Piangandary, Vol. 10, 31.\n"
          ]
        }
      ],
      "source": [
        "def translate_large_text(text):\n",
        "    chunks = split_text_into_chunks(text)\n",
        "    translated_chunks = [translator(chunk)[0]['translation_text'] for chunk in chunks]\n",
        "    return ' '.join(translated_chunks)\n",
        "\n",
        "translated_text = translate_large_text(text)\n",
        "print(translated_text)"
      ]
    },
    {
      "cell_type": "code",
      "execution_count": 31,
      "metadata": {},
      "outputs": [
        {
          "name": "stdout",
          "output_type": "stream",
          "text": [
            "Token length: 858\n"
          ]
        }
      ],
      "source": [
        "token_length = count_tokens(translated_text)\n",
        "print(f\"Token length: {token_length}\")"
      ]
    },
    {
      "cell_type": "markdown",
      "metadata": {},
      "source": [
        "2nd method"
      ]
    },
    {
      "cell_type": "code",
      "execution_count": 32,
      "metadata": {},
      "outputs": [],
      "source": [
        "torch.cuda.empty_cache()"
      ]
    },
    {
      "cell_type": "code",
      "execution_count": 33,
      "metadata": {},
      "outputs": [
        {
          "data": {
            "text/plain": [
              "'D:\\\\Python\\\\LLM_Environment\\\\models\\\\flan-t5-large'"
            ]
          },
          "execution_count": 33,
          "metadata": {},
          "output_type": "execute_result"
        }
      ],
      "source": [
        "model_path = MODEL_PATH + '\\\\' + models[7]\n",
        "model_path"
      ]
    },
    {
      "cell_type": "code",
      "execution_count": 34,
      "metadata": {},
      "outputs": [],
      "source": [
        "tokenizer = T5Tokenizer.from_pretrained(model_path)\n",
        "model = T5ForConditionalGeneration.from_pretrained(model_path)\n",
        "\n",
        "translator = pipeline(\"translation\", model=model, tokenizer=tokenizer, device=0)"
      ]
    },
    {
      "cell_type": "code",
      "execution_count": 35,
      "metadata": {},
      "outputs": [
        {
          "name": "stderr",
          "output_type": "stream",
          "text": [
            "Token indices sequence length is longer than the specified maximum sequence length for this model (6574 > 512). Running this sequence through the model will result in indexing errors\n",
            "Your input_length: 513 is bigger than 0.9 * max_length: 512. You might consider increasing your max_length manually, e.g. translator('...', max_length=400)\n",
            "Your input_length: 514 is bigger than 0.9 * max_length: 512. You might consider increasing your max_length manually, e.g. translator('...', max_length=400)\n",
            "Your input_length: 513 is bigger than 0.9 * max_length: 512. You might consider increasing your max_length manually, e.g. translator('...', max_length=400)\n",
            "Your input_length: 513 is bigger than 0.9 * max_length: 512. You might consider increasing your max_length manually, e.g. translator('...', max_length=400)\n",
            "Your input_length: 514 is bigger than 0.9 * max_length: 512. You might consider increasing your max_length manually, e.g. translator('...', max_length=400)\n",
            "Your input_length: 514 is bigger than 0.9 * max_length: 512. You might consider increasing your max_length manually, e.g. translator('...', max_length=400)\n",
            "Your input_length: 514 is bigger than 0.9 * max_length: 512. You might consider increasing your max_length manually, e.g. translator('...', max_length=400)\n",
            "Your input_length: 514 is bigger than 0.9 * max_length: 512. You might consider increasing your max_length manually, e.g. translator('...', max_length=400)\n",
            "Your input_length: 513 is bigger than 0.9 * max_length: 512. You might consider increasing your max_length manually, e.g. translator('...', max_length=400)\n",
            "Your input_length: 514 is bigger than 0.9 * max_length: 512. You might consider increasing your max_length manually, e.g. translator('...', max_length=400)\n",
            "Your input_length: 513 is bigger than 0.9 * max_length: 512. You might consider increasing your max_length manually, e.g. translator('...', max_length=400)\n",
            "Your input_length: 513 is bigger than 0.9 * max_length: 512. You might consider increasing your max_length manually, e.g. translator('...', max_length=400)\n"
          ]
        },
        {
          "name": "stdout",
          "output_type": "stream",
          "text": [
            "KUHP yang diundangkan pad tanggal 2 Januari 2023. 62. kekuatan yang tidak ada kekuatan yang tidak ada kekuatan yang tidak ada kekuatan yang tidak ada kekuatan yang tidak ada kekuatan yang tidak ada kekuatan yang tidak ada kekuatan yang tidak ada kekuatan yang tidak ada kekuatan yang tidak ada kekuatan yang tidak ada kekuatan yang tidak ada kekuatan yang tidak ada kekuatan yang tidak ada kekuatan yang tidak ada kekuatan yang tidak ada kekuatan yang tidak ada kekuatan yang tidak ada kekuatan yang tidak ada kekuatan yang tidak ada kekuatan yang tidak ada kekuatan yang tidak ada kekuatan yang tidak ada kekuatan yang tidak ada kekuatan yang tidak ada kekuatan yang tidak ada kekuatan yang tidak ada kekuatan yang tidak ada kekuatan yang tidak ada kekuatan yang tidak ada A tidak ada kemudian tidak ada kemudian tidak ada kemudian tidak ada kemudian tidak ada kemudian tidak ada kemudian tidak ada kemudian tidak ada kemudian tidak ada kemudian tidak ada kemudian tidak ada kemudian tidak ada kemudian tidak ada kemudian tidak ada kemudian tidak ada kemudian tidak ada kemudian tidak ada kemudian tidak ada kemudian tidak ada kemudian tidak ada kemudian tidak ada kemudian tidak ada kemudian tidak ada kemudian tidak ada kemudian tidak ada kemudian tidak ada kemudian tidak ada kemudian tidak ada kemudian tidak ada kemudian tidak ada kemudian tidak ada kemudian tidak ada kemudian tidak ada kemudian tidak ada kemudian tidak ada kemudian tidak ada kemudian tidak Seorang penumpang beruntung tidak ada keadaan darurat, tidak ada keadaan darurat, tidak ada keadaan darurat, tidak ada keadaan darurat, tidak ada keadaan darurat, tidak ada keadaan darurat, tidak ada keadaan darurat, tidak ada keadaan darurat, tidak ada keadaan darurat, tidak ada keadaan darurat, tidak ada keadaan darurat, tidak ada keadaan darurat, tidak ada keadaan darurat, tidak ada keadaan darurat, tidak ada keadaan darurat, tidak ada keadaan darurat, tidak ada keadaan darurat, tidak ada keadaan darurat, tidak ada keadaan darurat, tidak ada keadaan darurat, tidak ada keadaan darurat, tidak ada keadaan darurat, tidak ada keadaan darurat, tidak ada keadaan darurat, tidak ada keadaan darurat, tidak ada keadaan darurat, tidak a Yeni hukum pidana tidak ada keadaan terpaksa tidak ada hukum pidana tidak ada hukum pidana tidak ada hukum pidana tidak ada hukum pidana tidak ada hukum pidana tidak ada hukum pidana tidak ada hukum pidana tidak ada hukum pidana tidak ada hukum pidana tidak ada hukum pidana tidak ada hukum pidana tidak ada hukum pidana tidak ada hukum pidana tidak ada hukum pidana tidak ada hukum pidana tidak ada hukum pidana tidak ada hukum pidana tidak ada hukum pidana tidak ada hukum pidana tidak ada hukum pidana tidak ada hukum pidana tidak ada hukum pidana tidak ada hukum pidana tidak ada hukum pidana tidak ada hukum pidana tidak ada hukum pidana tidak ada hukum pidana tidak ada hukum pidana tidak ada hukum pidana tidak ada hukum pidana Moelja berbeda dengan kembali yang berbeda kembali yang berbeda kembali yang berbeda kembali yang berbeda kembali yang berbeda kembali yang berbeda kembali yang berbeda kembali yang berbeda kembali yang berbeda kembali yang berbeda kembali yang berbeda kembali yang berbeda kembali yang berbeda kembali yang berbeda kembali yang berbeda kembali yang berbeda kembali yang berbeda kembali yang berbeda kembali yang berbeda kembali yang berbeda kembali yang berbeda kembali yang berbeda kembali yang berbeda kembali yang berbeda kembali yang berbeda kembali yang berbeda kembali yang berbeda kembali yang berbeda kembali yang berbeda kembali yang berbeda kembali yang berbeda kembali yang berbeda kembali yang berbeda kembali yang berbeda kembali yang berbeda kembali yang berbeda kembali yang berbeda kembali yang berbeda kembali yang berbeda kembali yang berbeda kembali yang berbeda kembali yang tidak tidak tidak tidak tidak tidak tidak tidak tidak tidak tidak tidak tidak tidak tidak tidak tidak tidak tidak tidak tidak tidak tidak tidak tidak tidak tidak tidak tidak tidak tidak tidak tidak tidak tidak tidak tidak tidak tidak tidak tidak tidak tidak tidak tidak tidak tidak tidak tidak tidak tidak tidak tidak tidak tidak tidak tidak tidak tidak tidak tidak tidak tidak tidak tidak tidak tidak tidak tidak tidak tidak tidak tidak tidak tidak tidak tidak tidak tidak tidak tidak tidak tidak tidak tidak tidak tidak tidak tidak tidak tidak tidak tidak tidak tidak tidak tidak tidak tidak tidak tidak tidak tidak ada kemudian tidak ada kemudian tidak ada kemudian tidak ada kemudian tidak ada kemudian tidak ada kemudian tidak ada kemudian tidak ada kemudian tidak ada kemudian tidak ada kemudian tidak ada kemudian tidak ada kemudian tidak ada kemudian tidak ada kemudian tidak ada kemudian tidak ada kemudian tidak ada kemudian tidak ada kemudian tidak ada kemudian tidak ada kemudian tidak ada kemudian tidak ada kemudian tidak ada kemudian tidak ada kemudian tidak ada kemudian tidak ada kemudian tidak ada kemudian tidak ada kemudian tidak ada kemudian tidak ada kemudian tidak ada kemudian tidak ada kemudian tidak ada kemudian tidak ada kemudian tidak ada kemudian tidak ada kemudian tidak a Remedium Soal Pengenaan Sanksi di Aturan Turunan U. Remedium tersebut adalah satu hukum yang berkata dan diartikan sebagai sanksi pidana dan sanksi pamungkas (terakhir) dalam pengembalian hukum. Persada Utama, 2017. [8] Sudaryono dan Natangsa Surbakti. Hukum Pidana: Dasar-dasar Hukum Pidana berdasarkan KUHP dan RUU KUHP. Surakarta: Muhammadiyah University Press, 2017, hal. 245 [10] Pasal 624 Undang-Undang Nomor 1 Tahun 2023 tentang Kitab Undang-Undang Hukum Pidana (“UU 1/2023”) [11] Penjelasan Pasal 42 huruf a UU 1/2023 [12] Penjelasan Pasal 42 huruf b UU 1/2023 [13] Penjelasan Pasal 42 huruf b UU 1/2023 [14] Mas Putra Zenno Januarsyah. Penerapan Prinsip Ultimum Remedium dalam Tindak Pidana Korupsi. Jurnal Yudisial, Vol. 10, No. 3, 2017, hal. 257\n"
          ]
        }
      ],
      "source": [
        "def split_text_into_chunks(text, max_tokens=512):\n",
        "    tokens = tokenizer(text, return_tensors='pt', truncation=False)['input_ids'][0]\n",
        "    token_length = len(tokens)\n",
        "\n",
        "    if token_length <= max_tokens:\n",
        "        return [text]\n",
        "\n",
        "    chunks = []\n",
        "    for i in range(0, token_length, max_tokens):\n",
        "        chunk_tokens = tokens[i:min(i + max_tokens, token_length)]\n",
        "        chunk_text = tokenizer.decode(chunk_tokens, skip_special_tokens=True)\n",
        "        chunks.append(chunk_text)\n",
        "\n",
        "    return chunks\n",
        "\n",
        "def translate_large_text(text):\n",
        "    chunks = split_text_into_chunks(text)\n",
        "    translated_chunks = [translator(chunk, max_length=512)[0]['translation_text'] for chunk in chunks]\n",
        "    return ' '.join(translated_chunks)\n",
        "\n",
        "translated_text = translate_large_text(text)\n",
        "print(translated_text)"
      ]
    },
    {
      "cell_type": "code",
      "execution_count": 36,
      "metadata": {},
      "outputs": [
        {
          "name": "stdout",
          "output_type": "stream",
          "text": [
            "Token length: 3946\n"
          ]
        }
      ],
      "source": [
        "token_length = count_tokens(translated_text)\n",
        "print(f\"Token length: {token_length}\")"
      ]
    },
    {
      "cell_type": "code",
      "execution_count": 37,
      "metadata": {},
      "outputs": [],
      "source": [
        "translator = pipeline(\"text2text-generation\", model=model, tokenizer=tokenizer, device=0)"
      ]
    },
    {
      "cell_type": "code",
      "execution_count": 38,
      "metadata": {},
      "outputs": [
        {
          "name": "stdout",
          "output_type": "stream",
          "text": [
            "KLINIK TERTAITDaya Paksa and Preparation for the Exam11 Jan, 2023 Arti Ultimum Remedium as Sanksi Pamungkas15 Jul, 2022 Literature and Alternatives for the Selection of Sengketa in the Luar of Selection10 Jul, 2020 Death of the Person Who Was Trying to Kill Others?22 Okt, 2012 Thank you for your question. Article below is a summary of the article with the jurisprudence of the Overmacht and the Law School as the Ultimum Remedium that was written by Anandito Utomo, S. H. and published on 19 August 2016. Online Law School from the Competition Competition with the Market from Rp. 149. 000 All the books are available in the Klinik hukumonline. com. To get the specific legal information about your case, consult with the Consultor Mitra Justika. uanovermachtduring the hukum pidana, so we pay attention to the most common overmacht. Alfitradalam bulunan Hapusnya Hak Menuntut dan Menjalankan Pidana (hal. 63) explains that in Memorie van Toelichting (“Wv T”), daya paksa (overmacht) dijelaskan sebagai setiap kekuatan, dorongan, dan paksaan yang tidak ada saat. Frasadorongan (gedrongen) berujuk pada psikis, sedangkanpaksaan (dwang) berujuk pada fysik. Anyhow, overmachtda can become a disaster of pidana. Sedangkan utan Wahyunidalam bulunan Dasar-dasar Hukum Pidana di Indonesia (hal. 76) , overmachtadalahdaya paksa relatif (vis compulsive) sepertikeadaan darurat. Dalam Mv T, daya paksa dilukiskan sebagai kekuatan dan setap paksaan people berada dalam wangpositie (positie terjepit) . Daya paksa this is a psikis paksa that is derived from the fruit of si pelaku and daya paksa that is more than from them. Overmachtdalahdaya paksa relatif (vis compulsive) sepertikeadaan darurat. Dalam Mv T, daya paksa dilukiskan sebagai kekuatan dan setap paksaan people berada dalam wangpositie (positie terjepit) . Daya paksa this is a psikis paksa that is derived from the fruit of This is repeated, as follows: The city where anyone is doing construction because of the payment of the day of the week, is not charged. The sentence of the KUHP is based on what is based on the day of the week. But, to get a better understanding of the situation, R. Sugandhidalam a book based on the Book of the Law of the Supreme Court of Indonesia states that the term “day of the week” should be defined, whether the day of the week is a day of the week of the day, or a day of the week of the week. Day of the week that cannot be divided is a large, large-scale, large-scale, large-scale, large-scale, large-scale, large-scale, large-scale, large-scale, large-scale, large-scale, large-scale, large-scale, large-scale, large-scale, large-scale, large-scale, large-scale, large-scale, large-scale, large-scale, large-scale, large-scale, large-scale, large-scale, large-scale, large-scale, large-scale, large-scale, large-scale, large-scale, large-scale, large-scale, large-scale, large-scale, large-scale, large-scale, large-scale, large-scale, large-scale, large-scale, large-scale, large-scale, large-scale, large-scale, large-scale, large-scale, large-scale, large-scale, large-scale, large-scale, large-scale, large-scale, large-scale, large-scale, large-scale, large-scale, large-scale, large-scale, large-scale, large-scale, large-scale, large-scale, large-scale, large-scale, large-scale, large-scale, large-scale, large-scale, large-scale, large-scale, large-scale, large-scale, large-scale, large-scale, large-scale, large-scale, large-scale, large-scale, large-scale, large-scale, large-scale, large-scale, large-scale, large-scale, large-scale, large-scale, large-scale, large-scale, large-scale, large-scale, large-scale, large-scale, a person who is a member of the armed forces. In this situation, the person who is armed with a gun is not allowed to shoot because the person who is armed is a person who is more powerful. [1] The person who is armed with a gun is not allowed to shoot because the person who is armed is not a person who is more powerful. [2] The person who is armed with a gun is not allowed to shoot because the person who is armed is not a person who is more powerful. [1] The person who is armed with a gun is not allowed to shoot because the person who is armed is not a person who is more powerful. [2] The person who is armed with a gun is not allowed to shoot because the person who is armed is not a person who is more powerful. [1] The person who is armed with a gun is not allowed to shoot because the person who is armed is not a person who is more powerful. [2] The person who is armed with a gun is not allowed to shoot because the person who is armed is not a person who is more powerful. [1] The person who is armed with a gun is not allowed to shoot because the person who is armed is not a person who is more powerful. [2] The person who is armed with a gun is not allowed to shoot because the person who is armed is not a person who is more powerful. [1] The person who is armed with a gun is not allowed to shoot because the person who is armed is not a person who is more powerful. [2] The person who is armed with a gun is not allowed to shoot because the person who is armed is not a person who is more powerful. [1] The person who is armed with a gun is not allowed to shoot because the person who is armed is not a person who is more powerful. [2] The person who is armed with a gun is not allowed to shoot because the person who is armed is not a person who is more powerful. [1] The person who is armed with a gun is not allowed to shoot because the person who is armed is not a person who is more powerful. [2] The person who is Selection of the best ya dapat you read in the article Daya Paksa and Prejudice as a Law of the Court. Overmacht = Law of the Court or Law of the Court? Then, according to Fitri Wahyuni, there is no place for a court to use daya paksa as a law of the court. There are some postulats related to daya paksa that are: [5] Quod alias non fuit licitum necessitas licitum facit. Artinya keadaan terpaksa mempertahan what tadinya dilarang oleh hukum. In casu extremae necessitates omnia sunt comunia. Artinya keadaan terpaksa, tindakan yang diambil dipandang perlu. Necessitas quod cogit defendit. Artinya keadaan terpaksa melindungi what that harus beput. Necessitas sub lege non non continetur, quia quod alias non est licitum necessitas facit licitum. Artinya keadaan terpaksa is not a law, a building that is delving oleh hukum, but a building that is dilut in the prejudice for the building that is a man. a we respond, the cause of the person's inability to pay is twofold: the debt (schulduitsluitingsluitingsgronderi) and the payment (rechtvaardingsgronderi) . In this context, Alfitramenggolongkanovermachtseparately the payment of the debt (hal. 54) . The payment of the debt is a subordinate and a remuneration of the person concerned, and is based on the condition of the person's health at the time of payment or when the person will pay the debt. The following are the main points that can be categorised as payment of the debt: [6] the person cannot pay, for example when the debtor has an abnormal condition of health; the payment of the debt is a remuneration of the person concerned; the payment of the debt is a remuneration of the person concerned; the payment of the debt is a remuneration of the person concerned; the payment of the debt is a remuneration of the person concerned; the payment of the debt is a remuneration of the person concerned; the payment of the debt is a remuneration of the person concerned; the payment of the debt is a remuneration of the person concerned; the payment of the debt is a remuneration of the person concerned; the payment of the debt is a remuneration of the person concerned; the payment of the debt is a remuneration of the person concerned; the payment of the debt is a remuneration of the person concerned; the payment of the debt is a remuneration of the person concerned; the payment of the debt is a remuneration of the person concerned; the payment of the debt is a remuneration of the person concerned; the payment of the debt is a remuneration of the person concerned; the payment of the debt is a remuneration of the person concerned; the payment of the debt is a remuneration of the person concerned; the payment of the debt is a remuneration of the person concerned; the payment of the debt is a remuneration of tnodan Van Hattummemandangdaya understands it as a form of torture. Van Hattum says that the punishment that was imposed because of the occurrence was a form of torture. He says that he was beaten by a man who was a prisoner of war, because he was beaten by people who were armed in his prison, he was beaten with a stick (remember the mobile with the ability to make a scream a scream) . The beating of the man was a violation of the law, but it was not a form of torture because it was not possible for him to be punished for it. [8] Therefore, on his part, among the teachers there is no possibility of a teacher being able to understand what the punishment in the passage 48 of the KUHP is a form of torture or a form of torture. [9] The Overmacht in the United States 1/2023 The Overmacht in the United States 1/2023 on the new KUHP that was 3 years old when it was imposed, [10] in 2026, the Overmacht in the United States 42, as follows: All persons who perform the Death Penalty are not punished because: they are punished by the death penalty The sex of the person may be a matter of judgment. It may be that the person is a man. , but not because of the fact that he was a victim of the crime, but because of the fact that he was a victim of the repression of his conscience. The thing that we know is not a means of repression that can be used to punish him. [13] With this knowledge, we can understand that the overmachta is a thing that he is a victim of, causing him to be a victim of the person who is causing him. The situation of the day is important because it can be used to punish and punish the repression of the repression. The Ultimate Remediation The Supreme Court of Justice’s Supreme Court of Justice: A Pengah (Article 128) explains that the ultimate remediation is not only a form of a form, but also a form of a form of a form of a form of a form of a form of a form of a form of a form of a form of a form of a form of a form of a form of a form of a form of a form of a form of a form of a form of a form of a form of a form of a form of a form of a form of a form of a form of a form of a form of a form of a form of a form of a form of a form of a form of a form of a form of a form of a form of a form of a form of a form of a form of a form of a form of a form of a form of a form of a form of a form of a form of a form of a form of a form of a form of a form of a form of a form of a form of a form of a form of a form of a form of a form of a form of a form of a form of a form of a form of a form of a form of a form of a form of a form of a form of a form of a form of a form of a form of a form of a form of Remediation is a legal concept that is usually used and defined as a means of resolving the dispute between the parties (the parties) in the dispute. The final remediation can also be defined as a final redress, when all other redresses such as the restitution have been contested. The art of redress is a legal concept that is usually used and defined as a means of resolving the dispute between the parties (the parties) in the dispute. The final remediation is also a legal concept that is generally used and defined as a means of redressing the dispute between the parties (the parties) in the dispute. The final remediation is also a legal concept that is generally used and defined as a means of redressing the dispute between the parties (the parties) in the dispute. The final remediation is also a legal concept that is generally used and defined as a means of redressing the dispute between the parties (the parties) in the dispute. The final remediation is also a legal concept that is generally used and defined as a means of redressing the dispute between the parties (the parties) in the dispute. The final remediation is also a legal concept that is generally used and defined as a means of redressing the dispute between the parties (the parties) in the dispute. The final remediation is also a legal concept that is generally used and defined as a means of redressing the dispute between the parties (the parties) in the dispute. The final remediation is also a legal concept that is generally used and defined as a means of redressing the dispute between the parties (the parties) in the dispute. The final remediation is also a legal concept that is generally used and defined as a means of redressing the dispute between the parties (the parties) in the dispute. The final remediation is also a legal concept that is generally used and defined as a means of redressing the dispute between the parties (the parties) in the dispute. The Journal of the Indonesian Academy of Sciences, Vol. 10, No. 3, 2017 [1] R. Sugandhi. The Book of the New Testament: A Study of the Old Testament. Surabaya: Muhammadiyah University Press, 1980; Mas Putra Zenno Januarsyah. The Creation of the Ultimate Remedium in the New Testament. Jurnal Judisial, Vol. 10, No. 3, 2017 [1] R. Sugandhi. The Book of the New Testament: A Study of the Old Testament. Surabaya: Muhammadiyah University Press, 1980, hal. 54-55 [2] R. Sugandhi. The Book of the New Testament: A Study of the Old Testament. Surabaya: Muhammadiyah University Press, 1980, hal. 55 [3] R. Sugandhi. The Book of the New Testament: A Study of the Old Testament. Surabaya: Muhammadiyah University Press, 1980, hal. 55 [4] R. Sugandhi. The Book of the New Testament: A Study of the Old Testament. Surabaya: Muhammadiyah University Press, 1980, hal. 55 [5] The Book of the New Testament: A Study of the Old Testament. Surabaya: Muhammadiyah University Press, 1980, hal. 55 [6] The Book of the New Testament: A Study of the Old Testament: A Study of the New Testament: A Study of the Old Testament: A Study of the New Testament: A Study of the Old Testament: A Study of the New Testament: A Study of the Old Testament: A Study of the New Testament: A Study of the Old Testament: A Study of the New Testament: A Study of the Old Testament: A Study of the New Testament: A Study of the Old Testament: A Study of the New Testament: A Study of the Old Testament: A Study of the New Testament: A Study of the Old Testament: A Study of the New Testament: A Study of the Old Testament: A Study of the New Testament: A Study of the Old Testament: A Study of the New Testament: A Study of the Old Testament: A Study of the New Testament: A Study of the Old Testament: A Study of the New Testament: A Study of the Old Testament: A Study of the New Testament: A Study of the Old Testament: [8] Sudaryono and Natangsa Surbakti. School of Law: Dasar-dasar School of Law based on KUHP and RUU KUHP. Surakarta: Muhammadiyah University Press, 2017, hal. 245 [9] Sudaryono and Natangsa Surbakti. School of Law: Dasar-dasar School of Law based on KUHP and RUU KUHP. Surakarta: Muhammadiyah University Press, 2017, hal. 245 [10] Article 624 Article 1 of the Constitution of 2023 on the Book of the Constitution of the Law of the Law of the Law of the Law of the Law of the Law of the Law of the Law of the Law of the Law of the Law of the Law of the Law of the Law of the Law of the Law of the Law of the Law of the Law of the Law of the Law of the Law of the Law of the Law of the Law of the Law of the Law of the Law of the Law of the Law of the Law of the Law of the Law of the Law of the Law of the Law of the Law of the Law of the Law of the Law of the Law of the Law of the Law of the Law of the Law of the Law of the Law of the Law of the Law of the Law of the Law of the Law of the Law of the Law of the Law of the Law of the Law of the Law of the Law of the Law of the Law of the Law of the Law of the Law of the Law of the Law of the Law of the Law of the Law of the Law of the Law of the Law of the Law of the Law of the Law of the Law of the Law of the Law of the Law of the Law of the Law of the Law of the Law of the Law of the Law of the Law of the Law of the Law of the Law of the Law of the Law of the Law of the Law of the Law of the Law of the Law of the Law of the Law of the Law of the Law of the Law of the Law of the Law of the Law of the Law of the Law of the Law of the Law of the Law of the Law of the Law of the Law of the Law of the Law of the Law of the Law of the Law of the Law of the Law of the Law of the Law of the Law of the Law of the\n"
          ]
        }
      ],
      "source": [
        "def split_text_into_chunks(text, max_tokens=512):\n",
        "    tokens = tokenizer(text, return_tensors='pt', truncation=False)['input_ids'][0]\n",
        "    token_length = len(tokens)\n",
        "\n",
        "    if token_length <= max_tokens:\n",
        "        return [text]\n",
        "\n",
        "    chunks = []\n",
        "    for i in range(0, token_length, max_tokens):\n",
        "        chunk_tokens = tokens[i:min(i + max_tokens, token_length)]\n",
        "        chunk_text = tokenizer.decode(chunk_tokens, skip_special_tokens=True)\n",
        "        chunks.append(chunk_text)\n",
        "\n",
        "    return chunks\n",
        "\n",
        "def translate_large_text(text):\n",
        "    chunks = split_text_into_chunks(text)\n",
        "    formatted_chunks = [f\"translate Indonesian to English: {chunk}\" for chunk in chunks]\n",
        "    translated_chunks = [translator(chunk, max_length=512)[0]['generated_text'] for chunk in formatted_chunks]\n",
        "    return ' '.join(translated_chunks)\n",
        "\n",
        "\n",
        "translated_text = translate_large_text(text)\n",
        "print(translated_text)"
      ]
    },
    {
      "cell_type": "code",
      "execution_count": 39,
      "metadata": {},
      "outputs": [
        {
          "name": "stdout",
          "output_type": "stream",
          "text": [
            "Token length: 4912\n"
          ]
        }
      ],
      "source": [
        "token_length = count_tokens(translated_text)\n",
        "print(f\"Token length: {token_length}\")"
      ]
    }
  ],
  "metadata": {
    "accelerator": "GPU",
    "colab": {
      "gpuType": "T4",
      "provenance": [],
      "toc_visible": true
    },
    "kernelspec": {
      "display_name": "myenv",
      "language": "python",
      "name": "python3"
    },
    "language_info": {
      "codemirror_mode": {
        "name": "ipython",
        "version": 3
      },
      "file_extension": ".py",
      "mimetype": "text/x-python",
      "name": "python",
      "nbconvert_exporter": "python",
      "pygments_lexer": "ipython3",
      "version": "3.9.13"
    }
  },
  "nbformat": 4,
  "nbformat_minor": 0
}
